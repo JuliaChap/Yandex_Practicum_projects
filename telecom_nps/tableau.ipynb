{
 "cells": [
  {
   "cell_type": "code",
   "execution_count": 13,
   "id": "75063935",
   "metadata": {
    "tags": [
     "aa81075c-062f-4de0-b5fe-14c73dc7468e"
    ]
   },
   "outputs": [],
   "source": [
    "import pandas as pd\n",
    "import os\n",
    "import numpy as np\n",
    "\n",
    "from sqlalchemy import create_engine"
   ]
  },
  {
   "cell_type": "code",
   "execution_count": 14,
   "id": "578d0ade",
   "metadata": {},
   "outputs": [],
   "source": [
    "path_to_db = 'telecomm_csi.db'\n",
    "path_to_db1 = '/datasets/telecomm_csi.db'\n",
    "\n",
    "if os.path.exists(path_to_db):\n",
    "    engine = create_engine(f'sqlite:///{path_to_db}', echo = False)\n",
    "else:\n",
    "    engine = create_engine(f'sqlite:///{path_to_db1}', echo = False)"
   ]
  },
  {
   "cell_type": "code",
   "execution_count": 15,
   "id": "7aaea93a",
   "metadata": {},
   "outputs": [],
   "source": [
    "#engine = create_engine(f'sqlite:///{path_to_db1}', echo = False)"
   ]
  },
  {
   "cell_type": "code",
   "execution_count": 16,
   "id": "e92c05e7",
   "metadata": {},
   "outputs": [],
   "source": [
    "query = \"\"\"\n",
    "SELECT u.user_id,\n",
    "       u.lt_day,\n",
    "       CASE\n",
    "           WHEN nps_score < 7 THEN 'detractors' \n",
    "           WHEN nps_score >= 7 and nps_score <= 8 THEN 'passives'\n",
    "           ELSE 'promoters'\n",
    "       END AS nps_group,\n",
    "       u.age,\n",
    "       CAST (gender_segment AS varchar) AS gender_segment,\n",
    "       u.os_name,\n",
    "       u.cpe_type_name,\n",
    "       l.country,\n",
    "       l.city,\n",
    "       SUBSTR(a.title, 4) AS age_segment,\n",
    "       SUBSTR(t.title, 4) AS traffic_segment,\n",
    "       SUBSTR(ls.title, 4) AS lifetime_segment,\n",
    "       u.nps_score,\n",
    "       CASE\n",
    "           WHEN lt_day <= 365 THEN 'new'\n",
    "           ELSE 'old'\n",
    "       END AS is_new\n",
    "FROM user AS u\n",
    "INNER JOIN location AS l ON u.location_id = l.location_id\n",
    "INNER JOIN age_segment AS a ON u.age_gr_id = a.age_gr_id\n",
    "INNER JOIN traffic_segment AS t ON u.tr_gr_id = t.tr_gr_id\n",
    "INNER JOIN lifetime_segment AS ls ON u.lt_gr_id = ls.lt_gr_id;\n",
    "\"\"\""
   ]
  },
  {
   "cell_type": "code",
   "execution_count": 17,
   "id": "8e4fbe3e",
   "metadata": {},
   "outputs": [
    {
     "data": {
      "text/html": [
       "<div>\n",
       "<style scoped>\n",
       "    .dataframe tbody tr th:only-of-type {\n",
       "        vertical-align: middle;\n",
       "    }\n",
       "\n",
       "    .dataframe tbody tr th {\n",
       "        vertical-align: top;\n",
       "    }\n",
       "\n",
       "    .dataframe thead th {\n",
       "        text-align: right;\n",
       "    }\n",
       "</style>\n",
       "<table border=\"1\" class=\"dataframe\">\n",
       "  <thead>\n",
       "    <tr style=\"text-align: right;\">\n",
       "      <th></th>\n",
       "      <th>user_id</th>\n",
       "      <th>lt_day</th>\n",
       "      <th>nps_group</th>\n",
       "      <th>age</th>\n",
       "      <th>gender_segment</th>\n",
       "      <th>os_name</th>\n",
       "      <th>cpe_type_name</th>\n",
       "      <th>country</th>\n",
       "      <th>city</th>\n",
       "      <th>age_segment</th>\n",
       "      <th>traffic_segment</th>\n",
       "      <th>lifetime_segment</th>\n",
       "      <th>nps_score</th>\n",
       "      <th>is_new</th>\n",
       "    </tr>\n",
       "  </thead>\n",
       "  <tbody>\n",
       "    <tr>\n",
       "      <th>0</th>\n",
       "      <td>A001A2</td>\n",
       "      <td>2320</td>\n",
       "      <td>promoters</td>\n",
       "      <td>45.0</td>\n",
       "      <td>1.0</td>\n",
       "      <td>ANDROID</td>\n",
       "      <td>SMARTPHONE</td>\n",
       "      <td>Россия</td>\n",
       "      <td>Уфа</td>\n",
       "      <td>45-54</td>\n",
       "      <td>1-5</td>\n",
       "      <td>36+</td>\n",
       "      <td>10</td>\n",
       "      <td>old</td>\n",
       "    </tr>\n",
       "    <tr>\n",
       "      <th>1</th>\n",
       "      <td>A001WF</td>\n",
       "      <td>2344</td>\n",
       "      <td>promoters</td>\n",
       "      <td>53.0</td>\n",
       "      <td>0.0</td>\n",
       "      <td>ANDROID</td>\n",
       "      <td>SMARTPHONE</td>\n",
       "      <td>Россия</td>\n",
       "      <td>Киров</td>\n",
       "      <td>45-54</td>\n",
       "      <td>1-5</td>\n",
       "      <td>36+</td>\n",
       "      <td>10</td>\n",
       "      <td>old</td>\n",
       "    </tr>\n",
       "    <tr>\n",
       "      <th>2</th>\n",
       "      <td>A003Q7</td>\n",
       "      <td>467</td>\n",
       "      <td>promoters</td>\n",
       "      <td>57.0</td>\n",
       "      <td>0.0</td>\n",
       "      <td>ANDROID</td>\n",
       "      <td>SMARTPHONE</td>\n",
       "      <td>Россия</td>\n",
       "      <td>Москва</td>\n",
       "      <td>55-64</td>\n",
       "      <td>20-25</td>\n",
       "      <td>13-24</td>\n",
       "      <td>10</td>\n",
       "      <td>old</td>\n",
       "    </tr>\n",
       "  </tbody>\n",
       "</table>\n",
       "</div>"
      ],
      "text/plain": [
       "  user_id  lt_day  nps_group   age gender_segment  os_name cpe_type_name  \\\n",
       "0  A001A2    2320  promoters  45.0            1.0  ANDROID    SMARTPHONE   \n",
       "1  A001WF    2344  promoters  53.0            0.0  ANDROID    SMARTPHONE   \n",
       "2  A003Q7     467  promoters  57.0            0.0  ANDROID    SMARTPHONE   \n",
       "\n",
       "  country    city age_segment traffic_segment lifetime_segment  nps_score  \\\n",
       "0  Россия     Уфа       45-54             1-5              36+         10   \n",
       "1  Россия   Киров       45-54             1-5              36+         10   \n",
       "2  Россия  Москва       55-64           20-25            13-24         10   \n",
       "\n",
       "  is_new  \n",
       "0    old  \n",
       "1    old  \n",
       "2    old  "
      ]
     },
     "execution_count": 17,
     "metadata": {},
     "output_type": "execute_result"
    }
   ],
   "source": [
    "df = pd.read_sql(query, engine)\n",
    "df.head(3)"
   ]
  },
  {
   "cell_type": "code",
   "execution_count": 18,
   "id": "322e2516",
   "metadata": {},
   "outputs": [],
   "source": [
    "df.to_csv('telecomm_csi_tableau.csv', index=False)"
   ]
  },
  {
   "cell_type": "markdown",
   "id": "74f74c77",
   "metadata": {},
   "source": [
    "### Укажите ссылку на дашборд на сайте Tableau Public:"
   ]
  },
  {
   "cell_type": "markdown",
   "id": "6b9d60e9",
   "metadata": {},
   "source": [
    "https://public.tableau.com/views/project2_16590356001730/Dashboard3?:language=en-GB&publish=yes&:display_count=n&:origin=viz_share_link"
   ]
  },
  {
   "cell_type": "code",
   "execution_count": 19,
   "id": "5e95b230",
   "metadata": {
    "scrolled": true
   },
   "outputs": [
    {
     "data": {
      "text/html": [
       "<div>\n",
       "<style scoped>\n",
       "    .dataframe tbody tr th:only-of-type {\n",
       "        vertical-align: middle;\n",
       "    }\n",
       "\n",
       "    .dataframe tbody tr th {\n",
       "        vertical-align: top;\n",
       "    }\n",
       "\n",
       "    .dataframe thead th {\n",
       "        text-align: right;\n",
       "    }\n",
       "</style>\n",
       "<table border=\"1\" class=\"dataframe\">\n",
       "  <thead>\n",
       "    <tr style=\"text-align: right;\">\n",
       "      <th></th>\n",
       "      <th>lifetime_segment</th>\n",
       "      <th>1</th>\n",
       "      <th>13-24</th>\n",
       "      <th>2</th>\n",
       "      <th>25-36</th>\n",
       "      <th>3</th>\n",
       "      <th>36+</th>\n",
       "      <th>4-6</th>\n",
       "      <th>7-12</th>\n",
       "    </tr>\n",
       "    <tr>\n",
       "      <th>gender_segment</th>\n",
       "      <th>age_segment</th>\n",
       "      <th></th>\n",
       "      <th></th>\n",
       "      <th></th>\n",
       "      <th></th>\n",
       "      <th></th>\n",
       "      <th></th>\n",
       "      <th></th>\n",
       "      <th></th>\n",
       "    </tr>\n",
       "  </thead>\n",
       "  <tbody>\n",
       "    <tr>\n",
       "      <th rowspan=\"8\" valign=\"top\">0.0</th>\n",
       "      <th>16-24</th>\n",
       "      <td>NaN</td>\n",
       "      <td>0.059398</td>\n",
       "      <td>0.182390</td>\n",
       "      <td>-0.030520</td>\n",
       "      <td>0.211240</td>\n",
       "      <td>-0.104258</td>\n",
       "      <td>0.205832</td>\n",
       "      <td>0.186634</td>\n",
       "    </tr>\n",
       "    <tr>\n",
       "      <th>25-34</th>\n",
       "      <td>0.000000</td>\n",
       "      <td>0.153785</td>\n",
       "      <td>0.285943</td>\n",
       "      <td>0.087561</td>\n",
       "      <td>0.291468</td>\n",
       "      <td>-0.042019</td>\n",
       "      <td>0.274569</td>\n",
       "      <td>0.237321</td>\n",
       "    </tr>\n",
       "    <tr>\n",
       "      <th>35-44</th>\n",
       "      <td>0.333333</td>\n",
       "      <td>0.308812</td>\n",
       "      <td>0.371588</td>\n",
       "      <td>0.217884</td>\n",
       "      <td>0.400000</td>\n",
       "      <td>0.100904</td>\n",
       "      <td>0.375661</td>\n",
       "      <td>0.368573</td>\n",
       "    </tr>\n",
       "    <tr>\n",
       "      <th>45-54</th>\n",
       "      <td>1.000000</td>\n",
       "      <td>0.376032</td>\n",
       "      <td>0.536913</td>\n",
       "      <td>0.311503</td>\n",
       "      <td>0.493590</td>\n",
       "      <td>0.223342</td>\n",
       "      <td>0.417763</td>\n",
       "      <td>0.448566</td>\n",
       "    </tr>\n",
       "    <tr>\n",
       "      <th>55-64</th>\n",
       "      <td>1.000000</td>\n",
       "      <td>0.427167</td>\n",
       "      <td>0.393548</td>\n",
       "      <td>0.392430</td>\n",
       "      <td>0.540146</td>\n",
       "      <td>0.334850</td>\n",
       "      <td>0.572482</td>\n",
       "      <td>0.469546</td>\n",
       "    </tr>\n",
       "    <tr>\n",
       "      <th>66 +</th>\n",
       "      <td>NaN</td>\n",
       "      <td>0.473451</td>\n",
       "      <td>0.673913</td>\n",
       "      <td>0.387205</td>\n",
       "      <td>0.696970</td>\n",
       "      <td>0.437282</td>\n",
       "      <td>0.573913</td>\n",
       "      <td>0.544444</td>\n",
       "    </tr>\n",
       "    <tr>\n",
       "      <th>n/a</th>\n",
       "      <td>0.000000</td>\n",
       "      <td>-0.333333</td>\n",
       "      <td>-1.000000</td>\n",
       "      <td>-1.000000</td>\n",
       "      <td>NaN</td>\n",
       "      <td>-0.538462</td>\n",
       "      <td>-0.500000</td>\n",
       "      <td>-1.000000</td>\n",
       "    </tr>\n",
       "    <tr>\n",
       "      <th>до 16</th>\n",
       "      <td>NaN</td>\n",
       "      <td>0.041096</td>\n",
       "      <td>0.000000</td>\n",
       "      <td>-0.092308</td>\n",
       "      <td>0.357143</td>\n",
       "      <td>-0.286765</td>\n",
       "      <td>0.058824</td>\n",
       "      <td>0.000000</td>\n",
       "    </tr>\n",
       "    <tr>\n",
       "      <th rowspan=\"8\" valign=\"top\">1.0</th>\n",
       "      <th>16-24</th>\n",
       "      <td>NaN</td>\n",
       "      <td>0.087361</td>\n",
       "      <td>0.245045</td>\n",
       "      <td>0.019798</td>\n",
       "      <td>0.236111</td>\n",
       "      <td>-0.065762</td>\n",
       "      <td>0.271100</td>\n",
       "      <td>0.164977</td>\n",
       "    </tr>\n",
       "    <tr>\n",
       "      <th>25-34</th>\n",
       "      <td>1.000000</td>\n",
       "      <td>0.214059</td>\n",
       "      <td>0.316308</td>\n",
       "      <td>0.145153</td>\n",
       "      <td>0.359766</td>\n",
       "      <td>0.027744</td>\n",
       "      <td>0.319668</td>\n",
       "      <td>0.291300</td>\n",
       "    </tr>\n",
       "    <tr>\n",
       "      <th>35-44</th>\n",
       "      <td>0.333333</td>\n",
       "      <td>0.332435</td>\n",
       "      <td>0.450846</td>\n",
       "      <td>0.277917</td>\n",
       "      <td>0.431775</td>\n",
       "      <td>0.175038</td>\n",
       "      <td>0.449479</td>\n",
       "      <td>0.390759</td>\n",
       "    </tr>\n",
       "    <tr>\n",
       "      <th>45-54</th>\n",
       "      <td>1.000000</td>\n",
       "      <td>0.438341</td>\n",
       "      <td>0.516770</td>\n",
       "      <td>0.360275</td>\n",
       "      <td>0.584877</td>\n",
       "      <td>0.300104</td>\n",
       "      <td>0.546698</td>\n",
       "      <td>0.484736</td>\n",
       "    </tr>\n",
       "    <tr>\n",
       "      <th>55-64</th>\n",
       "      <td>NaN</td>\n",
       "      <td>0.518766</td>\n",
       "      <td>0.644828</td>\n",
       "      <td>0.475520</td>\n",
       "      <td>0.555066</td>\n",
       "      <td>0.417602</td>\n",
       "      <td>0.584660</td>\n",
       "      <td>0.583396</td>\n",
       "    </tr>\n",
       "    <tr>\n",
       "      <th>66 +</th>\n",
       "      <td>NaN</td>\n",
       "      <td>0.565394</td>\n",
       "      <td>0.540000</td>\n",
       "      <td>0.559633</td>\n",
       "      <td>0.531915</td>\n",
       "      <td>0.536269</td>\n",
       "      <td>0.537143</td>\n",
       "      <td>0.640898</td>\n",
       "    </tr>\n",
       "    <tr>\n",
       "      <th>n/a</th>\n",
       "      <td>1.000000</td>\n",
       "      <td>0.500000</td>\n",
       "      <td>NaN</td>\n",
       "      <td>-0.333333</td>\n",
       "      <td>NaN</td>\n",
       "      <td>-0.285714</td>\n",
       "      <td>NaN</td>\n",
       "      <td>1.000000</td>\n",
       "    </tr>\n",
       "    <tr>\n",
       "      <th>до 16</th>\n",
       "      <td>NaN</td>\n",
       "      <td>0.017857</td>\n",
       "      <td>0.500000</td>\n",
       "      <td>0.076923</td>\n",
       "      <td>0.111111</td>\n",
       "      <td>-0.106383</td>\n",
       "      <td>0.222222</td>\n",
       "      <td>0.200000</td>\n",
       "    </tr>\n",
       "  </tbody>\n",
       "</table>\n",
       "</div>"
      ],
      "text/plain": [
       "lifetime_segment                   1     13-24         2     25-36         3  \\\n",
       "gender_segment age_segment                                                     \n",
       "0.0            16-24             NaN  0.059398  0.182390 -0.030520  0.211240   \n",
       "               25-34        0.000000  0.153785  0.285943  0.087561  0.291468   \n",
       "               35-44        0.333333  0.308812  0.371588  0.217884  0.400000   \n",
       "               45-54        1.000000  0.376032  0.536913  0.311503  0.493590   \n",
       "               55-64        1.000000  0.427167  0.393548  0.392430  0.540146   \n",
       "               66 +              NaN  0.473451  0.673913  0.387205  0.696970   \n",
       "               n/a          0.000000 -0.333333 -1.000000 -1.000000       NaN   \n",
       "               до 16             NaN  0.041096  0.000000 -0.092308  0.357143   \n",
       "1.0            16-24             NaN  0.087361  0.245045  0.019798  0.236111   \n",
       "               25-34        1.000000  0.214059  0.316308  0.145153  0.359766   \n",
       "               35-44        0.333333  0.332435  0.450846  0.277917  0.431775   \n",
       "               45-54        1.000000  0.438341  0.516770  0.360275  0.584877   \n",
       "               55-64             NaN  0.518766  0.644828  0.475520  0.555066   \n",
       "               66 +              NaN  0.565394  0.540000  0.559633  0.531915   \n",
       "               n/a          1.000000  0.500000       NaN -0.333333       NaN   \n",
       "               до 16             NaN  0.017857  0.500000  0.076923  0.111111   \n",
       "\n",
       "lifetime_segment                 36+       4-6      7-12  \n",
       "gender_segment age_segment                                \n",
       "0.0            16-24       -0.104258  0.205832  0.186634  \n",
       "               25-34       -0.042019  0.274569  0.237321  \n",
       "               35-44        0.100904  0.375661  0.368573  \n",
       "               45-54        0.223342  0.417763  0.448566  \n",
       "               55-64        0.334850  0.572482  0.469546  \n",
       "               66 +         0.437282  0.573913  0.544444  \n",
       "               n/a         -0.538462 -0.500000 -1.000000  \n",
       "               до 16       -0.286765  0.058824  0.000000  \n",
       "1.0            16-24       -0.065762  0.271100  0.164977  \n",
       "               25-34        0.027744  0.319668  0.291300  \n",
       "               35-44        0.175038  0.449479  0.390759  \n",
       "               45-54        0.300104  0.546698  0.484736  \n",
       "               55-64        0.417602  0.584660  0.583396  \n",
       "               66 +         0.536269  0.537143  0.640898  \n",
       "               n/a         -0.285714       NaN  1.000000  \n",
       "               до 16       -0.106383  0.222222  0.200000  "
      ]
     },
     "metadata": {},
     "output_type": "display_data"
    },
    {
     "data": {
      "image/png": "[encoded data removed]",
      "text/plain": [
       "<Figure size 1080x576 with 2 Axes>"
      ]
     },
     "metadata": {
      "needs_background": "light"
     },
     "output_type": "display_data"
    }
   ],
   "source": [
    "# Код ревьюера\n",
    "import seaborn as sns\n",
    "import matplotlib.pyplot as plt\n",
    "d = df.assign(total_nps=lambda row: row['nps_group'].map({'promoters': 1, 'passives': 0, 'detractors': -1}))\\\n",
    "  .pivot_table(index=['gender_segment', 'age_segment'], columns=['lifetime_segment'], values='total_nps', aggfunc='mean')\n",
    "display(d)\n",
    "plt.figure(figsize=(15,8))\n",
    "sns.heatmap(d, annot=True);"
   ]
  },
  {
   "cell_type": "markdown",
   "id": "996bc9f0",
   "metadata": {},
   "source": [
    "### Укажите ссылку на pdf-файл с презентацией:"
   ]
  },
  {
   "cell_type": "markdown",
   "id": "5746d49e",
   "metadata": {},
   "source": [
    "https://disk.yandex.ru/d/1qtnfdI4QIOzjA"
   ]
  },
  {
   "cell_type": "code",
   "execution_count": null,
   "id": "942cfa02",
   "metadata": {},
   "outputs": [],
   "source": []
  }
 ],
 "metadata": {
  "ExecuteTimeLog": [
   {
    "duration": 752,
    "start_time": "2021-10-03T17:40:52.731Z"
   },
   {
    "duration": 20,
    "start_time": "2021-10-03T17:40:53.486Z"
   },
   {
    "duration": 4,
    "start_time": "2021-10-03T17:41:04.638Z"
   },
   {
    "duration": 461,
    "start_time": "2021-10-03T17:41:04.912Z"
   },
   {
    "duration": 284,
    "start_time": "2021-10-03T17:41:05.376Z"
   },
   {
    "duration": 574,
    "start_time": "2021-10-06T07:55:05.029Z"
   },
   {
    "duration": 6,
    "start_time": "2021-10-06T07:55:05.605Z"
   },
   {
    "duration": 3,
    "start_time": "2021-10-06T07:55:14.685Z"
   },
   {
    "duration": 406,
    "start_time": "2021-10-06T07:55:15.522Z"
   },
   {
    "duration": 67,
    "start_time": "2021-10-06T07:55:15.929Z"
   },
   {
    "duration": 840,
    "start_time": "2021-10-07T07:54:04.647Z"
   },
   {
    "duration": 10,
    "start_time": "2021-10-07T07:54:05.490Z"
   },
   {
    "duration": 4,
    "start_time": "2021-10-07T07:54:05.544Z"
   },
   {
    "duration": 391,
    "start_time": "2021-10-07T07:54:06.237Z"
   },
   {
    "duration": 293,
    "start_time": "2021-10-07T07:54:06.654Z"
   },
   {
    "duration": 619,
    "start_time": "2022-08-06T05:22:51.869Z"
   },
   {
    "duration": 25,
    "start_time": "2022-08-06T05:22:52.492Z"
   },
   {
    "duration": 7,
    "start_time": "2022-08-06T05:22:52.520Z"
   },
   {
    "duration": 686,
    "start_time": "2022-08-06T05:22:52.529Z"
   },
   {
    "duration": 0,
    "start_time": "2022-08-06T05:22:53.218Z"
   },
   {
    "duration": 4,
    "start_time": "2022-08-06T05:23:14.311Z"
   },
   {
    "duration": 6,
    "start_time": "2022-08-06T05:23:15.566Z"
   },
   {
    "duration": 965,
    "start_time": "2022-08-06T05:23:16.287Z"
   },
   {
    "duration": 546,
    "start_time": "2022-08-06T05:23:28.483Z"
   },
   {
    "duration": 10,
    "start_time": "2022-08-06T05:23:29.031Z"
   },
   {
    "duration": 19,
    "start_time": "2022-08-06T05:23:29.042Z"
   },
   {
    "duration": 937,
    "start_time": "2022-08-06T05:23:29.063Z"
   },
   {
    "duration": 0,
    "start_time": "2022-08-06T05:23:30.003Z"
   },
   {
    "duration": 533,
    "start_time": "2022-08-06T06:51:51.225Z"
   },
   {
    "duration": 35,
    "start_time": "2022-08-06T06:52:09.435Z"
   },
   {
    "duration": 3,
    "start_time": "2022-08-06T06:52:11.594Z"
   },
   {
    "duration": 5441,
    "start_time": "2022-08-06T06:52:14.121Z"
   },
   {
    "duration": 4369,
    "start_time": "2022-08-06T06:52:46.724Z"
   },
   {
    "duration": 3,
    "start_time": "2022-08-06T06:54:12.879Z"
   },
   {
    "duration": 5042,
    "start_time": "2022-08-06T06:54:13.515Z"
   },
   {
    "duration": 3,
    "start_time": "2022-08-06T07:19:03.439Z"
   },
   {
    "duration": 43,
    "start_time": "2022-08-06T07:19:04.676Z"
   },
   {
    "duration": 3,
    "start_time": "2022-08-06T07:19:06.634Z"
   },
   {
    "duration": 4711,
    "start_time": "2022-08-06T07:19:09.034Z"
   },
   {
    "duration": 4848,
    "start_time": "2022-08-06T07:19:15.892Z"
   },
   {
    "duration": 503,
    "start_time": "2022-08-06T14:05:58.322Z"
   },
   {
    "duration": 31,
    "start_time": "2022-08-06T14:05:58.827Z"
   },
   {
    "duration": 3,
    "start_time": "2022-08-06T14:05:59.607Z"
   },
   {
    "duration": 899,
    "start_time": "2022-08-06T14:06:01.399Z"
   },
   {
    "duration": 5,
    "start_time": "2022-08-06T14:08:17.354Z"
   },
   {
    "duration": 4,
    "start_time": "2022-08-06T14:08:17.786Z"
   },
   {
    "duration": 5251,
    "start_time": "2022-08-06T14:08:18.361Z"
   },
   {
    "duration": 733,
    "start_time": "2022-08-06T14:08:33.086Z"
   },
   {
    "duration": 20,
    "start_time": "2022-08-06T14:08:33.821Z"
   },
   {
    "duration": 3,
    "start_time": "2022-08-06T14:08:33.843Z"
   },
   {
    "duration": 5,
    "start_time": "2022-08-06T14:08:33.848Z"
   },
   {
    "duration": 5390,
    "start_time": "2022-08-06T14:08:33.855Z"
   },
   {
    "duration": 3657,
    "start_time": "2022-08-06T14:08:39.247Z"
   },
   {
    "duration": 3022,
    "start_time": "2022-08-06T14:13:25.852Z"
   }
  ],
  "kernelspec": {
   "display_name": "Python 3 (ipykernel)",
   "language": "python",
   "name": "python3"
  },
  "language_info": {
   "codemirror_mode": {
    "name": "ipython",
    "version": 3
   },
   "file_extension": ".py",
   "mimetype": "text/x-python",
   "name": "python",
   "nbconvert_exporter": "python",
   "pygments_lexer": "ipython3",
   "version": "3.9.12"
  },
  "toc": {
   "base_numbering": 1,
   "nav_menu": {},
   "number_sections": true,
   "sideBar": true,
   "skip_h1_title": true,
   "title_cell": "Table of Contents",
   "title_sidebar": "Contents",
   "toc_cell": false,
   "toc_position": {},
   "toc_section_display": true,
   "toc_window_display": false
  }
 },
 "nbformat": 4,
 "nbformat_minor": 5
}
