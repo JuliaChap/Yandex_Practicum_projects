{
 "cells": [
  {
   "cell_type": "markdown",
   "id": "b2262e0c",
   "metadata": {},
   "source": [
    "# Исследование надежности заемщиков."
   ]
  },
  {
   "cell_type": "markdown",
   "id": "bc70748b",
   "metadata": {},
   "source": [
    "Заказчик — кредитный отдел банка. Нужно разобраться, влияет ли семейное положение и количество детей клиента на факт погашения кредита в срок. Входные данные от банка — статистика о платёжеспособности клиентов.\n",
    "Результаты исследования будут учтены при построении модели кредитного скоринга — специальной системы, которая оценивает способность потенциального заёмщика вернуть кредит банку.\n"
   ]
  },
  {
   "cell_type": "markdown",
   "id": "ecf0f933",
   "metadata": {},
   "source": [
    "Описание данных\n",
    "* children — количество детей в семье\n",
    "* days_employed — общий трудовой стаж в днях\n",
    "* dob_years — возраст клиента в годах\n",
    "* education — уровень образования клиента\n",
    "* education_id — идентификатор уровня образования\n",
    "* family_status — семейное положение\n",
    "* family_status_id — идентификатор семейного положения\n",
    "* gender — пол клиента\n",
    "* income_type — тип занятости\n",
    "* debt — имел ли задолженность по возврату кредитов\n",
    "* total_income — ежемесячный доход\n",
    "* purpose — цель получения кредита"
   ]
  },
  {
   "cell_type": "markdown",
   "id": "3a6ce111",
   "metadata": {},
   "source": [
    "## Шаг 1. Обзор данных"
   ]
  },
  {
   "cell_type": "markdown",
   "id": "08d6f56a",
   "metadata": {},
   "source": [
    "Выведем первые строки таблицы и общую информацию о ней"
   ]
  },
  {
   "cell_type": "code",
   "execution_count": 1,
   "id": "6147f83a",
   "metadata": {
    "scrolled": true
   },
   "outputs": [],
   "source": [
    "import pandas as pd"
   ]
  },
  {
   "cell_type": "code",
   "execution_count": 2,
   "id": "9bf3937d",
   "metadata": {},
   "outputs": [],
   "source": [
    "pth1 = 'data.csv'\n",
    "pth2 = '/datasets/data.csv'"
   ]
  },
  {
   "cell_type": "code",
   "execution_count": 3,
   "id": "eefe9f20",
   "metadata": {},
   "outputs": [],
   "source": [
    "try:\n",
    "    data = pd.read_csv(pth1)\n",
    "except:\n",
    "    data = pd.read_csv(pth2)"
   ]
  },
  {
   "cell_type": "code",
   "execution_count": 4,
   "id": "c2883b62",
   "metadata": {
    "scrolled": true
   },
   "outputs": [
    {
     "data": {
      "text/html": [
       "<div>\n",
       "<style scoped>\n",
       "    .dataframe tbody tr th:only-of-type {\n",
       "        vertical-align: middle;\n",
       "    }\n",
       "\n",
       "    .dataframe tbody tr th {\n",
       "        vertical-align: top;\n",
       "    }\n",
       "\n",
       "    .dataframe thead th {\n",
       "        text-align: right;\n",
       "    }\n",
       "</style>\n",
       "<table border=\"1\" class=\"dataframe\">\n",
       "  <thead>\n",
       "    <tr style=\"text-align: right;\">\n",
       "      <th></th>\n",
       "      <th>children</th>\n",
       "      <th>days_employed</th>\n",
       "      <th>dob_years</th>\n",
       "      <th>education</th>\n",
       "      <th>education_id</th>\n",
       "      <th>family_status</th>\n",
       "      <th>family_status_id</th>\n",
       "      <th>gender</th>\n",
       "      <th>income_type</th>\n",
       "      <th>debt</th>\n",
       "      <th>total_income</th>\n",
       "      <th>purpose</th>\n",
       "    </tr>\n",
       "  </thead>\n",
       "  <tbody>\n",
       "    <tr>\n",
       "      <th>0</th>\n",
       "      <td>1</td>\n",
       "      <td>-8437.673028</td>\n",
       "      <td>42</td>\n",
       "      <td>высшее</td>\n",
       "      <td>0</td>\n",
       "      <td>женат / замужем</td>\n",
       "      <td>0</td>\n",
       "      <td>F</td>\n",
       "      <td>сотрудник</td>\n",
       "      <td>0</td>\n",
       "      <td>253875.639453</td>\n",
       "      <td>покупка жилья</td>\n",
       "    </tr>\n",
       "    <tr>\n",
       "      <th>1</th>\n",
       "      <td>1</td>\n",
       "      <td>-4024.803754</td>\n",
       "      <td>36</td>\n",
       "      <td>среднее</td>\n",
       "      <td>1</td>\n",
       "      <td>женат / замужем</td>\n",
       "      <td>0</td>\n",
       "      <td>F</td>\n",
       "      <td>сотрудник</td>\n",
       "      <td>0</td>\n",
       "      <td>112080.014102</td>\n",
       "      <td>приобретение автомобиля</td>\n",
       "    </tr>\n",
       "    <tr>\n",
       "      <th>2</th>\n",
       "      <td>0</td>\n",
       "      <td>-5623.422610</td>\n",
       "      <td>33</td>\n",
       "      <td>Среднее</td>\n",
       "      <td>1</td>\n",
       "      <td>женат / замужем</td>\n",
       "      <td>0</td>\n",
       "      <td>M</td>\n",
       "      <td>сотрудник</td>\n",
       "      <td>0</td>\n",
       "      <td>145885.952297</td>\n",
       "      <td>покупка жилья</td>\n",
       "    </tr>\n",
       "    <tr>\n",
       "      <th>3</th>\n",
       "      <td>3</td>\n",
       "      <td>-4124.747207</td>\n",
       "      <td>32</td>\n",
       "      <td>среднее</td>\n",
       "      <td>1</td>\n",
       "      <td>женат / замужем</td>\n",
       "      <td>0</td>\n",
       "      <td>M</td>\n",
       "      <td>сотрудник</td>\n",
       "      <td>0</td>\n",
       "      <td>267628.550329</td>\n",
       "      <td>дополнительное образование</td>\n",
       "    </tr>\n",
       "    <tr>\n",
       "      <th>4</th>\n",
       "      <td>0</td>\n",
       "      <td>340266.072047</td>\n",
       "      <td>53</td>\n",
       "      <td>среднее</td>\n",
       "      <td>1</td>\n",
       "      <td>гражданский брак</td>\n",
       "      <td>1</td>\n",
       "      <td>F</td>\n",
       "      <td>пенсионер</td>\n",
       "      <td>0</td>\n",
       "      <td>158616.077870</td>\n",
       "      <td>сыграть свадьбу</td>\n",
       "    </tr>\n",
       "    <tr>\n",
       "      <th>5</th>\n",
       "      <td>0</td>\n",
       "      <td>-926.185831</td>\n",
       "      <td>27</td>\n",
       "      <td>высшее</td>\n",
       "      <td>0</td>\n",
       "      <td>гражданский брак</td>\n",
       "      <td>1</td>\n",
       "      <td>M</td>\n",
       "      <td>компаньон</td>\n",
       "      <td>0</td>\n",
       "      <td>255763.565419</td>\n",
       "      <td>покупка жилья</td>\n",
       "    </tr>\n",
       "    <tr>\n",
       "      <th>6</th>\n",
       "      <td>0</td>\n",
       "      <td>-2879.202052</td>\n",
       "      <td>43</td>\n",
       "      <td>высшее</td>\n",
       "      <td>0</td>\n",
       "      <td>женат / замужем</td>\n",
       "      <td>0</td>\n",
       "      <td>F</td>\n",
       "      <td>компаньон</td>\n",
       "      <td>0</td>\n",
       "      <td>240525.971920</td>\n",
       "      <td>операции с жильем</td>\n",
       "    </tr>\n",
       "    <tr>\n",
       "      <th>7</th>\n",
       "      <td>0</td>\n",
       "      <td>-152.779569</td>\n",
       "      <td>50</td>\n",
       "      <td>СРЕДНЕЕ</td>\n",
       "      <td>1</td>\n",
       "      <td>женат / замужем</td>\n",
       "      <td>0</td>\n",
       "      <td>M</td>\n",
       "      <td>сотрудник</td>\n",
       "      <td>0</td>\n",
       "      <td>135823.934197</td>\n",
       "      <td>образование</td>\n",
       "    </tr>\n",
       "    <tr>\n",
       "      <th>8</th>\n",
       "      <td>2</td>\n",
       "      <td>-6929.865299</td>\n",
       "      <td>35</td>\n",
       "      <td>ВЫСШЕЕ</td>\n",
       "      <td>0</td>\n",
       "      <td>гражданский брак</td>\n",
       "      <td>1</td>\n",
       "      <td>F</td>\n",
       "      <td>сотрудник</td>\n",
       "      <td>0</td>\n",
       "      <td>95856.832424</td>\n",
       "      <td>на проведение свадьбы</td>\n",
       "    </tr>\n",
       "    <tr>\n",
       "      <th>9</th>\n",
       "      <td>0</td>\n",
       "      <td>-2188.756445</td>\n",
       "      <td>41</td>\n",
       "      <td>среднее</td>\n",
       "      <td>1</td>\n",
       "      <td>женат / замужем</td>\n",
       "      <td>0</td>\n",
       "      <td>M</td>\n",
       "      <td>сотрудник</td>\n",
       "      <td>0</td>\n",
       "      <td>144425.938277</td>\n",
       "      <td>покупка жилья для семьи</td>\n",
       "    </tr>\n",
       "  </tbody>\n",
       "</table>\n",
       "</div>"
      ],
      "text/plain": [
       "   children  days_employed  dob_years education  education_id  \\\n",
       "0         1   -8437.673028         42    высшее             0   \n",
       "1         1   -4024.803754         36   среднее             1   \n",
       "2         0   -5623.422610         33   Среднее             1   \n",
       "3         3   -4124.747207         32   среднее             1   \n",
       "4         0  340266.072047         53   среднее             1   \n",
       "5         0    -926.185831         27    высшее             0   \n",
       "6         0   -2879.202052         43    высшее             0   \n",
       "7         0    -152.779569         50   СРЕДНЕЕ             1   \n",
       "8         2   -6929.865299         35    ВЫСШЕЕ             0   \n",
       "9         0   -2188.756445         41   среднее             1   \n",
       "\n",
       "      family_status  family_status_id gender income_type  debt   total_income  \\\n",
       "0   женат / замужем                 0      F   сотрудник     0  253875.639453   \n",
       "1   женат / замужем                 0      F   сотрудник     0  112080.014102   \n",
       "2   женат / замужем                 0      M   сотрудник     0  145885.952297   \n",
       "3   женат / замужем                 0      M   сотрудник     0  267628.550329   \n",
       "4  гражданский брак                 1      F   пенсионер     0  158616.077870   \n",
       "5  гражданский брак                 1      M   компаньон     0  255763.565419   \n",
       "6   женат / замужем                 0      F   компаньон     0  240525.971920   \n",
       "7   женат / замужем                 0      M   сотрудник     0  135823.934197   \n",
       "8  гражданский брак                 1      F   сотрудник     0   95856.832424   \n",
       "9   женат / замужем                 0      M   сотрудник     0  144425.938277   \n",
       "\n",
       "                      purpose  \n",
       "0               покупка жилья  \n",
       "1     приобретение автомобиля  \n",
       "2               покупка жилья  \n",
       "3  дополнительное образование  \n",
       "4             сыграть свадьбу  \n",
       "5               покупка жилья  \n",
       "6           операции с жильем  \n",
       "7                 образование  \n",
       "8       на проведение свадьбы  \n",
       "9     покупка жилья для семьи  "
      ]
     },
     "execution_count": 4,
     "metadata": {},
     "output_type": "execute_result"
    }
   ],
   "source": [
    "data.head(10)"
   ]
  },
  {
   "cell_type": "code",
   "execution_count": 5,
   "id": "8d134617",
   "metadata": {},
   "outputs": [
    {
     "name": "stdout",
     "output_type": "stream",
     "text": [
      "<class 'pandas.core.frame.DataFrame'>\n",
      "RangeIndex: 21525 entries, 0 to 21524\n",
      "Data columns (total 12 columns):\n",
      " #   Column            Non-Null Count  Dtype  \n",
      "---  ------            --------------  -----  \n",
      " 0   children          21525 non-null  int64  \n",
      " 1   days_employed     19351 non-null  float64\n",
      " 2   dob_years         21525 non-null  int64  \n",
      " 3   education         21525 non-null  object \n",
      " 4   education_id      21525 non-null  int64  \n",
      " 5   family_status     21525 non-null  object \n",
      " 6   family_status_id  21525 non-null  int64  \n",
      " 7   gender            21525 non-null  object \n",
      " 8   income_type       21525 non-null  object \n",
      " 9   debt              21525 non-null  int64  \n",
      " 10  total_income      19351 non-null  float64\n",
      " 11  purpose           21525 non-null  object \n",
      "dtypes: float64(2), int64(5), object(5)\n",
      "memory usage: 2.0+ MB\n"
     ]
    }
   ],
   "source": [
    "data.info() "
   ]
  },
  {
   "cell_type": "markdown",
   "id": "3cfa7357",
   "metadata": {},
   "source": [
    "Итак, в таблице 12 столбцов. В названиях колонок стилистических нарушений или ошибок нет. Количество значений в стобцах различается, значит, есть пропущенные значения. Также в столбце days_employed присутствуют как положительные, так и отрицательные значения, чего быть не должно. Также не похоже, чтобы эти значения были выражены в днях, скорее, в часах. Значения в столбце education написаны разным регистром."
   ]
  },
  {
   "cell_type": "markdown",
   "id": "7577d391",
   "metadata": {},
   "source": [
    " ## Шаг 2  Предобработка данных"
   ]
  },
  {
   "cell_type": "markdown",
   "id": "58f13008",
   "metadata": {},
   "source": [
    "###  Заполнение пропусков"
   ]
  },
  {
   "cell_type": "markdown",
   "id": "c16e0e45",
   "metadata": {},
   "source": [
    "Определим количество пропущенных значений и выведем строки с ними"
   ]
  },
  {
   "cell_type": "code",
   "execution_count": 6,
   "id": "f7ed3dea",
   "metadata": {
    "scrolled": true
   },
   "outputs": [
    {
     "data": {
      "text/plain": [
       "children               0\n",
       "days_employed       2174\n",
       "dob_years              0\n",
       "education              0\n",
       "education_id           0\n",
       "family_status          0\n",
       "family_status_id       0\n",
       "gender                 0\n",
       "income_type            0\n",
       "debt                   0\n",
       "total_income        2174\n",
       "purpose                0\n",
       "dtype: int64"
      ]
     },
     "execution_count": 6,
     "metadata": {},
     "output_type": "execute_result"
    }
   ],
   "source": [
    "data.isna().sum() "
   ]
  },
  {
   "cell_type": "code",
   "execution_count": 7,
   "id": "1ac52c3c",
   "metadata": {
    "scrolled": true
   },
   "outputs": [
    {
     "data": {
      "text/html": [
       "<div>\n",
       "<style scoped>\n",
       "    .dataframe tbody tr th:only-of-type {\n",
       "        vertical-align: middle;\n",
       "    }\n",
       "\n",
       "    .dataframe tbody tr th {\n",
       "        vertical-align: top;\n",
       "    }\n",
       "\n",
       "    .dataframe thead th {\n",
       "        text-align: right;\n",
       "    }\n",
       "</style>\n",
       "<table border=\"1\" class=\"dataframe\">\n",
       "  <thead>\n",
       "    <tr style=\"text-align: right;\">\n",
       "      <th></th>\n",
       "      <th>children</th>\n",
       "      <th>days_employed</th>\n",
       "      <th>dob_years</th>\n",
       "      <th>education</th>\n",
       "      <th>education_id</th>\n",
       "      <th>family_status</th>\n",
       "      <th>family_status_id</th>\n",
       "      <th>gender</th>\n",
       "      <th>income_type</th>\n",
       "      <th>debt</th>\n",
       "      <th>total_income</th>\n",
       "      <th>purpose</th>\n",
       "    </tr>\n",
       "  </thead>\n",
       "  <tbody>\n",
       "    <tr>\n",
       "      <th>12</th>\n",
       "      <td>0</td>\n",
       "      <td>NaN</td>\n",
       "      <td>65</td>\n",
       "      <td>среднее</td>\n",
       "      <td>1</td>\n",
       "      <td>гражданский брак</td>\n",
       "      <td>1</td>\n",
       "      <td>M</td>\n",
       "      <td>пенсионер</td>\n",
       "      <td>0</td>\n",
       "      <td>NaN</td>\n",
       "      <td>сыграть свадьбу</td>\n",
       "    </tr>\n",
       "    <tr>\n",
       "      <th>26</th>\n",
       "      <td>0</td>\n",
       "      <td>NaN</td>\n",
       "      <td>41</td>\n",
       "      <td>среднее</td>\n",
       "      <td>1</td>\n",
       "      <td>женат / замужем</td>\n",
       "      <td>0</td>\n",
       "      <td>M</td>\n",
       "      <td>госслужащий</td>\n",
       "      <td>0</td>\n",
       "      <td>NaN</td>\n",
       "      <td>образование</td>\n",
       "    </tr>\n",
       "    <tr>\n",
       "      <th>29</th>\n",
       "      <td>0</td>\n",
       "      <td>NaN</td>\n",
       "      <td>63</td>\n",
       "      <td>среднее</td>\n",
       "      <td>1</td>\n",
       "      <td>Не женат / не замужем</td>\n",
       "      <td>4</td>\n",
       "      <td>F</td>\n",
       "      <td>пенсионер</td>\n",
       "      <td>0</td>\n",
       "      <td>NaN</td>\n",
       "      <td>строительство жилой недвижимости</td>\n",
       "    </tr>\n",
       "    <tr>\n",
       "      <th>41</th>\n",
       "      <td>0</td>\n",
       "      <td>NaN</td>\n",
       "      <td>50</td>\n",
       "      <td>среднее</td>\n",
       "      <td>1</td>\n",
       "      <td>женат / замужем</td>\n",
       "      <td>0</td>\n",
       "      <td>F</td>\n",
       "      <td>госслужащий</td>\n",
       "      <td>0</td>\n",
       "      <td>NaN</td>\n",
       "      <td>сделка с подержанным автомобилем</td>\n",
       "    </tr>\n",
       "    <tr>\n",
       "      <th>55</th>\n",
       "      <td>0</td>\n",
       "      <td>NaN</td>\n",
       "      <td>54</td>\n",
       "      <td>среднее</td>\n",
       "      <td>1</td>\n",
       "      <td>гражданский брак</td>\n",
       "      <td>1</td>\n",
       "      <td>F</td>\n",
       "      <td>пенсионер</td>\n",
       "      <td>1</td>\n",
       "      <td>NaN</td>\n",
       "      <td>сыграть свадьбу</td>\n",
       "    </tr>\n",
       "    <tr>\n",
       "      <th>65</th>\n",
       "      <td>0</td>\n",
       "      <td>NaN</td>\n",
       "      <td>21</td>\n",
       "      <td>среднее</td>\n",
       "      <td>1</td>\n",
       "      <td>Не женат / не замужем</td>\n",
       "      <td>4</td>\n",
       "      <td>M</td>\n",
       "      <td>компаньон</td>\n",
       "      <td>0</td>\n",
       "      <td>NaN</td>\n",
       "      <td>операции с коммерческой недвижимостью</td>\n",
       "    </tr>\n",
       "    <tr>\n",
       "      <th>67</th>\n",
       "      <td>0</td>\n",
       "      <td>NaN</td>\n",
       "      <td>52</td>\n",
       "      <td>высшее</td>\n",
       "      <td>0</td>\n",
       "      <td>женат / замужем</td>\n",
       "      <td>0</td>\n",
       "      <td>F</td>\n",
       "      <td>пенсионер</td>\n",
       "      <td>0</td>\n",
       "      <td>NaN</td>\n",
       "      <td>покупка жилья для семьи</td>\n",
       "    </tr>\n",
       "    <tr>\n",
       "      <th>72</th>\n",
       "      <td>1</td>\n",
       "      <td>NaN</td>\n",
       "      <td>32</td>\n",
       "      <td>высшее</td>\n",
       "      <td>0</td>\n",
       "      <td>женат / замужем</td>\n",
       "      <td>0</td>\n",
       "      <td>M</td>\n",
       "      <td>госслужащий</td>\n",
       "      <td>0</td>\n",
       "      <td>NaN</td>\n",
       "      <td>операции с коммерческой недвижимостью</td>\n",
       "    </tr>\n",
       "    <tr>\n",
       "      <th>82</th>\n",
       "      <td>2</td>\n",
       "      <td>NaN</td>\n",
       "      <td>50</td>\n",
       "      <td>высшее</td>\n",
       "      <td>0</td>\n",
       "      <td>женат / замужем</td>\n",
       "      <td>0</td>\n",
       "      <td>F</td>\n",
       "      <td>сотрудник</td>\n",
       "      <td>0</td>\n",
       "      <td>NaN</td>\n",
       "      <td>жилье</td>\n",
       "    </tr>\n",
       "    <tr>\n",
       "      <th>83</th>\n",
       "      <td>0</td>\n",
       "      <td>NaN</td>\n",
       "      <td>52</td>\n",
       "      <td>среднее</td>\n",
       "      <td>1</td>\n",
       "      <td>женат / замужем</td>\n",
       "      <td>0</td>\n",
       "      <td>M</td>\n",
       "      <td>сотрудник</td>\n",
       "      <td>0</td>\n",
       "      <td>NaN</td>\n",
       "      <td>жилье</td>\n",
       "    </tr>\n",
       "  </tbody>\n",
       "</table>\n",
       "</div>"
      ],
      "text/plain": [
       "    children  days_employed  dob_years education  education_id  \\\n",
       "12         0            NaN         65   среднее             1   \n",
       "26         0            NaN         41   среднее             1   \n",
       "29         0            NaN         63   среднее             1   \n",
       "41         0            NaN         50   среднее             1   \n",
       "55         0            NaN         54   среднее             1   \n",
       "65         0            NaN         21   среднее             1   \n",
       "67         0            NaN         52    высшее             0   \n",
       "72         1            NaN         32    высшее             0   \n",
       "82         2            NaN         50    высшее             0   \n",
       "83         0            NaN         52   среднее             1   \n",
       "\n",
       "            family_status  family_status_id gender  income_type  debt  \\\n",
       "12       гражданский брак                 1      M    пенсионер     0   \n",
       "26        женат / замужем                 0      M  госслужащий     0   \n",
       "29  Не женат / не замужем                 4      F    пенсионер     0   \n",
       "41        женат / замужем                 0      F  госслужащий     0   \n",
       "55       гражданский брак                 1      F    пенсионер     1   \n",
       "65  Не женат / не замужем                 4      M    компаньон     0   \n",
       "67        женат / замужем                 0      F    пенсионер     0   \n",
       "72        женат / замужем                 0      M  госслужащий     0   \n",
       "82        женат / замужем                 0      F    сотрудник     0   \n",
       "83        женат / замужем                 0      M    сотрудник     0   \n",
       "\n",
       "    total_income                                purpose  \n",
       "12           NaN                        сыграть свадьбу  \n",
       "26           NaN                            образование  \n",
       "29           NaN       строительство жилой недвижимости  \n",
       "41           NaN       сделка с подержанным автомобилем  \n",
       "55           NaN                        сыграть свадьбу  \n",
       "65           NaN  операции с коммерческой недвижимостью  \n",
       "67           NaN                покупка жилья для семьи  \n",
       "72           NaN  операции с коммерческой недвижимостью  \n",
       "82           NaN                                  жилье  \n",
       "83           NaN                                  жилье  "
      ]
     },
     "execution_count": 7,
     "metadata": {},
     "output_type": "execute_result"
    }
   ],
   "source": [
    "data[data['days_employed'].isna()].head(10) "
   ]
  },
  {
   "cell_type": "code",
   "execution_count": 8,
   "id": "b01642c2",
   "metadata": {},
   "outputs": [
    {
     "data": {
      "text/plain": [
       "children            0.000000\n",
       "days_employed       0.100999\n",
       "dob_years           0.000000\n",
       "education           0.000000\n",
       "education_id        0.000000\n",
       "family_status       0.000000\n",
       "family_status_id    0.000000\n",
       "gender              0.000000\n",
       "income_type         0.000000\n",
       "debt                0.000000\n",
       "total_income        0.100999\n",
       "purpose             0.000000\n",
       "dtype: float64"
      ]
     },
     "execution_count": 8,
     "metadata": {},
     "output_type": "execute_result"
    }
   ],
   "source": [
    "data.isna().mean()"
   ]
  },
  {
   "cell_type": "markdown",
   "id": "40cc7c60",
   "metadata": {},
   "source": [
    "Пропуски обнаружены в столбцах \"общий трудовой стаж\" и \"ежемесячный доход\" и они соотвуетствуют друг другу. Доля пропущенных значений составляет около 10%. Вряд ли пропуски могут быть вызваны реальным отсутствием стажа, и соответственно дохода, у заемщиков, учитывая их тип занятости или тем, что заемщики намеренно не указывали эти данные, так как это все-таки необходимо для получения кредита. Так что, возможно, это техническая ошибка\n",
    "\n",
    "Далее заполним выявленные пропуски медианным значением по столбцу.\n",
    "Используем медиану вместо среднего, так как данные сильно отличаются между собой, и среднее значение не будет показательно."
   ]
  },
  {
   "cell_type": "code",
   "execution_count": 9,
   "id": "f10d66d6",
   "metadata": {},
   "outputs": [
    {
     "data": {
      "text/plain": [
       "-1203.369528770489"
      ]
     },
     "execution_count": 9,
     "metadata": {},
     "output_type": "execute_result"
    }
   ],
   "source": [
    "data['days_employed'].median()"
   ]
  },
  {
   "cell_type": "code",
   "execution_count": 10,
   "id": "8b1e6b21",
   "metadata": {
    "scrolled": true
   },
   "outputs": [
    {
     "data": {
      "text/plain": [
       "145017.93753253992"
      ]
     },
     "execution_count": 10,
     "metadata": {},
     "output_type": "execute_result"
    }
   ],
   "source": [
    "data['total_income'].median()"
   ]
  },
  {
   "cell_type": "code",
   "execution_count": 11,
   "id": "38adc1ee",
   "metadata": {
    "scrolled": true
   },
   "outputs": [
    {
     "data": {
      "text/plain": [
       "income_type\n",
       "безработный        131339.751676\n",
       "в декрете           53829.130729\n",
       "госслужащий        150447.935283\n",
       "компаньон          172357.950966\n",
       "пенсионер          118514.486412\n",
       "предприниматель    499163.144947\n",
       "сотрудник          142594.396847\n",
       "студент             98201.625314\n",
       "Name: total_income, dtype: float64"
      ]
     },
     "execution_count": 11,
     "metadata": {},
     "output_type": "execute_result"
    }
   ],
   "source": [
    "median_income = data.groupby('income_type')['total_income'].median()\n",
    "median_income"
   ]
  },
  {
   "cell_type": "code",
   "execution_count": 12,
   "id": "14141fc1",
   "metadata": {},
   "outputs": [],
   "source": [
    "data.loc[(data['total_income'].isna()) & (data['income_type'] == 'безработный'), 'total_income'] = median_income[0]\n",
    "data.loc[(data['total_income'].isna()) & (data['income_type'] == 'в декрете'), 'total_income'] = median_income[1]\n",
    "data.loc[(data['total_income'].isna()) & (data['income_type'] == 'госслужащий'), 'total_income'] = median_income[2]\n",
    "data.loc[(data['total_income'].isna()) & (data['income_type'] == 'компаньон'), 'total_income'] = median_income[3]\n",
    "data.loc[(data['total_income'].isna()) & (data['income_type'] == 'пенсионер'), 'total_income'] = median_income[4]\n",
    "data.loc[(data['total_income'].isna()) & (data['income_type'] == 'предприниматель'), 'total_income'] = median_income[5]\n",
    "data.loc[(data['total_income'].isna()) & (data['income_type'] == 'сотрудник'), 'total_income'] = median_income[6]\n",
    "data.loc[(data['total_income'].isna()) & (data['income_type'] == 'студент'), 'total_income'] = median_income[7]"
   ]
  },
  {
   "cell_type": "code",
   "execution_count": 13,
   "id": "acd9c895",
   "metadata": {
    "scrolled": false
   },
   "outputs": [
    {
     "data": {
      "text/plain": [
       "income_type\n",
       "безработный        366413.652744\n",
       "в декрете           -3296.759962\n",
       "госслужащий         -2689.368353\n",
       "компаньон           -1547.382223\n",
       "пенсионер          365213.306266\n",
       "предприниматель      -520.848083\n",
       "сотрудник           -1574.202821\n",
       "студент              -578.751554\n",
       "Name: days_employed, dtype: float64"
      ]
     },
     "execution_count": 13,
     "metadata": {},
     "output_type": "execute_result"
    }
   ],
   "source": [
    "median_days = data.groupby('income_type')['days_employed'].median()\n",
    "median_days"
   ]
  },
  {
   "cell_type": "code",
   "execution_count": 14,
   "id": "4e02674e",
   "metadata": {},
   "outputs": [],
   "source": [
    "data.loc[(data['days_employed'].isna()) & (data['income_type'] == 'безработный'), 'days_employed'] = median_days[0]\n",
    "data.loc[(data['days_employed'].isna()) & (data['income_type'] == 'в декрете'), 'days_employed'] = median_days[1]\n",
    "data.loc[(data['days_employed'].isna()) & (data['income_type'] == 'госслужащий'), 'days_employed'] = median_days[2]\n",
    "data.loc[(data['days_employed'].isna()) & (data['income_type'] == 'компаньон'), 'days_employed'] = median_days[3]\n",
    "data.loc[(data['days_employed'].isna()) & (data['income_type'] == 'пенсионер'), 'days_employed'] = median_days[4]\n",
    "data.loc[(data['days_employed'].isna()) & (data['income_type'] == 'предприниматель'), 'days_employed'] = median_days[5]\n",
    "data.loc[(data['days_employed'].isna()) & (data['income_type'] == 'сотрудник'), 'days_employed'] = median_days[6]\n",
    "data.loc[(data['days_employed'].isna()) & (data['income_type'] == 'студент'), 'days_employed'] = median_days[7]"
   ]
  },
  {
   "cell_type": "code",
   "execution_count": 15,
   "id": "ec468c8d",
   "metadata": {},
   "outputs": [
    {
     "data": {
      "text/plain": [
       "children            0\n",
       "days_employed       0\n",
       "dob_years           0\n",
       "education           0\n",
       "education_id        0\n",
       "family_status       0\n",
       "family_status_id    0\n",
       "gender              0\n",
       "income_type         0\n",
       "debt                0\n",
       "total_income        0\n",
       "purpose             0\n",
       "dtype: int64"
      ]
     },
     "execution_count": 15,
     "metadata": {},
     "output_type": "execute_result"
    }
   ],
   "source": [
    "data.isna().sum() #снова проверим количество пропусков"
   ]
  },
  {
   "cell_type": "markdown",
   "id": "f52bfbf9",
   "metadata": {},
   "source": [
    "### Проверка данных на аномалии и исправления."
   ]
  },
  {
   "cell_type": "code",
   "execution_count": 17,
   "id": "7f8d37da",
   "metadata": {},
   "outputs": [
    {
     "data": {
      "text/plain": [
       "income_type\n",
       "безработный        366413.652744\n",
       "в декрете           -3296.759962\n",
       "госслужащий         -3328.308350\n",
       "компаньон           -2055.165652\n",
       "пенсионер          365025.963652\n",
       "предприниматель      -520.848083\n",
       "сотрудник           -2251.736421\n",
       "студент              -578.751554\n",
       "Name: days_employed, dtype: float64"
      ]
     },
     "execution_count": 17,
     "metadata": {},
     "output_type": "execute_result"
    }
   ],
   "source": [
    "data.groupby('income_type')['days_employed'].mean()"
   ]
  },
  {
   "cell_type": "markdown",
   "id": "ea896daf",
   "metadata": {},
   "source": [
    "Вывели среднее значение трудовых дней стажа по типам занятости. Как уже было отмечено ранее, скорее всего значения представлены в часах. \n",
    "\n",
    "Избавимся от минусов и переведем в дни"
   ]
  },
  {
   "cell_type": "code",
   "execution_count": 20,
   "id": "b54b52a4",
   "metadata": {
    "scrolled": false
   },
   "outputs": [
    {
     "data": {
      "text/plain": [
       "income_type\n",
       "безработный        15267.235531\n",
       "в декрете           3296.759962\n",
       "госслужащий         3328.308350\n",
       "компаньон           2055.165652\n",
       "пенсионер          15209.415152\n",
       "предприниматель      520.848083\n",
       "сотрудник           2251.736421\n",
       "студент              578.751554\n",
       "Name: days_employed, dtype: float64"
      ]
     },
     "execution_count": 20,
     "metadata": {},
     "output_type": "execute_result"
    }
   ],
   "source": [
    "data['days_employed'] = data['days_employed'].apply(lambda x: x if x<0 else x/24)\n",
    "data['days_employed'] = data['days_employed'].abs()\n",
    "data.groupby('income_type')['days_employed'].mean()"
   ]
  },
  {
   "cell_type": "markdown",
   "id": "e472320e",
   "metadata": {},
   "source": [
    "Теперь данные представлены в днях, но все равно выглядят нереалистично, так как странен такой разрыв стажа безработного и пенсионеров и остальных категорий. Вероятно, это ошибка при внесении данных"
   ]
  },
  {
   "cell_type": "code",
   "execution_count": 22,
   "id": "e608e57e",
   "metadata": {
    "scrolled": true
   },
   "outputs": [
    {
     "data": {
      "text/plain": [
       "array([ 0, 19, 20, 21, 22, 23, 24, 25, 26, 27, 28, 29, 30, 31, 32, 33, 34,\n",
       "       35, 36, 37, 38, 39, 40, 41, 42, 43, 44, 45, 46, 47, 48, 49, 50, 51,\n",
       "       52, 53, 54, 55, 56, 57, 58, 59, 60, 61, 62, 63, 64, 65, 66, 67, 68,\n",
       "       69, 70, 71, 72, 73, 74, 75], dtype=int64)"
      ]
     },
     "execution_count": 22,
     "metadata": {},
     "output_type": "execute_result"
    }
   ],
   "source": [
    "data['dob_years'].sort_values().unique()"
   ]
  },
  {
   "cell_type": "code",
   "execution_count": 23,
   "id": "e63b332b",
   "metadata": {},
   "outputs": [
    {
     "data": {
      "text/plain": [
       "array(['F', 'M', 'XNA'], dtype=object)"
      ]
     },
     "execution_count": 23,
     "metadata": {},
     "output_type": "execute_result"
    }
   ],
   "source": [
    "data['gender'].unique()"
   ]
  },
  {
   "cell_type": "markdown",
   "id": "2d3f69c4",
   "metadata": {},
   "source": [
    "В столбцах возраст и пол так же встречаются аномальные значения. Столбцы, в которых выявлены аномалии, не участвуют в исследовании, поэтому мы не исправляем их."
   ]
  },
  {
   "cell_type": "code",
   "execution_count": 24,
   "id": "20759617",
   "metadata": {
    "scrolled": true
   },
   "outputs": [
    {
     "data": {
      "text/plain": [
       "array([ 1,  0,  3,  2, -1,  4, 20,  5], dtype=int64)"
      ]
     },
     "execution_count": 24,
     "metadata": {},
     "output_type": "execute_result"
    }
   ],
   "source": [
    "data['children'].unique()"
   ]
  },
  {
   "cell_type": "code",
   "execution_count": 25,
   "id": "15890680",
   "metadata": {
    "scrolled": true
   },
   "outputs": [
    {
     "data": {
      "text/plain": [
       " 0     14149\n",
       " 1      4818\n",
       " 2      2055\n",
       " 3       330\n",
       " 20       76\n",
       "-1        47\n",
       " 4        41\n",
       " 5         9\n",
       "Name: children, dtype: int64"
      ]
     },
     "execution_count": 25,
     "metadata": {},
     "output_type": "execute_result"
    }
   ],
   "source": [
    "data['children'].value_counts()"
   ]
  },
  {
   "cell_type": "markdown",
   "id": "8b5d5556",
   "metadata": {},
   "source": [
    "В колонке \"количество детей\" есть значения -1 и 20. Отрицательного значения здесь не может быть. 20, скорее всего, тоже опечатка, так как такое количетсво детей все-таки редкость :), а в таблице людей с таким количеством детей 76, и, возможно, имелось в виду 2 ребенка."
   ]
  },
  {
   "cell_type": "code",
   "execution_count": 26,
   "id": "87af8e37",
   "metadata": {},
   "outputs": [],
   "source": [
    "data['children'] = data['children'].abs()\n",
    "data['children'] = data['children'].replace(20, 2)"
   ]
  },
  {
   "cell_type": "code",
   "execution_count": 27,
   "id": "e2eb4c75",
   "metadata": {},
   "outputs": [
    {
     "data": {
      "text/plain": [
       "0    14149\n",
       "1     4865\n",
       "2     2131\n",
       "3      330\n",
       "4       41\n",
       "5        9\n",
       "Name: children, dtype: int64"
      ]
     },
     "execution_count": 27,
     "metadata": {},
     "output_type": "execute_result"
    }
   ],
   "source": [
    "data['children'].value_counts()"
   ]
  },
  {
   "cell_type": "markdown",
   "id": "51590d36",
   "metadata": {},
   "source": [
    "### Изменение типов данных."
   ]
  },
  {
   "cell_type": "markdown",
   "id": "c9e88ba0",
   "metadata": {},
   "source": [
    "Заменим вещественный тип данных в столбце total_income на целочисленный"
   ]
  },
  {
   "cell_type": "code",
   "execution_count": 28,
   "id": "174c7d8a",
   "metadata": {},
   "outputs": [],
   "source": [
    "data['total_income'] = data['total_income'].astype('int')"
   ]
  },
  {
   "cell_type": "code",
   "execution_count": 29,
   "id": "49a20732",
   "metadata": {},
   "outputs": [
    {
     "name": "stdout",
     "output_type": "stream",
     "text": [
      "<class 'pandas.core.frame.DataFrame'>\n",
      "RangeIndex: 21525 entries, 0 to 21524\n",
      "Data columns (total 12 columns):\n",
      " #   Column            Non-Null Count  Dtype  \n",
      "---  ------            --------------  -----  \n",
      " 0   children          21525 non-null  int64  \n",
      " 1   days_employed     21525 non-null  float64\n",
      " 2   dob_years         21525 non-null  int64  \n",
      " 3   education         21525 non-null  object \n",
      " 4   education_id      21525 non-null  int64  \n",
      " 5   family_status     21525 non-null  object \n",
      " 6   family_status_id  21525 non-null  int64  \n",
      " 7   gender            21525 non-null  object \n",
      " 8   income_type       21525 non-null  object \n",
      " 9   debt              21525 non-null  int64  \n",
      " 10  total_income      21525 non-null  int32  \n",
      " 11  purpose           21525 non-null  object \n",
      "dtypes: float64(1), int32(1), int64(5), object(5)\n",
      "memory usage: 1.9+ MB\n"
     ]
    }
   ],
   "source": [
    "data.info()"
   ]
  },
  {
   "cell_type": "markdown",
   "id": "a5c9f7b4",
   "metadata": {},
   "source": [
    "### Удаление дубликатов."
   ]
  },
  {
   "cell_type": "markdown",
   "id": "822743ed",
   "metadata": {},
   "source": [
    "Посмотрим сколько всего дубликатов и какие они"
   ]
  },
  {
   "cell_type": "code",
   "execution_count": 30,
   "id": "899ab3db",
   "metadata": {},
   "outputs": [
    {
     "data": {
      "text/plain": [
       "54"
      ]
     },
     "execution_count": 30,
     "metadata": {},
     "output_type": "execute_result"
    }
   ],
   "source": [
    "data.duplicated().sum()"
   ]
  },
  {
   "cell_type": "code",
   "execution_count": 31,
   "id": "673e336a",
   "metadata": {
    "scrolled": true
   },
   "outputs": [
    {
     "data": {
      "text/html": [
       "<div>\n",
       "<style scoped>\n",
       "    .dataframe tbody tr th:only-of-type {\n",
       "        vertical-align: middle;\n",
       "    }\n",
       "\n",
       "    .dataframe tbody tr th {\n",
       "        vertical-align: top;\n",
       "    }\n",
       "\n",
       "    .dataframe thead th {\n",
       "        text-align: right;\n",
       "    }\n",
       "</style>\n",
       "<table border=\"1\" class=\"dataframe\">\n",
       "  <thead>\n",
       "    <tr style=\"text-align: right;\">\n",
       "      <th></th>\n",
       "      <th>children</th>\n",
       "      <th>days_employed</th>\n",
       "      <th>dob_years</th>\n",
       "      <th>education</th>\n",
       "      <th>education_id</th>\n",
       "      <th>family_status</th>\n",
       "      <th>family_status_id</th>\n",
       "      <th>gender</th>\n",
       "      <th>income_type</th>\n",
       "      <th>debt</th>\n",
       "      <th>total_income</th>\n",
       "      <th>purpose</th>\n",
       "    </tr>\n",
       "  </thead>\n",
       "  <tbody>\n",
       "    <tr>\n",
       "      <th>13639</th>\n",
       "      <td>0</td>\n",
       "      <td>15217.221094</td>\n",
       "      <td>64</td>\n",
       "      <td>среднее</td>\n",
       "      <td>1</td>\n",
       "      <td>женат / замужем</td>\n",
       "      <td>0</td>\n",
       "      <td>F</td>\n",
       "      <td>пенсионер</td>\n",
       "      <td>0</td>\n",
       "      <td>118514</td>\n",
       "      <td>автомобиль</td>\n",
       "    </tr>\n",
       "    <tr>\n",
       "      <th>8178</th>\n",
       "      <td>0</td>\n",
       "      <td>15217.221094</td>\n",
       "      <td>64</td>\n",
       "      <td>среднее</td>\n",
       "      <td>1</td>\n",
       "      <td>женат / замужем</td>\n",
       "      <td>0</td>\n",
       "      <td>F</td>\n",
       "      <td>пенсионер</td>\n",
       "      <td>0</td>\n",
       "      <td>118514</td>\n",
       "      <td>автомобиль</td>\n",
       "    </tr>\n",
       "    <tr>\n",
       "      <th>120</th>\n",
       "      <td>0</td>\n",
       "      <td>1574.202821</td>\n",
       "      <td>46</td>\n",
       "      <td>среднее</td>\n",
       "      <td>1</td>\n",
       "      <td>женат / замужем</td>\n",
       "      <td>0</td>\n",
       "      <td>F</td>\n",
       "      <td>сотрудник</td>\n",
       "      <td>0</td>\n",
       "      <td>142594</td>\n",
       "      <td>высшее образование</td>\n",
       "    </tr>\n",
       "    <tr>\n",
       "      <th>16378</th>\n",
       "      <td>0</td>\n",
       "      <td>1574.202821</td>\n",
       "      <td>46</td>\n",
       "      <td>среднее</td>\n",
       "      <td>1</td>\n",
       "      <td>женат / замужем</td>\n",
       "      <td>0</td>\n",
       "      <td>F</td>\n",
       "      <td>сотрудник</td>\n",
       "      <td>0</td>\n",
       "      <td>142594</td>\n",
       "      <td>высшее образование</td>\n",
       "    </tr>\n",
       "    <tr>\n",
       "      <th>20702</th>\n",
       "      <td>0</td>\n",
       "      <td>15217.221094</td>\n",
       "      <td>64</td>\n",
       "      <td>среднее</td>\n",
       "      <td>1</td>\n",
       "      <td>женат / замужем</td>\n",
       "      <td>0</td>\n",
       "      <td>F</td>\n",
       "      <td>пенсионер</td>\n",
       "      <td>0</td>\n",
       "      <td>118514</td>\n",
       "      <td>дополнительное образование</td>\n",
       "    </tr>\n",
       "    <tr>\n",
       "      <th>8583</th>\n",
       "      <td>0</td>\n",
       "      <td>15217.221094</td>\n",
       "      <td>58</td>\n",
       "      <td>высшее</td>\n",
       "      <td>0</td>\n",
       "      <td>Не женат / не замужем</td>\n",
       "      <td>4</td>\n",
       "      <td>F</td>\n",
       "      <td>пенсионер</td>\n",
       "      <td>0</td>\n",
       "      <td>118514</td>\n",
       "      <td>дополнительное образование</td>\n",
       "    </tr>\n",
       "    <tr>\n",
       "      <th>12389</th>\n",
       "      <td>0</td>\n",
       "      <td>15217.221094</td>\n",
       "      <td>64</td>\n",
       "      <td>среднее</td>\n",
       "      <td>1</td>\n",
       "      <td>женат / замужем</td>\n",
       "      <td>0</td>\n",
       "      <td>F</td>\n",
       "      <td>пенсионер</td>\n",
       "      <td>0</td>\n",
       "      <td>118514</td>\n",
       "      <td>дополнительное образование</td>\n",
       "    </tr>\n",
       "    <tr>\n",
       "      <th>1511</th>\n",
       "      <td>0</td>\n",
       "      <td>15217.221094</td>\n",
       "      <td>58</td>\n",
       "      <td>высшее</td>\n",
       "      <td>0</td>\n",
       "      <td>Не женат / не замужем</td>\n",
       "      <td>4</td>\n",
       "      <td>F</td>\n",
       "      <td>пенсионер</td>\n",
       "      <td>0</td>\n",
       "      <td>118514</td>\n",
       "      <td>дополнительное образование</td>\n",
       "    </tr>\n",
       "    <tr>\n",
       "      <th>3609</th>\n",
       "      <td>0</td>\n",
       "      <td>15217.221094</td>\n",
       "      <td>64</td>\n",
       "      <td>среднее</td>\n",
       "      <td>1</td>\n",
       "      <td>женат / замужем</td>\n",
       "      <td>0</td>\n",
       "      <td>F</td>\n",
       "      <td>пенсионер</td>\n",
       "      <td>0</td>\n",
       "      <td>118514</td>\n",
       "      <td>жилье</td>\n",
       "    </tr>\n",
       "    <tr>\n",
       "      <th>18428</th>\n",
       "      <td>0</td>\n",
       "      <td>15217.221094</td>\n",
       "      <td>64</td>\n",
       "      <td>среднее</td>\n",
       "      <td>1</td>\n",
       "      <td>женат / замужем</td>\n",
       "      <td>0</td>\n",
       "      <td>F</td>\n",
       "      <td>пенсионер</td>\n",
       "      <td>0</td>\n",
       "      <td>118514</td>\n",
       "      <td>жилье</td>\n",
       "    </tr>\n",
       "    <tr>\n",
       "      <th>2545</th>\n",
       "      <td>0</td>\n",
       "      <td>15217.221094</td>\n",
       "      <td>60</td>\n",
       "      <td>среднее</td>\n",
       "      <td>1</td>\n",
       "      <td>женат / замужем</td>\n",
       "      <td>0</td>\n",
       "      <td>F</td>\n",
       "      <td>пенсионер</td>\n",
       "      <td>0</td>\n",
       "      <td>118514</td>\n",
       "      <td>заняться образованием</td>\n",
       "    </tr>\n",
       "    <tr>\n",
       "      <th>17755</th>\n",
       "      <td>1</td>\n",
       "      <td>1574.202821</td>\n",
       "      <td>43</td>\n",
       "      <td>среднее</td>\n",
       "      <td>1</td>\n",
       "      <td>женат / замужем</td>\n",
       "      <td>0</td>\n",
       "      <td>M</td>\n",
       "      <td>сотрудник</td>\n",
       "      <td>0</td>\n",
       "      <td>142594</td>\n",
       "      <td>заняться образованием</td>\n",
       "    </tr>\n",
       "    <tr>\n",
       "      <th>12736</th>\n",
       "      <td>0</td>\n",
       "      <td>15217.221094</td>\n",
       "      <td>59</td>\n",
       "      <td>среднее</td>\n",
       "      <td>1</td>\n",
       "      <td>женат / замужем</td>\n",
       "      <td>0</td>\n",
       "      <td>F</td>\n",
       "      <td>пенсионер</td>\n",
       "      <td>0</td>\n",
       "      <td>118514</td>\n",
       "      <td>заняться образованием</td>\n",
       "    </tr>\n",
       "    <tr>\n",
       "      <th>10796</th>\n",
       "      <td>0</td>\n",
       "      <td>15217.221094</td>\n",
       "      <td>59</td>\n",
       "      <td>среднее</td>\n",
       "      <td>1</td>\n",
       "      <td>женат / замужем</td>\n",
       "      <td>0</td>\n",
       "      <td>F</td>\n",
       "      <td>пенсионер</td>\n",
       "      <td>0</td>\n",
       "      <td>118514</td>\n",
       "      <td>заняться образованием</td>\n",
       "    </tr>\n",
       "    <tr>\n",
       "      <th>18755</th>\n",
       "      <td>0</td>\n",
       "      <td>15217.221094</td>\n",
       "      <td>58</td>\n",
       "      <td>среднее</td>\n",
       "      <td>1</td>\n",
       "      <td>женат / замужем</td>\n",
       "      <td>0</td>\n",
       "      <td>F</td>\n",
       "      <td>пенсионер</td>\n",
       "      <td>0</td>\n",
       "      <td>118514</td>\n",
       "      <td>заняться образованием</td>\n",
       "    </tr>\n",
       "    <tr>\n",
       "      <th>5394</th>\n",
       "      <td>1</td>\n",
       "      <td>1574.202821</td>\n",
       "      <td>43</td>\n",
       "      <td>среднее</td>\n",
       "      <td>1</td>\n",
       "      <td>женат / замужем</td>\n",
       "      <td>0</td>\n",
       "      <td>M</td>\n",
       "      <td>сотрудник</td>\n",
       "      <td>0</td>\n",
       "      <td>142594</td>\n",
       "      <td>заняться образованием</td>\n",
       "    </tr>\n",
       "    <tr>\n",
       "      <th>21032</th>\n",
       "      <td>0</td>\n",
       "      <td>15217.221094</td>\n",
       "      <td>60</td>\n",
       "      <td>среднее</td>\n",
       "      <td>1</td>\n",
       "      <td>женат / замужем</td>\n",
       "      <td>0</td>\n",
       "      <td>F</td>\n",
       "      <td>пенсионер</td>\n",
       "      <td>0</td>\n",
       "      <td>118514</td>\n",
       "      <td>заняться образованием</td>\n",
       "    </tr>\n",
       "    <tr>\n",
       "      <th>12393</th>\n",
       "      <td>0</td>\n",
       "      <td>15217.221094</td>\n",
       "      <td>58</td>\n",
       "      <td>среднее</td>\n",
       "      <td>1</td>\n",
       "      <td>женат / замужем</td>\n",
       "      <td>0</td>\n",
       "      <td>F</td>\n",
       "      <td>пенсионер</td>\n",
       "      <td>0</td>\n",
       "      <td>118514</td>\n",
       "      <td>заняться образованием</td>\n",
       "    </tr>\n",
       "    <tr>\n",
       "      <th>16904</th>\n",
       "      <td>1</td>\n",
       "      <td>1574.202821</td>\n",
       "      <td>32</td>\n",
       "      <td>высшее</td>\n",
       "      <td>0</td>\n",
       "      <td>женат / замужем</td>\n",
       "      <td>0</td>\n",
       "      <td>F</td>\n",
       "      <td>сотрудник</td>\n",
       "      <td>0</td>\n",
       "      <td>142594</td>\n",
       "      <td>на покупку подержанного автомобиля</td>\n",
       "    </tr>\n",
       "    <tr>\n",
       "      <th>12851</th>\n",
       "      <td>1</td>\n",
       "      <td>1574.202821</td>\n",
       "      <td>32</td>\n",
       "      <td>высшее</td>\n",
       "      <td>0</td>\n",
       "      <td>женат / замужем</td>\n",
       "      <td>0</td>\n",
       "      <td>F</td>\n",
       "      <td>сотрудник</td>\n",
       "      <td>0</td>\n",
       "      <td>142594</td>\n",
       "      <td>на покупку подержанного автомобиля</td>\n",
       "    </tr>\n",
       "  </tbody>\n",
       "</table>\n",
       "</div>"
      ],
      "text/plain": [
       "       children  days_employed  dob_years education  education_id  \\\n",
       "13639         0   15217.221094         64   среднее             1   \n",
       "8178          0   15217.221094         64   среднее             1   \n",
       "120           0    1574.202821         46   среднее             1   \n",
       "16378         0    1574.202821         46   среднее             1   \n",
       "20702         0   15217.221094         64   среднее             1   \n",
       "8583          0   15217.221094         58    высшее             0   \n",
       "12389         0   15217.221094         64   среднее             1   \n",
       "1511          0   15217.221094         58    высшее             0   \n",
       "3609          0   15217.221094         64   среднее             1   \n",
       "18428         0   15217.221094         64   среднее             1   \n",
       "2545          0   15217.221094         60   среднее             1   \n",
       "17755         1    1574.202821         43   среднее             1   \n",
       "12736         0   15217.221094         59   среднее             1   \n",
       "10796         0   15217.221094         59   среднее             1   \n",
       "18755         0   15217.221094         58   среднее             1   \n",
       "5394          1    1574.202821         43   среднее             1   \n",
       "21032         0   15217.221094         60   среднее             1   \n",
       "12393         0   15217.221094         58   среднее             1   \n",
       "16904         1    1574.202821         32    высшее             0   \n",
       "12851         1    1574.202821         32    высшее             0   \n",
       "\n",
       "               family_status  family_status_id gender income_type  debt  \\\n",
       "13639        женат / замужем                 0      F   пенсионер     0   \n",
       "8178         женат / замужем                 0      F   пенсионер     0   \n",
       "120          женат / замужем                 0      F   сотрудник     0   \n",
       "16378        женат / замужем                 0      F   сотрудник     0   \n",
       "20702        женат / замужем                 0      F   пенсионер     0   \n",
       "8583   Не женат / не замужем                 4      F   пенсионер     0   \n",
       "12389        женат / замужем                 0      F   пенсионер     0   \n",
       "1511   Не женат / не замужем                 4      F   пенсионер     0   \n",
       "3609         женат / замужем                 0      F   пенсионер     0   \n",
       "18428        женат / замужем                 0      F   пенсионер     0   \n",
       "2545         женат / замужем                 0      F   пенсионер     0   \n",
       "17755        женат / замужем                 0      M   сотрудник     0   \n",
       "12736        женат / замужем                 0      F   пенсионер     0   \n",
       "10796        женат / замужем                 0      F   пенсионер     0   \n",
       "18755        женат / замужем                 0      F   пенсионер     0   \n",
       "5394         женат / замужем                 0      M   сотрудник     0   \n",
       "21032        женат / замужем                 0      F   пенсионер     0   \n",
       "12393        женат / замужем                 0      F   пенсионер     0   \n",
       "16904        женат / замужем                 0      F   сотрудник     0   \n",
       "12851        женат / замужем                 0      F   сотрудник     0   \n",
       "\n",
       "       total_income                             purpose  \n",
       "13639        118514                          автомобиль  \n",
       "8178         118514                          автомобиль  \n",
       "120          142594                  высшее образование  \n",
       "16378        142594                  высшее образование  \n",
       "20702        118514          дополнительное образование  \n",
       "8583         118514          дополнительное образование  \n",
       "12389        118514          дополнительное образование  \n",
       "1511         118514          дополнительное образование  \n",
       "3609         118514                               жилье  \n",
       "18428        118514                               жилье  \n",
       "2545         118514               заняться образованием  \n",
       "17755        142594               заняться образованием  \n",
       "12736        118514               заняться образованием  \n",
       "10796        118514               заняться образованием  \n",
       "18755        118514               заняться образованием  \n",
       "5394         142594               заняться образованием  \n",
       "21032        118514               заняться образованием  \n",
       "12393        118514               заняться образованием  \n",
       "16904        142594  на покупку подержанного автомобиля  \n",
       "12851        142594  на покупку подержанного автомобиля  "
      ]
     },
     "execution_count": 31,
     "metadata": {},
     "output_type": "execute_result"
    }
   ],
   "source": [
    "data[data.duplicated(keep=False) == True].sort_values(by='purpose').head(20)"
   ]
  },
  {
   "cell_type": "code",
   "execution_count": 32,
   "id": "5a27dd3a",
   "metadata": {},
   "outputs": [],
   "source": [
    "#Выявленные дубликаты таковыми не являются, значит, удалять их не стоит"
   ]
  },
  {
   "cell_type": "markdown",
   "id": "4ff52c49",
   "metadata": {},
   "source": [
    "Найдем неявные дубликаты и избавимся от них\n",
    "\n",
    "Используется метод unique для поиска уникальных значений в столбцах"
   ]
  },
  {
   "cell_type": "code",
   "execution_count": 33,
   "id": "cb785677",
   "metadata": {},
   "outputs": [
    {
     "data": {
      "text/plain": [
       "array(['высшее', 'среднее', 'Среднее', 'СРЕДНЕЕ', 'ВЫСШЕЕ',\n",
       "       'неоконченное высшее', 'начальное', 'Высшее',\n",
       "       'НЕОКОНЧЕННОЕ ВЫСШЕЕ', 'Неоконченное высшее', 'НАЧАЛЬНОЕ',\n",
       "       'Начальное', 'Ученая степень', 'УЧЕНАЯ СТЕПЕНЬ', 'ученая степень'],\n",
       "      dtype=object)"
      ]
     },
     "execution_count": 33,
     "metadata": {},
     "output_type": "execute_result"
    }
   ],
   "source": [
    "data['education'].unique()"
   ]
  },
  {
   "cell_type": "code",
   "execution_count": 34,
   "id": "a23a7a7a",
   "metadata": {},
   "outputs": [],
   "source": [
    "data['education'] = data['education'].str.lower() #приводим все значения к нижнему регистру"
   ]
  },
  {
   "cell_type": "code",
   "execution_count": 35,
   "id": "1654c54a",
   "metadata": {
    "scrolled": true
   },
   "outputs": [
    {
     "data": {
      "text/plain": [
       "array(['высшее', 'среднее', 'неоконченное высшее', 'начальное',\n",
       "       'ученая степень'], dtype=object)"
      ]
     },
     "execution_count": 35,
     "metadata": {},
     "output_type": "execute_result"
    }
   ],
   "source": [
    "data['education'].unique() #проверяем"
   ]
  },
  {
   "cell_type": "code",
   "execution_count": 36,
   "id": "3bd484a7",
   "metadata": {},
   "outputs": [
    {
     "data": {
      "text/plain": [
       "array(['женат / замужем', 'гражданский брак', 'вдовец / вдова',\n",
       "       'в разводе', 'Не женат / не замужем'], dtype=object)"
      ]
     },
     "execution_count": 36,
     "metadata": {},
     "output_type": "execute_result"
    }
   ],
   "source": [
    "data['family_status'].unique()"
   ]
  },
  {
   "cell_type": "code",
   "execution_count": 37,
   "id": "4985860a",
   "metadata": {
    "scrolled": true
   },
   "outputs": [
    {
     "data": {
      "text/plain": [
       "array(['женат / замужем', 'гражданский брак', 'вдовец / вдова',\n",
       "       'в разводе', 'не женат / не замужем'], dtype=object)"
      ]
     },
     "execution_count": 37,
     "metadata": {},
     "output_type": "execute_result"
    }
   ],
   "source": [
    "data['family_status'] = data['family_status'].str.lower()\n",
    "data['family_status'].unique()"
   ]
  },
  {
   "cell_type": "code",
   "execution_count": 38,
   "id": "e51f107c",
   "metadata": {},
   "outputs": [
    {
     "data": {
      "text/plain": [
       "array(['автомобили', 'автомобиль', 'высшее образование',\n",
       "       'дополнительное образование', 'жилье',\n",
       "       'заняться высшим образованием', 'заняться образованием',\n",
       "       'на покупку автомобиля', 'на покупку подержанного автомобиля',\n",
       "       'на покупку своего автомобиля', 'на проведение свадьбы',\n",
       "       'недвижимость', 'образование', 'операции с жильем',\n",
       "       'операции с коммерческой недвижимостью',\n",
       "       'операции с недвижимостью', 'операции со своей недвижимостью',\n",
       "       'покупка жилой недвижимости', 'покупка жилья',\n",
       "       'покупка жилья для сдачи', 'покупка жилья для семьи',\n",
       "       'покупка коммерческой недвижимости', 'покупка недвижимости',\n",
       "       'покупка своего жилья', 'получение высшего образования',\n",
       "       'получение дополнительного образования', 'получение образования',\n",
       "       'приобретение автомобиля', 'профильное образование',\n",
       "       'ремонт жилью', 'свадьба', 'свой автомобиль',\n",
       "       'сделка с автомобилем', 'сделка с подержанным автомобилем',\n",
       "       'строительство жилой недвижимости', 'строительство недвижимости',\n",
       "       'строительство собственной недвижимости', 'сыграть свадьбу'],\n",
       "      dtype=object)"
      ]
     },
     "execution_count": 38,
     "metadata": {},
     "output_type": "execute_result"
    }
   ],
   "source": [
    "data['purpose'].sort_values().unique()"
   ]
  },
  {
   "cell_type": "code",
   "execution_count": 39,
   "id": "4fe445a9",
   "metadata": {},
   "outputs": [],
   "source": [
    "data['purpose'] = data['purpose'].replace('ремонт жилью', 'ремонт жилья') #исправили опечатку"
   ]
  },
  {
   "cell_type": "markdown",
   "id": "8d6e48d7",
   "metadata": {},
   "source": [
    "После исправления неявных дубликатов, удалим выявленные дубликаты и проверим, что они удалены"
   ]
  },
  {
   "cell_type": "code",
   "execution_count": 40,
   "id": "096b53e9",
   "metadata": {
    "scrolled": true
   },
   "outputs": [],
   "source": [
    "data = data.drop_duplicates().reset_index()"
   ]
  },
  {
   "cell_type": "code",
   "execution_count": 41,
   "id": "6bdb12c1",
   "metadata": {},
   "outputs": [
    {
     "data": {
      "text/plain": [
       "0"
      ]
     },
     "execution_count": 41,
     "metadata": {},
     "output_type": "execute_result"
    }
   ],
   "source": [
    "data.duplicated().sum()"
   ]
  },
  {
   "cell_type": "markdown",
   "id": "04aa793b",
   "metadata": {},
   "source": [
    "###  Формирование дополнительных датафреймов словарей, декомпозиция исходного датафрейма."
   ]
  },
  {
   "cell_type": "code",
   "execution_count": 42,
   "id": "60092c0e",
   "metadata": {
    "scrolled": true
   },
   "outputs": [
    {
     "data": {
      "text/html": [
       "<div>\n",
       "<style scoped>\n",
       "    .dataframe tbody tr th:only-of-type {\n",
       "        vertical-align: middle;\n",
       "    }\n",
       "\n",
       "    .dataframe tbody tr th {\n",
       "        vertical-align: top;\n",
       "    }\n",
       "\n",
       "    .dataframe thead th {\n",
       "        text-align: right;\n",
       "    }\n",
       "</style>\n",
       "<table border=\"1\" class=\"dataframe\">\n",
       "  <thead>\n",
       "    <tr style=\"text-align: right;\">\n",
       "      <th></th>\n",
       "      <th>education</th>\n",
       "      <th>education_id</th>\n",
       "    </tr>\n",
       "  </thead>\n",
       "  <tbody>\n",
       "    <tr>\n",
       "      <th>0</th>\n",
       "      <td>высшее</td>\n",
       "      <td>0</td>\n",
       "    </tr>\n",
       "    <tr>\n",
       "      <th>1</th>\n",
       "      <td>среднее</td>\n",
       "      <td>1</td>\n",
       "    </tr>\n",
       "    <tr>\n",
       "      <th>13</th>\n",
       "      <td>неоконченное высшее</td>\n",
       "      <td>2</td>\n",
       "    </tr>\n",
       "    <tr>\n",
       "      <th>31</th>\n",
       "      <td>начальное</td>\n",
       "      <td>3</td>\n",
       "    </tr>\n",
       "    <tr>\n",
       "      <th>2962</th>\n",
       "      <td>ученая степень</td>\n",
       "      <td>4</td>\n",
       "    </tr>\n",
       "  </tbody>\n",
       "</table>\n",
       "</div>"
      ],
      "text/plain": [
       "                education  education_id\n",
       "0                  высшее             0\n",
       "1                 среднее             1\n",
       "13    неоконченное высшее             2\n",
       "31              начальное             3\n",
       "2962       ученая степень             4"
      ]
     },
     "execution_count": 42,
     "metadata": {},
     "output_type": "execute_result"
    }
   ],
   "source": [
    "education_dict = data[['education', 'education_id']]\n",
    "education_dict.drop_duplicates()"
   ]
  },
  {
   "cell_type": "code",
   "execution_count": 43,
   "id": "b74213f1",
   "metadata": {
    "scrolled": true
   },
   "outputs": [
    {
     "data": {
      "text/html": [
       "<div>\n",
       "<style scoped>\n",
       "    .dataframe tbody tr th:only-of-type {\n",
       "        vertical-align: middle;\n",
       "    }\n",
       "\n",
       "    .dataframe tbody tr th {\n",
       "        vertical-align: top;\n",
       "    }\n",
       "\n",
       "    .dataframe thead th {\n",
       "        text-align: right;\n",
       "    }\n",
       "</style>\n",
       "<table border=\"1\" class=\"dataframe\">\n",
       "  <thead>\n",
       "    <tr style=\"text-align: right;\">\n",
       "      <th></th>\n",
       "      <th>family_status</th>\n",
       "      <th>family_status_id</th>\n",
       "    </tr>\n",
       "  </thead>\n",
       "  <tbody>\n",
       "    <tr>\n",
       "      <th>0</th>\n",
       "      <td>женат / замужем</td>\n",
       "      <td>0</td>\n",
       "    </tr>\n",
       "    <tr>\n",
       "      <th>4</th>\n",
       "      <td>гражданский брак</td>\n",
       "      <td>1</td>\n",
       "    </tr>\n",
       "    <tr>\n",
       "      <th>18</th>\n",
       "      <td>вдовец / вдова</td>\n",
       "      <td>2</td>\n",
       "    </tr>\n",
       "    <tr>\n",
       "      <th>19</th>\n",
       "      <td>в разводе</td>\n",
       "      <td>3</td>\n",
       "    </tr>\n",
       "    <tr>\n",
       "      <th>24</th>\n",
       "      <td>не женат / не замужем</td>\n",
       "      <td>4</td>\n",
       "    </tr>\n",
       "  </tbody>\n",
       "</table>\n",
       "</div>"
      ],
      "text/plain": [
       "            family_status  family_status_id\n",
       "0         женат / замужем                 0\n",
       "4        гражданский брак                 1\n",
       "18         вдовец / вдова                 2\n",
       "19              в разводе                 3\n",
       "24  не женат / не замужем                 4"
      ]
     },
     "execution_count": 43,
     "metadata": {},
     "output_type": "execute_result"
    }
   ],
   "source": [
    "family_status_dict = data[['family_status', 'family_status_id']]\n",
    "family_status_dict.drop_duplicates()"
   ]
  },
  {
   "cell_type": "code",
   "execution_count": 44,
   "id": "f7f0f74a",
   "metadata": {},
   "outputs": [
    {
     "data": {
      "text/html": [
       "<div>\n",
       "<style scoped>\n",
       "    .dataframe tbody tr th:only-of-type {\n",
       "        vertical-align: middle;\n",
       "    }\n",
       "\n",
       "    .dataframe tbody tr th {\n",
       "        vertical-align: top;\n",
       "    }\n",
       "\n",
       "    .dataframe thead th {\n",
       "        text-align: right;\n",
       "    }\n",
       "</style>\n",
       "<table border=\"1\" class=\"dataframe\">\n",
       "  <thead>\n",
       "    <tr style=\"text-align: right;\">\n",
       "      <th></th>\n",
       "      <th>index</th>\n",
       "      <th>children</th>\n",
       "      <th>days_employed</th>\n",
       "      <th>dob_years</th>\n",
       "      <th>education_id</th>\n",
       "      <th>family_status_id</th>\n",
       "      <th>gender</th>\n",
       "      <th>income_type</th>\n",
       "      <th>debt</th>\n",
       "      <th>total_income</th>\n",
       "      <th>purpose</th>\n",
       "    </tr>\n",
       "  </thead>\n",
       "  <tbody>\n",
       "    <tr>\n",
       "      <th>0</th>\n",
       "      <td>0</td>\n",
       "      <td>1</td>\n",
       "      <td>8437.673028</td>\n",
       "      <td>42</td>\n",
       "      <td>0</td>\n",
       "      <td>0</td>\n",
       "      <td>F</td>\n",
       "      <td>сотрудник</td>\n",
       "      <td>0</td>\n",
       "      <td>253875</td>\n",
       "      <td>покупка жилья</td>\n",
       "    </tr>\n",
       "    <tr>\n",
       "      <th>1</th>\n",
       "      <td>1</td>\n",
       "      <td>1</td>\n",
       "      <td>4024.803754</td>\n",
       "      <td>36</td>\n",
       "      <td>1</td>\n",
       "      <td>0</td>\n",
       "      <td>F</td>\n",
       "      <td>сотрудник</td>\n",
       "      <td>0</td>\n",
       "      <td>112080</td>\n",
       "      <td>приобретение автомобиля</td>\n",
       "    </tr>\n",
       "    <tr>\n",
       "      <th>2</th>\n",
       "      <td>2</td>\n",
       "      <td>0</td>\n",
       "      <td>5623.422610</td>\n",
       "      <td>33</td>\n",
       "      <td>1</td>\n",
       "      <td>0</td>\n",
       "      <td>M</td>\n",
       "      <td>сотрудник</td>\n",
       "      <td>0</td>\n",
       "      <td>145885</td>\n",
       "      <td>покупка жилья</td>\n",
       "    </tr>\n",
       "    <tr>\n",
       "      <th>3</th>\n",
       "      <td>3</td>\n",
       "      <td>3</td>\n",
       "      <td>4124.747207</td>\n",
       "      <td>32</td>\n",
       "      <td>1</td>\n",
       "      <td>0</td>\n",
       "      <td>M</td>\n",
       "      <td>сотрудник</td>\n",
       "      <td>0</td>\n",
       "      <td>267628</td>\n",
       "      <td>дополнительное образование</td>\n",
       "    </tr>\n",
       "    <tr>\n",
       "      <th>4</th>\n",
       "      <td>4</td>\n",
       "      <td>0</td>\n",
       "      <td>14177.753002</td>\n",
       "      <td>53</td>\n",
       "      <td>1</td>\n",
       "      <td>1</td>\n",
       "      <td>F</td>\n",
       "      <td>пенсионер</td>\n",
       "      <td>0</td>\n",
       "      <td>158616</td>\n",
       "      <td>сыграть свадьбу</td>\n",
       "    </tr>\n",
       "  </tbody>\n",
       "</table>\n",
       "</div>"
      ],
      "text/plain": [
       "   index  children  days_employed  dob_years  education_id  family_status_id  \\\n",
       "0      0         1    8437.673028         42             0                 0   \n",
       "1      1         1    4024.803754         36             1                 0   \n",
       "2      2         0    5623.422610         33             1                 0   \n",
       "3      3         3    4124.747207         32             1                 0   \n",
       "4      4         0   14177.753002         53             1                 1   \n",
       "\n",
       "  gender income_type  debt  total_income                     purpose  \n",
       "0      F   сотрудник     0        253875               покупка жилья  \n",
       "1      F   сотрудник     0        112080     приобретение автомобиля  \n",
       "2      M   сотрудник     0        145885               покупка жилья  \n",
       "3      M   сотрудник     0        267628  дополнительное образование  \n",
       "4      F   пенсионер     0        158616             сыграть свадьбу  "
      ]
     },
     "execution_count": 44,
     "metadata": {},
     "output_type": "execute_result"
    }
   ],
   "source": [
    "data.pop('education')\n",
    "data.pop('family_status')\n",
    "data.head()"
   ]
  },
  {
   "cell_type": "markdown",
   "id": "b76a042a",
   "metadata": {},
   "source": [
    "### Категоризация дохода."
   ]
  },
  {
   "cell_type": "markdown",
   "id": "4d315325",
   "metadata": {},
   "source": [
    "Создадим столбец с категориями доходов по заданным диапазонам"
   ]
  },
  {
   "cell_type": "code",
   "execution_count": 45,
   "id": "6c2dafd6",
   "metadata": {},
   "outputs": [
    {
     "data": {
      "text/html": [
       "<div>\n",
       "<style scoped>\n",
       "    .dataframe tbody tr th:only-of-type {\n",
       "        vertical-align: middle;\n",
       "    }\n",
       "\n",
       "    .dataframe tbody tr th {\n",
       "        vertical-align: top;\n",
       "    }\n",
       "\n",
       "    .dataframe thead th {\n",
       "        text-align: right;\n",
       "    }\n",
       "</style>\n",
       "<table border=\"1\" class=\"dataframe\">\n",
       "  <thead>\n",
       "    <tr style=\"text-align: right;\">\n",
       "      <th></th>\n",
       "      <th>index</th>\n",
       "      <th>children</th>\n",
       "      <th>days_employed</th>\n",
       "      <th>dob_years</th>\n",
       "      <th>education_id</th>\n",
       "      <th>family_status_id</th>\n",
       "      <th>gender</th>\n",
       "      <th>income_type</th>\n",
       "      <th>debt</th>\n",
       "      <th>total_income</th>\n",
       "      <th>purpose</th>\n",
       "      <th>total_income_category</th>\n",
       "    </tr>\n",
       "  </thead>\n",
       "  <tbody>\n",
       "    <tr>\n",
       "      <th>0</th>\n",
       "      <td>0</td>\n",
       "      <td>1</td>\n",
       "      <td>8437.673028</td>\n",
       "      <td>42</td>\n",
       "      <td>0</td>\n",
       "      <td>0</td>\n",
       "      <td>F</td>\n",
       "      <td>сотрудник</td>\n",
       "      <td>0</td>\n",
       "      <td>253875</td>\n",
       "      <td>покупка жилья</td>\n",
       "      <td>B</td>\n",
       "    </tr>\n",
       "    <tr>\n",
       "      <th>1</th>\n",
       "      <td>1</td>\n",
       "      <td>1</td>\n",
       "      <td>4024.803754</td>\n",
       "      <td>36</td>\n",
       "      <td>1</td>\n",
       "      <td>0</td>\n",
       "      <td>F</td>\n",
       "      <td>сотрудник</td>\n",
       "      <td>0</td>\n",
       "      <td>112080</td>\n",
       "      <td>приобретение автомобиля</td>\n",
       "      <td>C</td>\n",
       "    </tr>\n",
       "    <tr>\n",
       "      <th>2</th>\n",
       "      <td>2</td>\n",
       "      <td>0</td>\n",
       "      <td>5623.422610</td>\n",
       "      <td>33</td>\n",
       "      <td>1</td>\n",
       "      <td>0</td>\n",
       "      <td>M</td>\n",
       "      <td>сотрудник</td>\n",
       "      <td>0</td>\n",
       "      <td>145885</td>\n",
       "      <td>покупка жилья</td>\n",
       "      <td>C</td>\n",
       "    </tr>\n",
       "    <tr>\n",
       "      <th>3</th>\n",
       "      <td>3</td>\n",
       "      <td>3</td>\n",
       "      <td>4124.747207</td>\n",
       "      <td>32</td>\n",
       "      <td>1</td>\n",
       "      <td>0</td>\n",
       "      <td>M</td>\n",
       "      <td>сотрудник</td>\n",
       "      <td>0</td>\n",
       "      <td>267628</td>\n",
       "      <td>дополнительное образование</td>\n",
       "      <td>B</td>\n",
       "    </tr>\n",
       "    <tr>\n",
       "      <th>4</th>\n",
       "      <td>4</td>\n",
       "      <td>0</td>\n",
       "      <td>14177.753002</td>\n",
       "      <td>53</td>\n",
       "      <td>1</td>\n",
       "      <td>1</td>\n",
       "      <td>F</td>\n",
       "      <td>пенсионер</td>\n",
       "      <td>0</td>\n",
       "      <td>158616</td>\n",
       "      <td>сыграть свадьбу</td>\n",
       "      <td>C</td>\n",
       "    </tr>\n",
       "  </tbody>\n",
       "</table>\n",
       "</div>"
      ],
      "text/plain": [
       "   index  children  days_employed  dob_years  education_id  family_status_id  \\\n",
       "0      0         1    8437.673028         42             0                 0   \n",
       "1      1         1    4024.803754         36             1                 0   \n",
       "2      2         0    5623.422610         33             1                 0   \n",
       "3      3         3    4124.747207         32             1                 0   \n",
       "4      4         0   14177.753002         53             1                 1   \n",
       "\n",
       "  gender income_type  debt  total_income                     purpose  \\\n",
       "0      F   сотрудник     0        253875               покупка жилья   \n",
       "1      F   сотрудник     0        112080     приобретение автомобиля   \n",
       "2      M   сотрудник     0        145885               покупка жилья   \n",
       "3      M   сотрудник     0        267628  дополнительное образование   \n",
       "4      F   пенсионер     0        158616             сыграть свадьбу   \n",
       "\n",
       "  total_income_category  \n",
       "0                     B  \n",
       "1                     C  \n",
       "2                     C  \n",
       "3                     B  \n",
       "4                     C  "
      ]
     },
     "execution_count": 45,
     "metadata": {},
     "output_type": "execute_result"
    }
   ],
   "source": [
    "def category_total_income(row):\n",
    "    income = row['total_income']\n",
    "    if 0 < income < 30000:\n",
    "        return 'E'\n",
    "    if 30001 < income < 50000:\n",
    "        return 'D'\n",
    "    if 50001 < income < 200000:\n",
    "        return 'C'\n",
    "    if 200001 < income < 1000000:\n",
    "        return 'B'\n",
    "    return 'A'\n",
    "\n",
    "data['total_income_category'] = data.apply(category_total_income, axis=1)\n",
    "data.head()"
   ]
  },
  {
   "cell_type": "markdown",
   "id": "eb678bb9",
   "metadata": {},
   "source": [
    "###  Категоризация целей кредита."
   ]
  },
  {
   "cell_type": "markdown",
   "id": "54313b6c",
   "metadata": {},
   "source": [
    "Сформируем новый столбец с категориями целей кредита"
   ]
  },
  {
   "cell_type": "code",
   "execution_count": 46,
   "id": "802ca872",
   "metadata": {
    "scrolled": true
   },
   "outputs": [
    {
     "data": {
      "text/html": [
       "<div>\n",
       "<style scoped>\n",
       "    .dataframe tbody tr th:only-of-type {\n",
       "        vertical-align: middle;\n",
       "    }\n",
       "\n",
       "    .dataframe tbody tr th {\n",
       "        vertical-align: top;\n",
       "    }\n",
       "\n",
       "    .dataframe thead th {\n",
       "        text-align: right;\n",
       "    }\n",
       "</style>\n",
       "<table border=\"1\" class=\"dataframe\">\n",
       "  <thead>\n",
       "    <tr style=\"text-align: right;\">\n",
       "      <th></th>\n",
       "      <th>index</th>\n",
       "      <th>children</th>\n",
       "      <th>days_employed</th>\n",
       "      <th>dob_years</th>\n",
       "      <th>education_id</th>\n",
       "      <th>family_status_id</th>\n",
       "      <th>gender</th>\n",
       "      <th>income_type</th>\n",
       "      <th>debt</th>\n",
       "      <th>total_income</th>\n",
       "      <th>purpose</th>\n",
       "      <th>total_income_category</th>\n",
       "      <th>purpose_category</th>\n",
       "    </tr>\n",
       "  </thead>\n",
       "  <tbody>\n",
       "    <tr>\n",
       "      <th>0</th>\n",
       "      <td>0</td>\n",
       "      <td>1</td>\n",
       "      <td>8437.673028</td>\n",
       "      <td>42</td>\n",
       "      <td>0</td>\n",
       "      <td>0</td>\n",
       "      <td>F</td>\n",
       "      <td>сотрудник</td>\n",
       "      <td>0</td>\n",
       "      <td>253875</td>\n",
       "      <td>покупка жилья</td>\n",
       "      <td>B</td>\n",
       "      <td>None</td>\n",
       "    </tr>\n",
       "    <tr>\n",
       "      <th>1</th>\n",
       "      <td>1</td>\n",
       "      <td>1</td>\n",
       "      <td>4024.803754</td>\n",
       "      <td>36</td>\n",
       "      <td>1</td>\n",
       "      <td>0</td>\n",
       "      <td>F</td>\n",
       "      <td>сотрудник</td>\n",
       "      <td>0</td>\n",
       "      <td>112080</td>\n",
       "      <td>приобретение автомобиля</td>\n",
       "      <td>C</td>\n",
       "      <td>операции с автомобилем</td>\n",
       "    </tr>\n",
       "    <tr>\n",
       "      <th>2</th>\n",
       "      <td>2</td>\n",
       "      <td>0</td>\n",
       "      <td>5623.422610</td>\n",
       "      <td>33</td>\n",
       "      <td>1</td>\n",
       "      <td>0</td>\n",
       "      <td>M</td>\n",
       "      <td>сотрудник</td>\n",
       "      <td>0</td>\n",
       "      <td>145885</td>\n",
       "      <td>покупка жилья</td>\n",
       "      <td>C</td>\n",
       "      <td>None</td>\n",
       "    </tr>\n",
       "    <tr>\n",
       "      <th>3</th>\n",
       "      <td>3</td>\n",
       "      <td>3</td>\n",
       "      <td>4124.747207</td>\n",
       "      <td>32</td>\n",
       "      <td>1</td>\n",
       "      <td>0</td>\n",
       "      <td>M</td>\n",
       "      <td>сотрудник</td>\n",
       "      <td>0</td>\n",
       "      <td>267628</td>\n",
       "      <td>дополнительное образование</td>\n",
       "      <td>B</td>\n",
       "      <td>получение образования</td>\n",
       "    </tr>\n",
       "    <tr>\n",
       "      <th>4</th>\n",
       "      <td>4</td>\n",
       "      <td>0</td>\n",
       "      <td>14177.753002</td>\n",
       "      <td>53</td>\n",
       "      <td>1</td>\n",
       "      <td>1</td>\n",
       "      <td>F</td>\n",
       "      <td>пенсионер</td>\n",
       "      <td>0</td>\n",
       "      <td>158616</td>\n",
       "      <td>сыграть свадьбу</td>\n",
       "      <td>C</td>\n",
       "      <td>проведение свадьбы</td>\n",
       "    </tr>\n",
       "  </tbody>\n",
       "</table>\n",
       "</div>"
      ],
      "text/plain": [
       "   index  children  days_employed  dob_years  education_id  family_status_id  \\\n",
       "0      0         1    8437.673028         42             0                 0   \n",
       "1      1         1    4024.803754         36             1                 0   \n",
       "2      2         0    5623.422610         33             1                 0   \n",
       "3      3         3    4124.747207         32             1                 0   \n",
       "4      4         0   14177.753002         53             1                 1   \n",
       "\n",
       "  gender income_type  debt  total_income                     purpose  \\\n",
       "0      F   сотрудник     0        253875               покупка жилья   \n",
       "1      F   сотрудник     0        112080     приобретение автомобиля   \n",
       "2      M   сотрудник     0        145885               покупка жилья   \n",
       "3      M   сотрудник     0        267628  дополнительное образование   \n",
       "4      F   пенсионер     0        158616             сыграть свадьбу   \n",
       "\n",
       "  total_income_category        purpose_category  \n",
       "0                     B                    None  \n",
       "1                     C  операции с автомобилем  \n",
       "2                     C                    None  \n",
       "3                     B   получение образования  \n",
       "4                     C      проведение свадьбы  "
      ]
     },
     "execution_count": 46,
     "metadata": {},
     "output_type": "execute_result"
    }
   ],
   "source": [
    "def category_purpose(row):\n",
    "    category = row['purpose']\n",
    "    if 'автомобил' in category:\n",
    "        return 'операции с автомобилем'\n",
    "    if ('недвижимост' or 'жил') in category:\n",
    "        return 'операции с недвижимостью'\n",
    "    if 'свадьб' in category:\n",
    "        return 'проведение свадьбы'\n",
    "    if 'образовани' in category:\n",
    "        return 'получение образования'\n",
    "    \n",
    "data['purpose_category'] = data.apply(category_purpose, axis=1)\n",
    "data.head()    \n"
   ]
  },
  {
   "cell_type": "markdown",
   "id": "700c5ec1",
   "metadata": {},
   "source": [
    "## Ответы на вопросы."
   ]
  },
  {
   "cell_type": "markdown",
   "id": "f57df09c",
   "metadata": {},
   "source": [
    "##### Вопрос 1: Есть ли зависимость между количеством детей и возвратом кредита в срок?"
   ]
  },
  {
   "cell_type": "markdown",
   "id": "1b20b9b7",
   "metadata": {},
   "source": [
    "Создадим столбец с категориями по количеству детей "
   ]
  },
  {
   "cell_type": "code",
   "execution_count": 47,
   "id": "b4c66da0",
   "metadata": {
    "scrolled": true
   },
   "outputs": [],
   "source": [
    "def category_children(row):\n",
    "    child = row['children']\n",
    "    if child == 0:\n",
    "        return 'нет детей'\n",
    "    if 0 < child < 3:\n",
    "        return '1-2 ребенка'\n",
    "    return 'многодетные'\n",
    "\n",
    "data['category_children'] = data.apply(category_children, axis=1)"
   ]
  },
  {
   "cell_type": "code",
   "execution_count": 48,
   "id": "0f3eb134",
   "metadata": {
    "scrolled": true
   },
   "outputs": [
    {
     "data": {
      "text/html": [
       "<div>\n",
       "<style scoped>\n",
       "    .dataframe tbody tr th:only-of-type {\n",
       "        vertical-align: middle;\n",
       "    }\n",
       "\n",
       "    .dataframe tbody tr th {\n",
       "        vertical-align: top;\n",
       "    }\n",
       "\n",
       "    .dataframe thead th {\n",
       "        text-align: right;\n",
       "    }\n",
       "</style>\n",
       "<table border=\"1\" class=\"dataframe\">\n",
       "  <thead>\n",
       "    <tr style=\"text-align: right;\">\n",
       "      <th>debt</th>\n",
       "      <th>0</th>\n",
       "      <th>1</th>\n",
       "    </tr>\n",
       "    <tr>\n",
       "      <th>category_children</th>\n",
       "      <th></th>\n",
       "      <th></th>\n",
       "    </tr>\n",
       "  </thead>\n",
       "  <tbody>\n",
       "    <tr>\n",
       "      <th>1-2 ребенка</th>\n",
       "      <td>6336</td>\n",
       "      <td>647</td>\n",
       "    </tr>\n",
       "    <tr>\n",
       "      <th>многодетные</th>\n",
       "      <td>349</td>\n",
       "      <td>31</td>\n",
       "    </tr>\n",
       "    <tr>\n",
       "      <th>нет детей</th>\n",
       "      <td>13028</td>\n",
       "      <td>1063</td>\n",
       "    </tr>\n",
       "  </tbody>\n",
       "</table>\n",
       "</div>"
      ],
      "text/plain": [
       "debt                   0     1\n",
       "category_children             \n",
       "1-2 ребенка         6336   647\n",
       "многодетные          349    31\n",
       "нет детей          13028  1063"
      ]
     },
     "execution_count": 48,
     "metadata": {},
     "output_type": "execute_result"
    }
   ],
   "source": [
    "data_pivot = data.pivot_table(index='category_children', columns='debt', values='children', aggfunc='count')\n",
    "data_pivot"
   ]
  },
  {
   "cell_type": "code",
   "execution_count": 49,
   "id": "03cfb6a1",
   "metadata": {},
   "outputs": [
    {
     "data": {
      "text/html": [
       "<div>\n",
       "<style scoped>\n",
       "    .dataframe tbody tr th:only-of-type {\n",
       "        vertical-align: middle;\n",
       "    }\n",
       "\n",
       "    .dataframe tbody tr th {\n",
       "        vertical-align: top;\n",
       "    }\n",
       "\n",
       "    .dataframe thead th {\n",
       "        text-align: right;\n",
       "    }\n",
       "</style>\n",
       "<table border=\"1\" class=\"dataframe\">\n",
       "  <thead>\n",
       "    <tr style=\"text-align: right;\">\n",
       "      <th>debt</th>\n",
       "      <th>0</th>\n",
       "      <th>1</th>\n",
       "      <th>ratio</th>\n",
       "    </tr>\n",
       "    <tr>\n",
       "      <th>category_children</th>\n",
       "      <th></th>\n",
       "      <th></th>\n",
       "      <th></th>\n",
       "    </tr>\n",
       "  </thead>\n",
       "  <tbody>\n",
       "    <tr>\n",
       "      <th>нет детей</th>\n",
       "      <td>13028</td>\n",
       "      <td>1063</td>\n",
       "      <td>0.075438</td>\n",
       "    </tr>\n",
       "    <tr>\n",
       "      <th>многодетные</th>\n",
       "      <td>349</td>\n",
       "      <td>31</td>\n",
       "      <td>0.081579</td>\n",
       "    </tr>\n",
       "    <tr>\n",
       "      <th>1-2 ребенка</th>\n",
       "      <td>6336</td>\n",
       "      <td>647</td>\n",
       "      <td>0.092654</td>\n",
       "    </tr>\n",
       "  </tbody>\n",
       "</table>\n",
       "</div>"
      ],
      "text/plain": [
       "debt                   0     1     ratio\n",
       "category_children                       \n",
       "нет детей          13028  1063  0.075438\n",
       "многодетные          349    31  0.081579\n",
       "1-2 ребенка         6336   647  0.092654"
      ]
     },
     "execution_count": 49,
     "metadata": {},
     "output_type": "execute_result"
    }
   ],
   "source": [
    "data_pivot['ratio'] =  data_pivot[1] / (data_pivot[0] + data_pivot[1])\n",
    "data_pivot.sort_values(by='ratio')"
   ]
  },
  {
   "cell_type": "markdown",
   "id": "4748157c",
   "metadata": {},
   "source": [
    "##### Вывод 1:"
   ]
  },
  {
   "cell_type": "markdown",
   "id": "bcaea958",
   "metadata": {},
   "source": [
    "Зависимость есть. В категории \"нет детей\" число людей с задолженностью составляет 7%, а в категории \"1-2 ребенка\" - 9%"
   ]
  },
  {
   "cell_type": "markdown",
   "id": "2bd5d9f0",
   "metadata": {},
   "source": [
    "##### Вопрос 2: Есть ли зависимость между семейным положением и возвратом кредита в срок?"
   ]
  },
  {
   "cell_type": "code",
   "execution_count": 50,
   "id": "999a47d6",
   "metadata": {
    "scrolled": true
   },
   "outputs": [
    {
     "data": {
      "text/html": [
       "<div>\n",
       "<style scoped>\n",
       "    .dataframe tbody tr th:only-of-type {\n",
       "        vertical-align: middle;\n",
       "    }\n",
       "\n",
       "    .dataframe tbody tr th {\n",
       "        vertical-align: top;\n",
       "    }\n",
       "\n",
       "    .dataframe thead th {\n",
       "        text-align: right;\n",
       "    }\n",
       "</style>\n",
       "<table border=\"1\" class=\"dataframe\">\n",
       "  <thead>\n",
       "    <tr style=\"text-align: right;\">\n",
       "      <th>debt</th>\n",
       "      <th>0</th>\n",
       "      <th>1</th>\n",
       "    </tr>\n",
       "    <tr>\n",
       "      <th>family_status</th>\n",
       "      <th></th>\n",
       "      <th></th>\n",
       "    </tr>\n",
       "  </thead>\n",
       "  <tbody>\n",
       "    <tr>\n",
       "      <th>в разводе</th>\n",
       "      <td>1110</td>\n",
       "      <td>85</td>\n",
       "    </tr>\n",
       "    <tr>\n",
       "      <th>вдовец / вдова</th>\n",
       "      <td>896</td>\n",
       "      <td>63</td>\n",
       "    </tr>\n",
       "    <tr>\n",
       "      <th>гражданский брак</th>\n",
       "      <td>3763</td>\n",
       "      <td>388</td>\n",
       "    </tr>\n",
       "    <tr>\n",
       "      <th>женат / замужем</th>\n",
       "      <td>11408</td>\n",
       "      <td>931</td>\n",
       "    </tr>\n",
       "    <tr>\n",
       "      <th>не женат / не замужем</th>\n",
       "      <td>2536</td>\n",
       "      <td>274</td>\n",
       "    </tr>\n",
       "  </tbody>\n",
       "</table>\n",
       "</div>"
      ],
      "text/plain": [
       "debt                       0    1\n",
       "family_status                    \n",
       "в разводе               1110   85\n",
       "вдовец / вдова           896   63\n",
       "гражданский брак        3763  388\n",
       "женат / замужем        11408  931\n",
       "не женат / не замужем   2536  274"
      ]
     },
     "execution_count": 50,
     "metadata": {},
     "output_type": "execute_result"
    }
   ],
   "source": [
    "data_pivot = data.pivot_table(index=family_status_dict['family_status'], columns='debt', values='family_status_id', aggfunc='count')\n",
    "data_pivot"
   ]
  },
  {
   "cell_type": "code",
   "execution_count": 51,
   "id": "9fcae285",
   "metadata": {},
   "outputs": [
    {
     "data": {
      "text/html": [
       "<div>\n",
       "<style scoped>\n",
       "    .dataframe tbody tr th:only-of-type {\n",
       "        vertical-align: middle;\n",
       "    }\n",
       "\n",
       "    .dataframe tbody tr th {\n",
       "        vertical-align: top;\n",
       "    }\n",
       "\n",
       "    .dataframe thead th {\n",
       "        text-align: right;\n",
       "    }\n",
       "</style>\n",
       "<table border=\"1\" class=\"dataframe\">\n",
       "  <thead>\n",
       "    <tr style=\"text-align: right;\">\n",
       "      <th>debt</th>\n",
       "      <th>0</th>\n",
       "      <th>1</th>\n",
       "      <th>ratio</th>\n",
       "    </tr>\n",
       "    <tr>\n",
       "      <th>family_status</th>\n",
       "      <th></th>\n",
       "      <th></th>\n",
       "      <th></th>\n",
       "    </tr>\n",
       "  </thead>\n",
       "  <tbody>\n",
       "    <tr>\n",
       "      <th>вдовец / вдова</th>\n",
       "      <td>896</td>\n",
       "      <td>63</td>\n",
       "      <td>0.065693</td>\n",
       "    </tr>\n",
       "    <tr>\n",
       "      <th>в разводе</th>\n",
       "      <td>1110</td>\n",
       "      <td>85</td>\n",
       "      <td>0.071130</td>\n",
       "    </tr>\n",
       "    <tr>\n",
       "      <th>женат / замужем</th>\n",
       "      <td>11408</td>\n",
       "      <td>931</td>\n",
       "      <td>0.075452</td>\n",
       "    </tr>\n",
       "    <tr>\n",
       "      <th>гражданский брак</th>\n",
       "      <td>3763</td>\n",
       "      <td>388</td>\n",
       "      <td>0.093471</td>\n",
       "    </tr>\n",
       "    <tr>\n",
       "      <th>не женат / не замужем</th>\n",
       "      <td>2536</td>\n",
       "      <td>274</td>\n",
       "      <td>0.097509</td>\n",
       "    </tr>\n",
       "  </tbody>\n",
       "</table>\n",
       "</div>"
      ],
      "text/plain": [
       "debt                       0    1     ratio\n",
       "family_status                              \n",
       "вдовец / вдова           896   63  0.065693\n",
       "в разводе               1110   85  0.071130\n",
       "женат / замужем        11408  931  0.075452\n",
       "гражданский брак        3763  388  0.093471\n",
       "не женат / не замужем   2536  274  0.097509"
      ]
     },
     "execution_count": 51,
     "metadata": {},
     "output_type": "execute_result"
    }
   ],
   "source": [
    "data_pivot['ratio'] =  data_pivot[1] / (data_pivot[0] + data_pivot[1])\n",
    "data_pivot.sort_values(by='ratio')"
   ]
  },
  {
   "cell_type": "markdown",
   "id": "c4c85a29",
   "metadata": {},
   "source": [
    "##### Вывод 2:"
   ]
  },
  {
   "cell_type": "markdown",
   "id": "ed62cd33",
   "metadata": {},
   "source": [
    "Зависимость есть. В категории \"вдовец/вдова\" наименьший процент должников, тогда как в категории \"не женат/не замужем\" он составляет почти 10%"
   ]
  },
  {
   "cell_type": "markdown",
   "id": "af9381fa",
   "metadata": {},
   "source": [
    "##### Вопрос 3: Есть ли зависимость между уровнем дохода и возвратом кредита в срок?"
   ]
  },
  {
   "cell_type": "code",
   "execution_count": 52,
   "id": "108cea1f",
   "metadata": {},
   "outputs": [
    {
     "data": {
      "text/html": [
       "<div>\n",
       "<style scoped>\n",
       "    .dataframe tbody tr th:only-of-type {\n",
       "        vertical-align: middle;\n",
       "    }\n",
       "\n",
       "    .dataframe tbody tr th {\n",
       "        vertical-align: top;\n",
       "    }\n",
       "\n",
       "    .dataframe thead th {\n",
       "        text-align: right;\n",
       "    }\n",
       "</style>\n",
       "<table border=\"1\" class=\"dataframe\">\n",
       "  <thead>\n",
       "    <tr style=\"text-align: right;\">\n",
       "      <th>debt</th>\n",
       "      <th>0</th>\n",
       "      <th>1</th>\n",
       "    </tr>\n",
       "    <tr>\n",
       "      <th>total_income_category</th>\n",
       "      <th></th>\n",
       "      <th></th>\n",
       "    </tr>\n",
       "  </thead>\n",
       "  <tbody>\n",
       "    <tr>\n",
       "      <th>A</th>\n",
       "      <td>24</td>\n",
       "      <td>2</td>\n",
       "    </tr>\n",
       "    <tr>\n",
       "      <th>B</th>\n",
       "      <td>4685</td>\n",
       "      <td>356</td>\n",
       "    </tr>\n",
       "    <tr>\n",
       "      <th>C</th>\n",
       "      <td>14655</td>\n",
       "      <td>1360</td>\n",
       "    </tr>\n",
       "    <tr>\n",
       "      <th>D</th>\n",
       "      <td>329</td>\n",
       "      <td>21</td>\n",
       "    </tr>\n",
       "    <tr>\n",
       "      <th>E</th>\n",
       "      <td>20</td>\n",
       "      <td>2</td>\n",
       "    </tr>\n",
       "  </tbody>\n",
       "</table>\n",
       "</div>"
      ],
      "text/plain": [
       "debt                       0     1\n",
       "total_income_category             \n",
       "A                         24     2\n",
       "B                       4685   356\n",
       "C                      14655  1360\n",
       "D                        329    21\n",
       "E                         20     2"
      ]
     },
     "execution_count": 52,
     "metadata": {},
     "output_type": "execute_result"
    }
   ],
   "source": [
    "data_pivot = data.pivot_table(index=['total_income_category'], columns='debt', values='total_income', aggfunc='count')\n",
    "data_pivot"
   ]
  },
  {
   "cell_type": "code",
   "execution_count": 53,
   "id": "92c69546",
   "metadata": {
    "scrolled": false
   },
   "outputs": [
    {
     "data": {
      "text/html": [
       "<div>\n",
       "<style scoped>\n",
       "    .dataframe tbody tr th:only-of-type {\n",
       "        vertical-align: middle;\n",
       "    }\n",
       "\n",
       "    .dataframe tbody tr th {\n",
       "        vertical-align: top;\n",
       "    }\n",
       "\n",
       "    .dataframe thead th {\n",
       "        text-align: right;\n",
       "    }\n",
       "</style>\n",
       "<table border=\"1\" class=\"dataframe\">\n",
       "  <thead>\n",
       "    <tr style=\"text-align: right;\">\n",
       "      <th>debt</th>\n",
       "      <th>0</th>\n",
       "      <th>1</th>\n",
       "      <th>ratio</th>\n",
       "    </tr>\n",
       "    <tr>\n",
       "      <th>total_income_category</th>\n",
       "      <th></th>\n",
       "      <th></th>\n",
       "      <th></th>\n",
       "    </tr>\n",
       "  </thead>\n",
       "  <tbody>\n",
       "    <tr>\n",
       "      <th>D</th>\n",
       "      <td>329</td>\n",
       "      <td>21</td>\n",
       "      <td>0.060000</td>\n",
       "    </tr>\n",
       "    <tr>\n",
       "      <th>B</th>\n",
       "      <td>4685</td>\n",
       "      <td>356</td>\n",
       "      <td>0.070621</td>\n",
       "    </tr>\n",
       "    <tr>\n",
       "      <th>A</th>\n",
       "      <td>24</td>\n",
       "      <td>2</td>\n",
       "      <td>0.076923</td>\n",
       "    </tr>\n",
       "    <tr>\n",
       "      <th>C</th>\n",
       "      <td>14655</td>\n",
       "      <td>1360</td>\n",
       "      <td>0.084920</td>\n",
       "    </tr>\n",
       "    <tr>\n",
       "      <th>E</th>\n",
       "      <td>20</td>\n",
       "      <td>2</td>\n",
       "      <td>0.090909</td>\n",
       "    </tr>\n",
       "  </tbody>\n",
       "</table>\n",
       "</div>"
      ],
      "text/plain": [
       "debt                       0     1     ratio\n",
       "total_income_category                       \n",
       "D                        329    21  0.060000\n",
       "B                       4685   356  0.070621\n",
       "A                         24     2  0.076923\n",
       "C                      14655  1360  0.084920\n",
       "E                         20     2  0.090909"
      ]
     },
     "execution_count": 53,
     "metadata": {},
     "output_type": "execute_result"
    }
   ],
   "source": [
    "data_pivot['ratio'] = data_pivot[1] / (data_pivot[0] + data_pivot[1])\n",
    "data_pivot.sort_values(by='ratio')"
   ]
  },
  {
   "cell_type": "markdown",
   "id": "69d7a4a7",
   "metadata": {},
   "source": [
    "##### Вывод 3:"
   ]
  },
  {
   "cell_type": "markdown",
   "id": "a46f7be9",
   "metadata": {},
   "source": [
    "Вероятно, зависимости нет, так как люди, чьи доходы ниже среднего(категория E и D), имеют наибольший(9%) и наименьший(6%) процент задолженности по кредитам. Но при этом люди с доходами выше среднего все-таки имеют меньший процент задолженностей, чем люди со средним уровнем дохода.\n",
    "*средний уровень - категория C"
   ]
  },
  {
   "cell_type": "markdown",
   "id": "d9f91c31",
   "metadata": {},
   "source": [
    "##### Вопрос 4: Как разные цели кредита влияют на его возврат в срок?"
   ]
  },
  {
   "cell_type": "code",
   "execution_count": 54,
   "id": "18093a85",
   "metadata": {
    "scrolled": true
   },
   "outputs": [
    {
     "data": {
      "text/html": [
       "<div>\n",
       "<style scoped>\n",
       "    .dataframe tbody tr th:only-of-type {\n",
       "        vertical-align: middle;\n",
       "    }\n",
       "\n",
       "    .dataframe tbody tr th {\n",
       "        vertical-align: top;\n",
       "    }\n",
       "\n",
       "    .dataframe thead th {\n",
       "        text-align: right;\n",
       "    }\n",
       "</style>\n",
       "<table border=\"1\" class=\"dataframe\">\n",
       "  <thead>\n",
       "    <tr style=\"text-align: right;\">\n",
       "      <th>debt</th>\n",
       "      <th>0</th>\n",
       "      <th>1</th>\n",
       "    </tr>\n",
       "    <tr>\n",
       "      <th>purpose_category</th>\n",
       "      <th></th>\n",
       "      <th></th>\n",
       "    </tr>\n",
       "  </thead>\n",
       "  <tbody>\n",
       "    <tr>\n",
       "      <th>операции с автомобилем</th>\n",
       "      <td>3903</td>\n",
       "      <td>403</td>\n",
       "    </tr>\n",
       "    <tr>\n",
       "      <th>операции с недвижимостью</th>\n",
       "      <td>5877</td>\n",
       "      <td>474</td>\n",
       "    </tr>\n",
       "    <tr>\n",
       "      <th>получение образования</th>\n",
       "      <td>3643</td>\n",
       "      <td>370</td>\n",
       "    </tr>\n",
       "    <tr>\n",
       "      <th>проведение свадьбы</th>\n",
       "      <td>2138</td>\n",
       "      <td>186</td>\n",
       "    </tr>\n",
       "  </tbody>\n",
       "</table>\n",
       "</div>"
      ],
      "text/plain": [
       "debt                         0    1\n",
       "purpose_category                   \n",
       "операции с автомобилем    3903  403\n",
       "операции с недвижимостью  5877  474\n",
       "получение образования     3643  370\n",
       "проведение свадьбы        2138  186"
      ]
     },
     "execution_count": 54,
     "metadata": {},
     "output_type": "execute_result"
    }
   ],
   "source": [
    "data_pivot = data.pivot_table(index=['purpose_category'], columns='debt', values='purpose', aggfunc='count')\n",
    "data_pivot"
   ]
  },
  {
   "cell_type": "code",
   "execution_count": 55,
   "id": "13dcf047",
   "metadata": {
    "scrolled": false
   },
   "outputs": [
    {
     "data": {
      "text/html": [
       "<div>\n",
       "<style scoped>\n",
       "    .dataframe tbody tr th:only-of-type {\n",
       "        vertical-align: middle;\n",
       "    }\n",
       "\n",
       "    .dataframe tbody tr th {\n",
       "        vertical-align: top;\n",
       "    }\n",
       "\n",
       "    .dataframe thead th {\n",
       "        text-align: right;\n",
       "    }\n",
       "</style>\n",
       "<table border=\"1\" class=\"dataframe\">\n",
       "  <thead>\n",
       "    <tr style=\"text-align: right;\">\n",
       "      <th>debt</th>\n",
       "      <th>0</th>\n",
       "      <th>1</th>\n",
       "      <th>ratio</th>\n",
       "    </tr>\n",
       "    <tr>\n",
       "      <th>purpose_category</th>\n",
       "      <th></th>\n",
       "      <th></th>\n",
       "      <th></th>\n",
       "    </tr>\n",
       "  </thead>\n",
       "  <tbody>\n",
       "    <tr>\n",
       "      <th>операции с недвижимостью</th>\n",
       "      <td>5877</td>\n",
       "      <td>474</td>\n",
       "      <td>0.074634</td>\n",
       "    </tr>\n",
       "    <tr>\n",
       "      <th>проведение свадьбы</th>\n",
       "      <td>2138</td>\n",
       "      <td>186</td>\n",
       "      <td>0.080034</td>\n",
       "    </tr>\n",
       "    <tr>\n",
       "      <th>получение образования</th>\n",
       "      <td>3643</td>\n",
       "      <td>370</td>\n",
       "      <td>0.092200</td>\n",
       "    </tr>\n",
       "    <tr>\n",
       "      <th>операции с автомобилем</th>\n",
       "      <td>3903</td>\n",
       "      <td>403</td>\n",
       "      <td>0.093590</td>\n",
       "    </tr>\n",
       "  </tbody>\n",
       "</table>\n",
       "</div>"
      ],
      "text/plain": [
       "debt                         0    1     ratio\n",
       "purpose_category                             \n",
       "операции с недвижимостью  5877  474  0.074634\n",
       "проведение свадьбы        2138  186  0.080034\n",
       "получение образования     3643  370  0.092200\n",
       "операции с автомобилем    3903  403  0.093590"
      ]
     },
     "execution_count": 55,
     "metadata": {},
     "output_type": "execute_result"
    }
   ],
   "source": [
    "data_pivot['ratio'] = data_pivot[1] / (data_pivot[0] + data_pivot[1])\n",
    "data_pivot.sort_values(by='ratio')"
   ]
  },
  {
   "cell_type": "markdown",
   "id": "a8432cbc",
   "metadata": {},
   "source": [
    "##### Вывод 4:"
   ]
  },
  {
   "cell_type": "markdown",
   "id": "3436f082",
   "metadata": {},
   "source": [
    "Зависимость есть. Больший процент задолженностей в категориях \"образование\" и \"автомобиль\" - 9%."
   ]
  },
  {
   "cell_type": "markdown",
   "id": "7c572af9",
   "metadata": {},
   "source": [
    "## Общий вывод:"
   ]
  },
  {
   "cell_type": "markdown",
   "id": "0bdb64ba",
   "metadata": {},
   "source": [
    "В ходе исследования мы сделали следующее:\n",
    "* проверили данные на наличие пропусков и заполнили их медианными значениями\n",
    "* выявили аномалии в столбцах \"стаж работы\", \"пол\", \"возраст\" и \"количество детей\" \n",
    "* выявили явные и не явные дубликаты и избавились от них\n",
    "* категоризировали доходы, цели кредита и количество детей \n",
    "\n",
    "На основании имеющихся данных выявили:\n",
    "\n",
    "* Количество детей может влиять на факт погашения кредита в срок. Доля людей, у которых нет детей, меньше, чем доля тех, у кого 1-2 ребенка\n",
    "* Семейное положение также может влиять на факт погашения кредита в срок. Так, овдовешие люди имеют наименьший процент задолженностей (около 7%), а у людей, не состоящих в браке вообще или состоящих в гражданском браке, наибольший процент задолженностей( в обеих категориях - около 10%)\n",
    "* Можно сказать, что зависимость между уровнем дохода и возвратом кредита в срок есть, если уровень дохода выше среднего. У таких людей процент задолженностей около 7%. При этом люди с доходами ниже среднего имеют как наименьший (6%), так и наибольший (9%) процент по задолженностям. То есть нельзя сказать наверняка, будут ли люди с таким уровнем дохода выплачивать кредит в срок.\n",
    "* Наибольший процент должников среди людей, берущих кредит на получение образования или операции с автомобилем - 9% и 10% соответсвенно. \n"
   ]
  }
 ],
 "metadata": {
  "ExecuteTimeLog": [
   {
    "duration": 529,
    "start_time": "2022-04-08T08:39:08.389Z"
   },
   {
    "duration": 0,
    "start_time": "2022-04-08T08:39:08.921Z"
   },
   {
    "duration": 0,
    "start_time": "2022-04-08T08:39:08.923Z"
   },
   {
    "duration": 0,
    "start_time": "2022-04-08T08:39:08.923Z"
   },
   {
    "duration": 0,
    "start_time": "2022-04-08T08:39:08.925Z"
   },
   {
    "duration": 0,
    "start_time": "2022-04-08T08:39:08.926Z"
   },
   {
    "duration": 0,
    "start_time": "2022-04-08T08:39:08.927Z"
   },
   {
    "duration": 0,
    "start_time": "2022-04-08T08:39:08.928Z"
   },
   {
    "duration": 0,
    "start_time": "2022-04-08T08:39:08.929Z"
   },
   {
    "duration": 0,
    "start_time": "2022-04-08T08:39:08.930Z"
   },
   {
    "duration": 0,
    "start_time": "2022-04-08T08:39:08.931Z"
   },
   {
    "duration": 0,
    "start_time": "2022-04-08T08:39:08.932Z"
   },
   {
    "duration": 0,
    "start_time": "2022-04-08T08:39:08.933Z"
   },
   {
    "duration": 0,
    "start_time": "2022-04-08T08:39:08.934Z"
   },
   {
    "duration": 0,
    "start_time": "2022-04-08T08:39:08.935Z"
   },
   {
    "duration": 0,
    "start_time": "2022-04-08T08:39:08.936Z"
   },
   {
    "duration": 0,
    "start_time": "2022-04-08T08:39:08.937Z"
   },
   {
    "duration": 0,
    "start_time": "2022-04-08T08:39:08.938Z"
   },
   {
    "duration": 0,
    "start_time": "2022-04-08T08:39:08.939Z"
   },
   {
    "duration": 0,
    "start_time": "2022-04-08T08:39:08.940Z"
   },
   {
    "duration": 0,
    "start_time": "2022-04-08T08:39:08.941Z"
   },
   {
    "duration": 0,
    "start_time": "2022-04-08T08:39:08.942Z"
   },
   {
    "duration": 0,
    "start_time": "2022-04-08T08:39:08.943Z"
   },
   {
    "duration": 0,
    "start_time": "2022-04-08T08:39:08.943Z"
   },
   {
    "duration": 0,
    "start_time": "2022-04-08T08:39:08.945Z"
   },
   {
    "duration": 1,
    "start_time": "2022-04-08T08:39:08.945Z"
   },
   {
    "duration": 0,
    "start_time": "2022-04-08T08:39:08.946Z"
   },
   {
    "duration": 0,
    "start_time": "2022-04-08T08:39:08.947Z"
   },
   {
    "duration": 0,
    "start_time": "2022-04-08T08:39:08.948Z"
   },
   {
    "duration": 0,
    "start_time": "2022-04-08T08:39:08.949Z"
   },
   {
    "duration": 0,
    "start_time": "2022-04-08T08:39:08.950Z"
   },
   {
    "duration": 0,
    "start_time": "2022-04-08T08:39:08.951Z"
   },
   {
    "duration": 0,
    "start_time": "2022-04-08T08:39:08.952Z"
   },
   {
    "duration": 0,
    "start_time": "2022-04-08T08:39:08.953Z"
   },
   {
    "duration": 0,
    "start_time": "2022-04-08T08:39:08.954Z"
   },
   {
    "duration": 0,
    "start_time": "2022-04-08T08:39:08.955Z"
   },
   {
    "duration": 0,
    "start_time": "2022-04-08T08:39:08.956Z"
   },
   {
    "duration": 0,
    "start_time": "2022-04-08T08:39:08.957Z"
   },
   {
    "duration": 0,
    "start_time": "2022-04-08T08:39:08.958Z"
   },
   {
    "duration": 0,
    "start_time": "2022-04-08T08:39:08.959Z"
   },
   {
    "duration": 476,
    "start_time": "2022-04-08T08:41:15.725Z"
   },
   {
    "duration": 21,
    "start_time": "2022-04-08T08:41:16.203Z"
   },
   {
    "duration": 16,
    "start_time": "2022-04-08T08:41:16.225Z"
   },
   {
    "duration": 10,
    "start_time": "2022-04-08T08:41:16.243Z"
   },
   {
    "duration": 14,
    "start_time": "2022-04-08T08:41:16.255Z"
   },
   {
    "duration": 49,
    "start_time": "2022-04-08T08:41:16.271Z"
   },
   {
    "duration": 8,
    "start_time": "2022-04-08T08:41:16.321Z"
   },
   {
    "duration": 11,
    "start_time": "2022-04-08T08:41:16.331Z"
   },
   {
    "duration": 10,
    "start_time": "2022-04-08T08:41:16.344Z"
   },
   {
    "duration": 5,
    "start_time": "2022-04-08T08:41:16.358Z"
   },
   {
    "duration": 48,
    "start_time": "2022-04-08T08:41:16.365Z"
   },
   {
    "duration": 4,
    "start_time": "2022-04-08T08:41:16.416Z"
   },
   {
    "duration": 16,
    "start_time": "2022-04-08T08:41:16.422Z"
   },
   {
    "duration": 18,
    "start_time": "2022-04-08T08:41:16.440Z"
   },
   {
    "duration": 63,
    "start_time": "2022-04-08T08:41:16.460Z"
   },
   {
    "duration": 8,
    "start_time": "2022-04-08T08:41:16.525Z"
   },
   {
    "duration": 19,
    "start_time": "2022-04-08T08:41:16.535Z"
   },
   {
    "duration": 30,
    "start_time": "2022-04-08T08:41:16.556Z"
   },
   {
    "duration": 13,
    "start_time": "2022-04-08T08:41:16.587Z"
   },
   {
    "duration": 25,
    "start_time": "2022-04-08T08:41:16.601Z"
   },
   {
    "duration": 22,
    "start_time": "2022-04-08T08:41:16.628Z"
   },
   {
    "duration": 4,
    "start_time": "2022-04-08T08:41:16.651Z"
   },
   {
    "duration": 7,
    "start_time": "2022-04-08T08:41:16.657Z"
   },
   {
    "duration": 8,
    "start_time": "2022-04-08T08:41:16.666Z"
   },
   {
    "duration": 34,
    "start_time": "2022-04-08T08:41:16.676Z"
   },
   {
    "duration": 5,
    "start_time": "2022-04-08T08:41:16.712Z"
   },
   {
    "duration": 15,
    "start_time": "2022-04-08T08:41:16.718Z"
   },
   {
    "duration": 11,
    "start_time": "2022-04-08T08:41:16.737Z"
   },
   {
    "duration": 12,
    "start_time": "2022-04-08T08:41:16.750Z"
   },
   {
    "duration": 188,
    "start_time": "2022-04-08T08:41:16.763Z"
   },
   {
    "duration": 162,
    "start_time": "2022-04-08T08:41:16.953Z"
   },
   {
    "duration": 150,
    "start_time": "2022-04-08T08:41:17.117Z"
   },
   {
    "duration": 19,
    "start_time": "2022-04-08T08:41:17.269Z"
   },
   {
    "duration": 20,
    "start_time": "2022-04-08T08:41:17.290Z"
   },
   {
    "duration": 21,
    "start_time": "2022-04-08T08:41:17.312Z"
   },
   {
    "duration": 9,
    "start_time": "2022-04-08T08:41:17.334Z"
   },
   {
    "duration": 17,
    "start_time": "2022-04-08T08:41:17.345Z"
   },
   {
    "duration": 46,
    "start_time": "2022-04-08T08:41:17.365Z"
   },
   {
    "duration": 19,
    "start_time": "2022-04-08T08:41:17.413Z"
   },
   {
    "duration": 10,
    "start_time": "2022-04-08T08:41:17.434Z"
   },
   {
    "duration": 557,
    "start_time": "2022-04-08T08:46:29.321Z"
   },
   {
    "duration": 0,
    "start_time": "2022-04-08T08:46:29.881Z"
   },
   {
    "duration": 0,
    "start_time": "2022-04-08T08:46:29.882Z"
   },
   {
    "duration": 0,
    "start_time": "2022-04-08T08:46:29.883Z"
   },
   {
    "duration": 0,
    "start_time": "2022-04-08T08:46:29.884Z"
   },
   {
    "duration": 0,
    "start_time": "2022-04-08T08:46:29.885Z"
   },
   {
    "duration": 0,
    "start_time": "2022-04-08T08:46:29.886Z"
   },
   {
    "duration": 0,
    "start_time": "2022-04-08T08:46:29.886Z"
   },
   {
    "duration": 0,
    "start_time": "2022-04-08T08:46:29.887Z"
   },
   {
    "duration": 0,
    "start_time": "2022-04-08T08:46:29.888Z"
   },
   {
    "duration": 0,
    "start_time": "2022-04-08T08:46:29.889Z"
   },
   {
    "duration": 0,
    "start_time": "2022-04-08T08:46:29.890Z"
   },
   {
    "duration": 0,
    "start_time": "2022-04-08T08:46:29.891Z"
   },
   {
    "duration": 0,
    "start_time": "2022-04-08T08:46:29.908Z"
   },
   {
    "duration": 0,
    "start_time": "2022-04-08T08:46:29.910Z"
   },
   {
    "duration": 0,
    "start_time": "2022-04-08T08:46:29.911Z"
   },
   {
    "duration": 0,
    "start_time": "2022-04-08T08:46:29.912Z"
   },
   {
    "duration": 0,
    "start_time": "2022-04-08T08:46:29.913Z"
   },
   {
    "duration": 0,
    "start_time": "2022-04-08T08:46:29.914Z"
   },
   {
    "duration": 0,
    "start_time": "2022-04-08T08:46:29.915Z"
   },
   {
    "duration": 0,
    "start_time": "2022-04-08T08:46:29.917Z"
   },
   {
    "duration": 0,
    "start_time": "2022-04-08T08:46:29.918Z"
   },
   {
    "duration": 0,
    "start_time": "2022-04-08T08:46:29.919Z"
   },
   {
    "duration": 0,
    "start_time": "2022-04-08T08:46:29.921Z"
   },
   {
    "duration": 0,
    "start_time": "2022-04-08T08:46:29.922Z"
   },
   {
    "duration": 0,
    "start_time": "2022-04-08T08:46:29.924Z"
   },
   {
    "duration": 0,
    "start_time": "2022-04-08T08:46:29.925Z"
   },
   {
    "duration": 0,
    "start_time": "2022-04-08T08:46:29.926Z"
   },
   {
    "duration": 0,
    "start_time": "2022-04-08T08:46:29.927Z"
   },
   {
    "duration": 0,
    "start_time": "2022-04-08T08:46:29.929Z"
   },
   {
    "duration": 0,
    "start_time": "2022-04-08T08:46:29.930Z"
   },
   {
    "duration": 0,
    "start_time": "2022-04-08T08:46:29.932Z"
   },
   {
    "duration": 0,
    "start_time": "2022-04-08T08:46:29.933Z"
   },
   {
    "duration": 0,
    "start_time": "2022-04-08T08:46:29.934Z"
   },
   {
    "duration": 0,
    "start_time": "2022-04-08T08:46:29.936Z"
   },
   {
    "duration": 0,
    "start_time": "2022-04-08T08:46:29.937Z"
   },
   {
    "duration": 0,
    "start_time": "2022-04-08T08:46:29.938Z"
   },
   {
    "duration": 0,
    "start_time": "2022-04-08T08:46:29.940Z"
   },
   {
    "duration": 0,
    "start_time": "2022-04-08T08:46:29.941Z"
   },
   {
    "duration": 0,
    "start_time": "2022-04-08T08:46:29.943Z"
   },
   {
    "duration": 528,
    "start_time": "2022-04-11T20:02:31.085Z"
   },
   {
    "duration": 4,
    "start_time": "2022-04-11T20:02:31.616Z"
   },
   {
    "duration": 136,
    "start_time": "2022-04-11T20:02:31.622Z"
   },
   {
    "duration": 31,
    "start_time": "2022-04-11T20:02:31.760Z"
   },
   {
    "duration": 25,
    "start_time": "2022-04-11T20:02:31.794Z"
   },
   {
    "duration": 12,
    "start_time": "2022-04-11T20:02:31.822Z"
   },
   {
    "duration": 46,
    "start_time": "2022-04-11T20:02:31.836Z"
   },
   {
    "duration": 16,
    "start_time": "2022-04-11T20:02:31.884Z"
   },
   {
    "duration": 7,
    "start_time": "2022-04-11T20:02:31.902Z"
   },
   {
    "duration": 11,
    "start_time": "2022-04-11T20:02:31.911Z"
   },
   {
    "duration": 51,
    "start_time": "2022-04-11T20:02:31.924Z"
   },
   {
    "duration": 36,
    "start_time": "2022-04-11T20:02:31.978Z"
   },
   {
    "duration": 12,
    "start_time": "2022-04-11T20:02:32.016Z"
   },
   {
    "duration": 57,
    "start_time": "2022-04-11T20:02:32.033Z"
   },
   {
    "duration": 14,
    "start_time": "2022-04-11T20:02:32.092Z"
   },
   {
    "duration": 12,
    "start_time": "2022-04-11T20:02:32.109Z"
   },
   {
    "duration": 43,
    "start_time": "2022-04-11T20:02:32.123Z"
   },
   {
    "duration": 4,
    "start_time": "2022-04-11T20:02:32.169Z"
   },
   {
    "duration": 27,
    "start_time": "2022-04-11T20:02:32.176Z"
   },
   {
    "duration": 19,
    "start_time": "2022-04-11T20:02:32.205Z"
   },
   {
    "duration": 42,
    "start_time": "2022-04-11T20:02:32.227Z"
   },
   {
    "duration": 7,
    "start_time": "2022-04-11T20:02:32.271Z"
   },
   {
    "duration": 6,
    "start_time": "2022-04-11T20:02:32.280Z"
   },
   {
    "duration": 8,
    "start_time": "2022-04-11T20:02:32.288Z"
   },
   {
    "duration": 5,
    "start_time": "2022-04-11T20:02:32.299Z"
   },
   {
    "duration": 10,
    "start_time": "2022-04-11T20:02:32.307Z"
   },
   {
    "duration": 52,
    "start_time": "2022-04-11T20:02:32.318Z"
   },
   {
    "duration": 22,
    "start_time": "2022-04-11T20:02:32.372Z"
   },
   {
    "duration": 26,
    "start_time": "2022-04-11T20:02:32.396Z"
   },
   {
    "duration": 79,
    "start_time": "2022-04-11T20:02:32.424Z"
   },
   {
    "duration": 4,
    "start_time": "2022-04-11T20:02:32.505Z"
   },
   {
    "duration": 12,
    "start_time": "2022-04-11T20:02:32.512Z"
   },
   {
    "duration": 15,
    "start_time": "2022-04-11T20:02:32.526Z"
   },
   {
    "duration": 8,
    "start_time": "2022-04-11T20:02:32.568Z"
   },
   {
    "duration": 9,
    "start_time": "2022-04-11T20:02:32.579Z"
   },
   {
    "duration": 36,
    "start_time": "2022-04-11T20:02:32.590Z"
   },
   {
    "duration": 35,
    "start_time": "2022-04-11T20:02:32.667Z"
   },
   {
    "duration": 7,
    "start_time": "2022-04-11T20:02:32.705Z"
   },
   {
    "duration": 57,
    "start_time": "2022-04-11T20:02:32.715Z"
   },
   {
    "duration": 29,
    "start_time": "2022-04-11T20:02:32.774Z"
   },
   {
    "duration": 18,
    "start_time": "2022-04-11T20:02:32.809Z"
   },
   {
    "duration": 43,
    "start_time": "2022-04-11T20:02:32.829Z"
   },
   {
    "duration": 19,
    "start_time": "2022-04-11T20:02:32.875Z"
   },
   {
    "duration": 388,
    "start_time": "2022-04-11T20:02:32.897Z"
   },
   {
    "duration": 385,
    "start_time": "2022-04-11T20:02:33.287Z"
   },
   {
    "duration": 463,
    "start_time": "2022-04-11T20:02:33.675Z"
   },
   {
    "duration": 57,
    "start_time": "2022-04-11T20:02:34.140Z"
   },
   {
    "duration": 14,
    "start_time": "2022-04-11T20:02:34.199Z"
   },
   {
    "duration": 62,
    "start_time": "2022-04-11T20:02:34.216Z"
   },
   {
    "duration": 17,
    "start_time": "2022-04-11T20:02:34.282Z"
   },
   {
    "duration": 36,
    "start_time": "2022-04-11T20:02:34.302Z"
   },
   {
    "duration": 13,
    "start_time": "2022-04-11T20:02:34.368Z"
   },
   {
    "duration": 26,
    "start_time": "2022-04-11T20:02:34.384Z"
   },
   {
    "duration": 13,
    "start_time": "2022-04-11T20:02:34.412Z"
   },
   {
    "duration": 507,
    "start_time": "2022-04-11T20:02:58.713Z"
   },
   {
    "duration": 4,
    "start_time": "2022-04-11T20:02:59.223Z"
   },
   {
    "duration": 127,
    "start_time": "2022-04-11T20:02:59.229Z"
   },
   {
    "duration": 31,
    "start_time": "2022-04-11T20:02:59.359Z"
   },
   {
    "duration": 25,
    "start_time": "2022-04-11T20:02:59.393Z"
   },
   {
    "duration": 14,
    "start_time": "2022-04-11T20:02:59.420Z"
   },
   {
    "duration": 20,
    "start_time": "2022-04-11T20:02:59.467Z"
   },
   {
    "duration": 24,
    "start_time": "2022-04-11T20:02:59.489Z"
   },
   {
    "duration": 7,
    "start_time": "2022-04-11T20:02:59.516Z"
   },
   {
    "duration": 44,
    "start_time": "2022-04-11T20:02:59.525Z"
   },
   {
    "duration": 14,
    "start_time": "2022-04-11T20:02:59.572Z"
   },
   {
    "duration": 40,
    "start_time": "2022-04-11T20:02:59.589Z"
   },
   {
    "duration": 40,
    "start_time": "2022-04-11T20:02:59.631Z"
   },
   {
    "duration": 33,
    "start_time": "2022-04-11T20:02:59.675Z"
   },
   {
    "duration": 15,
    "start_time": "2022-04-11T20:02:59.710Z"
   },
   {
    "duration": 50,
    "start_time": "2022-04-11T20:02:59.727Z"
   },
   {
    "duration": 4,
    "start_time": "2022-04-11T20:02:59.779Z"
   },
   {
    "duration": 4,
    "start_time": "2022-04-11T20:02:59.786Z"
   },
   {
    "duration": 27,
    "start_time": "2022-04-11T20:02:59.793Z"
   },
   {
    "duration": 65,
    "start_time": "2022-04-11T20:02:59.823Z"
   },
   {
    "duration": 11,
    "start_time": "2022-04-11T20:02:59.891Z"
   },
   {
    "duration": 8,
    "start_time": "2022-04-11T20:02:59.905Z"
   },
   {
    "duration": 8,
    "start_time": "2022-04-11T20:02:59.915Z"
   },
   {
    "duration": 49,
    "start_time": "2022-04-11T20:02:59.925Z"
   },
   {
    "duration": 9,
    "start_time": "2022-04-11T20:02:59.977Z"
   },
   {
    "duration": 10,
    "start_time": "2022-04-11T20:02:59.988Z"
   },
   {
    "duration": 6,
    "start_time": "2022-04-11T20:03:00.001Z"
   },
   {
    "duration": 59,
    "start_time": "2022-04-11T20:03:00.010Z"
   },
   {
    "duration": 37,
    "start_time": "2022-04-11T20:03:00.071Z"
   },
   {
    "duration": 68,
    "start_time": "2022-04-11T20:03:00.111Z"
   },
   {
    "duration": 5,
    "start_time": "2022-04-11T20:03:00.182Z"
   },
   {
    "duration": 18,
    "start_time": "2022-04-11T20:03:00.189Z"
   },
   {
    "duration": 18,
    "start_time": "2022-04-11T20:03:00.209Z"
   },
   {
    "duration": 40,
    "start_time": "2022-04-11T20:03:00.230Z"
   },
   {
    "duration": 8,
    "start_time": "2022-04-11T20:03:00.273Z"
   },
   {
    "duration": 27,
    "start_time": "2022-04-11T20:03:00.283Z"
   },
   {
    "duration": 23,
    "start_time": "2022-04-11T20:03:00.312Z"
   },
   {
    "duration": 6,
    "start_time": "2022-04-11T20:03:00.368Z"
   },
   {
    "duration": 36,
    "start_time": "2022-04-11T20:03:00.376Z"
   },
   {
    "duration": 55,
    "start_time": "2022-04-11T20:03:00.414Z"
   },
   {
    "duration": 16,
    "start_time": "2022-04-11T20:03:00.475Z"
   },
   {
    "duration": 27,
    "start_time": "2022-04-11T20:03:00.494Z"
   },
   {
    "duration": 43,
    "start_time": "2022-04-11T20:03:00.524Z"
   },
   {
    "duration": 260,
    "start_time": "2022-04-11T20:03:00.570Z"
   },
   {
    "duration": 264,
    "start_time": "2022-04-11T20:03:00.833Z"
   },
   {
    "duration": 249,
    "start_time": "2022-04-11T20:03:01.099Z"
   },
   {
    "duration": 33,
    "start_time": "2022-04-11T20:03:01.350Z"
   },
   {
    "duration": 12,
    "start_time": "2022-04-11T20:03:01.386Z"
   },
   {
    "duration": 31,
    "start_time": "2022-04-11T20:03:01.400Z"
   },
   {
    "duration": 15,
    "start_time": "2022-04-11T20:03:01.468Z"
   },
   {
    "duration": 38,
    "start_time": "2022-04-11T20:03:01.486Z"
   },
   {
    "duration": 12,
    "start_time": "2022-04-11T20:03:01.528Z"
   },
   {
    "duration": 26,
    "start_time": "2022-04-11T20:03:01.567Z"
   },
   {
    "duration": 13,
    "start_time": "2022-04-11T20:03:01.595Z"
   },
   {
    "duration": 571,
    "start_time": "2022-04-11T20:07:37.871Z"
   },
   {
    "duration": 4,
    "start_time": "2022-04-11T20:07:38.446Z"
   },
   {
    "duration": 138,
    "start_time": "2022-04-11T20:07:38.452Z"
   },
   {
    "duration": 36,
    "start_time": "2022-04-11T20:07:38.593Z"
   },
   {
    "duration": 45,
    "start_time": "2022-04-11T20:07:38.632Z"
   },
   {
    "duration": 16,
    "start_time": "2022-04-11T20:07:38.680Z"
   },
   {
    "duration": 29,
    "start_time": "2022-04-11T20:07:38.698Z"
   },
   {
    "duration": 46,
    "start_time": "2022-04-11T20:07:38.730Z"
   },
   {
    "duration": 9,
    "start_time": "2022-04-11T20:07:38.780Z"
   },
   {
    "duration": 12,
    "start_time": "2022-04-11T20:07:38.794Z"
   },
   {
    "duration": 16,
    "start_time": "2022-04-11T20:07:38.809Z"
   },
   {
    "duration": 87,
    "start_time": "2022-04-11T20:07:38.829Z"
   },
   {
    "duration": 13,
    "start_time": "2022-04-11T20:07:38.919Z"
   },
   {
    "duration": 75,
    "start_time": "2022-04-11T20:07:38.935Z"
   },
   {
    "duration": 17,
    "start_time": "2022-04-11T20:07:39.013Z"
   },
   {
    "duration": 4,
    "start_time": "2022-04-11T20:07:39.033Z"
   },
   {
    "duration": 37,
    "start_time": "2022-04-11T20:07:39.040Z"
   },
   {
    "duration": 3,
    "start_time": "2022-04-11T20:07:39.080Z"
   },
   {
    "duration": 9,
    "start_time": "2022-04-11T20:07:39.086Z"
   },
   {
    "duration": 30,
    "start_time": "2022-04-11T20:07:39.097Z"
   },
   {
    "duration": 56,
    "start_time": "2022-04-11T20:07:39.130Z"
   },
   {
    "duration": 16,
    "start_time": "2022-04-11T20:07:39.188Z"
   },
   {
    "duration": 11,
    "start_time": "2022-04-11T20:07:39.207Z"
   },
   {
    "duration": 7,
    "start_time": "2022-04-11T20:07:39.222Z"
   },
   {
    "duration": 42,
    "start_time": "2022-04-11T20:07:39.232Z"
   },
   {
    "duration": 11,
    "start_time": "2022-04-11T20:07:39.277Z"
   },
   {
    "duration": 22,
    "start_time": "2022-04-11T20:07:39.291Z"
   },
   {
    "duration": 5,
    "start_time": "2022-04-11T20:07:39.321Z"
   },
   {
    "duration": 57,
    "start_time": "2022-04-11T20:07:39.329Z"
   },
   {
    "duration": 30,
    "start_time": "2022-04-11T20:07:39.389Z"
   },
   {
    "duration": 91,
    "start_time": "2022-04-11T20:07:39.422Z"
   },
   {
    "duration": 4,
    "start_time": "2022-04-11T20:07:39.516Z"
   },
   {
    "duration": 10,
    "start_time": "2022-04-11T20:07:39.522Z"
   },
   {
    "duration": 37,
    "start_time": "2022-04-11T20:07:39.535Z"
   },
   {
    "duration": 15,
    "start_time": "2022-04-11T20:07:39.574Z"
   },
   {
    "duration": 12,
    "start_time": "2022-04-11T20:07:39.592Z"
   },
   {
    "duration": 64,
    "start_time": "2022-04-11T20:07:39.607Z"
   },
   {
    "duration": 26,
    "start_time": "2022-04-11T20:07:39.673Z"
   },
   {
    "duration": 9,
    "start_time": "2022-04-11T20:07:39.701Z"
   },
   {
    "duration": 72,
    "start_time": "2022-04-11T20:07:39.713Z"
   },
   {
    "duration": 41,
    "start_time": "2022-04-11T20:07:39.788Z"
   },
   {
    "duration": 37,
    "start_time": "2022-04-11T20:07:39.832Z"
   },
   {
    "duration": 18,
    "start_time": "2022-04-11T20:07:39.872Z"
   },
   {
    "duration": 28,
    "start_time": "2022-04-11T20:07:39.893Z"
   },
   {
    "duration": 382,
    "start_time": "2022-04-11T20:07:39.924Z"
   },
   {
    "duration": 349,
    "start_time": "2022-04-11T20:07:40.309Z"
   },
   {
    "duration": 401,
    "start_time": "2022-04-11T20:07:40.660Z"
   },
   {
    "duration": 29,
    "start_time": "2022-04-11T20:07:41.064Z"
   },
   {
    "duration": 12,
    "start_time": "2022-04-11T20:07:41.096Z"
   },
   {
    "duration": 59,
    "start_time": "2022-04-11T20:07:41.110Z"
   },
   {
    "duration": 13,
    "start_time": "2022-04-11T20:07:41.171Z"
   },
   {
    "duration": 35,
    "start_time": "2022-04-11T20:07:41.187Z"
   },
   {
    "duration": 55,
    "start_time": "2022-04-11T20:07:41.224Z"
   },
   {
    "duration": 37,
    "start_time": "2022-04-11T20:07:41.282Z"
   },
   {
    "duration": 12,
    "start_time": "2022-04-11T20:07:41.321Z"
   }
  ],
  "kernelspec": {
   "display_name": "Python 3 (ipykernel)",
   "language": "python",
   "name": "python3"
  },
  "language_info": {
   "codemirror_mode": {
    "name": "ipython",
    "version": 3
   },
   "file_extension": ".py",
   "mimetype": "text/x-python",
   "name": "python",
   "nbconvert_exporter": "python",
   "pygments_lexer": "ipython3",
   "version": "3.9.12"
  },
  "toc": {
   "base_numbering": 1,
   "nav_menu": {},
   "number_sections": true,
   "sideBar": true,
   "skip_h1_title": true,
   "title_cell": "Table of Contents",
   "title_sidebar": "Contents",
   "toc_cell": false,
   "toc_position": {},
   "toc_section_display": true,
   "toc_window_display": false
  }
 },
 "nbformat": 4,
 "nbformat_minor": 5
}
