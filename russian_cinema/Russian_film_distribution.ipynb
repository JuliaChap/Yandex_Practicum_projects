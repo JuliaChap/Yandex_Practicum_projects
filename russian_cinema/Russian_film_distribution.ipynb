{
 "cells": [
  {
   "cell_type": "markdown",
   "metadata": {
    "id": "sIfNaMOxgFyK"
   },
   "source": [
    "## Исследование данных о российском кинопрокате\n",
    "Заказчик этого исследования — Министерство культуры Российской Федерации.\n",
    "\n",
    "Вам нужно изучить рынок российского кинопроката и выявить текущие тренды. Уделите внимание фильмам, которые получили государственную поддержку. Попробуйте ответить на вопрос, насколько такие фильмы интересны зрителю.\n",
    "\n",
    "\n",
    "**Описание данных**\n",
    "\n",
    "Таблица mkrf_movies содержит информацию из реестра прокатных удостоверений. У одного фильма может быть несколько прокатных удостоверений.\n",
    "* title — название фильма;\n",
    "* puNumber — номер прокатного удостоверения;\n",
    "* show_start_date — дата премьеры фильма;\n",
    "* type — тип фильма;\n",
    "* film_studio — студия-производитель;\n",
    "* production_country — страна-производитель;\n",
    "* director — режиссёр;\n",
    "* producer — продюсер;\n",
    "* age_restriction — возрастная категория;\n",
    "* refundable_support — объём возвратных средств государственной поддержки;\n",
    "* nonrefundable_support — объём невозвратных средств государственной поддержки;\n",
    "* financing_source — источник государственного финансирования;\n",
    "* budget — общий бюджет фильма;\n",
    "* ratings — рейтинг фильма на КиноПоиске;\n",
    "* genres — жанр фильма.\n",
    "\n",
    "Столбец budget уже включает в себя полный объём государственной поддержки. Данные в этом столбце указаны только для тех фильмов, которые получили государственную поддержку.\n",
    "\n",
    "Таблица mkrf_shows содержит сведения о показах фильмов в российских кинотеатрах.\n",
    "* puNumber — номер прокатного удостоверения;\n",
    "* box_office — сборы в рублях.\n"
   ]
  },
  {
   "cell_type": "markdown",
   "metadata": {
    "id": "3bSlkCsbgFyL"
   },
   "source": [
    "### Шаг 1. Откройте файлы с данными и объедините их в один датафрейм. \n",
    "\n",
    "Объедините данные таким образом, чтобы все объекты из датасета `mkrf_movies` обязательно вошли в получившийся датафрейм. \n"
   ]
  },
  {
   "cell_type": "code",
   "execution_count": 1,
   "metadata": {
    "id": "dw87FlzMgFyM"
   },
   "outputs": [],
   "source": [
    "import pandas as pd\n",
    "import os\n",
    "import matplotlib.pyplot as plt \n",
    "import seaborn as sb"
   ]
  },
  {
   "cell_type": "code",
   "execution_count": 2,
   "metadata": {},
   "outputs": [],
   "source": [
    "pth1 = 'mkrf_movies.csv'\n",
    "pth2 = '/datasets/mkrf_movies.csv'\n",
    "pth3 = 'mkrf_shows.csv'\n",
    "pth4 = '/datasets/mkrf_shows.csv'"
   ]
  },
  {
   "cell_type": "code",
   "execution_count": 3,
   "metadata": {},
   "outputs": [],
   "source": [
    "if os.path.exists(pth1):\n",
    "  df = pd.read_csv(pth1)\n",
    "else:\n",
    "  df = pd.read_csv(pth2)"
   ]
  },
  {
   "cell_type": "code",
   "execution_count": 4,
   "metadata": {},
   "outputs": [],
   "source": [
    "if os.path.exists(pth3):\n",
    "  df_2 = pd.read_csv(pth3)\n",
    "else:\n",
    "  df_2 = pd.read_csv(pth4)"
   ]
  },
  {
   "cell_type": "code",
   "execution_count": 5,
   "metadata": {
    "scrolled": true
   },
   "outputs": [
    {
     "name": "stdout",
     "output_type": "stream",
     "text": [
      "<class 'pandas.core.frame.DataFrame'>\n",
      "RangeIndex: 7486 entries, 0 to 7485\n",
      "Data columns (total 15 columns):\n",
      " #   Column                 Non-Null Count  Dtype  \n",
      "---  ------                 --------------  -----  \n",
      " 0   title                  7486 non-null   object \n",
      " 1   puNumber               7486 non-null   object \n",
      " 2   show_start_date        7486 non-null   object \n",
      " 3   type                   7486 non-null   object \n",
      " 4   film_studio            7468 non-null   object \n",
      " 5   production_country     7484 non-null   object \n",
      " 6   director               7477 non-null   object \n",
      " 7   producer               6918 non-null   object \n",
      " 8   age_restriction        7486 non-null   object \n",
      " 9   refundable_support     332 non-null    float64\n",
      " 10  nonrefundable_support  332 non-null    float64\n",
      " 11  budget                 332 non-null    float64\n",
      " 12  financing_source       332 non-null    object \n",
      " 13  ratings                6519 non-null   object \n",
      " 14  genres                 6510 non-null   object \n",
      "dtypes: float64(3), object(12)\n",
      "memory usage: 877.4+ KB\n"
     ]
    }
   ],
   "source": [
    "df.info()"
   ]
  },
  {
   "cell_type": "code",
   "execution_count": 6,
   "metadata": {},
   "outputs": [
    {
     "name": "stdout",
     "output_type": "stream",
     "text": [
      "<class 'pandas.core.frame.DataFrame'>\n",
      "RangeIndex: 3158 entries, 0 to 3157\n",
      "Data columns (total 2 columns):\n",
      " #   Column      Non-Null Count  Dtype  \n",
      "---  ------      --------------  -----  \n",
      " 0   puNumber    3158 non-null   int64  \n",
      " 1   box_office  3158 non-null   float64\n",
      "dtypes: float64(1), int64(1)\n",
      "memory usage: 49.5 KB\n"
     ]
    }
   ],
   "source": [
    "df_2.info()"
   ]
  },
  {
   "cell_type": "markdown",
   "metadata": {},
   "source": [
    "Изучив информацию об обоих датафреймах, выяснили, на основании какого столбца мы можем их объединить. Это столбец 'puNumber'. Но при попытке это сделать возникает ошибка из-за несоответствия типов данных этих столбцов. А при попытке изменить тип данных в первом датафрейме ошибка возникает из-за значений \"нет\" в этом столбце. Поэтому мы заменим эти значения на 0 и поменяем тип данных. Тогда мы сможем объединить эти таблицы. "
   ]
  },
  {
   "cell_type": "code",
   "execution_count": 7,
   "metadata": {},
   "outputs": [],
   "source": [
    "df.loc[df['puNumber'] == 'нет', 'puNumber'] = 0"
   ]
  },
  {
   "cell_type": "code",
   "execution_count": 8,
   "metadata": {},
   "outputs": [],
   "source": [
    "df['puNumber'] = df['puNumber'].astype('int')"
   ]
  },
  {
   "cell_type": "code",
   "execution_count": 9,
   "metadata": {},
   "outputs": [],
   "source": [
    "data = df.merge(df_2, on='puNumber', how='left')"
   ]
  },
  {
   "cell_type": "code",
   "execution_count": 10,
   "metadata": {
    "scrolled": false
   },
   "outputs": [
    {
     "data": {
      "text/html": [
       "<div>\n",
       "<style scoped>\n",
       "    .dataframe tbody tr th:only-of-type {\n",
       "        vertical-align: middle;\n",
       "    }\n",
       "\n",
       "    .dataframe tbody tr th {\n",
       "        vertical-align: top;\n",
       "    }\n",
       "\n",
       "    .dataframe thead th {\n",
       "        text-align: right;\n",
       "    }\n",
       "</style>\n",
       "<table border=\"1\" class=\"dataframe\">\n",
       "  <thead>\n",
       "    <tr style=\"text-align: right;\">\n",
       "      <th></th>\n",
       "      <th>title</th>\n",
       "      <th>puNumber</th>\n",
       "      <th>show_start_date</th>\n",
       "      <th>type</th>\n",
       "      <th>film_studio</th>\n",
       "      <th>production_country</th>\n",
       "      <th>director</th>\n",
       "      <th>producer</th>\n",
       "      <th>age_restriction</th>\n",
       "      <th>refundable_support</th>\n",
       "      <th>nonrefundable_support</th>\n",
       "      <th>budget</th>\n",
       "      <th>financing_source</th>\n",
       "      <th>ratings</th>\n",
       "      <th>genres</th>\n",
       "      <th>box_office</th>\n",
       "    </tr>\n",
       "  </thead>\n",
       "  <tbody>\n",
       "    <tr>\n",
       "      <th>0</th>\n",
       "      <td>Открытый простор</td>\n",
       "      <td>221048915</td>\n",
       "      <td>2015-11-27T12:00:00.000Z</td>\n",
       "      <td>Художественный</td>\n",
       "      <td>Тачстоун Пикчерз, Кобальт Пикчерз, Бикон Пикче...</td>\n",
       "      <td>США</td>\n",
       "      <td>Кевин Костнер</td>\n",
       "      <td>Дэвид Валдес, Кевин Костнер, Джейк Эбертс</td>\n",
       "      <td>«18+» - запрещено для детей</td>\n",
       "      <td>NaN</td>\n",
       "      <td>NaN</td>\n",
       "      <td>NaN</td>\n",
       "      <td>NaN</td>\n",
       "      <td>7.2</td>\n",
       "      <td>боевик,драма,мелодрама</td>\n",
       "      <td>NaN</td>\n",
       "    </tr>\n",
       "    <tr>\n",
       "      <th>1</th>\n",
       "      <td>Особо важное задание</td>\n",
       "      <td>111013716</td>\n",
       "      <td>2016-09-13T12:00:00.000Z</td>\n",
       "      <td>Художественный</td>\n",
       "      <td>Киностудия \"Мосфильм\"</td>\n",
       "      <td>СССР</td>\n",
       "      <td>Е.Матвеев</td>\n",
       "      <td>NaN</td>\n",
       "      <td>«6+» - для детей старше 6 лет</td>\n",
       "      <td>NaN</td>\n",
       "      <td>NaN</td>\n",
       "      <td>NaN</td>\n",
       "      <td>NaN</td>\n",
       "      <td>6.6</td>\n",
       "      <td>драма,военный</td>\n",
       "      <td>NaN</td>\n",
       "    </tr>\n",
       "    <tr>\n",
       "      <th>2</th>\n",
       "      <td>Особо опасен</td>\n",
       "      <td>221038416</td>\n",
       "      <td>2016-10-10T12:00:00.000Z</td>\n",
       "      <td>Художественный</td>\n",
       "      <td>Юниверсал Пикчерз, Кикстарт Продакшнз, Марк Пл...</td>\n",
       "      <td>США</td>\n",
       "      <td>Тимур Бекмамбетов</td>\n",
       "      <td>Джим Лемли, Джейсон Нетер, Марк Е.Платт, Яйн Смит</td>\n",
       "      <td>«18+» - запрещено для детей</td>\n",
       "      <td>NaN</td>\n",
       "      <td>NaN</td>\n",
       "      <td>NaN</td>\n",
       "      <td>NaN</td>\n",
       "      <td>6.8</td>\n",
       "      <td>фантастика,боевик,триллер</td>\n",
       "      <td>NaN</td>\n",
       "    </tr>\n",
       "    <tr>\n",
       "      <th>3</th>\n",
       "      <td>Особо опасен</td>\n",
       "      <td>221026916</td>\n",
       "      <td>2016-06-10T12:00:00.000Z</td>\n",
       "      <td>Художественный</td>\n",
       "      <td>Юниверсал Пикчерз, Кикстарт Продакшнз, Марк Пл...</td>\n",
       "      <td>США</td>\n",
       "      <td>Тимур Бекмамбетов</td>\n",
       "      <td>Джим Лемли, Джейсон Нетер, Марк Е.Платт, Яйн Смит</td>\n",
       "      <td>«18+» - запрещено для детей</td>\n",
       "      <td>NaN</td>\n",
       "      <td>NaN</td>\n",
       "      <td>NaN</td>\n",
       "      <td>NaN</td>\n",
       "      <td>6.8</td>\n",
       "      <td>фантастика,боевик,триллер</td>\n",
       "      <td>NaN</td>\n",
       "    </tr>\n",
       "    <tr>\n",
       "      <th>4</th>\n",
       "      <td>Особо опасен</td>\n",
       "      <td>221030815</td>\n",
       "      <td>2015-07-29T12:00:00.000Z</td>\n",
       "      <td>Художественный</td>\n",
       "      <td>Юниверсал Пикчерз, Кикстарт Продакшнз, Марк Пл...</td>\n",
       "      <td>США</td>\n",
       "      <td>Тимур Бекмамбетов</td>\n",
       "      <td>Джим Лемли, Джейсон Нетер, Марк Е.Платт, Яйн Смит</td>\n",
       "      <td>«18+» - запрещено для детей</td>\n",
       "      <td>NaN</td>\n",
       "      <td>NaN</td>\n",
       "      <td>NaN</td>\n",
       "      <td>NaN</td>\n",
       "      <td>6.8</td>\n",
       "      <td>фантастика,боевик,триллер</td>\n",
       "      <td>NaN</td>\n",
       "    </tr>\n",
       "  </tbody>\n",
       "</table>\n",
       "</div>"
      ],
      "text/plain": [
       "                  title   puNumber           show_start_date            type  \\\n",
       "0      Открытый простор  221048915  2015-11-27T12:00:00.000Z  Художественный   \n",
       "1  Особо важное задание  111013716  2016-09-13T12:00:00.000Z  Художественный   \n",
       "2          Особо опасен  221038416  2016-10-10T12:00:00.000Z  Художественный   \n",
       "3          Особо опасен  221026916  2016-06-10T12:00:00.000Z  Художественный   \n",
       "4          Особо опасен  221030815  2015-07-29T12:00:00.000Z  Художественный   \n",
       "\n",
       "                                         film_studio production_country  \\\n",
       "0  Тачстоун Пикчерз, Кобальт Пикчерз, Бикон Пикче...                США   \n",
       "1                              Киностудия \"Мосфильм\"               СССР   \n",
       "2  Юниверсал Пикчерз, Кикстарт Продакшнз, Марк Пл...                США   \n",
       "3  Юниверсал Пикчерз, Кикстарт Продакшнз, Марк Пл...                США   \n",
       "4  Юниверсал Пикчерз, Кикстарт Продакшнз, Марк Пл...                США   \n",
       "\n",
       "            director                                           producer  \\\n",
       "0      Кевин Костнер          Дэвид Валдес, Кевин Костнер, Джейк Эбертс   \n",
       "1          Е.Матвеев                                                NaN   \n",
       "2  Тимур Бекмамбетов  Джим Лемли, Джейсон Нетер, Марк Е.Платт, Яйн Смит   \n",
       "3  Тимур Бекмамбетов  Джим Лемли, Джейсон Нетер, Марк Е.Платт, Яйн Смит   \n",
       "4  Тимур Бекмамбетов  Джим Лемли, Джейсон Нетер, Марк Е.Платт, Яйн Смит   \n",
       "\n",
       "                 age_restriction  refundable_support  nonrefundable_support  \\\n",
       "0    «18+» - запрещено для детей                 NaN                    NaN   \n",
       "1  «6+» - для детей старше 6 лет                 NaN                    NaN   \n",
       "2    «18+» - запрещено для детей                 NaN                    NaN   \n",
       "3    «18+» - запрещено для детей                 NaN                    NaN   \n",
       "4    «18+» - запрещено для детей                 NaN                    NaN   \n",
       "\n",
       "   budget financing_source ratings                     genres  box_office  \n",
       "0     NaN              NaN     7.2     боевик,драма,мелодрама         NaN  \n",
       "1     NaN              NaN     6.6              драма,военный         NaN  \n",
       "2     NaN              NaN     6.8  фантастика,боевик,триллер         NaN  \n",
       "3     NaN              NaN     6.8  фантастика,боевик,триллер         NaN  \n",
       "4     NaN              NaN     6.8  фантастика,боевик,триллер         NaN  "
      ]
     },
     "execution_count": 10,
     "metadata": {},
     "output_type": "execute_result"
    }
   ],
   "source": [
    "data.head()"
   ]
  },
  {
   "cell_type": "code",
   "execution_count": 11,
   "metadata": {
    "scrolled": true
   },
   "outputs": [
    {
     "name": "stdout",
     "output_type": "stream",
     "text": [
      "<class 'pandas.core.frame.DataFrame'>\n",
      "Int64Index: 7486 entries, 0 to 7485\n",
      "Data columns (total 16 columns):\n",
      " #   Column                 Non-Null Count  Dtype  \n",
      "---  ------                 --------------  -----  \n",
      " 0   title                  7486 non-null   object \n",
      " 1   puNumber               7486 non-null   int32  \n",
      " 2   show_start_date        7486 non-null   object \n",
      " 3   type                   7486 non-null   object \n",
      " 4   film_studio            7468 non-null   object \n",
      " 5   production_country     7484 non-null   object \n",
      " 6   director               7477 non-null   object \n",
      " 7   producer               6918 non-null   object \n",
      " 8   age_restriction        7486 non-null   object \n",
      " 9   refundable_support     332 non-null    float64\n",
      " 10  nonrefundable_support  332 non-null    float64\n",
      " 11  budget                 332 non-null    float64\n",
      " 12  financing_source       332 non-null    object \n",
      " 13  ratings                6519 non-null   object \n",
      " 14  genres                 6510 non-null   object \n",
      " 15  box_office             3158 non-null   float64\n",
      "dtypes: float64(4), int32(1), object(11)\n",
      "memory usage: 965.0+ KB\n"
     ]
    }
   ],
   "source": [
    "data.info()"
   ]
  },
  {
   "cell_type": "code",
   "execution_count": 12,
   "metadata": {},
   "outputs": [],
   "source": [
    "pd.options.display.float_format = '{:,.2f}'.format"
   ]
  },
  {
   "cell_type": "markdown",
   "metadata": {
    "id": "KLDGpPG0gFyM"
   },
   "source": [
    "### Шаг 2. Предобработка данных"
   ]
  },
  {
   "cell_type": "markdown",
   "metadata": {
    "id": "ssWwKXsxgFyO"
   },
   "source": [
    "#### Шаг 2.1. Проверьте типы данных\n",
    "\n",
    "- Проверьте типы данных в датафрейме и преобразуйте их там, где это необходимо."
   ]
  },
  {
   "cell_type": "markdown",
   "metadata": {},
   "source": [
    "Судя по представленной выше информации о таблице, необходимо преобразовать типы данных в столбцах \"show_start_date\" на datetime и \"ratings\" на float"
   ]
  },
  {
   "cell_type": "code",
   "execution_count": 13,
   "metadata": {},
   "outputs": [],
   "source": [
    "data['show_start_date'] = pd.to_datetime(\n",
    "    data['show_start_date'], format='%Y-%m-%dT%H:%M:%S'\n",
    ")"
   ]
  },
  {
   "cell_type": "code",
   "execution_count": 14,
   "metadata": {},
   "outputs": [
    {
     "data": {
      "text/plain": [
       "array(['7.2', '6.6', '6.8', '7.7', '8.3', '8.0', '7.8', '8.1', '7.1',\n",
       "       '6.0', '7.4', '5.8', '8.7', '6.3', '6.9', '5.0', '4.3', '7.3',\n",
       "       '7.0', '6.4', nan, '8.2', '7.5', '6.7', '7.9', '5.9', '6.2', '5.6',\n",
       "       '6.5', '2.4', '7.6', '6.1', '8.6', '8.5', '8.8', '5.5', '5.1',\n",
       "       '5.7', '5.4', '99%', '4.4', '4.5', '5.3', '4.1', '8.4', '2.6',\n",
       "       '3.8', '4.6', '4.8', '4.0', '3.0', '1.6', '4.2', '5.2', '4.7',\n",
       "       '4.9', '3.9', '2.7', '3.3', '2.9', '28%', '3.7', '1.4', '3.1',\n",
       "       '97%', '3.5', '3.2', '2.8', '1.5', '2.1', '2.5', '9.2', '3.4',\n",
       "       '1.1', '3.6', '83%', '64%', '91%', '94%', '62%', '79%', '90%',\n",
       "       '19%', '88%', '1.0', '89%', '1.3', '1.9', '1.8', '1.2', '1.7',\n",
       "       '9.0', '98%', '8.9', '9.1'], dtype=object)"
      ]
     },
     "execution_count": 14,
     "metadata": {},
     "output_type": "execute_result"
    }
   ],
   "source": [
    "data['ratings'].unique()"
   ]
  },
  {
   "cell_type": "code",
   "execution_count": 15,
   "metadata": {},
   "outputs": [
    {
     "data": {
      "text/plain": [
       "29"
      ]
     },
     "execution_count": 15,
     "metadata": {},
     "output_type": "execute_result"
    }
   ],
   "source": [
    "data['ratings'].loc[data['ratings'].str.find('%') != -1].count()"
   ]
  },
  {
   "cell_type": "markdown",
   "metadata": {},
   "source": [
    "Среди нормальных значений рейтинга встречаются процентные значения, но их немного (29), поэтому мы приведем этот столбец к числовому типу, но эти значения станут пропусками"
   ]
  },
  {
   "cell_type": "code",
   "execution_count": 16,
   "metadata": {},
   "outputs": [
    {
     "data": {
      "text/plain": [
       "967"
      ]
     },
     "execution_count": 16,
     "metadata": {},
     "output_type": "execute_result"
    }
   ],
   "source": [
    "data['ratings'].isna().sum()"
   ]
  },
  {
   "cell_type": "code",
   "execution_count": 17,
   "metadata": {},
   "outputs": [],
   "source": [
    "data['ratings'] = pd.to_numeric(data['ratings'], errors='coerce')"
   ]
  },
  {
   "cell_type": "code",
   "execution_count": 18,
   "metadata": {},
   "outputs": [
    {
     "data": {
      "text/plain": [
       "array([7.2, 6.6, 6.8, 7.7, 8.3, 8. , 7.8, 8.1, 7.1, 6. , 7.4, 5.8, 8.7,\n",
       "       6.3, 6.9, 5. , 4.3, 7.3, 7. , 6.4, nan, 8.2, 7.5, 6.7, 7.9, 5.9,\n",
       "       6.2, 5.6, 6.5, 2.4, 7.6, 6.1, 8.6, 8.5, 8.8, 5.5, 5.1, 5.7, 5.4,\n",
       "       4.4, 4.5, 5.3, 4.1, 8.4, 2.6, 3.8, 4.6, 4.8, 4. , 3. , 1.6, 4.2,\n",
       "       5.2, 4.7, 4.9, 3.9, 2.7, 3.3, 2.9, 3.7, 1.4, 3.1, 3.5, 3.2, 2.8,\n",
       "       1.5, 2.1, 2.5, 9.2, 3.4, 1.1, 3.6, 1. , 1.3, 1.9, 1.8, 1.2, 1.7,\n",
       "       9. , 8.9, 9.1])"
      ]
     },
     "execution_count": 18,
     "metadata": {},
     "output_type": "execute_result"
    }
   ],
   "source": [
    "data['ratings'].unique()"
   ]
  },
  {
   "cell_type": "code",
   "execution_count": 19,
   "metadata": {},
   "outputs": [
    {
     "data": {
      "text/plain": [
       "996"
      ]
     },
     "execution_count": 19,
     "metadata": {},
     "output_type": "execute_result"
    }
   ],
   "source": [
    "data['ratings'].isna().sum() #пропусков стало больше"
   ]
  },
  {
   "cell_type": "markdown",
   "metadata": {
    "id": "i0MOLbF-gFyP"
   },
   "source": [
    "#### Шаг 2.2. Изучите пропуски в датафрейме\n",
    "\n",
    "- Объясните, почему заполнили пропуски определённым образом или почему не стали этого делать."
   ]
  },
  {
   "cell_type": "code",
   "execution_count": 20,
   "metadata": {},
   "outputs": [
    {
     "data": {
      "text/plain": [
       "title                   0.00\n",
       "puNumber                0.00\n",
       "show_start_date         0.00\n",
       "type                    0.00\n",
       "film_studio             0.00\n",
       "production_country      0.00\n",
       "director                0.00\n",
       "producer                0.08\n",
       "age_restriction         0.00\n",
       "refundable_support      0.96\n",
       "nonrefundable_support   0.96\n",
       "budget                  0.96\n",
       "financing_source        0.96\n",
       "ratings                 0.13\n",
       "genres                  0.13\n",
       "box_office              0.58\n",
       "dtype: float64"
      ]
     },
     "execution_count": 20,
     "metadata": {},
     "output_type": "execute_result"
    }
   ],
   "source": [
    "data.isna().mean()"
   ]
  },
  {
   "cell_type": "markdown",
   "metadata": {},
   "source": [
    "Наибольшее количество пропусков в столбцах \"объём возвратных средств государственной поддержки\", \"объём невозвратных средств государственной поддержки\", \"источник государственного финансирования\", \"общий бюджет фильма\". Это значит, что из всей базы данных только около 5% фильмов получили государственную поддержку. Мы не можем заполнить эти пропуски. \n",
    "\n",
    "Также много пропусков в столбце \"сборы в рублях\". Как я понимаю, кассовые сборы формируются из денег, полученных с продажи билетов на эти фильмы. Пропуски можно объяснить либо тем, что эти фильмы не были в прокате в кинотеатрах, либо, что нет данных о сборах конкретно в рублях.\n",
    "\n",
    "В остальных столбцах доля пропусков незначительна, но чтобы их заполнить, нужно также располагать информацией об этих фильмах. \n",
    "\n",
    "Заполним пропуски в столбцах \"режиссер\" и \"жанр\" значением \"неизвестно\", так как это необходимо для дальнейшего исследования."
   ]
  },
  {
   "cell_type": "code",
   "execution_count": 21,
   "metadata": {},
   "outputs": [],
   "source": [
    "data['director'] = data['director'].fillna('неизвестно')\n",
    "data['genres'] = data['genres'].fillna('неизвестно')"
   ]
  },
  {
   "cell_type": "markdown",
   "metadata": {
    "id": "4c6k1t9ygFyQ"
   },
   "source": [
    "#### Шаг 2.3. Изучите дубликаты в датафрейме\n",
    "- Проверьте, есть ли в данных дубликаты. Опишите причины, которые могли повлиять на появление дублей."
   ]
  },
  {
   "cell_type": "code",
   "execution_count": 22,
   "metadata": {
    "id": "aKck8RIdgFyQ",
    "scrolled": true
   },
   "outputs": [
    {
     "data": {
      "text/plain": [
       "0"
      ]
     },
     "execution_count": 22,
     "metadata": {},
     "output_type": "execute_result"
    }
   ],
   "source": [
    "data.duplicated().sum()"
   ]
  },
  {
   "cell_type": "code",
   "execution_count": 23,
   "metadata": {
    "scrolled": true
   },
   "outputs": [
    {
     "data": {
      "text/html": [
       "<div>\n",
       "<style scoped>\n",
       "    .dataframe tbody tr th:only-of-type {\n",
       "        vertical-align: middle;\n",
       "    }\n",
       "\n",
       "    .dataframe tbody tr th {\n",
       "        vertical-align: top;\n",
       "    }\n",
       "\n",
       "    .dataframe thead th {\n",
       "        text-align: right;\n",
       "    }\n",
       "</style>\n",
       "<table border=\"1\" class=\"dataframe\">\n",
       "  <thead>\n",
       "    <tr style=\"text-align: right;\">\n",
       "      <th></th>\n",
       "      <th>title</th>\n",
       "      <th>puNumber</th>\n",
       "      <th>show_start_date</th>\n",
       "      <th>type</th>\n",
       "      <th>film_studio</th>\n",
       "      <th>production_country</th>\n",
       "      <th>director</th>\n",
       "      <th>producer</th>\n",
       "      <th>age_restriction</th>\n",
       "      <th>refundable_support</th>\n",
       "      <th>nonrefundable_support</th>\n",
       "      <th>budget</th>\n",
       "      <th>financing_source</th>\n",
       "      <th>ratings</th>\n",
       "      <th>genres</th>\n",
       "      <th>box_office</th>\n",
       "    </tr>\n",
       "  </thead>\n",
       "  <tbody>\n",
       "    <tr>\n",
       "      <th>4638</th>\n",
       "      <td>Как жениться и остаться холостым</td>\n",
       "      <td>221154310</td>\n",
       "      <td>2010-12-17 12:00:00+00:00</td>\n",
       "      <td>Художественный</td>\n",
       "      <td>Ше Вам, Скрипт Ассосье, Тэ Фэ 1 Фильм Продюксь...</td>\n",
       "      <td>Франция</td>\n",
       "      <td>Эрик Лартиго</td>\n",
       "      <td>Амандин Било, Алан Шаба</td>\n",
       "      <td>«16+» - для детей старше 16 лет</td>\n",
       "      <td>NaN</td>\n",
       "      <td>NaN</td>\n",
       "      <td>NaN</td>\n",
       "      <td>NaN</td>\n",
       "      <td>7.00</td>\n",
       "      <td>мелодрама,комедия</td>\n",
       "      <td>NaN</td>\n",
       "    </tr>\n",
       "    <tr>\n",
       "      <th>4639</th>\n",
       "      <td>Иоанна - женщина на папском престоле /По роман...</td>\n",
       "      <td>221154310</td>\n",
       "      <td>2010-12-17 12:00:00+00:00</td>\n",
       "      <td>Художественный</td>\n",
       "      <td>Константин Фильм, А Эр Ди Дегето Фильм, Дюне ...</td>\n",
       "      <td>Германия - Великобритания - Италия - Испания</td>\n",
       "      <td>Зенке Вортманн</td>\n",
       "      <td>Оливер Бербен, Дорис Д.Хайнце, Фарук Элтан</td>\n",
       "      <td>«16+» - для детей старше 16 лет</td>\n",
       "      <td>NaN</td>\n",
       "      <td>NaN</td>\n",
       "      <td>NaN</td>\n",
       "      <td>NaN</td>\n",
       "      <td>7.60</td>\n",
       "      <td>драма,мелодрама,история</td>\n",
       "      <td>NaN</td>\n",
       "    </tr>\n",
       "    <tr>\n",
       "      <th>5067</th>\n",
       "      <td>Анализируй это!</td>\n",
       "      <td>221054410</td>\n",
       "      <td>2010-05-25 12:00:00+00:00</td>\n",
       "      <td>Художественный</td>\n",
       "      <td>Уорнер Бразерс, Вилладж Роудшоу Филмз ЛТД</td>\n",
       "      <td>США-Австралия</td>\n",
       "      <td>ХЭрольд Рэмис</td>\n",
       "      <td>Джейн Розенталь, Пола Уейнстейн</td>\n",
       "      <td>«16+» - для детей старше 16 лет</td>\n",
       "      <td>NaN</td>\n",
       "      <td>NaN</td>\n",
       "      <td>NaN</td>\n",
       "      <td>NaN</td>\n",
       "      <td>7.40</td>\n",
       "      <td>комедия,криминал</td>\n",
       "      <td>NaN</td>\n",
       "    </tr>\n",
       "    <tr>\n",
       "      <th>5068</th>\n",
       "      <td>Анализируй то!</td>\n",
       "      <td>221054410</td>\n",
       "      <td>2010-05-25 12:00:00+00:00</td>\n",
       "      <td>Художественный</td>\n",
       "      <td>Уорнер Бразерс, Виллидж Роадшоу Пикчерз, Эн-Пи...</td>\n",
       "      <td>США</td>\n",
       "      <td>Гарольд Реймис</td>\n",
       "      <td>Джейн Розенталь, Паул Уэйнстейн</td>\n",
       "      <td>«12+» - для детей старше 12 лет</td>\n",
       "      <td>NaN</td>\n",
       "      <td>NaN</td>\n",
       "      <td>NaN</td>\n",
       "      <td>NaN</td>\n",
       "      <td>6.80</td>\n",
       "      <td>комедия,криминал</td>\n",
       "      <td>NaN</td>\n",
       "    </tr>\n",
       "  </tbody>\n",
       "</table>\n",
       "</div>"
      ],
      "text/plain": [
       "                                                  title   puNumber  \\\n",
       "4638                   Как жениться и остаться холостым  221154310   \n",
       "4639  Иоанна - женщина на папском престоле /По роман...  221154310   \n",
       "5067                                    Анализируй это!  221054410   \n",
       "5068                                     Анализируй то!  221054410   \n",
       "\n",
       "               show_start_date            type  \\\n",
       "4638 2010-12-17 12:00:00+00:00  Художественный   \n",
       "4639 2010-12-17 12:00:00+00:00  Художественный   \n",
       "5067 2010-05-25 12:00:00+00:00  Художественный   \n",
       "5068 2010-05-25 12:00:00+00:00  Художественный   \n",
       "\n",
       "                                            film_studio  \\\n",
       "4638  Ше Вам, Скрипт Ассосье, Тэ Фэ 1 Фильм Продюксь...   \n",
       "4639   Константин Фильм, А Эр Ди Дегето Фильм, Дюне ...   \n",
       "5067          Уорнер Бразерс, Вилладж Роудшоу Филмз ЛТД   \n",
       "5068  Уорнер Бразерс, Виллидж Роадшоу Пикчерз, Эн-Пи...   \n",
       "\n",
       "                                production_country        director  \\\n",
       "4638                                       Франция    Эрик Лартиго   \n",
       "4639  Германия - Великобритания - Италия - Испания  Зенке Вортманн   \n",
       "5067                                 США-Австралия   ХЭрольд Рэмис   \n",
       "5068                                           США  Гарольд Реймис   \n",
       "\n",
       "                                        producer  \\\n",
       "4638                     Амандин Било, Алан Шаба   \n",
       "4639  Оливер Бербен, Дорис Д.Хайнце, Фарук Элтан   \n",
       "5067             Джейн Розенталь, Пола Уейнстейн   \n",
       "5068             Джейн Розенталь, Паул Уэйнстейн   \n",
       "\n",
       "                      age_restriction  refundable_support  \\\n",
       "4638  «16+» - для детей старше 16 лет                 NaN   \n",
       "4639  «16+» - для детей старше 16 лет                 NaN   \n",
       "5067  «16+» - для детей старше 16 лет                 NaN   \n",
       "5068  «12+» - для детей старше 12 лет                 NaN   \n",
       "\n",
       "      nonrefundable_support  budget financing_source  ratings  \\\n",
       "4638                    NaN     NaN              NaN     7.00   \n",
       "4639                    NaN     NaN              NaN     7.60   \n",
       "5067                    NaN     NaN              NaN     7.40   \n",
       "5068                    NaN     NaN              NaN     6.80   \n",
       "\n",
       "                       genres  box_office  \n",
       "4638        мелодрама,комедия         NaN  \n",
       "4639  драма,мелодрама,история         NaN  \n",
       "5067         комедия,криминал         NaN  \n",
       "5068         комедия,криминал         NaN  "
      ]
     },
     "execution_count": 23,
     "metadata": {},
     "output_type": "execute_result"
    }
   ],
   "source": [
    "data[data['puNumber'].duplicated(keep=False) == True]"
   ]
  },
  {
   "cell_type": "markdown",
   "metadata": {},
   "source": [
    "В столбце \"Номер прокатного удостоверения\" есть 2 дубликата.\n",
    "\n",
    "В первом случае это разные фильмы с совпадающими номерами удостоверений, выданных в один день. Возможно, это ошибка. Я бы не стала удалять эту строку.\n",
    "\n",
    "Во втором случае это один и тот же фильм, с опечаткой в названии и незначительными отличиями в других столбцах. Строку с опечаткой можно удалить, так как даже если проверять информацию о фильме отдельно, то правильнее первый вариант. \n"
   ]
  },
  {
   "cell_type": "code",
   "execution_count": 24,
   "metadata": {},
   "outputs": [],
   "source": [
    "data.drop(labels = [5068],axis = 0, inplace = True) #удалим строку с опечаткой"
   ]
  },
  {
   "cell_type": "code",
   "execution_count": 25,
   "metadata": {
    "scrolled": true
   },
   "outputs": [
    {
     "data": {
      "text/html": [
       "<div>\n",
       "<style scoped>\n",
       "    .dataframe tbody tr th:only-of-type {\n",
       "        vertical-align: middle;\n",
       "    }\n",
       "\n",
       "    .dataframe tbody tr th {\n",
       "        vertical-align: top;\n",
       "    }\n",
       "\n",
       "    .dataframe thead th {\n",
       "        text-align: right;\n",
       "    }\n",
       "</style>\n",
       "<table border=\"1\" class=\"dataframe\">\n",
       "  <thead>\n",
       "    <tr style=\"text-align: right;\">\n",
       "      <th></th>\n",
       "      <th>title</th>\n",
       "      <th>puNumber</th>\n",
       "      <th>show_start_date</th>\n",
       "      <th>type</th>\n",
       "      <th>film_studio</th>\n",
       "      <th>production_country</th>\n",
       "      <th>director</th>\n",
       "      <th>producer</th>\n",
       "      <th>age_restriction</th>\n",
       "      <th>refundable_support</th>\n",
       "      <th>nonrefundable_support</th>\n",
       "      <th>budget</th>\n",
       "      <th>financing_source</th>\n",
       "      <th>ratings</th>\n",
       "      <th>genres</th>\n",
       "      <th>box_office</th>\n",
       "    </tr>\n",
       "  </thead>\n",
       "  <tbody>\n",
       "    <tr>\n",
       "      <th>3</th>\n",
       "      <td>Особо опасен</td>\n",
       "      <td>221026916</td>\n",
       "      <td>2016-06-10 12:00:00+00:00</td>\n",
       "      <td>Художественный</td>\n",
       "      <td>Юниверсал Пикчерз, Кикстарт Продакшнз, Марк Пл...</td>\n",
       "      <td>США</td>\n",
       "      <td>Тимур Бекмамбетов</td>\n",
       "      <td>Джим Лемли, Джейсон Нетер, Марк Е.Платт, Яйн Смит</td>\n",
       "      <td>«18+» - запрещено для детей</td>\n",
       "      <td>NaN</td>\n",
       "      <td>NaN</td>\n",
       "      <td>NaN</td>\n",
       "      <td>NaN</td>\n",
       "      <td>6.80</td>\n",
       "      <td>фантастика,боевик,триллер</td>\n",
       "      <td>NaN</td>\n",
       "    </tr>\n",
       "    <tr>\n",
       "      <th>4</th>\n",
       "      <td>Особо опасен</td>\n",
       "      <td>221030815</td>\n",
       "      <td>2015-07-29 12:00:00+00:00</td>\n",
       "      <td>Художественный</td>\n",
       "      <td>Юниверсал Пикчерз, Кикстарт Продакшнз, Марк Пл...</td>\n",
       "      <td>США</td>\n",
       "      <td>Тимур Бекмамбетов</td>\n",
       "      <td>Джим Лемли, Джейсон Нетер, Марк Е.Платт, Яйн Смит</td>\n",
       "      <td>«18+» - запрещено для детей</td>\n",
       "      <td>NaN</td>\n",
       "      <td>NaN</td>\n",
       "      <td>NaN</td>\n",
       "      <td>NaN</td>\n",
       "      <td>6.80</td>\n",
       "      <td>фантастика,боевик,триллер</td>\n",
       "      <td>NaN</td>\n",
       "    </tr>\n",
       "    <tr>\n",
       "      <th>41</th>\n",
       "      <td>Алекс и Эмма</td>\n",
       "      <td>221004616</td>\n",
       "      <td>2016-02-09 12:00:00+00:00</td>\n",
       "      <td>Художественный</td>\n",
       "      <td>Эскейп Артистс, Франчайз Пикчерз, Рейнер-Грэйс...</td>\n",
       "      <td>США</td>\n",
       "      <td>Роб Райнер</td>\n",
       "      <td>Тодд Блэк, Элан Грейсман, Джереми Левен, Роб Р...</td>\n",
       "      <td>«16+» - для детей старше 16 лет</td>\n",
       "      <td>NaN</td>\n",
       "      <td>NaN</td>\n",
       "      <td>NaN</td>\n",
       "      <td>NaN</td>\n",
       "      <td>6.40</td>\n",
       "      <td>мелодрама,комедия</td>\n",
       "      <td>NaN</td>\n",
       "    </tr>\n",
       "    <tr>\n",
       "      <th>110</th>\n",
       "      <td>Гарри Поттер и орден Феникса /По роману Дж.К.Р...</td>\n",
       "      <td>121026316</td>\n",
       "      <td>2016-09-23 12:00:00+00:00</td>\n",
       "      <td>Художественный</td>\n",
       "      <td>Уорнер Бразерс, Хэйдей Филмз</td>\n",
       "      <td>США - Великобритания</td>\n",
       "      <td>Дэвид Йетс</td>\n",
       "      <td>Дэйвид Баррон, Дэйвид Хейман</td>\n",
       "      <td>«16+» - для детей старше 16 лет</td>\n",
       "      <td>NaN</td>\n",
       "      <td>NaN</td>\n",
       "      <td>NaN</td>\n",
       "      <td>NaN</td>\n",
       "      <td>7.70</td>\n",
       "      <td>фэнтези,приключения,семейный</td>\n",
       "      <td>759,526.00</td>\n",
       "    </tr>\n",
       "    <tr>\n",
       "      <th>113</th>\n",
       "      <td>Гарри Поттер и узник Азкабана /По роману Дж.К....</td>\n",
       "      <td>121026116</td>\n",
       "      <td>2016-09-23 12:00:00+00:00</td>\n",
       "      <td>Художественный</td>\n",
       "      <td>Хэйдей Филмз, 1492 Пикчерз, Уорнер Бразерс</td>\n",
       "      <td>США</td>\n",
       "      <td>Альфонсо Куарон</td>\n",
       "      <td>Майкл Барната</td>\n",
       "      <td>«12+» - для детей старше 12 лет</td>\n",
       "      <td>NaN</td>\n",
       "      <td>NaN</td>\n",
       "      <td>NaN</td>\n",
       "      <td>NaN</td>\n",
       "      <td>8.20</td>\n",
       "      <td>фэнтези,приключения,семейный</td>\n",
       "      <td>1,125,302.00</td>\n",
       "    </tr>\n",
       "    <tr>\n",
       "      <th>...</th>\n",
       "      <td>...</td>\n",
       "      <td>...</td>\n",
       "      <td>...</td>\n",
       "      <td>...</td>\n",
       "      <td>...</td>\n",
       "      <td>...</td>\n",
       "      <td>...</td>\n",
       "      <td>...</td>\n",
       "      <td>...</td>\n",
       "      <td>...</td>\n",
       "      <td>...</td>\n",
       "      <td>...</td>\n",
       "      <td>...</td>\n",
       "      <td>...</td>\n",
       "      <td>...</td>\n",
       "      <td>...</td>\n",
       "    </tr>\n",
       "    <tr>\n",
       "      <th>7369</th>\n",
       "      <td>Невиновен</td>\n",
       "      <td>111019319</td>\n",
       "      <td>2019-11-07 12:00:00+00:00</td>\n",
       "      <td>Художественный</td>\n",
       "      <td>ООО \"Кавказфильм\"</td>\n",
       "      <td>Россия</td>\n",
       "      <td>А.Емкужев</td>\n",
       "      <td>А.Емкужев, А.Хуажева, ООО \"Корпорация Русская ...</td>\n",
       "      <td>«16+» - для детей старше 16 лет</td>\n",
       "      <td>NaN</td>\n",
       "      <td>NaN</td>\n",
       "      <td>NaN</td>\n",
       "      <td>NaN</td>\n",
       "      <td>7.50</td>\n",
       "      <td>триллер,детектив,криминал</td>\n",
       "      <td>NaN</td>\n",
       "    </tr>\n",
       "    <tr>\n",
       "      <th>7416</th>\n",
       "      <td>Отель \"Гранд Будапешт\"</td>\n",
       "      <td>121035119</td>\n",
       "      <td>2019-12-13 12:00:00+00:00</td>\n",
       "      <td>Художественный</td>\n",
       "      <td>Американ Эмпирикал, Индиан Пэинтбраш, Скотт Ру...</td>\n",
       "      <td>Германия, США</td>\n",
       "      <td>Уэс Андерсен</td>\n",
       "      <td>Уэс Андерсон, Джереми Доусон, Стивен Рейлс</td>\n",
       "      <td>«16+» - для детей старше 16 лет</td>\n",
       "      <td>NaN</td>\n",
       "      <td>NaN</td>\n",
       "      <td>NaN</td>\n",
       "      <td>NaN</td>\n",
       "      <td>7.90</td>\n",
       "      <td>комедия,приключения,детектив</td>\n",
       "      <td>NaN</td>\n",
       "    </tr>\n",
       "    <tr>\n",
       "      <th>7438</th>\n",
       "      <td>Зверь</td>\n",
       "      <td>121035919</td>\n",
       "      <td>2019-12-05 12:00:00+00:00</td>\n",
       "      <td>Художественный</td>\n",
       "      <td>Студио энд Нью</td>\n",
       "      <td>Южная Корея</td>\n",
       "      <td>Ли Джон-хо</td>\n",
       "      <td>Чан Гён-ик, Чон Джи-хун, Пэк Кён сук</td>\n",
       "      <td>«18+» - запрещено для детей</td>\n",
       "      <td>NaN</td>\n",
       "      <td>NaN</td>\n",
       "      <td>NaN</td>\n",
       "      <td>NaN</td>\n",
       "      <td>6.50</td>\n",
       "      <td>триллер,драма</td>\n",
       "      <td>175,003.51</td>\n",
       "    </tr>\n",
       "    <tr>\n",
       "      <th>7450</th>\n",
       "      <td>В тихом омуте</td>\n",
       "      <td>121036919</td>\n",
       "      <td>2019-12-09 12:00:00+00:00</td>\n",
       "      <td>Художественный</td>\n",
       "      <td>Хэд Гир Филмз, Крео Филмз, Локал Хироу, Метрол...</td>\n",
       "      <td>США</td>\n",
       "      <td>Адам Рэндолл</td>\n",
       "      <td>Мэтт Уолдек</td>\n",
       "      <td>«18+» - запрещено для детей</td>\n",
       "      <td>NaN</td>\n",
       "      <td>NaN</td>\n",
       "      <td>NaN</td>\n",
       "      <td>NaN</td>\n",
       "      <td>6.80</td>\n",
       "      <td>триллер,криминал,детектив</td>\n",
       "      <td>NaN</td>\n",
       "    </tr>\n",
       "    <tr>\n",
       "      <th>7474</th>\n",
       "      <td>Вторжение</td>\n",
       "      <td>111022519</td>\n",
       "      <td>2019-12-23 12:00:00+00:00</td>\n",
       "      <td>Художественный</td>\n",
       "      <td>ООО \"Арт Пикчерс Студия\", ООО \"Водород 2011\"</td>\n",
       "      <td>Россия</td>\n",
       "      <td>Ф.Бондарчук</td>\n",
       "      <td>Ф.Бондарчук, М.Врубель, А.Андрющенко, Д.Рудовский</td>\n",
       "      <td>«12+» - для детей старше 12 лет</td>\n",
       "      <td>100,000,000.00</td>\n",
       "      <td>400,000,000.00</td>\n",
       "      <td>944,000,000.00</td>\n",
       "      <td>Фонд кино</td>\n",
       "      <td>5.70</td>\n",
       "      <td>фантастика,боевик</td>\n",
       "      <td>NaN</td>\n",
       "    </tr>\n",
       "  </tbody>\n",
       "</table>\n",
       "<p>714 rows × 16 columns</p>\n",
       "</div>"
      ],
      "text/plain": [
       "                                                  title   puNumber  \\\n",
       "3                                          Особо опасен  221026916   \n",
       "4                                          Особо опасен  221030815   \n",
       "41                                         Алекс и Эмма  221004616   \n",
       "110   Гарри Поттер и орден Феникса /По роману Дж.К.Р...  121026316   \n",
       "113   Гарри Поттер и узник Азкабана /По роману Дж.К....  121026116   \n",
       "...                                                 ...        ...   \n",
       "7369                                          Невиновен  111019319   \n",
       "7416                             Отель \"Гранд Будапешт\"  121035119   \n",
       "7438                                              Зверь  121035919   \n",
       "7450                                      В тихом омуте  121036919   \n",
       "7474                                          Вторжение  111022519   \n",
       "\n",
       "               show_start_date             type  \\\n",
       "3    2016-06-10 12:00:00+00:00   Художественный   \n",
       "4    2015-07-29 12:00:00+00:00   Художественный   \n",
       "41   2016-02-09 12:00:00+00:00   Художественный   \n",
       "110  2016-09-23 12:00:00+00:00   Художественный   \n",
       "113  2016-09-23 12:00:00+00:00   Художественный   \n",
       "...                        ...              ...   \n",
       "7369 2019-11-07 12:00:00+00:00   Художественный   \n",
       "7416 2019-12-13 12:00:00+00:00   Художественный   \n",
       "7438 2019-12-05 12:00:00+00:00   Художественный   \n",
       "7450 2019-12-09 12:00:00+00:00   Художественный   \n",
       "7474 2019-12-23 12:00:00+00:00   Художественный   \n",
       "\n",
       "                                            film_studio    production_country  \\\n",
       "3     Юниверсал Пикчерз, Кикстарт Продакшнз, Марк Пл...                   США   \n",
       "4     Юниверсал Пикчерз, Кикстарт Продакшнз, Марк Пл...                   США   \n",
       "41    Эскейп Артистс, Франчайз Пикчерз, Рейнер-Грэйс...                   США   \n",
       "110                        Уорнер Бразерс, Хэйдей Филмз  США - Великобритания   \n",
       "113          Хэйдей Филмз, 1492 Пикчерз, Уорнер Бразерс                   США   \n",
       "...                                                 ...                   ...   \n",
       "7369                                  ООО \"Кавказфильм\"                Россия   \n",
       "7416  Американ Эмпирикал, Индиан Пэинтбраш, Скотт Ру...         Германия, США   \n",
       "7438                                     Студио энд Нью           Южная Корея   \n",
       "7450  Хэд Гир Филмз, Крео Филмз, Локал Хироу, Метрол...                   США   \n",
       "7474       ООО \"Арт Пикчерс Студия\", ООО \"Водород 2011\"                Россия   \n",
       "\n",
       "               director                                           producer  \\\n",
       "3     Тимур Бекмамбетов  Джим Лемли, Джейсон Нетер, Марк Е.Платт, Яйн Смит   \n",
       "4     Тимур Бекмамбетов  Джим Лемли, Джейсон Нетер, Марк Е.Платт, Яйн Смит   \n",
       "41           Роб Райнер  Тодд Блэк, Элан Грейсман, Джереми Левен, Роб Р...   \n",
       "110          Дэвид Йетс                       Дэйвид Баррон, Дэйвид Хейман   \n",
       "113     Альфонсо Куарон                                      Майкл Барната   \n",
       "...                 ...                                                ...   \n",
       "7369          А.Емкужев  А.Емкужев, А.Хуажева, ООО \"Корпорация Русская ...   \n",
       "7416       Уэс Андерсен         Уэс Андерсон, Джереми Доусон, Стивен Рейлс   \n",
       "7438         Ли Джон-хо               Чан Гён-ик, Чон Джи-хун, Пэк Кён сук   \n",
       "7450       Адам Рэндолл                                        Мэтт Уолдек   \n",
       "7474        Ф.Бондарчук  Ф.Бондарчук, М.Врубель, А.Андрющенко, Д.Рудовский   \n",
       "\n",
       "                      age_restriction  refundable_support  \\\n",
       "3         «18+» - запрещено для детей                 NaN   \n",
       "4         «18+» - запрещено для детей                 NaN   \n",
       "41    «16+» - для детей старше 16 лет                 NaN   \n",
       "110   «16+» - для детей старше 16 лет                 NaN   \n",
       "113   «12+» - для детей старше 12 лет                 NaN   \n",
       "...                               ...                 ...   \n",
       "7369  «16+» - для детей старше 16 лет                 NaN   \n",
       "7416  «16+» - для детей старше 16 лет                 NaN   \n",
       "7438      «18+» - запрещено для детей                 NaN   \n",
       "7450      «18+» - запрещено для детей                 NaN   \n",
       "7474  «12+» - для детей старше 12 лет      100,000,000.00   \n",
       "\n",
       "      nonrefundable_support         budget financing_source  ratings  \\\n",
       "3                       NaN            NaN              NaN     6.80   \n",
       "4                       NaN            NaN              NaN     6.80   \n",
       "41                      NaN            NaN              NaN     6.40   \n",
       "110                     NaN            NaN              NaN     7.70   \n",
       "113                     NaN            NaN              NaN     8.20   \n",
       "...                     ...            ...              ...      ...   \n",
       "7369                    NaN            NaN              NaN     7.50   \n",
       "7416                    NaN            NaN              NaN     7.90   \n",
       "7438                    NaN            NaN              NaN     6.50   \n",
       "7450                    NaN            NaN              NaN     6.80   \n",
       "7474         400,000,000.00 944,000,000.00        Фонд кино     5.70   \n",
       "\n",
       "                            genres   box_office  \n",
       "3        фантастика,боевик,триллер          NaN  \n",
       "4        фантастика,боевик,триллер          NaN  \n",
       "41               мелодрама,комедия          NaN  \n",
       "110   фэнтези,приключения,семейный   759,526.00  \n",
       "113   фэнтези,приключения,семейный 1,125,302.00  \n",
       "...                            ...          ...  \n",
       "7369     триллер,детектив,криминал          NaN  \n",
       "7416  комедия,приключения,детектив          NaN  \n",
       "7438                 триллер,драма   175,003.51  \n",
       "7450     триллер,криминал,детектив          NaN  \n",
       "7474             фантастика,боевик          NaN  \n",
       "\n",
       "[714 rows x 16 columns]"
      ]
     },
     "execution_count": 25,
     "metadata": {},
     "output_type": "execute_result"
    }
   ],
   "source": [
    "data[data['title'].duplicated()]"
   ]
  },
  {
   "cell_type": "markdown",
   "metadata": {},
   "source": [
    "Если изучать дубликаты в столбце с названиями фильмов, то можно увидеть много дублей. Но у них отличаются номера прокатных удостоверений и дата выдачи. И согласно пояснениям Минкульта РФ на один фильм действительно может выдаваться несколько прокатных удостоверений. У некоторых фильмов просто совпадают названия. "
   ]
  },
  {
   "cell_type": "markdown",
   "metadata": {
    "id": "52fOPrEBgFyQ"
   },
   "source": [
    "#### Шаг 2.4. Изучите категориальные значения\n",
    "\n",
    "- Посмотрите, какая общая проблема встречается почти во всех категориальных столбцах;\n",
    "- Исправьте проблемные значения в поле `type`.\n",
    "\n"
   ]
  },
  {
   "cell_type": "code",
   "execution_count": 26,
   "metadata": {
    "id": "PnXKIVdFgFyR",
    "scrolled": true
   },
   "outputs": [
    {
     "data": {
      "text/plain": [
       "array(['аниме,мультфильм', 'аниме,мультфильм,боевик',\n",
       "       'аниме,мультфильм,детектив', 'аниме,мультфильм,драма',\n",
       "       'аниме,мультфильм,комедия', 'аниме,мультфильм,короткометражка',\n",
       "       'аниме,мультфильм,мелодрама', 'аниме,мультфильм,приключения',\n",
       "       'аниме,мультфильм,ужасы', 'аниме,мультфильм,фантастика',\n",
       "       'аниме,мультфильм,фэнтези', 'биография', 'биография,военный,драма',\n",
       "       'биография,документальный', 'биография,драма',\n",
       "       'биография,драма,военный', 'биография,драма,история',\n",
       "       'биография,драма,криминал', 'биография,история',\n",
       "       'биография,история,драма', 'биография,криминал,драма',\n",
       "       'биография,криминал,триллер', 'биография,мелодрама,драма',\n",
       "       'биография,музыка,драма', 'биография,музыка,мюзикл',\n",
       "       'биография,спорт,драма', 'биография,спорт,история',\n",
       "       'биография,спорт,комедия', 'боевик', 'боевик,вестерн,приключения',\n",
       "       'боевик,военный', 'боевик,военный,драма', 'боевик,военный,история',\n",
       "       'боевик,детектив', 'боевик,драма', 'боевик,драма,биография',\n",
       "       'боевик,драма,вестерн', 'боевик,драма,военный',\n",
       "       'боевик,драма,история', 'боевик,драма,комедия',\n",
       "       'боевик,драма,криминал', 'боевик,драма,мелодрама',\n",
       "       'боевик,драма,приключения', 'боевик,драма,триллер',\n",
       "       'боевик,история', 'боевик,история,драма', 'боевик,комедия',\n",
       "       'боевик,комедия,криминал', 'боевик,комедия,приключения',\n",
       "       'боевик,комедия,семейный', 'боевик,криминал',\n",
       "       'боевик,криминал,детектив', 'боевик,криминал,драма',\n",
       "       'боевик,криминал,триллер', 'боевик,мелодрама',\n",
       "       'боевик,мелодрама,комедия', 'боевик,приключения',\n",
       "       'боевик,приключения,детектив', 'боевик,приключения,история',\n",
       "       'боевик,приключения,семейный', 'боевик,приключения,триллер',\n",
       "       'боевик,спорт,драма', 'боевик,триллер', 'боевик,триллер,детектив',\n",
       "       'боевик,триллер,драма', 'боевик,триллер,комедия',\n",
       "       'боевик,триллер,криминал', 'боевик,триллер,мелодрама',\n",
       "       'боевик,триллер,приключения', 'боевик,триллер,фэнтези',\n",
       "       'боевик,фантастика', 'боевик,фантастика,приключения',\n",
       "       'боевик,фантастика,триллер', 'боевик,фэнтези',\n",
       "       'боевик,фэнтези,драма', 'вестерн,биография,драма',\n",
       "       'вестерн,боевик,драма', 'вестерн,драма,триллер',\n",
       "       'вестерн,криминал,триллер', 'вестерн,приключения,боевик',\n",
       "       'военный', 'военный,биография,драма', 'военный,боевик,драма',\n",
       "       'военный,боевик,история', 'военный,детектив', 'военный,драма',\n",
       "       'военный,драма,боевик', 'военный,драма,история',\n",
       "       'военный,драма,комедия', 'военный,история',\n",
       "       'военный,история,драма', 'военный,приключения,драма', 'детектив',\n",
       "       'детектив,боевик,история', 'детектив,драма,криминал',\n",
       "       'детектив,драма,триллер', 'детектив,история,драма',\n",
       "       'детектив,комедия', 'детектив,комедия,драма', 'детектив,криминал',\n",
       "       'детектив,криминал,боевик', 'детектив,криминал,драма',\n",
       "       'детектив,криминал,триллер', 'детектив,мелодрама',\n",
       "       'детектив,мелодрама,фэнтези', 'детектив,приключения,драма',\n",
       "       'детектив,приключения,триллер', 'детектив,триллер',\n",
       "       'детектив,триллер,боевик', 'детектив,триллер,драма',\n",
       "       'детектив,триллер,криминал', 'детектив,триллер,ужасы',\n",
       "       'детектив,ужасы,криминал', 'детектив,фантастика,криминал',\n",
       "       'детектив,фантастика,триллер', 'детектив,фильм-нуар,комедия',\n",
       "       'детектив,фэнтези,триллер', 'детский', 'детский,комедия',\n",
       "       'детский,мелодрама,семейный', 'детский,мультфильм,приключения',\n",
       "       'детский,приключения,комедия', 'детский,приключения,семейный',\n",
       "       'детский,приключения,фантастика', 'детский,семейный',\n",
       "       'детский,фэнтези', 'детский,фэнтези,приключения',\n",
       "       'для взрослых,драма,комедия', 'для взрослых,драма,мелодрама',\n",
       "       'документальный', 'документальный,биография',\n",
       "       'документальный,биография,история',\n",
       "       'документальный,биография,музыка',\n",
       "       'документальный,биография,спорт',\n",
       "       'документальный,боевик,приключения',\n",
       "       'документальный,военный,драма', 'документальный,военный,история',\n",
       "       'документальный,драма', 'документальный,драма,биография',\n",
       "       'документальный,драма,история', 'документальный,драма,комедия',\n",
       "       'документальный,драма,музыка', 'документальный,драма,семейный',\n",
       "       'документальный,история', 'документальный,комедия',\n",
       "       'документальный,комедия,история',\n",
       "       'документальный,комедия,криминал',\n",
       "       'документальный,короткометражка',\n",
       "       'документальный,короткометражка,семейный',\n",
       "       'документальный,криминал,военный', 'документальный,музыка',\n",
       "       'документальный,музыка,биография', 'документальный,музыка,концерт',\n",
       "       'документальный,мюзикл', 'документальный,новости,драма',\n",
       "       'документальный,приключения',\n",
       "       'документальный,приключения,семейный', 'документальный,семейный',\n",
       "       'документальный,семейный,музыка', 'документальный,спорт',\n",
       "       'документальный,спорт,биография',\n",
       "       'документальный,триллер,биография', 'документальный,ужасы',\n",
       "       'документальный,ужасы,боевик', 'документальный,фантастика',\n",
       "       'документальный,фэнтези', 'документальный,фэнтези,драма',\n",
       "       'документальный,фэнтези,семейный', 'драма', 'драма,биография',\n",
       "       'драма,биография,история', 'драма,биография,комедия',\n",
       "       'драма,биография,музыка', 'драма,биография,мюзикл',\n",
       "       'драма,биография,спорт', 'драма,боевик', 'драма,боевик,история',\n",
       "       'драма,боевик,криминал', 'драма,боевик,приключения',\n",
       "       'драма,вестерн', 'драма,вестерн,боевик',\n",
       "       'драма,вестерн,приключения', 'драма,военный',\n",
       "       'драма,военный,биография', 'драма,военный,боевик',\n",
       "       'драма,военный,история', 'драма,военный,приключения',\n",
       "       'драма,военный,триллер', 'драма,детектив',\n",
       "       'драма,детектив,история', 'драма,детектив,криминал',\n",
       "       'драма,детектив,приключения', 'драма,история',\n",
       "       'драма,история,биография', 'драма,история,военный',\n",
       "       'драма,история,детектив', 'драма,история,музыка',\n",
       "       'драма,история,триллер', 'драма,комедия',\n",
       "       'драма,комедия,биография', 'драма,комедия,вестерн',\n",
       "       'драма,комедия,военный', 'драма,комедия,детектив',\n",
       "       'драма,комедия,история', 'драма,комедия,криминал',\n",
       "       'драма,комедия,мелодрама', 'драма,комедия,музыка',\n",
       "       'драма,комедия,мультфильм', 'драма,комедия,приключения',\n",
       "       'драма,комедия,семейный', 'драма,комедия,спорт',\n",
       "       'драма,комедия,триллер', 'драма,комедия,ужасы',\n",
       "       'драма,комедия,фантастика', 'драма,криминал',\n",
       "       'драма,криминал,биография', 'драма,криминал,боевик',\n",
       "       'драма,криминал,вестерн', 'драма,криминал,детектив',\n",
       "       'драма,криминал,история', 'драма,криминал,приключения',\n",
       "       'драма,криминал,семейный', 'драма,криминал,спорт',\n",
       "       'драма,криминал,фантастика', 'драма,криминал,фильм-нуар',\n",
       "       'драма,мелодрама', 'драма,мелодрама,биография',\n",
       "       'драма,мелодрама,военный', 'драма,мелодрама,детектив',\n",
       "       'драма,мелодрама,история', 'драма,мелодрама,комедия',\n",
       "       'драма,мелодрама,криминал', 'драма,мелодрама,музыка',\n",
       "       'драма,мелодрама,приключения', 'драма,мелодрама,семейный',\n",
       "       'драма,мелодрама,триллер', 'драма,мелодрама,фэнтези',\n",
       "       'драма,музыка', 'драма,мультфильм', 'драма,приключения',\n",
       "       'драма,приключения,биография', 'драма,приключения,военный',\n",
       "       'драма,приключения,история', 'драма,приключения,мелодрама',\n",
       "       'драма,приключения,семейный', 'драма,приключения,триллер',\n",
       "       'драма,приключения,фэнтези', 'драма,семейный',\n",
       "       'драма,семейный,биография', 'драма,семейный,комедия',\n",
       "       'драма,спорт', 'драма,спорт,биография', 'драма,спорт,боевик',\n",
       "       'драма,спорт,история', 'драма,спорт,комедия',\n",
       "       'драма,спорт,семейный', 'драма,триллер', 'драма,триллер,биография',\n",
       "       'драма,триллер,детектив', 'драма,триллер,криминал',\n",
       "       'драма,триллер,приключения', 'драма,ужасы', 'драма,фантастика',\n",
       "       'драма,фантастика,триллер', 'драма,фантастика,ужасы',\n",
       "       'драма,фэнтези', 'драма,фэнтези,история', 'история',\n",
       "       'история,биография,военный', 'история,биография,драма',\n",
       "       'история,боевик,фэнтези', 'история,детектив', 'история,драма',\n",
       "       'история,драма,боевик', 'история,драма,мелодрама',\n",
       "       'история,криминал', 'история,мелодрама', 'история,приключения',\n",
       "       'история,спорт,драма', 'комедия', 'комедия,биография',\n",
       "       'комедия,биография,история', 'комедия,боевик,криминал',\n",
       "       'комедия,боевик,приключения', 'комедия,боевик,фантастика',\n",
       "       'комедия,вестерн', 'комедия,военный', 'комедия,военный,музыка',\n",
       "       'комедия,детектив', 'комедия,детектив,приключения',\n",
       "       'комедия,драма', 'комедия,драма,биография',\n",
       "       'комедия,драма,военный', 'комедия,драма,короткометражка',\n",
       "       'комедия,драма,криминал', 'комедия,драма,мелодрама',\n",
       "       'комедия,драма,семейный', 'комедия,история',\n",
       "       'комедия,история,драма', 'комедия,криминал',\n",
       "       'комедия,криминал,биография', 'комедия,криминал,боевик',\n",
       "       'комедия,криминал,детектив', 'комедия,криминал,драма',\n",
       "       'комедия,криминал,история', 'комедия,криминал,приключения',\n",
       "       'комедия,криминал,семейный', 'комедия,криминал,спорт',\n",
       "       'комедия,криминал,триллер', 'комедия,мелодрама',\n",
       "       'комедия,мелодрама,драма', 'комедия,мелодрама,криминал',\n",
       "       'комедия,мелодрама,фантастика', 'комедия,мелодрама,фэнтези',\n",
       "       'комедия,музыка', 'комедия,музыка,драма',\n",
       "       'комедия,мультфильм,фантастика', 'комедия,приключения',\n",
       "       'комедия,приключения,вестерн', 'комедия,приключения,детектив',\n",
       "       'комедия,приключения,история', 'комедия,приключения,криминал',\n",
       "       'комедия,приключения,мелодрама', 'комедия,приключения,музыка',\n",
       "       'комедия,приключения,семейный', 'комедия,приключения,спорт',\n",
       "       'комедия,приключения,фэнтези', 'комедия,семейный',\n",
       "       'комедия,семейный,музыка', 'комедия,семейный,приключения',\n",
       "       'комедия,семейный,фантастика', 'комедия,семейный,фэнтези',\n",
       "       'комедия,спорт', 'комедия,триллер', 'комедия,триллер,драма',\n",
       "       'комедия,ужасы', 'комедия,фантастика', 'комедия,фантастика,боевик',\n",
       "       'комедия,фантастика,мелодрама', 'комедия,фэнтези',\n",
       "       'комедия,фэнтези,криминал', 'комедия,фэнтези,мелодрама',\n",
       "       'комедия,фэнтези,приключения', 'комедия,фэнтези,ужасы',\n",
       "       'концерт,музыка', 'концерт,музыка,документальный',\n",
       "       'короткометражка', 'короткометражка,биография',\n",
       "       'короткометражка,боевик,драма', 'короткометражка,драма',\n",
       "       'короткометражка,драма,военный', 'короткометражка,драма,триллер',\n",
       "       'короткометражка,комедия,криминал', 'короткометражка,мелодрама',\n",
       "       'короткометражка,музыка', 'короткометражка,мультфильм',\n",
       "       'короткометражка,фантастика', 'криминал',\n",
       "       'криминал,биография,комедия', 'криминал,боевик',\n",
       "       'криминал,боевик,комедия', 'криминал,боевик,триллер',\n",
       "       'криминал,детектив', 'криминал,детектив,приключения',\n",
       "       'криминал,драма', 'криминал,драма,комедия',\n",
       "       'криминал,драма,триллер', 'криминал,комедия',\n",
       "       'криминал,комедия,боевик', 'криминал,комедия,драма',\n",
       "       'криминал,комедия,триллер', 'криминал,мелодрама',\n",
       "       'криминал,триллер,драма', 'мелодрама', 'мелодрама,биография',\n",
       "       'мелодрама,военный,драма', 'мелодрама,детектив',\n",
       "       'мелодрама,детектив,комедия', 'мелодрама,драма',\n",
       "       'мелодрама,драма,боевик', 'мелодрама,драма,комедия',\n",
       "       'мелодрама,драма,музыка', 'мелодрама,драма,фэнтези',\n",
       "       'мелодрама,история', 'мелодрама,история,драма',\n",
       "       'мелодрама,история,триллер', 'мелодрама,комедия',\n",
       "       'мелодрама,комедия,драма', 'мелодрама,комедия,криминал',\n",
       "       'мелодрама,комедия,музыка', 'мелодрама,комедия,приключения',\n",
       "       'мелодрама,комедия,семейный', 'мелодрама,комедия,спорт',\n",
       "       'мелодрама,комедия,триллер', 'мелодрама,комедия,ужасы',\n",
       "       'мелодрама,криминал', 'мелодрама,музыка', 'мелодрама,музыка,драма',\n",
       "       'мелодрама,приключения', 'мелодрама,приключения,боевик',\n",
       "       'мелодрама,семейный', 'мелодрама,семейный,приключения',\n",
       "       'мелодрама,триллер,история', 'мелодрама,фантастика,драма',\n",
       "       'мелодрама,фэнтези,триллер', 'музыка,концерт',\n",
       "       'музыка,концерт,документальный', 'музыка,мелодрама,фэнтези',\n",
       "       'музыка,приключения,концерт', 'мультфильм',\n",
       "       'мультфильм,биография,драма', 'мультфильм,боевик,детектив',\n",
       "       'мультфильм,боевик,комедия', 'мультфильм,боевик,приключения',\n",
       "       'мультфильм,боевик,триллер', 'мультфильм,детский',\n",
       "       'мультфильм,детский,комедия', 'мультфильм,детский,приключения',\n",
       "       'мультфильм,детский,семейный', 'мультфильм,драма',\n",
       "       'мультфильм,драма,комедия', 'мультфильм,драма,приключения',\n",
       "       'мультфильм,история', 'мультфильм,комедия',\n",
       "       'мультфильм,комедия,детский', 'мультфильм,комедия,криминал',\n",
       "       'мультфильм,комедия,приключения', 'мультфильм,комедия,семейный',\n",
       "       'мультфильм,комедия,фантастика', 'мультфильм,короткометражка',\n",
       "       'мультфильм,короткометражка,детский',\n",
       "       'мультфильм,короткометражка,комедия',\n",
       "       'мультфильм,короткометражка,мелодрама',\n",
       "       'мультфильм,короткометражка,мюзикл',\n",
       "       'мультфильм,короткометражка,ужасы',\n",
       "       'мультфильм,короткометражка,фэнтези', 'мультфильм,мелодрама,драма',\n",
       "       'мультфильм,мелодрама,комедия', 'мультфильм,мелодрама,приключения',\n",
       "       'мультфильм,мюзикл,детский', 'мультфильм,мюзикл,драма',\n",
       "       'мультфильм,мюзикл,комедия', 'мультфильм,мюзикл,мелодрама',\n",
       "       'мультфильм,мюзикл,фэнтези', 'мультфильм,приключения',\n",
       "       'мультфильм,приключения,военный',\n",
       "       'мультфильм,приключения,детектив',\n",
       "       'мультфильм,приключения,детский', 'мультфильм,приключения,драма',\n",
       "       'мультфильм,приключения,комедия',\n",
       "       'мультфильм,приключения,семейный',\n",
       "       'мультфильм,приключения,фантастика',\n",
       "       'мультфильм,приключения,фэнтези', 'мультфильм,семейный',\n",
       "       'мультфильм,семейный,детский', 'мультфильм,семейный,драма',\n",
       "       'мультфильм,семейный,комедия', 'мультфильм,семейный,спорт',\n",
       "       'мультфильм,семейный,фэнтези', 'мультфильм,ужасы,комедия',\n",
       "       'мультфильм,ужасы,фантастика', 'мультфильм,ужасы,фэнтези',\n",
       "       'мультфильм,фантастика,боевик', 'мультфильм,фантастика,комедия',\n",
       "       'мультфильм,фантастика,приключения',\n",
       "       'мультфильм,фантастика,фэнтези', 'мультфильм,фэнтези',\n",
       "       'мультфильм,фэнтези,боевик', 'мультфильм,фэнтези,детский',\n",
       "       'мультфильм,фэнтези,драма', 'мультфильм,фэнтези,история',\n",
       "       'мультфильм,фэнтези,комедия', 'мультфильм,фэнтези,мелодрама',\n",
       "       'мультфильм,фэнтези,приключения', 'мультфильм,фэнтези,семейный',\n",
       "       'мультфильм,фэнтези,триллер', 'мюзикл', 'мюзикл,боевик,драма',\n",
       "       'мюзикл,драма', 'мюзикл,драма,мелодрама', 'мюзикл,комедия',\n",
       "       'мюзикл,комедия,детский', 'мюзикл,комедия,мелодрама',\n",
       "       'мюзикл,комедия,музыка', 'мюзикл,комедия,приключения',\n",
       "       'мюзикл,мелодрама', 'мюзикл,мелодрама,комедия',\n",
       "       'мюзикл,мелодрама,фэнтези', 'мюзикл,семейный',\n",
       "       'мюзикл,семейный,драма', 'мюзикл,ужасы,триллер',\n",
       "       'мюзикл,фэнтези,драма', 'мюзикл,фэнтези,комедия',\n",
       "       'мюзикл,фэнтези,мелодрама', 'мюзикл,фэнтези,семейный',\n",
       "       'неизвестно', 'приключения', 'приключения,биография,драма',\n",
       "       'приключения,биография,история', 'приключения,боевик',\n",
       "       'приключения,боевик,триллер', 'приключения,вестерн,боевик',\n",
       "       'приключения,военный', 'приключения,детектив,мелодрама',\n",
       "       'приключения,детектив,семейный', 'приключения,детский',\n",
       "       'приключения,детский,комедия', 'приключения,драма',\n",
       "       'приключения,драма,фантастика', 'приключения,история',\n",
       "       'приключения,история,военный', 'приключения,история,драма',\n",
       "       'приключения,комедия,фэнтези', 'приключения,мелодрама,детектив',\n",
       "       'приключения,семейный', 'приключения,семейный,драма',\n",
       "       'приключения,триллер', 'приключения,триллер,биография',\n",
       "       'приключения,фантастика', 'приключения,фантастика,драма',\n",
       "       'приключения,фантастика,семейный', 'приключения,фэнтези',\n",
       "       'приключения,фэнтези,семейный', 'реальное ТВ', 'семейный',\n",
       "       'семейный,детектив,детский', 'семейный,документальный',\n",
       "       'семейный,комедия', 'семейный,комедия,драма',\n",
       "       'семейный,комедия,музыка', 'семейный,мелодрама',\n",
       "       'семейный,мультфильм,комедия', 'семейный,приключения',\n",
       "       'семейный,приключения,военный',\n",
       "       'семейный,приключения,документальный',\n",
       "       'семейный,приключения,комедия', 'семейный,спорт,боевик',\n",
       "       'семейный,фэнтези', 'семейный,фэнтези,комедия', 'спорт,драма',\n",
       "       'спорт,драма,биография', 'спорт,драма,комедия',\n",
       "       'спорт,мелодрама,криминал', 'триллер', 'триллер,биография,драма',\n",
       "       'триллер,боевик', 'триллер,боевик,криминал',\n",
       "       'триллер,боевик,приключения', 'триллер,военный',\n",
       "       'триллер,детектив', 'триллер,детектив,драма',\n",
       "       'триллер,детектив,криминал', 'триллер,детектив,ужасы',\n",
       "       'триллер,драма', 'триллер,драма,биография', 'триллер,драма,боевик',\n",
       "       'триллер,драма,военный', 'триллер,драма,детектив',\n",
       "       'триллер,драма,история', 'триллер,драма,комедия',\n",
       "       'триллер,драма,криминал', 'триллер,драма,мелодрама',\n",
       "       'триллер,драма,приключения', 'триллер,драма,ужасы',\n",
       "       'триллер,драма,фантастика', 'триллер,комедия',\n",
       "       'триллер,комедия,криминал', 'триллер,комедия,ужасы',\n",
       "       'триллер,криминал', 'триллер,криминал,боевик',\n",
       "       'триллер,криминал,детектив', 'триллер,криминал,драма',\n",
       "       'триллер,криминал,комедия', 'триллер,криминал,приключения',\n",
       "       'триллер,мелодрама', 'триллер,мелодрама,детектив',\n",
       "       'триллер,мелодрама,драма', 'триллер,мелодрама,комедия',\n",
       "       'триллер,мелодрама,криминал', 'триллер,приключения',\n",
       "       'триллер,приключения,драма', 'триллер,ужасы',\n",
       "       'триллер,ужасы,детектив', 'триллер,ужасы,драма',\n",
       "       'триллер,ужасы,криминал', 'триллер,ужасы,мелодрама',\n",
       "       'триллер,фантастика,боевик', 'триллер,фантастика,драма',\n",
       "       'триллер,фэнтези', 'триллер,фэнтези,драма', 'ужасы',\n",
       "       'ужасы,боевик', 'ужасы,боевик,комедия', 'ужасы,боевик,криминал',\n",
       "       'ужасы,боевик,триллер', 'ужасы,боевик,фантастика',\n",
       "       'ужасы,боевик,фэнтези', 'ужасы,детектив', 'ужасы,драма',\n",
       "       'ужасы,драма,вестерн', 'ужасы,драма,военный',\n",
       "       'ужасы,драма,детектив', 'ужасы,драма,комедия',\n",
       "       'ужасы,драма,мелодрама', 'ужасы,драма,триллер', 'ужасы,комедия',\n",
       "       'ужасы,комедия,боевик', 'ужасы,комедия,детектив',\n",
       "       'ужасы,комедия,драма', 'ужасы,комедия,криминал',\n",
       "       'ужасы,комедия,музыка', 'ужасы,комедия,приключения',\n",
       "       'ужасы,комедия,семейный', 'ужасы,комедия,фантастика',\n",
       "       'ужасы,комедия,фэнтези', 'ужасы,мелодрама,детектив',\n",
       "       'ужасы,мелодрама,комедия', 'ужасы,приключения', 'ужасы,триллер',\n",
       "       'ужасы,триллер,детектив', 'ужасы,триллер,драма',\n",
       "       'ужасы,триллер,комедия', 'ужасы,триллер,криминал',\n",
       "       'ужасы,триллер,мелодрама', 'ужасы,триллер,приключения',\n",
       "       'ужасы,триллер,фантастика', 'ужасы,фантастика',\n",
       "       'ужасы,фантастика,боевик', 'ужасы,фантастика,детектив',\n",
       "       'ужасы,фантастика,драма', 'ужасы,фантастика,комедия',\n",
       "       'ужасы,фантастика,мелодрама', 'ужасы,фантастика,триллер',\n",
       "       'ужасы,фантастика,фэнтези', 'ужасы,фэнтези',\n",
       "       'ужасы,фэнтези,боевик', 'ужасы,фэнтези,детектив',\n",
       "       'ужасы,фэнтези,драма', 'ужасы,фэнтези,комедия',\n",
       "       'ужасы,фэнтези,мелодрама', 'ужасы,фэнтези,приключения',\n",
       "       'ужасы,фэнтези,триллер', 'фантастика', 'фантастика,боевик',\n",
       "       'фантастика,боевик,военный', 'фантастика,боевик,детектив',\n",
       "       'фантастика,боевик,драма', 'фантастика,боевик,комедия',\n",
       "       'фантастика,боевик,криминал', 'фантастика,боевик,мелодрама',\n",
       "       'фантастика,боевик,приключения', 'фантастика,боевик,семейный',\n",
       "       'фантастика,боевик,триллер', 'фантастика,боевик,ужасы',\n",
       "       'фантастика,боевик,фэнтези', 'фантастика,детектив,боевик',\n",
       "       'фантастика,детектив,фэнтези', 'фантастика,драма',\n",
       "       'фантастика,драма,боевик', 'фантастика,драма,детектив',\n",
       "       'фантастика,драма,комедия', 'фантастика,драма,криминал',\n",
       "       'фантастика,драма,мелодрама', 'фантастика,драма,приключения',\n",
       "       'фантастика,драма,триллер', 'фантастика,драма,ужасы',\n",
       "       'фантастика,комедия', 'фантастика,комедия,боевик',\n",
       "       'фантастика,комедия,детектив', 'фантастика,комедия,приключения',\n",
       "       'фантастика,комедия,семейный', 'фантастика,мелодрама',\n",
       "       'фантастика,мелодрама,боевик', 'фантастика,мелодрама,комедия',\n",
       "       'фантастика,мелодрама,фэнтези', 'фантастика,мультфильм,драма',\n",
       "       'фантастика,приключения', 'фантастика,приключения,боевик',\n",
       "       'фантастика,приключения,военный',\n",
       "       'фантастика,приключения,детектив', 'фантастика,приключения,драма',\n",
       "       'фантастика,приключения,семейный', 'фантастика,триллер',\n",
       "       'фантастика,триллер,боевик', 'фантастика,триллер,детектив',\n",
       "       'фантастика,триллер,драма', 'фантастика,триллер,комедия',\n",
       "       'фантастика,триллер,криминал', 'фантастика,триллер,мелодрама',\n",
       "       'фантастика,триллер,приключения', 'фантастика,фэнтези,боевик',\n",
       "       'фантастика,фэнтези,детектив', 'фантастика,фэнтези,драма',\n",
       "       'фантастика,фэнтези,комедия', 'фантастика,фэнтези,приключения',\n",
       "       'фантастика,фэнтези,триллер', 'фильм-нуар,триллер,детектив',\n",
       "       'фэнтези', 'фэнтези,боевик', 'фэнтези,боевик,вестерн',\n",
       "       'фэнтези,боевик,военный', 'фэнтези,боевик,детектив',\n",
       "       'фэнтези,боевик,драма', 'фэнтези,боевик,комедия',\n",
       "       'фэнтези,боевик,криминал', 'фэнтези,боевик,мелодрама',\n",
       "       'фэнтези,боевик,приключения', 'фэнтези,боевик,семейный',\n",
       "       'фэнтези,боевик,триллер', 'фэнтези,боевик,ужасы', 'фэнтези,драма',\n",
       "       'фэнтези,драма,биография', 'фэнтези,драма,детектив',\n",
       "       'фэнтези,драма,комедия', 'фэнтези,драма,мелодрама',\n",
       "       'фэнтези,драма,приключения', 'фэнтези,драма,семейный',\n",
       "       'фэнтези,драма,ужасы', 'фэнтези,драма,фильм-нуар',\n",
       "       'фэнтези,комедия', 'фэнтези,комедия,детектив',\n",
       "       'фэнтези,комедия,драма', 'фэнтези,комедия,криминал',\n",
       "       'фэнтези,комедия,приключения', 'фэнтези,комедия,семейный',\n",
       "       'фэнтези,мелодрама', 'фэнтези,мелодрама,драма',\n",
       "       'фэнтези,мелодрама,комедия', 'фэнтези,мелодрама,приключения',\n",
       "       'фэнтези,приключения', 'фэнтези,приключения,боевик',\n",
       "       'фэнтези,приключения,драма', 'фэнтези,приключения,комедия',\n",
       "       'фэнтези,приключения,семейный', 'фэнтези,семейный',\n",
       "       'фэнтези,семейный,мелодрама', 'фэнтези,семейный,приключения',\n",
       "       'фэнтези,триллер,детектив', 'фэнтези,триллер,драма',\n",
       "       'фэнтези,триллер,мелодрама', 'фэнтези,триллер,приключения',\n",
       "       'фэнтези,ужасы', 'фэнтези,ужасы,триллер'], dtype=object)"
      ]
     },
     "execution_count": 26,
     "metadata": {},
     "output_type": "execute_result"
    }
   ],
   "source": [
    "data['genres'].sort_values().unique()"
   ]
  },
  {
   "cell_type": "code",
   "execution_count": 27,
   "metadata": {
    "scrolled": true
   },
   "outputs": [
    {
     "data": {
      "text/plain": [
       "array([' СССР', ' СССР ', ' СССР   ', '2019', 'CША', 'Австралия',\n",
       "       'Австралия - Великобритания - Бельгия - Индия',\n",
       "       'Австралия - Германия', 'Австралия - Ирландия',\n",
       "       'Австралия - Колумбия', 'Австралия - США', 'Австралия, Канада',\n",
       "       'Австралия, США', 'Австралия-Великобритания', 'Австралия-Ирландия',\n",
       "       'Австралия-США', 'Австралия-Турция-США', 'Австрия',\n",
       "       'Австрия - Германия', 'Австрия - Германия - Франция',\n",
       "       'Австрия - Люксембург', 'Австрия, Великобритания, Германия',\n",
       "       'Австрия-Германия-Франция', 'Австрия-Франция-Германия',\n",
       "       'Азербайджан-Россия', 'Аргентина', 'Аргентина - Бразилия',\n",
       "       'Аргентина - Испания', 'Аргентина - Испания - Уругвай',\n",
       "       'Аргентина - Мексика - Бразилия - Франция - США',\n",
       "       'Аргентина - Уругвай - Россия - Германия - Франция - Нидерланды',\n",
       "       'Аргентина - Франция - Испания', 'Аргентина, Испания',\n",
       "       'Аргентина-Испания', 'Армения', 'Армения - Германия',\n",
       "       'Армения - Казахстан', 'Армения-Россия', 'Бельгия',\n",
       "       'Бельгия - Германия - Люксембург',\n",
       "       'Бельгия - Германия - Люксембург - Франция',\n",
       "       'Бельгия - Испания - Канада - Нидерланды',\n",
       "       'Бельгия - Италия - Франция ', 'Бельгия - Люксембург',\n",
       "       'Бельгия - Люксембург - Франция - Швейцария',\n",
       "       'Бельгия - Нидерланды - Франция', 'Бельгия - США',\n",
       "       'Бельгия - Франция', 'Бельгия - Франция - Люксембург',\n",
       "       'Бельгия, Великобритания, США', 'Бельгия, Канада',\n",
       "       'Бельгия-Германия-Канада-Франция-США-Великобритания',\n",
       "       'Бельгия-Нидерланды', 'Бельгия-Франция', 'Бельгия-Франция-Италия',\n",
       "       'Болгария', 'Болгария - США', 'Болгария - Франция - Изриль',\n",
       "       'Босния и Герцеговина - Франция - Великобритания - Германия - Словения - Бельгия - Сербия',\n",
       "       'Бразилия', 'Бразилия - Германия - Порртугалия - Франция ',\n",
       "       'Бразилия - Испания', 'Бразилия - К;анада',\n",
       "       'Бразилия - Канада - США', 'Бразилия - Португалия - Франция',\n",
       "       'Бразилия - США', 'Бразилия - США - КНР ',\n",
       "       'Бразилия, Уругвай, Дания, Норвегия, Чили, Швеция',\n",
       "       'Великобритания', 'Великобритания ',\n",
       "       'Великобритания - Австралия - США',\n",
       "       'Великобритания - Австрия - Германия',\n",
       "       'Великобритания - Австрия - Франция - США',\n",
       "       'Великобритания - Аргентина - США - Франция - Россия - Испания',\n",
       "       'Великобритания - Германия',\n",
       "       'Великобритания - Германия - Нидерланды - Дания',\n",
       "       'Великобритания - Германия - США',\n",
       "       'Великобритания - Германия - Франция - Кипр - США',\n",
       "       'Великобритания - Гонконг - Венгрия - США - Ирландия',\n",
       "       'Великобритания - Дания', 'Великобритания - Израиль',\n",
       "       'Великобритания - Израиль - Франция - Япония - США',\n",
       "       'Великобритания - Ирландия', 'Великобритания - Ирландия - США',\n",
       "       'Великобритания - Ирландия - США ',\n",
       "       'Великобритания - Исландия - Испания - Швейцария - США',\n",
       "       'Великобритания - Испания', 'Великобритания - Испания - Германия',\n",
       "       'Великобритания - Испания - Италия - Латвия - Франция - Эстония',\n",
       "       'Великобритания - Испания - Непал - Индия - Венгрия - Гонконг - Германия - Дания - Бахрейн',\n",
       "       'Великобритания - Италия', 'Великобритания - Италия - Испания',\n",
       "       'Великобритания - Италия - Швейцария', 'Великобритания - КНР',\n",
       "       'Великобритания - Канада', 'Великобритания - Канада - США',\n",
       "       'Великобритания - Люксембург', 'Великобритания - Мексика - США',\n",
       "       'Великобритания - Нидерланды - Германия - Франция - Бельгия - Австрия ',\n",
       "       'Великобритания - Нидерланды - Франция - США',\n",
       "       'Великобритания - Нидерланды - Франция - Хорватия',\n",
       "       'Великобритания - Новая Зеландия',\n",
       "       'Великобритания - Норвегия - Дания - Германия',\n",
       "       'Великобритания - Норвегия - Кения - Хорватия',\n",
       "       'Великобритания - Польша',\n",
       "       'Великобритания - Польша - КНР - Индия - Норвегия',\n",
       "       'Великобритания - Пуэрто-Рико', 'Великобритания - Россия - КНР',\n",
       "       'Великобритания - Россия - Украина - США',\n",
       "       'Великобритания - Румыния', 'Великобритания - США',\n",
       "       'Великобритания - США - Австралия - Ирландия - Германия - Куба - Канада',\n",
       "       'Великобритания - США - Германия',\n",
       "       'Великобритания - США - Германия - Бельгия',\n",
       "       'Великобритания - США - Германия - Канада - Австралия',\n",
       "       'Великобритания - США - Индия', 'Великобритания - США - Канада',\n",
       "       'Великобритания - США - Канада - Бельгия - Нидерланды - Австрия - Германия',\n",
       "       'Великобритания - США - Канада - Нидерланды - Франция',\n",
       "       'Великобритания - США - Россия', 'Великобритания - США - Франция',\n",
       "       'Великобритания - США - Швейцария', 'Великобритания - Франция',\n",
       "       'Великобритания - Франция - Австрия - Швеция',\n",
       "       'Великобритания - Франция - Бельгия',\n",
       "       'Великобритания - Франция - Бельгия - Италия',\n",
       "       'Великобритания - Франция - Бельгия - США',\n",
       "       'Великобритания - Франция - Венгрия',\n",
       "       'Великобритания - Франция - Германия',\n",
       "       'Великобритания - Франция - Германия - США',\n",
       "       'Великобритания - Франция - Италия',\n",
       "       'Великобритания - Франция - Италия - Индия - Дания - КНР - Бангладеш - Камбоджа - Гаити - Уганда',\n",
       "       'Великобритания - Франция - Италия - США',\n",
       "       'Великобритания - Франция - Республика Кипр - Швейцария - США - Сербия',\n",
       "       'Великобритания - Франция - США',\n",
       "       'Великобритания - Франция - Швеция - Бельгия',\n",
       "       'Великобритания - Чехия - Франция',\n",
       "       'Великобритания - Чехия - Франция - Италия',\n",
       "       'Великобритания - ЮАР', 'Великобритания - Япония - США',\n",
       "       'Великобритания, Австралия',\n",
       "       'Великобритания, Германия, Дания, США', 'Великобритания, Канада',\n",
       "       'Великобритания, Канада, США',\n",
       "       'Великобритания, Нидерланды, Польша, Швейцария, Франция',\n",
       "       'Великобритания, Новая Зеландия', 'Великобритания, США',\n",
       "       'Великобритания, США, Испания', 'Великобритания, Франция',\n",
       "       'Великобритания, Франция, Бельгия', 'Великобритания, Швеция, США',\n",
       "       'Великобритания, Южная Корея, Канада, США, Индия, Китай, Япония',\n",
       "       'Великобритания, Япония, США', 'Великобритания-Австралия - США',\n",
       "       'Великобритания-Венгрия', 'Великобритания-Германия-Канада-ЮАР',\n",
       "       'Великобритания-США', 'Великобритания-США-Германия-КНР',\n",
       "       'Великобритания-США-Франция', 'Великобритания-Франция',\n",
       "       'Великобритания-Франция-Германия', 'Великобритания-Франция-Италия',\n",
       "       'Венгрия', 'Венгрия - Германия - Швеция', 'Венесуэла', 'Германия',\n",
       "       'Германия - Австралия', 'Германия - Австрия',\n",
       "       'Германия - Австрия - Ирландия', 'Германия - Австрия - Франция',\n",
       "       'Германия - Аргентина - Нидерланды - Чили', 'Германия - Бельгия',\n",
       "       'Германия - Бельгия - Великобритания',\n",
       "       'Германия - Бельгия - Люксембург - Ирландия',\n",
       "       'Германия - Бельгия - Люксембург - Норвегия',\n",
       "       'Германия - Бельгия - США -Франция', 'Германия - Великобритания',\n",
       "       'Германия - Великобритания - Австрия',\n",
       "       'Германия - Великобритания - Италия - Испания',\n",
       "       'Германия - Великобритания - США',\n",
       "       'Германия - Дания - Испания - Швеция - Канада - Эстония - Франция',\n",
       "       'Германия - Дания - Норвегия', 'Германия - Исландия',\n",
       "       'Германия - Италия', 'Германия - Италия - США',\n",
       "       'Германия - Италия - Франция', 'Германия - Канада',\n",
       "       'Германия - Китай', 'Германия - Люксембург - Бельгия',\n",
       "       'Германия - Люксембург - Дания', 'Германия - Люксембург - Франция',\n",
       "       'Германия - Нидерланды - Беларусь - Россия - Латвия',\n",
       "       'Германия - Нидерланды - ЮАР', 'Германия - Россия',\n",
       "       'Германия - США', 'Германия - США - Великобритания - Израиль',\n",
       "       'Германия - США - Великобритания - Ирландия',\n",
       "       'Германия - США - Франция - Испания',\n",
       "       'Германия - США - Швеция - Франция',\n",
       "       'Германия - Финляндия - Австралия', 'Германия - Франция',\n",
       "       'Германия - Франция -  Польша - Турция - Канада - Италия - Россия ',\n",
       "       'Германия - Франция - Австрия', 'Германия - Франция - Бельгия',\n",
       "       'Германия - Франция - Великобритания - Польша - США',\n",
       "       'Германия - Франция - Канада', 'Германия - Франция - Люксембург',\n",
       "       'Германия - Франция - Польша', 'Германия - Швейцария',\n",
       "       'Германия - Швейцария - Франция - Южная Корея - США',\n",
       "       'Германия, Австралия', 'Германия, Бельгия', 'Германия, Россия',\n",
       "       'Германия, США', 'Германия, Франция',\n",
       "       'Германия, Франция, Великобритания', 'Германия, Франция, США',\n",
       "       'Германия-Австрия', 'Германия-Австрия-Франция-Италия',\n",
       "       'Германия-Великобритания', 'Германия-Израиль',\n",
       "       'Германия-Италия- Шри-Ланка', 'Германия-Италия-Швейцария',\n",
       "       'Германия-Канада-Великобритания-Швейцария-Франция',\n",
       "       'Германия-Канада-Франция-Бельгия', 'Германия-Кения',\n",
       "       'Германия-США', 'Германия-Украина-Нидерланды',\n",
       "       'Германия-Франция-Великобритания',\n",
       "       'Германия-Франция-Великобритания-США', 'Германия-Франция-Польша',\n",
       "       'Германия-Швеция', 'Голландия', 'Гонконг', 'Гонконг - КНР',\n",
       "       'Гонконг - Сингапур - Таиланд - Великобритания', 'Гонконг, КНР',\n",
       "       'Греция', 'Греция - Германия - Франция', 'Греция - Россия',\n",
       "       'Грузия', 'Грузия - Россия - Украина - Хорватия - Германия',\n",
       "       'Грузия - Украина', 'Грузия - Франция - Люксембург',\n",
       "       'Грузия-Россия', 'Грузия-Франция', 'Дания',\n",
       "       'Дания - Австрия - Ирландия - Финляндия - Норвегия - Швеция - Нидерланды',\n",
       "       'Дания - Великобритания - ЮАР', 'Дания - Германия',\n",
       "       'Дания - Германия - Швеция', 'Дания - Исландия',\n",
       "       'Дания - Канада - Швеция - Франция - Германия - Великобритания - США',\n",
       "       'Дания - Латвия - Россия - США',\n",
       "       'Дания - Норвегия - Великобритания', 'Дания - США',\n",
       "       'Дания - Франция - Германия - Швеция',\n",
       "       'Дания - Франция - Италия - Бельгия - Нидерланды',\n",
       "       'Дания - Швейцария - Бельгия - Франция', 'Дания - Швеция',\n",
       "       'Дания - Швеция - Великобритания - Франция - Германия - Нидерланды - Норвегия - Финляндия',\n",
       "       'Дания - Швеция - Италия - Франция - Германия',\n",
       "       'Дания, Канада, Норвегия, Австралия, США',\n",
       "       'Дания, Норвегия, Венгрия, Чехия',\n",
       "       'Дания, Норвегия, Швеция, Исландия',\n",
       "       'Дания, Швеция, Великобритания, Франция, Германия, Норвегия, Финляндия, Нидерланды, Италия',\n",
       "       'Дания-Франция-Бельгия-Германия-Великобритания',\n",
       "       'Дания-Швеция-Франция-Германия', 'Израиль',\n",
       "       'Израиль - Германия - Польша - Бельгия - Франция - Люксембург',\n",
       "       'Израиль - Германия - Франция - Швейцария', 'Израиль - Франция',\n",
       "       'Израиль - Франция - Великобритания - Германия',\n",
       "       'Израиль - Франция - Германия - Палестина - США - Австрия - Великобритания',\n",
       "       'Израиль, Украина', 'Израиль-США-Франция', 'Индия',\n",
       "       'Индия - Великобритания', 'Индия - КНР', 'Индия - Мексика',\n",
       "       'Индия - США', 'Индонезия', 'Иран', 'Иран ', 'Иран, Франция',\n",
       "       'Ирландия', 'Ирландия - Великобритания - Канада',\n",
       "       'Ирландия - Великобритания - США',\n",
       "       'Ирландия - Великобритания - Франция - США',\n",
       "       'Ирландия - Великобритания - Франция - США - Германия - Нидерланды',\n",
       "       'Ирландия - Дания - Бельгия - Люксембург - Франция',\n",
       "       'Ирландия - США',\n",
       "       'Ирландия - Финляндия - Бельгия - Великобритания - США - Швейцария',\n",
       "       'Ирландия, Великобритания', 'Ирландия, Канада',\n",
       "       'Ирландия-Великобритания', 'Ирландия-Великобритания-Германия',\n",
       "       'Ирландия-Нидерланды-Франция-США-Великобритания', 'Исландия',\n",
       "       'Исландия - Финляндия', 'Исландия, Бельгия',\n",
       "       'Исландия-Ирландия-Германия', 'Испания', 'Испания - Аргентина',\n",
       "       'Испания - Аргентина - Индия - США',\n",
       "       'Испания - Бельгия - Франция - Португалия - Великобритания',\n",
       "       'Испания - Болгария - США', 'Испания - Великобритания - Франция',\n",
       "       'Испания - Германия - Нидерланды', 'Испания - Италия - Франция',\n",
       "       'Испания - Канада', 'Испания - Канада - Япония', 'Испания - Куба',\n",
       "       'Испания - Мальта', 'Испания - Мексика', 'Испания - США',\n",
       "       'Испания - США - Великобритания - Канада',\n",
       "       'Испания - США - Колумбия', 'Испания - Уругвай - Аргентина',\n",
       "       'Испания - Франция',\n",
       "       'Испания - Франция - Нидерланды - Германия - Бельгия - Великобритания - Канада',\n",
       "       'Испания - Франция - США - Великобритания - Бельгия',\n",
       "       'Испания - Швейцария - Великобритания - Германия - Новая Зеландия - Нидерланды - Канада',\n",
       "       'Испания, Ирландия, Бельгия, Франция',\n",
       "       'Испания, Франция, Великобритания, Дания, Бельгия, Германия',\n",
       "       'Испания, Франция, Италия', 'Испания-Аргентина', 'Испания-Канада',\n",
       "       'Испания-Колумбия', 'Испания-Мексика',\n",
       "       'Испания-Франция-Греция-Индия-США-Россия-Великобритания', 'Италия',\n",
       "       'Италия ', 'Италия - Аргентина - Словения ',\n",
       "       'Италия - Бельгия - Франция', 'Италия - Канада', 'Италия - Россия',\n",
       "       'Италия - США', 'Италия - Франция', 'Италия - Франция - Германия',\n",
       "       'Италия - Франция - Швейцария',\n",
       "       'Италия - Франция - Швейцария - Великобритания',\n",
       "       'Италия - Фрация - Бразилия - Германия',\n",
       "       'Италия - Швейцария - Германия', 'Италия, Германия',\n",
       "       'Италия, Испания', 'Италия, Франция', 'Италия, Франция, Германия',\n",
       "       'Италия-Великобритания', 'Италия-США', 'Италия-Франция',\n",
       "       'Италия-Франция-Великобритания', 'Италия-Швейцария',\n",
       "       'Италия-Швейцария-Франция-Германия ', 'КНР', 'КНР - Гонконг',\n",
       "       'КНР - Гонконг - США', 'КНР - Канада - США', 'КНР - США',\n",
       "       'КНР - США ', 'КНР - Сингапур', 'КНР - Франция',\n",
       "       'КНР, Индия, Гонконг, США', 'КНР, США', 'КНР-США', 'Казахстан',\n",
       "       'Канада', 'Канада - Германия', 'Канада - Испания',\n",
       "       'Канада - Италия', 'Канада - КНР', 'Канада - Мексика',\n",
       "       'Канада - Норвегия', 'Канада - США',\n",
       "       'Канада - США - Германия - Франция',\n",
       "       'Канада - США - Нидерланды - Великобритания - Аргентина',\n",
       "       'Канада - Франция', 'Канада - Франция - Великобритания',\n",
       "       'Канада - Франция - Испания',\n",
       "       'Канада - Франция - США - ОАЭ - Великобритания',\n",
       "       'Канада - Южная Корея', 'Канада, Великобритания', 'Канада, США',\n",
       "       'Канада, США, Каймановы острова', 'Канада, США, Норвегия',\n",
       "       'Канада, Франция, Италия, Швейцария, США', 'Канада- Испания',\n",
       "       'Канада-Бразилия-Япония', 'Канада-Великобритания',\n",
       "       'Канада-Германия', 'Канада-США', 'Канада-Франция', 'Канада-ЮАР',\n",
       "       'Канада-Южная Корея-США', 'Кения, Германия', 'Киргизия',\n",
       "       'Киргизия-Россия', 'Китай', 'Китай - Гонконг',\n",
       "       'Китай, Канада, США', 'Китай, США', 'Китай-Гонконг',\n",
       "       'Китай-Гонконг-США', 'Княжество Андорра - Украина', 'Колумбия',\n",
       "       'Колумбия - США', 'Корея', 'Латвия - Россия', 'Латвия - Франция',\n",
       "       'Ливан-США', 'Литва - Венгрия', 'Литва-Россия-Украина',\n",
       "       'Люксембург - Бельгия - Франция',\n",
       "       'Люксембург - Нидерланды - Испания - Великобритания - США - Италия',\n",
       "       'Македония - Франция - Великобритания', 'Малайзия',\n",
       "       'Малайзия - США', 'Мексика',\n",
       "       'Мексика - Аргентина - Великобритания', 'Мексика - Испания',\n",
       "       'Мексика - Испания - Дания - США',\n",
       "       'Мексика - Нидерланды - Германия - Франция', 'Мексика - США',\n",
       "       'Мексика - Тайвань - США', 'Мексика - Франция',\n",
       "       'Мексика - Франция - Нидерланды - Германия', 'Мексика - Чили',\n",
       "       'Мексика - Эквадор - Канада - США - Франция - Малайзия - Италия - Аргентина - Германия - Индия  ',\n",
       "       'Мексика, Франция, Германия, Дания, Швеция', 'Мексика-Аргентина',\n",
       "       'Монголия', 'Нидерланды', 'Нидерланды - Бельгия - Болгария',\n",
       "       'Нидерланды - Бельгия - Германия - Ирландия',\n",
       "       'Нидерланды - Бельгия - Люксембург',\n",
       "       'Нидерланды - Великобритания - Бельгия', 'Нидерланды - Россия',\n",
       "       'Нидерланды - Россия - Германия',\n",
       "       'Нидерланды - США - Германия - Канада - Франция - Ирландия - Великобритания',\n",
       "       'Нидерланды - Франция - Германия - Бельгия - Швеция - Великобритания',\n",
       "       'Нидерланды, Бельгия', 'Нидерланды, Бельгия, Люксембург',\n",
       "       'Нидерланды-Великобритания-Франция-Италия-Япония',\n",
       "       'Новая Зеландия', 'Новая Зеландия - КНР', 'Новая Зеландия - США',\n",
       "       'Норвегия',\n",
       "       'Норвегия - Азербайджан - Россия - Колумбия - Великобритания - Венгрия - Румыния - Франция - Грузия',\n",
       "       'Норвегия - Дания - Швеция',\n",
       "       'Норвегия - Исландия - США - Великобритания ',\n",
       "       'Норвегия - Нидерланды', 'Норвегия - США', 'Норвегия - Швеция',\n",
       "       'Норвегия - Швеция - Дания - Германия',\n",
       "       'Норвегия - Швеция - Россия', 'Норвегия, Швеция, Дания',\n",
       "       'Норвения', 'ОАЭ - США', 'Пакистан', 'Парагвай', 'Перу', 'Польша',\n",
       "       'Польша - Ирландия', 'Польша - Италия - Россия',\n",
       "       'Польша - Португалия - Франция - Великобритания',\n",
       "       'Польша - Франция', 'Польша - Франция - Великобритания',\n",
       "       'Польша - Франция - Испания - Бразилия - Швеция', 'Португалия',\n",
       "       'Португалия - Франция', 'Португалия, Франция, Польша, США',\n",
       "       'Пуэрто-Рико, Великобритания, США', 'Республика Армения',\n",
       "       'Республика Беларусь',\n",
       "       'Республика Беларусь, Германия, США, Россия',\n",
       "       'Республика Казахстан', 'Республика Кипр',\n",
       "       'Республика Кипр - Россия', 'Республика Кипр, Россия',\n",
       "       'Республика Кипр, США, Россия', 'Республика Кипр-Россия',\n",
       "       'Республика Корея', 'Республика Узбекистан', 'Россия',\n",
       "       'Россия - Азербайджан', 'Россия - Болгария', 'Россия - Германия',\n",
       "       'Россия - Германия - Украина', 'Россия - Германия - Швейцария',\n",
       "       'Россия - Грузия', 'Россия - Италия', 'Россия - Казахстан',\n",
       "       'Россия - Польша', 'Россия - Республика Кипр', 'Россия - США',\n",
       "       'Россия - Франция - Великобритания - Латвия',\n",
       "       'Россия - Эстония - Финляндия - Беларусь', 'Россия,  Испания',\n",
       "       'Россия, Австрия', 'Россия, Армения', 'Россия, Бельгия, Финляндия',\n",
       "       'Россия, Германия', 'Россия, Германия, Великобритания',\n",
       "       'Россия, Германия, Казахстан, Польша, Китай',\n",
       "       'Россия, Германия, Франция, Бельгия', 'Россия, Грузия, Испания',\n",
       "       'Россия, Грузия, Хорватия, Испания', 'Россия, Испания',\n",
       "       'Россия, Италия', 'Россия, Казахстан, США',\n",
       "       'Россия, Латвия, Чешская Республика',\n",
       "       'Россия, Нидерланды, Финляндия', 'Россия, Польша, Финляндия',\n",
       "       'Россия, Республика Беларусь', 'Россия, Республика Кипр',\n",
       "       'Россия, Румыния', 'Россия, Сербия', 'Россия, Таджикистан',\n",
       "       'Россия, Украина', 'Россия, Украина, Польша',\n",
       "       'Россия, Украина, Республика Беларусь, Литва',\n",
       "       'Россия, Франция, Германия, Бельгия', 'Россия, Франция, Латвия',\n",
       "       'Россия-Азербайджан', 'Россия-Беларусь', 'Россия-Белоруссия',\n",
       "       'Россия-Германия', 'Россия-Ирландия', 'Россия-Италия',\n",
       "       'Россия-Казахстан', 'Россия-Кипр', 'Россия-Китай', 'Россия-Польша',\n",
       "       'Россия-Польша-Голландия-Словакия', 'Россия-США',\n",
       "       'Россия-США-Канада-Люксембург', 'Россия-Словакия-Чехия',\n",
       "       'Россия-Украина', 'Россия-Украина-Германия', 'Россия-Франция',\n",
       "       'Румыния', 'Румыния - Франция - Бельгия',\n",
       "       'Румыния, ЮАР, Иран, Франция, Канада, Великобритания',\n",
       "       'Румыния-США', 'СССР', 'СССР ', 'СССР  ', 'СССР   ', 'СССР    ',\n",
       "       'СССР     ', 'СССР - ГДР - Польша - Италия', 'СССР - Италия',\n",
       "       'СССР - Швейцария - Франция', 'СССР, Албания', 'СССР, Афганистан',\n",
       "       'СССР, ВНР', 'СССР, Венгрия', 'СССР, Венгрия, ЧССР, ГДР',\n",
       "       'СССР, ГДР', 'СССР, Италия', 'СССР, Монголия', 'СССР, Польша',\n",
       "       'СССР, Россия', 'СССР, Румыния, Франция', 'СССР, ФРГ',\n",
       "       'СССР, ФРГ, Западный Берлин', 'СССР, Финляндия',\n",
       "       'СССР, Франция, Англия, Куба, ГДР',\n",
       "       'СССР, ЧССР, Западный Берлин, ПНР', 'СССР, Швеция', 'США', 'США ',\n",
       "       'США - Австралия', 'США - Австралия - Дания',\n",
       "       'США - Австралия - Индия', 'США - Австралия - Мексика',\n",
       "       'США - Австралия - Новая Зеландия - Великобритания',\n",
       "       'США - Австралия - Франция', 'США - Бельгия',\n",
       "       'США - Бельгия - Великобритания', 'США - Болгария - Мексика',\n",
       "       'США - Бразилия - Великобритания - Канада',\n",
       "       'США - Бразилия - Франция - Австралия - Великобритания - Германия',\n",
       "       'США - Великобритания', 'США - Великобритания ',\n",
       "       'США - Великобритания - Австралия',\n",
       "       'США - Великобритания - Болгария',\n",
       "       'США - Великобритания - Германия',\n",
       "       'США - Великобритания - Германия - - Швеция - Канада',\n",
       "       'США - Великобритания - Германия - Бельгия - Дания',\n",
       "       'США - Великобритания - Германия - Новая Зеландия - Бельгия - Франция',\n",
       "       'США - Великобритания - Ирландия',\n",
       "       'США - Великобритания - Исландия',\n",
       "       'США - Великобритания - Испания',\n",
       "       'США - Великобритания - Италия - Израиль - Сербия - Индия',\n",
       "       'США - Великобритания - КНР', 'США - Великобритания - Канада',\n",
       "       'США - Великобритания - Канада - КНР',\n",
       "       'США - Великобритания - Канада - Швеция',\n",
       "       'США - Великобритания - Новая Зеландия',\n",
       "       'США - Великобритания - Франция',\n",
       "       'США - Великобритания - Франция - Гонконг',\n",
       "       'США - Великобритания - Чехия',\n",
       "       'США - Великобритания - Швейцария - Франция',\n",
       "       'США - Великобритания - Швеция', 'США - Великобритания - Япония',\n",
       "       'США - Великобритания- Франция - Швеция',\n",
       "       'США - Венгрия - Великобритания', 'США - Вьетнам',\n",
       "       'США - Германия', 'США - Германия - Великобритания',\n",
       "       'США - Германия - Гонконг - Сингапур', 'США - Германия - КНР',\n",
       "       'США - Германия - Канада', 'США - Германия - Нидерланды',\n",
       "       'США - Германия - Франция',\n",
       "       'США - Германия - Франция - Великобритания - Канада ',\n",
       "       'США - Германия - Япония', 'США - Гонконг', 'США - Гонконг - КНР ',\n",
       "       'США - Дания', 'США - Индия', 'США - Индия - ОАЭ',\n",
       "       'США - Ирландия - Великобритания',\n",
       "       'США - Ирландия - Великобритания - Франция', 'США - Испания',\n",
       "       'США - Испания - Болгария', 'США - Испания - Франция',\n",
       "       'США - Испания - Франция - Великобритания', 'США - Италия',\n",
       "       'США - КНР', 'США - КНР - Индия - Ю.Корея', 'США - Канада',\n",
       "       'США - Канада - Аргентина',\n",
       "       'США - Канада - Афганистан - Бельгия - Франция',\n",
       "       'США - Канада - Великобритания', 'США - Канада - Германия',\n",
       "       'США - Канада - Германия - Франция', 'США - Канада - Индонезия',\n",
       "       'США - Канада - КНР',\n",
       "       'США - Канада - Россия - Франция - Чили - Ирландия',\n",
       "       'США - Канада - Франция - Индия', 'США - Канада - Япония - КНР',\n",
       "       'США - Китай', 'США - Колумбия', 'США - Колумбия - Испания',\n",
       "       'США - Мальта', 'США - Мексика',\n",
       "       'США - Нидерланды - Бельгия - Венгрия - Греция - Канада',\n",
       "       'США - Нидерланды - Финляндия - Великобритания - Италия',\n",
       "       'США - Новая Зеландия', 'США - Новая Зеландия - Япония',\n",
       "       'США - Норвегия', 'США - ОАЭ',\n",
       "       'США - Объединенные Арабские Эмираты', 'США - Пуэрто Рико',\n",
       "       'США - Пуэрто-Рико - Франция ', 'США - Россия',\n",
       "       'США - Россия - Польша - Германия - Пуэрто Рико',\n",
       "       'США - Россия - Франция', 'США - Румыния - Великобритания',\n",
       "       'США - Сингапур - Малайзия - Индонезия', 'США - Украина',\n",
       "       'США - Финляндия',\n",
       "       'США - Финляндия - Испания - Великобритания - Франция',\n",
       "       'США - Франция', 'США - Франция - Бельгия - Италия',\n",
       "       'США - Франция - Великобритания',\n",
       "       'США - Франция - Великобритания - Бразилия ',\n",
       "       'США - Франция - Германия',\n",
       "       'США - Франция - Германия - Канада - Австралия ',\n",
       "       'США - Франция - Испания - Великобритания',\n",
       "       'США - Франция - Канада - Великобритания',\n",
       "       'США - Франция - Канада - Германия - Австралия - Индия',\n",
       "       'США - Франция - Турция', 'США - Франция - ЮАР',\n",
       "       'США - Хорватия - Босния-Герцеговина', 'США - Чехия - Франция',\n",
       "       'США - Чили', 'США - Швейцария - Франция', 'США - Швеция',\n",
       "       'США - ЮАР', 'США - ЮАР - Гонконг', 'США - Южная Корея',\n",
       "       'США - Япония', 'США - Япония - Германия',\n",
       "       'США - Япония - Канада - Великобритания - Германия - Франция',\n",
       "       'США - Япония - Франция - Великобритания',\n",
       "       'США -Великобритания - Австралия', 'США -Германия',\n",
       "       'США, Великобритания', 'США, Великобритания, Ирландия, Люксембург',\n",
       "       'США, Великобритания, Люксембург', 'США, Великобритания, Франция',\n",
       "       'США, Германия', 'США, Гонконг ', 'США, Индия', 'США, Канада',\n",
       "       'США, Россия', 'США, Украина', 'США, Франция',\n",
       "       'США, Франция, Япония', 'США, Япония', 'США- Ю.Корея',\n",
       "       'США-Австралия', 'США-Аргентина', 'США-Бельгия',\n",
       "       'США-Великобритания', 'США-Великобритания-Австралия',\n",
       "       'США-Великобритания-Индия', 'США-Великобритания-Ирландия',\n",
       "       'США-Великобритания-Новая Зеландия', 'США-Великобритания-Франция',\n",
       "       'США-Великобритания-Чехия-Румыния', 'США-Венгрия', 'США-Германия',\n",
       "       'США-Германия-Австралия', 'США-Германия-Великобритания',\n",
       "       'США-Германия-Канада', 'США-Гонконг-Китай', 'США-Индия',\n",
       "       'США-Индонезия', 'США-Ирландия', 'США-Испания',\n",
       "       'США-Италия-Греция', 'США-Италия-Испания',\n",
       "       'США-Италия-Испания-Аргентина', 'США-КНР', 'США-Канада',\n",
       "       'США-Канада-Австралия', 'США-Канада-Бельгия', 'США-Канада-Италия',\n",
       "       'США-Канада-Франция', 'США-Китай', 'США-Колумбия', 'США-Мальта',\n",
       "       'США-Мексика', 'США-Нидерланды', 'США-ОАЭ', 'США-Россия',\n",
       "       'США-ФРГ-Россия', 'США-Франция',\n",
       "       'США-Франция-Великобритания-Австрия', 'США-Франция-Ирландия',\n",
       "       'США-Франция-Испания', 'США-Франция-Канада', 'США-ЮАР',\n",
       "       'США-Южная Корея-Новая Зеландия', 'США-Япония',\n",
       "       'США-Япония-Германия-Великобритания',\n",
       "       'США-Япония-Германия-Великобритания-Нидерланды', 'СЩА',\n",
       "       'Сербия - Великобритания - США', 'Сербия - Германия - Венгрия',\n",
       "       'Сербия - Словения - Хорватия - Черногория - Македония',\n",
       "       'Сингапур - Великобритания - Индонезия - Канада - США',\n",
       "       'Сша, Канада', 'Таиланд', 'Таиланд - КНР - США', 'Таиланд - США',\n",
       "       'Таиланд-Великобритания-Франция-Германия-Испания-Нидерланды',\n",
       "       'Турция', 'Турция - Германя - Франция', 'Турция - США', 'Украина',\n",
       "       'Украина - Германия - Латвия - Эстония', 'Украина - Нидерланды',\n",
       "       'Уругвай - Аргентина - Испания', 'Уругвай - Колумбия',\n",
       "       'Уругвай-Мексика-Германия ', 'Финляндия',\n",
       "       'Финляндия - Австрия - Россия',\n",
       "       'Финляндия - Великобритания - Германия', 'Финляндия - Германия',\n",
       "       'Финляндия - Дания - Германия - Ирландия',\n",
       "       'Финляндия - Исландия - Швеция', 'Финляндия - Канада',\n",
       "       'Финляндия - Польша', 'Финляндия - Франция - Германия',\n",
       "       'Финляндия - Швеция - Германия', 'Финляндия - Швеция - Норвегия',\n",
       "       'Финляндия, Латвия', 'Финляндия-Дания-Германия-Ирландия',\n",
       "       'Франция', 'Франция ', 'Франция -  Бельгия', 'Франция - Австрия',\n",
       "       'Франция - Австрия - Германия - Италия - США', 'Франция - Бельгия',\n",
       "       'Франция - Бельгия - Великобритания - Испания - Германия - США',\n",
       "       'Франция - Бельгия - Великобритания - США - Нидерланды - Канада',\n",
       "       'Франция - Бельгия - Испания', 'Франция - Бельгия - Канада',\n",
       "       'Франция - Бельгия - Люксембург', 'Франция - Бельгия - Чехия',\n",
       "       'Франция - Бельгия - Япония', 'Франция - Бенльгия',\n",
       "       'Франция - Бразилия', 'Франция - Бразилия - Италия',\n",
       "       'Франция - Великобритания',\n",
       "       'Франция - Великобритания - Багамские острова - США',\n",
       "       'Франция - Великобритания - Камбоджа - США - КНР',\n",
       "       'Франция - Великобритания - Нидерланды - Люксембург',\n",
       "       'Франция - Германия', 'Франция - Германия - Австрия',\n",
       "       'Франция - Германия - Бельгия', 'Франция - Германия - Италия',\n",
       "       'Франция - Германия - Литва - Нидерланды - Россия',\n",
       "       'Франция - Германия - Нидерланды', 'Франция - Германия - США',\n",
       "       'Франция - Германия - Турция - Катар',\n",
       "       'Франция - Германия - Швеция - США - Чехия - Словакия - Великобритания - Нидерланды',\n",
       "       'Франция - Греция', 'Франция - Дания', 'Франция - Дания - США',\n",
       "       'Франция - Дания - Швеция - КНР', 'Франция - Израиль - Германия',\n",
       "       'Франция - Ирландия - Швеция', 'Франция - Испания',\n",
       "       'Франция - Испания - Дания - Венгрия - Швейцария',\n",
       "       'Франция - Испания - Румыния - США - Бельгия',\n",
       "       'Франция - Испания - Тайвань', 'Франция - Италия',\n",
       "       'Франция - Италия - Бельгия - КНР',\n",
       "       'Франция - Италия - Бельгия - Люксембург',\n",
       "       'Франция - Италия - Великобритания - США',\n",
       "       'Франция - Италия - Иран', 'Франция - Италия - Швейцария',\n",
       "       'Франция - КНР', 'Франция - Канада', 'Франция - Канада - Бельгия',\n",
       "       'Франция - Канада - Н.Зеландия - США - Нидерланды - Германия - Швеция - Россия',\n",
       "       'Франция - Люксембург', 'Франция - Люксембург - Бельгия',\n",
       "       'Франция - Люксембург - Германия - Бельгия - Швейцария - Великобритания ',\n",
       "       'Франция - Македония', 'Франция - Мексика - США',\n",
       "       'Франция - Монако', 'Франция - Нидерланды',\n",
       "       'Франция - Польша - Бельгия', 'Франция - Португалия',\n",
       "       'Франция - Россия',\n",
       "       'Франция - Россия - Швейцария - Румыния - Венгрия',\n",
       "       'Франция - США', 'Франция - США - Бельгия',\n",
       "       'Франция - США - Великобритания - Колумбия - Бельгия - Россия',\n",
       "       'Франция - США - Норвегия - Дания', 'Франция - Сенегал - Бельгия',\n",
       "       'Франция - Украина - Грузия - Армения', 'Франция - Финляндия',\n",
       "       'Франция - Чехия - Бельгия', 'Франция - Чехия - Великобритания',\n",
       "       'Франция - Чили', 'Франция - Швейцария',\n",
       "       'Франция - Швейцария - Германия',\n",
       "       'Франция - Швеция - Дания - Норвегия', 'Франция -Бельгия',\n",
       "       'Франция, Бельгия', 'Франция, Бельгия, Люксембург',\n",
       "       'Франция, Германия', 'Франция, Канада',\n",
       "       'Франция, Люксембург, Бельгия', 'Франция, Новая Зеландия',\n",
       "       'Франция, Норвегия', 'Франция-Австралия', 'Франция-Аргентина',\n",
       "       'Франция-Бельгия', 'Франция-Бельгия-Канада',\n",
       "       'Франция-Великобритания', 'Франция-Великобритания - Германия',\n",
       "       'Франция-Великобритания-Чехия', 'Франция-Германия',\n",
       "       'Франция-Германия-Австрия', 'Франция-Германия-Великобритания',\n",
       "       'Франция-Германия-Италия', 'Франция-Гонконг-Ирландия',\n",
       "       'Франция-Грузия-Германия-Россия-Украина-Бельгия', 'Франция-Индия',\n",
       "       'Франция-Испания', 'Франция-Испания-Бельгия-Панама',\n",
       "       'Франция-Испания-Германия', 'Франция-Испания-Швейцария',\n",
       "       'Франция-Италия', 'Франция-Италия-Испания-Венгрия', 'Франция-КНР',\n",
       "       'Франция-Канада', 'Франция-Китай', 'Франция-Перу',\n",
       "       'Франция-Польша', 'Франция-Россия',\n",
       "       'Франция-Россия-Румыния-Италия-Бельгия', 'Франция-США',\n",
       "       'Франция-Украина', 'Хорватия', 'Чехия', 'Чехия - Германия',\n",
       "       'Чехия - Испания - США', 'Чехия - Словакия - Хорватия',\n",
       "       'Чехия-Великобритания-США', 'Чехословакия', 'Чили',\n",
       "       'Чили - Испания', 'Чили - Франция - США', 'Швейцария',\n",
       "       'Швейцария - Австрия', 'Швейцария - Великобритания',\n",
       "       'Швейцария - Израиль - Франция - Великобритания',\n",
       "       'Швейцария - КНР - США - Россия - Республика Корея - Великобритания',\n",
       "       'Швейцария - Люксембург', 'Швейцария - Франция',\n",
       "       'Швейцария, Великобритания, Франция, США, Ирландия',\n",
       "       'Швейцария-Австрия', 'Швейцария-Германия-ЮАР', 'Швейцария-Франция',\n",
       "       'Швеция', 'Швеция - Германия',\n",
       "       'Швеция - Германия - Дания - Норвегия',\n",
       "       'Швеция - Германия - Франция - Дания',\n",
       "       'Швеция - Германия - Франция - Норвегия', 'Швеция - Дания',\n",
       "       'Швеция - Дания - Финляндия', 'Швеция - Норвегия', 'Швеция - США',\n",
       "       'Швеция - Франция - Норвегия - Дания',\n",
       "       'Швеция, Норвегия, Финляндия, Франция',\n",
       "       'Швеция, Франция, Великобритания', 'Швеция-Куба',\n",
       "       'Швеция-Финляндия-Франция-Норвегия', 'Швеция-Франция',\n",
       "       'Швеция-Франция-Дания', 'Эстония', 'Эстония - Россия', 'ЮАР',\n",
       "       'ЮАР - США', 'Южная Корея', 'Южная Корея - КНР',\n",
       "       'Южная Корея - США', 'Южная Корея - США - Канада', 'Япония',\n",
       "       'Япония - Великобритания - Франция',\n",
       "       'Япония - Великобритания - Швейцария - Ирландия - Дания - Франция - Польша - Австралия - Канада  ',\n",
       "       'Япония - КНР - Южная Корея', 'Япония - Канада', 'Япония - США',\n",
       "       'Япония - Франция - США - Южная Корея - Турция',\n",
       "       'Япония, Великобритания',\n",
       "       'Япония, Великобритания, Австрия, Германия, Ю.Корея',\n",
       "       'Япония, США', 'Япония-Великобритания', 'Япония-США-Франция', nan],\n",
       "      dtype=object)"
      ]
     },
     "execution_count": 27,
     "metadata": {},
     "output_type": "execute_result"
    }
   ],
   "source": [
    "data['production_country'].sort_values().unique()"
   ]
  },
  {
   "cell_type": "code",
   "execution_count": 28,
   "metadata": {
    "scrolled": true
   },
   "outputs": [
    {
     "data": {
      "text/html": [
       "<div>\n",
       "<style scoped>\n",
       "    .dataframe tbody tr th:only-of-type {\n",
       "        vertical-align: middle;\n",
       "    }\n",
       "\n",
       "    .dataframe tbody tr th {\n",
       "        vertical-align: top;\n",
       "    }\n",
       "\n",
       "    .dataframe thead th {\n",
       "        text-align: right;\n",
       "    }\n",
       "</style>\n",
       "<table border=\"1\" class=\"dataframe\">\n",
       "  <thead>\n",
       "    <tr style=\"text-align: right;\">\n",
       "      <th></th>\n",
       "      <th>title</th>\n",
       "      <th>puNumber</th>\n",
       "      <th>show_start_date</th>\n",
       "      <th>type</th>\n",
       "      <th>film_studio</th>\n",
       "      <th>production_country</th>\n",
       "      <th>director</th>\n",
       "      <th>producer</th>\n",
       "      <th>age_restriction</th>\n",
       "      <th>refundable_support</th>\n",
       "      <th>nonrefundable_support</th>\n",
       "      <th>budget</th>\n",
       "      <th>financing_source</th>\n",
       "      <th>ratings</th>\n",
       "      <th>genres</th>\n",
       "      <th>box_office</th>\n",
       "    </tr>\n",
       "  </thead>\n",
       "  <tbody>\n",
       "    <tr>\n",
       "      <th>7247</th>\n",
       "      <td>Дело Коллини</td>\n",
       "      <td>121027219</td>\n",
       "      <td>2019-09-19 12:00:00+00:00</td>\n",
       "      <td>Художественный</td>\n",
       "      <td>Константин Филм, Глобал Скрин, Севен Пикчерз Сван</td>\n",
       "      <td>2019</td>\n",
       "      <td>Марко Кройцпайнтнер</td>\n",
       "      <td>Мартин Московиц, Кристоф Мюллер, Марсель Хартг...</td>\n",
       "      <td>«16+» - для детей старше 16 лет</td>\n",
       "      <td>NaN</td>\n",
       "      <td>NaN</td>\n",
       "      <td>NaN</td>\n",
       "      <td>NaN</td>\n",
       "      <td>7.40</td>\n",
       "      <td>детектив,драма,криминал</td>\n",
       "      <td>NaN</td>\n",
       "    </tr>\n",
       "  </tbody>\n",
       "</table>\n",
       "</div>"
      ],
      "text/plain": [
       "             title   puNumber           show_start_date             type  \\\n",
       "7247  Дело Коллини  121027219 2019-09-19 12:00:00+00:00   Художественный   \n",
       "\n",
       "                                            film_studio production_country  \\\n",
       "7247  Константин Филм, Глобал Скрин, Севен Пикчерз Сван               2019   \n",
       "\n",
       "                 director                                           producer  \\\n",
       "7247  Марко Кройцпайнтнер  Мартин Московиц, Кристоф Мюллер, Марсель Хартг...   \n",
       "\n",
       "                      age_restriction  refundable_support  \\\n",
       "7247  «16+» - для детей старше 16 лет                 NaN   \n",
       "\n",
       "      nonrefundable_support  budget financing_source  ratings  \\\n",
       "7247                    NaN     NaN              NaN     7.40   \n",
       "\n",
       "                       genres  box_office  \n",
       "7247  детектив,драма,криминал         NaN  "
      ]
     },
     "execution_count": 28,
     "metadata": {},
     "output_type": "execute_result"
    }
   ],
   "source": [
    "data[data['production_country'] == '2019']"
   ]
  },
  {
   "cell_type": "code",
   "execution_count": 29,
   "metadata": {
    "scrolled": true
   },
   "outputs": [
    {
     "data": {
      "text/plain": [
       "array([' Анимационный', ' Художественный', 'Анимационный',\n",
       "       'Документальный', 'Музыкально-развлекательный',\n",
       "       'Научно-популярный', 'Прочие', 'Художественный'], dtype=object)"
      ]
     },
     "execution_count": 29,
     "metadata": {},
     "output_type": "execute_result"
    }
   ],
   "source": [
    "data['type'].sort_values().unique()"
   ]
  },
  {
   "cell_type": "code",
   "execution_count": 30,
   "metadata": {
    "scrolled": false
   },
   "outputs": [
    {
     "data": {
      "text/plain": [
       "array([' Йохан Нийенхейс', ' Н.Орлов, Р.Быков', ' Р.Асхаев', ...,\n",
       "       'хореография Пьера Лакотта по Филиппу Тальони',\n",
       "       'хореография Фредерика Аштона', 'хореография Фредерика Эштона'],\n",
       "      dtype=object)"
      ]
     },
     "execution_count": 30,
     "metadata": {},
     "output_type": "execute_result"
    }
   ],
   "source": [
    "data['director'].sort_values().unique()"
   ]
  },
  {
   "cell_type": "code",
   "execution_count": 31,
   "metadata": {
    "scrolled": true
   },
   "outputs": [
    {
     "data": {
      "text/plain": [
       "array([' А.Шальопа', ' Г.Шпригов',\n",
       "       ' Дитмар Ганше, Филипп Фогес,  Бенджамин Херрман, Миша Хоффманн, Эберхард Юнексдорф, Энн Мередит',\n",
       "       ..., 'Яэль Бергман, Лаура Уотерс, Питер Хеллайар',\n",
       "       'Яэль Фогель, Летиция Гонзалез', nan], dtype=object)"
      ]
     },
     "execution_count": 31,
     "metadata": {},
     "output_type": "execute_result"
    }
   ],
   "source": [
    "data['producer'].sort_values().unique()"
   ]
  },
  {
   "cell_type": "code",
   "execution_count": 32,
   "metadata": {
    "scrolled": true
   },
   "outputs": [
    {
     "data": {
      "text/plain": [
       "array([' АНО \"Кинофорум\"',\n",
       "       ' Ауматик Интертейнмент, Блюмхаус Продакшнз и др.',\n",
       "       ' ЗАО \"Кинокомпания ФаворитФильм\" по заказу ООО \"ФАВОРИТ МЕДИА\"',\n",
       "       ...,\n",
       "       'совместное производство Киностудия \"Мосфильм\", \"Космос-филм\" (Франция), \"Посейдон Продакшинз Лимитед\" (Англия), \"ИКАИК\" (Куба), ДЕФА (ГДР)',\n",
       "       'юФилм, Твинпикс', nan], dtype=object)"
      ]
     },
     "execution_count": 32,
     "metadata": {},
     "output_type": "execute_result"
    }
   ],
   "source": [
    "data['film_studio'].sort_values().unique()"
   ]
  },
  {
   "cell_type": "code",
   "execution_count": 33,
   "metadata": {
    "scrolled": true
   },
   "outputs": [
    {
     "data": {
      "text/plain": [
       "array(['«0+» - для любой зрительской аудитории',\n",
       "       '«12+» - для детей старше 12 лет',\n",
       "       '«16+» - для детей старше 16 лет', '«18+» - запрещено для детей',\n",
       "       '«6+» - для детей старше 6 лет'], dtype=object)"
      ]
     },
     "execution_count": 33,
     "metadata": {},
     "output_type": "execute_result"
    }
   ],
   "source": [
    "data['age_restriction'].sort_values().unique()"
   ]
  },
  {
   "cell_type": "code",
   "execution_count": 34,
   "metadata": {},
   "outputs": [
    {
     "data": {
      "text/plain": [
       "array(['Министерство культуры', 'Министерство культуры, Фонд кино',\n",
       "       'Фонд кино', nan], dtype=object)"
      ]
     },
     "execution_count": 34,
     "metadata": {},
     "output_type": "execute_result"
    }
   ],
   "source": [
    "data['financing_source'].sort_values().unique()"
   ]
  },
  {
   "cell_type": "markdown",
   "metadata": {},
   "source": [
    "Почти во всех категориальных столбцах, кроме столбцов с возрастным ограничением, жанрами и источником финансирования, встречается следующая проблема: лишние пробелы в начале строки. К сожалению не все уникальные значения отображаются, но судя по тому, что есть, в столбце \"режиссер\" также встречаются различные написания одной фамилии. Вероятно, такое же может быть и в стобцах \"продюссер\", и \"студия\". В столбце \"страна производства\" в одной строке вместо страны вообще указан год, но это можно заменить, благо такое значение всего одно). Также избавимся от пробелов в начале строк."
   ]
  },
  {
   "cell_type": "code",
   "execution_count": 35,
   "metadata": {},
   "outputs": [],
   "source": [
    "data['production_country'] = data['production_country'].replace('2019', 'Германия')"
   ]
  },
  {
   "cell_type": "code",
   "execution_count": 36,
   "metadata": {},
   "outputs": [],
   "source": [
    "data['type'] = data['type'].str.strip()\n",
    "data['production_country'] = data['production_country'].str.strip()\n",
    "data['director'] = data['director'].str.strip()\n",
    "data['producer'] = data['producer'].str.strip()\n",
    "data['film_studio'] = data['film_studio'].str.strip()"
   ]
  },
  {
   "cell_type": "markdown",
   "metadata": {
    "id": "XFSN5lrEgFyR"
   },
   "source": [
    "#### Шаг 2.5. Проверьте количественные значения\n",
    "\n",
    "- Проверьте, обнаружились ли в таких столбцах подозрительные данные. Как с такими данными лучше поступить?\n",
    "\n"
   ]
  },
  {
   "cell_type": "code",
   "execution_count": 37,
   "metadata": {
    "scrolled": true
   },
   "outputs": [
    {
     "data": {
      "text/html": [
       "<div>\n",
       "<style scoped>\n",
       "    .dataframe tbody tr th:only-of-type {\n",
       "        vertical-align: middle;\n",
       "    }\n",
       "\n",
       "    .dataframe tbody tr th {\n",
       "        vertical-align: top;\n",
       "    }\n",
       "\n",
       "    .dataframe thead th {\n",
       "        text-align: right;\n",
       "    }\n",
       "</style>\n",
       "<table border=\"1\" class=\"dataframe\">\n",
       "  <thead>\n",
       "    <tr style=\"text-align: right;\">\n",
       "      <th></th>\n",
       "      <th>title</th>\n",
       "      <th>puNumber</th>\n",
       "      <th>show_start_date</th>\n",
       "      <th>type</th>\n",
       "      <th>film_studio</th>\n",
       "      <th>production_country</th>\n",
       "      <th>director</th>\n",
       "      <th>producer</th>\n",
       "      <th>age_restriction</th>\n",
       "      <th>refundable_support</th>\n",
       "      <th>nonrefundable_support</th>\n",
       "      <th>budget</th>\n",
       "      <th>financing_source</th>\n",
       "      <th>ratings</th>\n",
       "      <th>genres</th>\n",
       "      <th>box_office</th>\n",
       "    </tr>\n",
       "  </thead>\n",
       "  <tbody>\n",
       "    <tr>\n",
       "      <th>1281</th>\n",
       "      <td>Пока еще жива</td>\n",
       "      <td>111005313</td>\n",
       "      <td>2013-10-11 12:00:00+00:00</td>\n",
       "      <td>Художественный</td>\n",
       "      <td>АНО содействия развитию кинематографии \"Ангел-...</td>\n",
       "      <td>Россия</td>\n",
       "      <td>А.Атанесян</td>\n",
       "      <td>А.Атанесян, М.Бабаханов, Р.Бутко</td>\n",
       "      <td>«16+» - для детей старше 16 лет</td>\n",
       "      <td>0.00</td>\n",
       "      <td>26,500,000.00</td>\n",
       "      <td>79,411,900.00</td>\n",
       "      <td>Министерство культуры</td>\n",
       "      <td>8.10</td>\n",
       "      <td>драма,мелодрама</td>\n",
       "      <td>365,353.60</td>\n",
       "    </tr>\n",
       "    <tr>\n",
       "      <th>1448</th>\n",
       "      <td>Бесславные придурки</td>\n",
       "      <td>111003314</td>\n",
       "      <td>2014-03-28 12:00:00+00:00</td>\n",
       "      <td>Художественный</td>\n",
       "      <td>ООО \"Компания \"АТК-Студио\"</td>\n",
       "      <td>Россия</td>\n",
       "      <td>А.Якимчук</td>\n",
       "      <td>А.Тютрюмов</td>\n",
       "      <td>«12+» - для детей старше 12 лет</td>\n",
       "      <td>0.00</td>\n",
       "      <td>26,000,000.00</td>\n",
       "      <td>37,142,857.00</td>\n",
       "      <td>Министерство культуры</td>\n",
       "      <td>NaN</td>\n",
       "      <td>неизвестно</td>\n",
       "      <td>28,140.00</td>\n",
       "    </tr>\n",
       "    <tr>\n",
       "      <th>1498</th>\n",
       "      <td>Невидимки</td>\n",
       "      <td>111004213</td>\n",
       "      <td>2013-09-10 12:00:00+00:00</td>\n",
       "      <td>Художественный</td>\n",
       "      <td>ООО \"Компания \"РЕАЛ-ДАКОТА\"</td>\n",
       "      <td>Россия</td>\n",
       "      <td>Р.Давлетьяров, С.Комаров</td>\n",
       "      <td>Р.Давлетьяров, А.Котелевский, А.Олейников</td>\n",
       "      <td>«12+» - для детей старше 12 лет</td>\n",
       "      <td>0.00</td>\n",
       "      <td>107,847,945.00</td>\n",
       "      <td>176,023,490.00</td>\n",
       "      <td>Фонд кино</td>\n",
       "      <td>5.30</td>\n",
       "      <td>комедия,фантастика</td>\n",
       "      <td>19,957,031.50</td>\n",
       "    </tr>\n",
       "    <tr>\n",
       "      <th>1524</th>\n",
       "      <td>БЕРЦЫ</td>\n",
       "      <td>111004314</td>\n",
       "      <td>2014-05-05 12:00:00+00:00</td>\n",
       "      <td>Художественный</td>\n",
       "      <td>ООО \"Студия \"Пассажир\"</td>\n",
       "      <td>Россия</td>\n",
       "      <td>Е.Миндадзе (псевдоним Катя Шагалова)</td>\n",
       "      <td>Л.Антонова</td>\n",
       "      <td>«16+» - для детей старше 16 лет</td>\n",
       "      <td>0.00</td>\n",
       "      <td>28,000,000.00</td>\n",
       "      <td>40,574,140.00</td>\n",
       "      <td>Министерство культуры</td>\n",
       "      <td>4.20</td>\n",
       "      <td>драма</td>\n",
       "      <td>55,917.50</td>\n",
       "    </tr>\n",
       "    <tr>\n",
       "      <th>1792</th>\n",
       "      <td>Братья Ч</td>\n",
       "      <td>111004414</td>\n",
       "      <td>2014-04-23 12:00:00+00:00</td>\n",
       "      <td>Художественный</td>\n",
       "      <td>ООО \"Студия \"Пассажир\"</td>\n",
       "      <td>Россия</td>\n",
       "      <td>М.Угаров</td>\n",
       "      <td>А.Миндадзе, Л.Антонова</td>\n",
       "      <td>«16+» - для детей старше 16 лет</td>\n",
       "      <td>0.00</td>\n",
       "      <td>25,000,000.00</td>\n",
       "      <td>40,015,122.00</td>\n",
       "      <td>Министерство культуры</td>\n",
       "      <td>6.40</td>\n",
       "      <td>драма</td>\n",
       "      <td>232,100.00</td>\n",
       "    </tr>\n",
       "    <tr>\n",
       "      <th>...</th>\n",
       "      <td>...</td>\n",
       "      <td>...</td>\n",
       "      <td>...</td>\n",
       "      <td>...</td>\n",
       "      <td>...</td>\n",
       "      <td>...</td>\n",
       "      <td>...</td>\n",
       "      <td>...</td>\n",
       "      <td>...</td>\n",
       "      <td>...</td>\n",
       "      <td>...</td>\n",
       "      <td>...</td>\n",
       "      <td>...</td>\n",
       "      <td>...</td>\n",
       "      <td>...</td>\n",
       "      <td>...</td>\n",
       "    </tr>\n",
       "    <tr>\n",
       "      <th>7464</th>\n",
       "      <td>Союз спасения</td>\n",
       "      <td>111022019</td>\n",
       "      <td>2019-12-26 12:00:00+00:00</td>\n",
       "      <td>Художественный</td>\n",
       "      <td>ЗАО \"Дирекция кино\"</td>\n",
       "      <td>Россия</td>\n",
       "      <td>А.Кравчук</td>\n",
       "      <td>А.Максимов, К.Эрнст</td>\n",
       "      <td>«12+» - для детей старше 12 лет</td>\n",
       "      <td>100,000,000.00</td>\n",
       "      <td>400,000,000.00</td>\n",
       "      <td>980,000,000.00</td>\n",
       "      <td>Фонд кино</td>\n",
       "      <td>6.00</td>\n",
       "      <td>история,биография,драма</td>\n",
       "      <td>717,703,185.53</td>\n",
       "    </tr>\n",
       "    <tr>\n",
       "      <th>7466</th>\n",
       "      <td>Иван Царевич и Серый Волк 4</td>\n",
       "      <td>114005019</td>\n",
       "      <td>2019-12-20 12:00:00+00:00</td>\n",
       "      <td>Анимационный</td>\n",
       "      <td>ООО \"Студия анимационного кино \"Мельница\"</td>\n",
       "      <td>Россия</td>\n",
       "      <td>Д.Шмидт, К.Феоктистов</td>\n",
       "      <td>С.Сельянов, А.Боярский</td>\n",
       "      <td>«6+» - для детей старше 6 лет</td>\n",
       "      <td>100,000,000.00</td>\n",
       "      <td>0.00</td>\n",
       "      <td>190,000,000.00</td>\n",
       "      <td>Фонд кино</td>\n",
       "      <td>6.70</td>\n",
       "      <td>мультфильм,приключения,семейный</td>\n",
       "      <td>501,069,235.00</td>\n",
       "    </tr>\n",
       "    <tr>\n",
       "      <th>7474</th>\n",
       "      <td>Вторжение</td>\n",
       "      <td>111022519</td>\n",
       "      <td>2019-12-23 12:00:00+00:00</td>\n",
       "      <td>Художественный</td>\n",
       "      <td>ООО \"Арт Пикчерс Студия\", ООО \"Водород 2011\"</td>\n",
       "      <td>Россия</td>\n",
       "      <td>Ф.Бондарчук</td>\n",
       "      <td>Ф.Бондарчук, М.Врубель, А.Андрющенко, Д.Рудовский</td>\n",
       "      <td>«12+» - для детей старше 12 лет</td>\n",
       "      <td>100,000,000.00</td>\n",
       "      <td>400,000,000.00</td>\n",
       "      <td>944,000,000.00</td>\n",
       "      <td>Фонд кино</td>\n",
       "      <td>5.70</td>\n",
       "      <td>фантастика,боевик</td>\n",
       "      <td>NaN</td>\n",
       "    </tr>\n",
       "    <tr>\n",
       "      <th>7476</th>\n",
       "      <td>Я свободен</td>\n",
       "      <td>111023019</td>\n",
       "      <td>2019-12-26 12:00:00+00:00</td>\n",
       "      <td>Художественный</td>\n",
       "      <td>АО \"ТПО \"Киностудия им. М.Горького\"</td>\n",
       "      <td>Россия</td>\n",
       "      <td>И.Северов</td>\n",
       "      <td>С.Зернов</td>\n",
       "      <td>«12+» - для детей старше 12 лет</td>\n",
       "      <td>0.00</td>\n",
       "      <td>30,000,000.00</td>\n",
       "      <td>46,154,000.00</td>\n",
       "      <td>Министерство культуры</td>\n",
       "      <td>5.90</td>\n",
       "      <td>драма</td>\n",
       "      <td>NaN</td>\n",
       "    </tr>\n",
       "    <tr>\n",
       "      <th>7478</th>\n",
       "      <td>(Не)идеальный мужчина</td>\n",
       "      <td>111023119</td>\n",
       "      <td>2019-12-24 12:00:00+00:00</td>\n",
       "      <td>Художественный</td>\n",
       "      <td>ООО \"Нон-Стоп Продакшн\"</td>\n",
       "      <td>Россия</td>\n",
       "      <td>М.Бальчюнас (псевдоним М.Вайсберг)</td>\n",
       "      <td>С.Мелькумов, А.Роднянский, М.Вайсберг, Р.Минас...</td>\n",
       "      <td>«12+» - для детей старше 12 лет</td>\n",
       "      <td>40,000,000.00</td>\n",
       "      <td>60,000,000.00</td>\n",
       "      <td>150,147,502.00</td>\n",
       "      <td>Фонд кино</td>\n",
       "      <td>4.50</td>\n",
       "      <td>комедия,фантастика,мелодрама</td>\n",
       "      <td>NaN</td>\n",
       "    </tr>\n",
       "  </tbody>\n",
       "</table>\n",
       "<p>332 rows × 16 columns</p>\n",
       "</div>"
      ],
      "text/plain": [
       "                            title   puNumber           show_start_date  \\\n",
       "1281                Пока еще жива  111005313 2013-10-11 12:00:00+00:00   \n",
       "1448          Бесславные придурки  111003314 2014-03-28 12:00:00+00:00   \n",
       "1498                    Невидимки  111004213 2013-09-10 12:00:00+00:00   \n",
       "1524                        БЕРЦЫ  111004314 2014-05-05 12:00:00+00:00   \n",
       "1792                     Братья Ч  111004414 2014-04-23 12:00:00+00:00   \n",
       "...                           ...        ...                       ...   \n",
       "7464                Союз спасения  111022019 2019-12-26 12:00:00+00:00   \n",
       "7466  Иван Царевич и Серый Волк 4  114005019 2019-12-20 12:00:00+00:00   \n",
       "7474                    Вторжение  111022519 2019-12-23 12:00:00+00:00   \n",
       "7476                   Я свободен  111023019 2019-12-26 12:00:00+00:00   \n",
       "7478        (Не)идеальный мужчина  111023119 2019-12-24 12:00:00+00:00   \n",
       "\n",
       "                type                                        film_studio  \\\n",
       "1281  Художественный  АНО содействия развитию кинематографии \"Ангел-...   \n",
       "1448  Художественный                         ООО \"Компания \"АТК-Студио\"   \n",
       "1498  Художественный                        ООО \"Компания \"РЕАЛ-ДАКОТА\"   \n",
       "1524  Художественный                             ООО \"Студия \"Пассажир\"   \n",
       "1792  Художественный                             ООО \"Студия \"Пассажир\"   \n",
       "...              ...                                                ...   \n",
       "7464  Художественный                                ЗАО \"Дирекция кино\"   \n",
       "7466    Анимационный          ООО \"Студия анимационного кино \"Мельница\"   \n",
       "7474  Художественный       ООО \"Арт Пикчерс Студия\", ООО \"Водород 2011\"   \n",
       "7476  Художественный                АО \"ТПО \"Киностудия им. М.Горького\"   \n",
       "7478  Художественный                            ООО \"Нон-Стоп Продакшн\"   \n",
       "\n",
       "     production_country                              director  \\\n",
       "1281             Россия                            А.Атанесян   \n",
       "1448             Россия                             А.Якимчук   \n",
       "1498             Россия              Р.Давлетьяров, С.Комаров   \n",
       "1524             Россия  Е.Миндадзе (псевдоним Катя Шагалова)   \n",
       "1792             Россия                              М.Угаров   \n",
       "...                 ...                                   ...   \n",
       "7464             Россия                             А.Кравчук   \n",
       "7466             Россия                 Д.Шмидт, К.Феоктистов   \n",
       "7474             Россия                           Ф.Бондарчук   \n",
       "7476             Россия                             И.Северов   \n",
       "7478             Россия    М.Бальчюнас (псевдоним М.Вайсберг)   \n",
       "\n",
       "                                               producer  \\\n",
       "1281                   А.Атанесян, М.Бабаханов, Р.Бутко   \n",
       "1448                                         А.Тютрюмов   \n",
       "1498          Р.Давлетьяров, А.Котелевский, А.Олейников   \n",
       "1524                                         Л.Антонова   \n",
       "1792                             А.Миндадзе, Л.Антонова   \n",
       "...                                                 ...   \n",
       "7464                                А.Максимов, К.Эрнст   \n",
       "7466                             С.Сельянов, А.Боярский   \n",
       "7474  Ф.Бондарчук, М.Врубель, А.Андрющенко, Д.Рудовский   \n",
       "7476                                           С.Зернов   \n",
       "7478  С.Мелькумов, А.Роднянский, М.Вайсберг, Р.Минас...   \n",
       "\n",
       "                      age_restriction  refundable_support  \\\n",
       "1281  «16+» - для детей старше 16 лет                0.00   \n",
       "1448  «12+» - для детей старше 12 лет                0.00   \n",
       "1498  «12+» - для детей старше 12 лет                0.00   \n",
       "1524  «16+» - для детей старше 16 лет                0.00   \n",
       "1792  «16+» - для детей старше 16 лет                0.00   \n",
       "...                               ...                 ...   \n",
       "7464  «12+» - для детей старше 12 лет      100,000,000.00   \n",
       "7466    «6+» - для детей старше 6 лет      100,000,000.00   \n",
       "7474  «12+» - для детей старше 12 лет      100,000,000.00   \n",
       "7476  «12+» - для детей старше 12 лет                0.00   \n",
       "7478  «12+» - для детей старше 12 лет       40,000,000.00   \n",
       "\n",
       "      nonrefundable_support         budget       financing_source  ratings  \\\n",
       "1281          26,500,000.00  79,411,900.00  Министерство культуры     8.10   \n",
       "1448          26,000,000.00  37,142,857.00  Министерство культуры      NaN   \n",
       "1498         107,847,945.00 176,023,490.00              Фонд кино     5.30   \n",
       "1524          28,000,000.00  40,574,140.00  Министерство культуры     4.20   \n",
       "1792          25,000,000.00  40,015,122.00  Министерство культуры     6.40   \n",
       "...                     ...            ...                    ...      ...   \n",
       "7464         400,000,000.00 980,000,000.00              Фонд кино     6.00   \n",
       "7466                   0.00 190,000,000.00              Фонд кино     6.70   \n",
       "7474         400,000,000.00 944,000,000.00              Фонд кино     5.70   \n",
       "7476          30,000,000.00  46,154,000.00  Министерство культуры     5.90   \n",
       "7478          60,000,000.00 150,147,502.00              Фонд кино     4.50   \n",
       "\n",
       "                               genres     box_office  \n",
       "1281                  драма,мелодрама     365,353.60  \n",
       "1448                       неизвестно      28,140.00  \n",
       "1498               комедия,фантастика  19,957,031.50  \n",
       "1524                            драма      55,917.50  \n",
       "1792                            драма     232,100.00  \n",
       "...                               ...            ...  \n",
       "7464          история,биография,драма 717,703,185.53  \n",
       "7466  мультфильм,приключения,семейный 501,069,235.00  \n",
       "7474                фантастика,боевик            NaN  \n",
       "7476                            драма            NaN  \n",
       "7478     комедия,фантастика,мелодрама            NaN  \n",
       "\n",
       "[332 rows x 16 columns]"
      ]
     },
     "execution_count": 37,
     "metadata": {},
     "output_type": "execute_result"
    }
   ],
   "source": [
    "data[data['budget'].notna()] #выведем строки, где в столбце \"бюджет\" есть значения"
   ]
  },
  {
   "cell_type": "code",
   "execution_count": 38,
   "metadata": {
    "scrolled": true
   },
   "outputs": [
    {
     "data": {
      "text/html": [
       "<div>\n",
       "<style scoped>\n",
       "    .dataframe tbody tr th:only-of-type {\n",
       "        vertical-align: middle;\n",
       "    }\n",
       "\n",
       "    .dataframe tbody tr th {\n",
       "        vertical-align: top;\n",
       "    }\n",
       "\n",
       "    .dataframe thead th {\n",
       "        text-align: right;\n",
       "    }\n",
       "</style>\n",
       "<table border=\"1\" class=\"dataframe\">\n",
       "  <thead>\n",
       "    <tr style=\"text-align: right;\">\n",
       "      <th></th>\n",
       "      <th>title</th>\n",
       "      <th>puNumber</th>\n",
       "      <th>show_start_date</th>\n",
       "      <th>type</th>\n",
       "      <th>film_studio</th>\n",
       "      <th>production_country</th>\n",
       "      <th>director</th>\n",
       "      <th>producer</th>\n",
       "      <th>age_restriction</th>\n",
       "      <th>refundable_support</th>\n",
       "      <th>nonrefundable_support</th>\n",
       "      <th>budget</th>\n",
       "      <th>financing_source</th>\n",
       "      <th>ratings</th>\n",
       "      <th>genres</th>\n",
       "      <th>box_office</th>\n",
       "    </tr>\n",
       "  </thead>\n",
       "  <tbody>\n",
       "    <tr>\n",
       "      <th>2053</th>\n",
       "      <td>14+</td>\n",
       "      <td>111023614</td>\n",
       "      <td>2014-12-19 12:00:00+00:00</td>\n",
       "      <td>Художественный</td>\n",
       "      <td>ООО Киностудия  \"Сентябрь\"</td>\n",
       "      <td>Россия</td>\n",
       "      <td>А.Зайцев</td>\n",
       "      <td>О.Гранина, А.Зайцев</td>\n",
       "      <td>«16+» - для детей старше 16 лет</td>\n",
       "      <td>0.00</td>\n",
       "      <td>23,000,000.00</td>\n",
       "      <td>0.00</td>\n",
       "      <td>Министерство культуры, Фонд кино</td>\n",
       "      <td>6.60</td>\n",
       "      <td>мелодрама</td>\n",
       "      <td>10,234,016.10</td>\n",
       "    </tr>\n",
       "    <tr>\n",
       "      <th>2058</th>\n",
       "      <td>Дуxless 2</td>\n",
       "      <td>111000415</td>\n",
       "      <td>2015-01-26 12:00:00+00:00</td>\n",
       "      <td>Художественный</td>\n",
       "      <td>ООО \"Киностудия \"Слово\", ООО \"Арт Пикчерс Студия\"</td>\n",
       "      <td>Россия</td>\n",
       "      <td>Р.Прыгунов</td>\n",
       "      <td>П.Ануров, Ф.Бондарчук, Д.Рудовский</td>\n",
       "      <td>«16+» - для детей старше 16 лет</td>\n",
       "      <td>0.00</td>\n",
       "      <td>75,000,000.00</td>\n",
       "      <td>0.00</td>\n",
       "      <td>Фонд кино</td>\n",
       "      <td>6.60</td>\n",
       "      <td>драма</td>\n",
       "      <td>446,163,511.00</td>\n",
       "    </tr>\n",
       "    <tr>\n",
       "      <th>2472</th>\n",
       "      <td>Воин (2015)</td>\n",
       "      <td>111017315</td>\n",
       "      <td>2015-09-28 12:00:00+00:00</td>\n",
       "      <td>Художественный</td>\n",
       "      <td>ООО \"Форпост Продакшн\", ООО \"Арт Пикчерс Студия\"</td>\n",
       "      <td>Россия</td>\n",
       "      <td>А.Андрианов</td>\n",
       "      <td>ООО \"Арт Пикчерс Студия\"</td>\n",
       "      <td>«12+» - для детей старше 12 лет</td>\n",
       "      <td>10,000,000.00</td>\n",
       "      <td>70,000,000.00</td>\n",
       "      <td>0.00</td>\n",
       "      <td>Фонд кино</td>\n",
       "      <td>7.80</td>\n",
       "      <td>боевик,драма,криминал</td>\n",
       "      <td>196,572,438.40</td>\n",
       "    </tr>\n",
       "    <tr>\n",
       "      <th>2532</th>\n",
       "      <td>Бармен.</td>\n",
       "      <td>111009615</td>\n",
       "      <td>2015-05-26 12:00:00+00:00</td>\n",
       "      <td>Художественный</td>\n",
       "      <td>АО \"ВайТ Медиа\", ООО \"Арт Пикчерс Студия\"</td>\n",
       "      <td>Россия</td>\n",
       "      <td>Д.Штурманова</td>\n",
       "      <td>Т.Вайнштейн</td>\n",
       "      <td>«16+» - для детей старше 16 лет</td>\n",
       "      <td>20,000,000.00</td>\n",
       "      <td>0.00</td>\n",
       "      <td>0.00</td>\n",
       "      <td>Фонд кино</td>\n",
       "      <td>6.20</td>\n",
       "      <td>комедия,фэнтези</td>\n",
       "      <td>67,418,974.80</td>\n",
       "    </tr>\n",
       "    <tr>\n",
       "      <th>2615</th>\n",
       "      <td>Савва. Сердце воина</td>\n",
       "      <td>114001715</td>\n",
       "      <td>2015-07-21 12:00:00+00:00</td>\n",
       "      <td>Анимационный</td>\n",
       "      <td>ООО \"Глюкоза Продакшн\", ООО \"Арт Пикчерс Студия\"</td>\n",
       "      <td>Россия</td>\n",
       "      <td>М.Фадеев</td>\n",
       "      <td>А.Чистяков</td>\n",
       "      <td>«6+» - для детей старше 6 лет</td>\n",
       "      <td>60,000,000.00</td>\n",
       "      <td>100,000,000.00</td>\n",
       "      <td>0.00</td>\n",
       "      <td>Фонд кино</td>\n",
       "      <td>4.60</td>\n",
       "      <td>мультфильм,приключения,фэнтези</td>\n",
       "      <td>184,487,551.40</td>\n",
       "    </tr>\n",
       "    <tr>\n",
       "      <th>2684</th>\n",
       "      <td>Тряпичный союз</td>\n",
       "      <td>111010215</td>\n",
       "      <td>2015-06-08 12:00:00+00:00</td>\n",
       "      <td>Художественный</td>\n",
       "      <td>ООО \"Кинокомпания \"КОКТЕБЕЛЬ\"</td>\n",
       "      <td>Россия</td>\n",
       "      <td>М.Местецкий</td>\n",
       "      <td>Р.Борисевич, А.Кушаев</td>\n",
       "      <td>«18+» - запрещено для детей</td>\n",
       "      <td>0.00</td>\n",
       "      <td>59,000,000.00</td>\n",
       "      <td>0.00</td>\n",
       "      <td>Фонд кино</td>\n",
       "      <td>6.30</td>\n",
       "      <td>комедия,драма</td>\n",
       "      <td>1,957,738.51</td>\n",
       "    </tr>\n",
       "    <tr>\n",
       "      <th>2788</th>\n",
       "      <td>Срочно выйду замуж</td>\n",
       "      <td>111017115</td>\n",
       "      <td>2015-09-30 12:00:00+00:00</td>\n",
       "      <td>Художественный</td>\n",
       "      <td>АО \"ВайТ Медиа\", ООО \"Арт Пикчерс Студия\"</td>\n",
       "      <td>Россия</td>\n",
       "      <td>С Чекалов</td>\n",
       "      <td>Ф.Бондарчук, Т.Вайнштейн, Д.Рудовский</td>\n",
       "      <td>«16+» - для детей старше 16 лет</td>\n",
       "      <td>0.00</td>\n",
       "      <td>35,000,000.00</td>\n",
       "      <td>0.00</td>\n",
       "      <td>Фонд кино</td>\n",
       "      <td>5.10</td>\n",
       "      <td>комедия,мелодрама</td>\n",
       "      <td>72,937,783.20</td>\n",
       "    </tr>\n",
       "    <tr>\n",
       "      <th>2874</th>\n",
       "      <td>Помню - не помню!</td>\n",
       "      <td>111004916</td>\n",
       "      <td>2016-03-01 12:00:00+00:00</td>\n",
       "      <td>Художественный</td>\n",
       "      <td>ООО \"КиноФирма\"</td>\n",
       "      <td>Россия</td>\n",
       "      <td>В.Ровенский</td>\n",
       "      <td>ООО \"КиноФирма\"</td>\n",
       "      <td>«12+» - для детей старше 12 лет</td>\n",
       "      <td>0.00</td>\n",
       "      <td>6,000,000.00</td>\n",
       "      <td>0.00</td>\n",
       "      <td>Министерство культуры</td>\n",
       "      <td>4.30</td>\n",
       "      <td>комедия</td>\n",
       "      <td>15,362,931.43</td>\n",
       "    </tr>\n",
       "    <tr>\n",
       "      <th>3047</th>\n",
       "      <td>Любовь с ограничениями</td>\n",
       "      <td>111008216</td>\n",
       "      <td>2016-04-29 12:00:00+00:00</td>\n",
       "      <td>Художественный</td>\n",
       "      <td>АО \"ВайТ Медиа\", ООО \"Арт Пикчерс Студия\"</td>\n",
       "      <td>Россия</td>\n",
       "      <td>Д.Тюрин</td>\n",
       "      <td>Ф.Бондарчук, Т.Вайнштейн, Д.Рудовский</td>\n",
       "      <td>«16+» - для детей старше 16 лет</td>\n",
       "      <td>19,000,000.00</td>\n",
       "      <td>51,000,000.00</td>\n",
       "      <td>0.00</td>\n",
       "      <td>Фонд кино</td>\n",
       "      <td>6.30</td>\n",
       "      <td>комедия,мелодрама</td>\n",
       "      <td>70,299,052.00</td>\n",
       "    </tr>\n",
       "    <tr>\n",
       "      <th>3565</th>\n",
       "      <td>Притяжение (2016)</td>\n",
       "      <td>111018116</td>\n",
       "      <td>2016-12-16 12:00:00+00:00</td>\n",
       "      <td>Художественный</td>\n",
       "      <td>ООО \"Водород 2011\",  ООО \"Арт Пикчерс Студия\"</td>\n",
       "      <td>Россия</td>\n",
       "      <td>Ф.Бондарчук</td>\n",
       "      <td>ООО \"Арт Пикчерс Студия\"</td>\n",
       "      <td>«12+» - для детей старше 12 лет</td>\n",
       "      <td>0.00</td>\n",
       "      <td>250,000,000.00</td>\n",
       "      <td>0.00</td>\n",
       "      <td>Фонд кино</td>\n",
       "      <td>5.60</td>\n",
       "      <td>фантастика</td>\n",
       "      <td>1,038,321,489.00</td>\n",
       "    </tr>\n",
       "    <tr>\n",
       "      <th>3675</th>\n",
       "      <td>Чудо-юдо</td>\n",
       "      <td>114001817</td>\n",
       "      <td>2017-06-27 12:00:00+00:00</td>\n",
       "      <td>Анимационный</td>\n",
       "      <td>ООО \"КиноФирма\"</td>\n",
       "      <td>Россия</td>\n",
       "      <td>А.Лукичев</td>\n",
       "      <td>ООО \"КиноФирма\"</td>\n",
       "      <td>«6+» - для детей старше 6 лет</td>\n",
       "      <td>20,000,000.00</td>\n",
       "      <td>20,000,000.00</td>\n",
       "      <td>0.00</td>\n",
       "      <td>Фонд кино</td>\n",
       "      <td>5.20</td>\n",
       "      <td>мультфильм,фэнтези,семейный</td>\n",
       "      <td>55,108,014.76</td>\n",
       "    </tr>\n",
       "    <tr>\n",
       "      <th>3739</th>\n",
       "      <td>Мифы</td>\n",
       "      <td>111004317</td>\n",
       "      <td>2017-06-07 12:00:00+00:00</td>\n",
       "      <td>Художественный</td>\n",
       "      <td>ООО \"ХАЙПФИЛМ\", ООО \"Арт Пикчерс Студия\"</td>\n",
       "      <td>Россия</td>\n",
       "      <td>А.Молочников</td>\n",
       "      <td>Ф.Бондарчук, Д.Рудовский, И.Стюарт, М.Османн, ...</td>\n",
       "      <td>«16+» - для детей старше 16 лет</td>\n",
       "      <td>25,000,000.00</td>\n",
       "      <td>20,000,000.00</td>\n",
       "      <td>0.00</td>\n",
       "      <td>Фонд кино</td>\n",
       "      <td>4.80</td>\n",
       "      <td>комедия</td>\n",
       "      <td>50,451,949.00</td>\n",
       "    </tr>\n",
       "    <tr>\n",
       "      <th>5673</th>\n",
       "      <td>Селфи</td>\n",
       "      <td>111012117</td>\n",
       "      <td>2018-02-01 12:00:00+00:00</td>\n",
       "      <td>Художественный</td>\n",
       "      <td>ООО \"Киностудия \"Слово\", ООО \"Арт Пикчерс Студия\"</td>\n",
       "      <td>Россия</td>\n",
       "      <td>Н.Хомерики</td>\n",
       "      <td>П.Ануров, Ф.Бондарчук, Д.Рудовский</td>\n",
       "      <td>«16+» - для детей старше 16 лет</td>\n",
       "      <td>20,000,000.00</td>\n",
       "      <td>40,000,000.00</td>\n",
       "      <td>0.00</td>\n",
       "      <td>Фонд кино</td>\n",
       "      <td>5.80</td>\n",
       "      <td>триллер,драма</td>\n",
       "      <td>225,196,400.03</td>\n",
       "    </tr>\n",
       "    <tr>\n",
       "      <th>5806</th>\n",
       "      <td>Два хвоста</td>\n",
       "      <td>114001018</td>\n",
       "      <td>2018-05-31 12:00:00+00:00</td>\n",
       "      <td>Анимационный</td>\n",
       "      <td>ООО \"ЛИЦЕНЗИОННЫЕ БРЕНДЫ\"</td>\n",
       "      <td>Россия</td>\n",
       "      <td>В.Ровенский, Н.Лопато, В.Азеев</td>\n",
       "      <td>ООО \"ЛИЦЕНЗИОННЫЕ БРЕНДЫ\"</td>\n",
       "      <td>«6+» - для детей старше 6 лет</td>\n",
       "      <td>10,000,000.00</td>\n",
       "      <td>60,000,000.00</td>\n",
       "      <td>0.00</td>\n",
       "      <td>Фонд кино</td>\n",
       "      <td>5.00</td>\n",
       "      <td>мультфильм,детский</td>\n",
       "      <td>106,514,301.03</td>\n",
       "    </tr>\n",
       "    <tr>\n",
       "      <th>6008</th>\n",
       "      <td>Принцесса и дракон</td>\n",
       "      <td>114003018</td>\n",
       "      <td>2018-08-23 12:00:00+00:00</td>\n",
       "      <td>Анимационный</td>\n",
       "      <td>ООО \"ЛИЦЕНЗИОННЫЕ БРЕНДЫ\"</td>\n",
       "      <td>Россия</td>\n",
       "      <td>М.Нефедова</td>\n",
       "      <td>ООО \"ЛИЦЕНЗИОННЫЕ БРЕНДЫ\"</td>\n",
       "      <td>«6+» - для детей старше 6 лет</td>\n",
       "      <td>40,000,000.00</td>\n",
       "      <td>40,000,000.00</td>\n",
       "      <td>0.00</td>\n",
       "      <td>Фонд кино</td>\n",
       "      <td>5.20</td>\n",
       "      <td>мультфильм,фэнтези,детский</td>\n",
       "      <td>83,366,328.66</td>\n",
       "    </tr>\n",
       "    <tr>\n",
       "      <th>6323</th>\n",
       "      <td>Баба Яга</td>\n",
       "      <td>114006518</td>\n",
       "      <td>2018-11-08 12:00:00+00:00</td>\n",
       "      <td>Анимационный</td>\n",
       "      <td>ООО \"Арт Пикчерс Студия\"</td>\n",
       "      <td>Россия</td>\n",
       "      <td>В.Саков</td>\n",
       "      <td>ООО \"Арт Пикчерс Студия\", ООО \"КРИЭЙТИВ АНИМЭЙ...</td>\n",
       "      <td>«6+» - для детей старше 6 лет</td>\n",
       "      <td>0.00</td>\n",
       "      <td>138,969,465.00</td>\n",
       "      <td>0.00</td>\n",
       "      <td>Фонд кино</td>\n",
       "      <td>NaN</td>\n",
       "      <td>неизвестно</td>\n",
       "      <td>1,334,699.40</td>\n",
       "    </tr>\n",
       "    <tr>\n",
       "      <th>6823</th>\n",
       "      <td>Большое путешествие</td>\n",
       "      <td>114002419</td>\n",
       "      <td>2019-04-20 12:00:00+00:00</td>\n",
       "      <td>Анимационный</td>\n",
       "      <td>ООО \"ЛИЦЕНЗИОННЫЕ БРЕНДЫ\"</td>\n",
       "      <td>Россия</td>\n",
       "      <td>Н.Лопато, В.Ровенский</td>\n",
       "      <td>ООО \"ЛИЦЕНЗИОННЫЕ БРЕНДЫ\"</td>\n",
       "      <td>«6+» - для детей старше 6 лет</td>\n",
       "      <td>60,000,000.00</td>\n",
       "      <td>120,000,000.00</td>\n",
       "      <td>0.00</td>\n",
       "      <td>Фонд кино</td>\n",
       "      <td>6.20</td>\n",
       "      <td>мультфильм,комедия,приключения</td>\n",
       "      <td>147,606,826.51</td>\n",
       "    </tr>\n",
       "  </tbody>\n",
       "</table>\n",
       "</div>"
      ],
      "text/plain": [
       "                       title   puNumber           show_start_date  \\\n",
       "2053                     14+  111023614 2014-12-19 12:00:00+00:00   \n",
       "2058               Дуxless 2  111000415 2015-01-26 12:00:00+00:00   \n",
       "2472             Воин (2015)  111017315 2015-09-28 12:00:00+00:00   \n",
       "2532                 Бармен.  111009615 2015-05-26 12:00:00+00:00   \n",
       "2615     Савва. Сердце воина  114001715 2015-07-21 12:00:00+00:00   \n",
       "2684          Тряпичный союз  111010215 2015-06-08 12:00:00+00:00   \n",
       "2788      Срочно выйду замуж  111017115 2015-09-30 12:00:00+00:00   \n",
       "2874       Помню - не помню!  111004916 2016-03-01 12:00:00+00:00   \n",
       "3047  Любовь с ограничениями  111008216 2016-04-29 12:00:00+00:00   \n",
       "3565       Притяжение (2016)  111018116 2016-12-16 12:00:00+00:00   \n",
       "3675                Чудо-юдо  114001817 2017-06-27 12:00:00+00:00   \n",
       "3739                    Мифы  111004317 2017-06-07 12:00:00+00:00   \n",
       "5673                   Селфи  111012117 2018-02-01 12:00:00+00:00   \n",
       "5806              Два хвоста  114001018 2018-05-31 12:00:00+00:00   \n",
       "6008      Принцесса и дракон  114003018 2018-08-23 12:00:00+00:00   \n",
       "6323                Баба Яга  114006518 2018-11-08 12:00:00+00:00   \n",
       "6823     Большое путешествие  114002419 2019-04-20 12:00:00+00:00   \n",
       "\n",
       "                type                                        film_studio  \\\n",
       "2053  Художественный                         ООО Киностудия  \"Сентябрь\"   \n",
       "2058  Художественный  ООО \"Киностудия \"Слово\", ООО \"Арт Пикчерс Студия\"   \n",
       "2472  Художественный   ООО \"Форпост Продакшн\", ООО \"Арт Пикчерс Студия\"   \n",
       "2532  Художественный          АО \"ВайТ Медиа\", ООО \"Арт Пикчерс Студия\"   \n",
       "2615    Анимационный   ООО \"Глюкоза Продакшн\", ООО \"Арт Пикчерс Студия\"   \n",
       "2684  Художественный                      ООО \"Кинокомпания \"КОКТЕБЕЛЬ\"   \n",
       "2788  Художественный          АО \"ВайТ Медиа\", ООО \"Арт Пикчерс Студия\"   \n",
       "2874  Художественный                                    ООО \"КиноФирма\"   \n",
       "3047  Художественный          АО \"ВайТ Медиа\", ООО \"Арт Пикчерс Студия\"   \n",
       "3565  Художественный      ООО \"Водород 2011\",  ООО \"Арт Пикчерс Студия\"   \n",
       "3675    Анимационный                                    ООО \"КиноФирма\"   \n",
       "3739  Художественный           ООО \"ХАЙПФИЛМ\", ООО \"Арт Пикчерс Студия\"   \n",
       "5673  Художественный  ООО \"Киностудия \"Слово\", ООО \"Арт Пикчерс Студия\"   \n",
       "5806    Анимационный                          ООО \"ЛИЦЕНЗИОННЫЕ БРЕНДЫ\"   \n",
       "6008    Анимационный                          ООО \"ЛИЦЕНЗИОННЫЕ БРЕНДЫ\"   \n",
       "6323    Анимационный                           ООО \"Арт Пикчерс Студия\"   \n",
       "6823    Анимационный                          ООО \"ЛИЦЕНЗИОННЫЕ БРЕНДЫ\"   \n",
       "\n",
       "     production_country                        director  \\\n",
       "2053             Россия                        А.Зайцев   \n",
       "2058             Россия                      Р.Прыгунов   \n",
       "2472             Россия                     А.Андрианов   \n",
       "2532             Россия                    Д.Штурманова   \n",
       "2615             Россия                        М.Фадеев   \n",
       "2684             Россия                     М.Местецкий   \n",
       "2788             Россия                       С Чекалов   \n",
       "2874             Россия                     В.Ровенский   \n",
       "3047             Россия                         Д.Тюрин   \n",
       "3565             Россия                     Ф.Бондарчук   \n",
       "3675             Россия                       А.Лукичев   \n",
       "3739             Россия                    А.Молочников   \n",
       "5673             Россия                      Н.Хомерики   \n",
       "5806             Россия  В.Ровенский, Н.Лопато, В.Азеев   \n",
       "6008             Россия                      М.Нефедова   \n",
       "6323             Россия                         В.Саков   \n",
       "6823             Россия           Н.Лопато, В.Ровенский   \n",
       "\n",
       "                                               producer  \\\n",
       "2053                                О.Гранина, А.Зайцев   \n",
       "2058                 П.Ануров, Ф.Бондарчук, Д.Рудовский   \n",
       "2472                           ООО \"Арт Пикчерс Студия\"   \n",
       "2532                                        Т.Вайнштейн   \n",
       "2615                                         А.Чистяков   \n",
       "2684                              Р.Борисевич, А.Кушаев   \n",
       "2788              Ф.Бондарчук, Т.Вайнштейн, Д.Рудовский   \n",
       "2874                                    ООО \"КиноФирма\"   \n",
       "3047              Ф.Бондарчук, Т.Вайнштейн, Д.Рудовский   \n",
       "3565                           ООО \"Арт Пикчерс Студия\"   \n",
       "3675                                    ООО \"КиноФирма\"   \n",
       "3739  Ф.Бондарчук, Д.Рудовский, И.Стюарт, М.Османн, ...   \n",
       "5673                 П.Ануров, Ф.Бондарчук, Д.Рудовский   \n",
       "5806                          ООО \"ЛИЦЕНЗИОННЫЕ БРЕНДЫ\"   \n",
       "6008                          ООО \"ЛИЦЕНЗИОННЫЕ БРЕНДЫ\"   \n",
       "6323  ООО \"Арт Пикчерс Студия\", ООО \"КРИЭЙТИВ АНИМЭЙ...   \n",
       "6823                          ООО \"ЛИЦЕНЗИОННЫЕ БРЕНДЫ\"   \n",
       "\n",
       "                      age_restriction  refundable_support  \\\n",
       "2053  «16+» - для детей старше 16 лет                0.00   \n",
       "2058  «16+» - для детей старше 16 лет                0.00   \n",
       "2472  «12+» - для детей старше 12 лет       10,000,000.00   \n",
       "2532  «16+» - для детей старше 16 лет       20,000,000.00   \n",
       "2615    «6+» - для детей старше 6 лет       60,000,000.00   \n",
       "2684      «18+» - запрещено для детей                0.00   \n",
       "2788  «16+» - для детей старше 16 лет                0.00   \n",
       "2874  «12+» - для детей старше 12 лет                0.00   \n",
       "3047  «16+» - для детей старше 16 лет       19,000,000.00   \n",
       "3565  «12+» - для детей старше 12 лет                0.00   \n",
       "3675    «6+» - для детей старше 6 лет       20,000,000.00   \n",
       "3739  «16+» - для детей старше 16 лет       25,000,000.00   \n",
       "5673  «16+» - для детей старше 16 лет       20,000,000.00   \n",
       "5806    «6+» - для детей старше 6 лет       10,000,000.00   \n",
       "6008    «6+» - для детей старше 6 лет       40,000,000.00   \n",
       "6323    «6+» - для детей старше 6 лет                0.00   \n",
       "6823    «6+» - для детей старше 6 лет       60,000,000.00   \n",
       "\n",
       "      nonrefundable_support  budget                  financing_source  \\\n",
       "2053          23,000,000.00    0.00  Министерство культуры, Фонд кино   \n",
       "2058          75,000,000.00    0.00                         Фонд кино   \n",
       "2472          70,000,000.00    0.00                         Фонд кино   \n",
       "2532                   0.00    0.00                         Фонд кино   \n",
       "2615         100,000,000.00    0.00                         Фонд кино   \n",
       "2684          59,000,000.00    0.00                         Фонд кино   \n",
       "2788          35,000,000.00    0.00                         Фонд кино   \n",
       "2874           6,000,000.00    0.00             Министерство культуры   \n",
       "3047          51,000,000.00    0.00                         Фонд кино   \n",
       "3565         250,000,000.00    0.00                         Фонд кино   \n",
       "3675          20,000,000.00    0.00                         Фонд кино   \n",
       "3739          20,000,000.00    0.00                         Фонд кино   \n",
       "5673          40,000,000.00    0.00                         Фонд кино   \n",
       "5806          60,000,000.00    0.00                         Фонд кино   \n",
       "6008          40,000,000.00    0.00                         Фонд кино   \n",
       "6323         138,969,465.00    0.00                         Фонд кино   \n",
       "6823         120,000,000.00    0.00                         Фонд кино   \n",
       "\n",
       "      ratings                          genres       box_office  \n",
       "2053     6.60                       мелодрама    10,234,016.10  \n",
       "2058     6.60                           драма   446,163,511.00  \n",
       "2472     7.80           боевик,драма,криминал   196,572,438.40  \n",
       "2532     6.20                 комедия,фэнтези    67,418,974.80  \n",
       "2615     4.60  мультфильм,приключения,фэнтези   184,487,551.40  \n",
       "2684     6.30                   комедия,драма     1,957,738.51  \n",
       "2788     5.10               комедия,мелодрама    72,937,783.20  \n",
       "2874     4.30                         комедия    15,362,931.43  \n",
       "3047     6.30               комедия,мелодрама    70,299,052.00  \n",
       "3565     5.60                      фантастика 1,038,321,489.00  \n",
       "3675     5.20     мультфильм,фэнтези,семейный    55,108,014.76  \n",
       "3739     4.80                         комедия    50,451,949.00  \n",
       "5673     5.80                   триллер,драма   225,196,400.03  \n",
       "5806     5.00              мультфильм,детский   106,514,301.03  \n",
       "6008     5.20      мультфильм,фэнтези,детский    83,366,328.66  \n",
       "6323      NaN                      неизвестно     1,334,699.40  \n",
       "6823     6.20  мультфильм,комедия,приключения   147,606,826.51  "
      ]
     },
     "execution_count": 38,
     "metadata": {},
     "output_type": "execute_result"
    }
   ],
   "source": [
    "data[data['budget'] == 0] #выведем строки с нулевым бюджетом"
   ]
  },
  {
   "cell_type": "markdown",
   "metadata": {},
   "source": [
    "Как следует из описания, столбец budget уже включает в себя полный объём государственной поддержки. Данные в этом столбце указаны только для тех фильмов, которые получили государственную поддержку.\n",
    "То есть, бюджет таких фильмов не может быть меньше, чем выделенные на него средства гос.поддержки. Но есть 17 фильмов, где объемы средств гос.поддержки указаны, но бюджет равен 0. Причина появления таких значений неясна. Удалять эти строки, а заполнять их медианным значением было бы неправильно, так в некоторых случаях она меньше, чем объем выделенных средств. "
   ]
  },
  {
   "cell_type": "code",
   "execution_count": 39,
   "metadata": {},
   "outputs": [],
   "source": [
    "for i in data['budget']:\n",
    "    data.loc[data['budget'] == 0, 'budget'] = data['refundable_support'] + data['nonrefundable_support']"
   ]
  },
  {
   "cell_type": "code",
   "execution_count": 40,
   "metadata": {
    "scrolled": true
   },
   "outputs": [
    {
     "data": {
      "text/plain": [
       "71196901.5"
      ]
     },
     "execution_count": 40,
     "metadata": {},
     "output_type": "execute_result"
    }
   ],
   "source": [
    "data['budget'].median() #находили медиану, чтобы узнать, можно ли ей заполнить столбец"
   ]
  },
  {
   "cell_type": "markdown",
   "metadata": {},
   "source": [
    "Посмотрим, как распределяются значения в столбцах \"объем вовзратных средств\", \"объем невовозвратных средств\""
   ]
  },
  {
   "cell_type": "code",
   "execution_count": 41,
   "metadata": {
    "scrolled": false
   },
   "outputs": [
    {
     "data": {
      "image/png": "[encoded data removed]",
      "text/plain": [
       "<Figure size 432x288 with 1 Axes>"
      ]
     },
     "metadata": {
      "needs_background": "light"
     },
     "output_type": "display_data"
    }
   ],
   "source": [
    "data.boxplot('refundable_support');"
   ]
  },
  {
   "cell_type": "markdown",
   "metadata": {},
   "source": [
    "В столбце \"объем возвратных средств\" диапазон нормальных значнний невелик, а медиана равна 0. Это потому, что большая часть фильмов не получает поддержку в таком виде"
   ]
  },
  {
   "cell_type": "code",
   "execution_count": 42,
   "metadata": {
    "scrolled": true
   },
   "outputs": [
    {
     "data": {
      "image/png": "[encoded data removed]",
      "text/plain": [
       "<Figure size 432x288 with 1 Axes>"
      ]
     },
     "metadata": {
      "needs_background": "light"
     },
     "output_type": "display_data"
    }
   ],
   "source": [
    "data.boxplot('nonrefundable_support');"
   ]
  },
  {
   "cell_type": "markdown",
   "metadata": {},
   "source": [
    "В столбце \"объем невовзвратных средств\" также маленький диапазон нормальных значений, в сравнении с общим числом"
   ]
  },
  {
   "cell_type": "code",
   "execution_count": 43,
   "metadata": {
    "scrolled": false
   },
   "outputs": [
    {
     "data": {
      "image/png": "[encoded data removed]",
      "text/plain": [
       "<Figure size 432x288 with 1 Axes>"
      ]
     },
     "metadata": {
      "needs_background": "light"
     },
     "output_type": "display_data"
    }
   ],
   "source": [
    "data.boxplot('ratings');"
   ]
  },
  {
   "cell_type": "markdown",
   "metadata": {},
   "source": [
    "Нормальные значения для рейтинга лежат в диапазоне 4-9. Много аномально низких значений.\n",
    "\n",
    "Несмотря на то, что в столбцах со средствами господдержкой и рейтингом есть большое число выбросов, мне не кажется это аномалией. Да, они не входят в диапазон нормальных значений, но на мой взглд это такие категории, где такая разница в значениях допустима. Не думаю, что от значений вне нормального диапазона нужно избавляться"
   ]
  },
  {
   "cell_type": "markdown",
   "metadata": {
    "id": "Eu6oWp2CgFyS"
   },
   "source": [
    "#### Шаг 2.6. Добавьте новые столбцы\n",
    "\n",
    "\n",
    "\n"
   ]
  },
  {
   "cell_type": "markdown",
   "metadata": {
    "id": "7GgW-UpAgFyS"
   },
   "source": [
    "- Создайте столбец с информацией о годе проката. Выделите год из даты премьеры фильма."
   ]
  },
  {
   "cell_type": "code",
   "execution_count": 44,
   "metadata": {
    "id": "I-yd1DkWgFyT"
   },
   "outputs": [],
   "source": [
    "data['year_show_start'] = pd.DatetimeIndex(data['show_start_date']).year"
   ]
  },
  {
   "cell_type": "markdown",
   "metadata": {
    "id": "nFTDLDYOgFyT"
   },
   "source": [
    "- Создайте два столбца: с именем и фамилией главного режиссёра и основным жанром фильма. В столбцы войдут первые значения из списка режиссёров и жанров соответственно.\n",
    "\n"
   ]
  },
  {
   "cell_type": "code",
   "execution_count": 45,
   "metadata": {},
   "outputs": [],
   "source": [
    "def first_mean(column):\n",
    "    result = column.split(',')[0]\n",
    "    return result    "
   ]
  },
  {
   "cell_type": "code",
   "execution_count": 46,
   "metadata": {
    "id": "LSbRZKbMgFyU"
   },
   "outputs": [],
   "source": [
    "data['first_director'] = data['director'].apply(first_mean)\n",
    "data['main_genre'] = data['genres'].apply(first_mean)"
   ]
  },
  {
   "cell_type": "code",
   "execution_count": 47,
   "metadata": {
    "scrolled": true
   },
   "outputs": [
    {
     "data": {
      "text/html": [
       "<div>\n",
       "<style scoped>\n",
       "    .dataframe tbody tr th:only-of-type {\n",
       "        vertical-align: middle;\n",
       "    }\n",
       "\n",
       "    .dataframe tbody tr th {\n",
       "        vertical-align: top;\n",
       "    }\n",
       "\n",
       "    .dataframe thead th {\n",
       "        text-align: right;\n",
       "    }\n",
       "</style>\n",
       "<table border=\"1\" class=\"dataframe\">\n",
       "  <thead>\n",
       "    <tr style=\"text-align: right;\">\n",
       "      <th></th>\n",
       "      <th>title</th>\n",
       "      <th>puNumber</th>\n",
       "      <th>show_start_date</th>\n",
       "      <th>type</th>\n",
       "      <th>film_studio</th>\n",
       "      <th>production_country</th>\n",
       "      <th>director</th>\n",
       "      <th>producer</th>\n",
       "      <th>age_restriction</th>\n",
       "      <th>refundable_support</th>\n",
       "      <th>nonrefundable_support</th>\n",
       "      <th>budget</th>\n",
       "      <th>financing_source</th>\n",
       "      <th>ratings</th>\n",
       "      <th>genres</th>\n",
       "      <th>box_office</th>\n",
       "      <th>year_show_start</th>\n",
       "      <th>first_director</th>\n",
       "      <th>main_genre</th>\n",
       "    </tr>\n",
       "  </thead>\n",
       "  <tbody>\n",
       "    <tr>\n",
       "      <th>3132</th>\n",
       "      <td>Зачетный препод 2</td>\n",
       "      <td>121001116</td>\n",
       "      <td>2016-01-14 12:00:00+00:00</td>\n",
       "      <td>Художественный</td>\n",
       "      <td>Константин Филм Интернейшнл</td>\n",
       "      <td>Германия</td>\n",
       "      <td>Бора Дагтекин</td>\n",
       "      <td>Бора Дагтекин, Лена Олбрич, Сьюзанн Функе</td>\n",
       "      <td>«16+» - для детей старше 16 лет</td>\n",
       "      <td>NaN</td>\n",
       "      <td>NaN</td>\n",
       "      <td>NaN</td>\n",
       "      <td>NaN</td>\n",
       "      <td>6.60</td>\n",
       "      <td>комедия</td>\n",
       "      <td>22,021,383.71</td>\n",
       "      <td>2016</td>\n",
       "      <td>Бора Дагтекин</td>\n",
       "      <td>комедия</td>\n",
       "    </tr>\n",
       "    <tr>\n",
       "      <th>1605</th>\n",
       "      <td>Тайна четырех принцесс</td>\n",
       "      <td>111005714</td>\n",
       "      <td>2014-05-26 12:00:00+00:00</td>\n",
       "      <td>Художественный</td>\n",
       "      <td>ООО \"Каро Продакшн\"</td>\n",
       "      <td>Россия</td>\n",
       "      <td>О.Штром</td>\n",
       "      <td>Ю.Обухов, А.Рязанцев</td>\n",
       "      <td>«0+» - для любой зрительской аудитории</td>\n",
       "      <td>NaN</td>\n",
       "      <td>NaN</td>\n",
       "      <td>NaN</td>\n",
       "      <td>NaN</td>\n",
       "      <td>4.80</td>\n",
       "      <td>комедия,фэнтези</td>\n",
       "      <td>108,910.00</td>\n",
       "      <td>2014</td>\n",
       "      <td>О.Штром</td>\n",
       "      <td>комедия</td>\n",
       "    </tr>\n",
       "    <tr>\n",
       "      <th>4476</th>\n",
       "      <td>Покаяние_</td>\n",
       "      <td>212010510</td>\n",
       "      <td>2010-03-31 12:00:00+00:00</td>\n",
       "      <td>Художественный</td>\n",
       "      <td>НП \"Ателье-Фильм-Александр\"</td>\n",
       "      <td>Россия</td>\n",
       "      <td>А.Гутман</td>\n",
       "      <td>А.Гутман</td>\n",
       "      <td>«12+» - для детей старше 12 лет</td>\n",
       "      <td>NaN</td>\n",
       "      <td>NaN</td>\n",
       "      <td>NaN</td>\n",
       "      <td>NaN</td>\n",
       "      <td>7.90</td>\n",
       "      <td>драма,комедия</td>\n",
       "      <td>NaN</td>\n",
       "      <td>2010</td>\n",
       "      <td>А.Гутман</td>\n",
       "      <td>драма</td>\n",
       "    </tr>\n",
       "    <tr>\n",
       "      <th>43</th>\n",
       "      <td>Мемуары гейши (по роману Артура Голдена)</td>\n",
       "      <td>121000606</td>\n",
       "      <td>2012-12-14 12:00:00+00:00</td>\n",
       "      <td>Художественный</td>\n",
       "      <td>Коламбия Пикчерз Корпорейшн, ДримУоркс ЭсКейДж...</td>\n",
       "      <td>США</td>\n",
       "      <td>Роб Маршалл</td>\n",
       "      <td>Стивен Спилберг, Люси Фишер, Дуглас Уик, Джон ...</td>\n",
       "      <td>«12+» - для детей старше 12 лет</td>\n",
       "      <td>NaN</td>\n",
       "      <td>NaN</td>\n",
       "      <td>NaN</td>\n",
       "      <td>NaN</td>\n",
       "      <td>NaN</td>\n",
       "      <td>неизвестно</td>\n",
       "      <td>NaN</td>\n",
       "      <td>2012</td>\n",
       "      <td>Роб Маршалл</td>\n",
       "      <td>неизвестно</td>\n",
       "    </tr>\n",
       "    <tr>\n",
       "      <th>3817</th>\n",
       "      <td>Любовь в большом городе 2</td>\n",
       "      <td>111001810</td>\n",
       "      <td>2010-02-16 12:00:00+00:00</td>\n",
       "      <td>Художественный</td>\n",
       "      <td>ООО \"Камера Обскура\" по заказу ООО \"Леополис\"</td>\n",
       "      <td>Россия</td>\n",
       "      <td>М.Вайсберг</td>\n",
       "      <td>С.Ливнев, Г.Малков, Л.Николау</td>\n",
       "      <td>«16+» - для детей старше 16 лет</td>\n",
       "      <td>NaN</td>\n",
       "      <td>NaN</td>\n",
       "      <td>NaN</td>\n",
       "      <td>NaN</td>\n",
       "      <td>6.30</td>\n",
       "      <td>комедия,мелодрама,фэнтези</td>\n",
       "      <td>1,020.00</td>\n",
       "      <td>2010</td>\n",
       "      <td>М.Вайсберг</td>\n",
       "      <td>комедия</td>\n",
       "    </tr>\n",
       "  </tbody>\n",
       "</table>\n",
       "</div>"
      ],
      "text/plain": [
       "                                         title   puNumber  \\\n",
       "3132                         Зачетный препод 2  121001116   \n",
       "1605                    Тайна четырех принцесс  111005714   \n",
       "4476                                 Покаяние_  212010510   \n",
       "43    Мемуары гейши (по роману Артура Голдена)  121000606   \n",
       "3817                 Любовь в большом городе 2  111001810   \n",
       "\n",
       "               show_start_date            type  \\\n",
       "3132 2016-01-14 12:00:00+00:00  Художественный   \n",
       "1605 2014-05-26 12:00:00+00:00  Художественный   \n",
       "4476 2010-03-31 12:00:00+00:00  Художественный   \n",
       "43   2012-12-14 12:00:00+00:00  Художественный   \n",
       "3817 2010-02-16 12:00:00+00:00  Художественный   \n",
       "\n",
       "                                            film_studio production_country  \\\n",
       "3132                        Константин Филм Интернейшнл           Германия   \n",
       "1605                                ООО \"Каро Продакшн\"             Россия   \n",
       "4476                        НП \"Ателье-Фильм-Александр\"             Россия   \n",
       "43    Коламбия Пикчерз Корпорейшн, ДримУоркс ЭсКейДж...                США   \n",
       "3817      ООО \"Камера Обскура\" по заказу ООО \"Леополис\"             Россия   \n",
       "\n",
       "           director                                           producer  \\\n",
       "3132  Бора Дагтекин          Бора Дагтекин, Лена Олбрич, Сьюзанн Функе   \n",
       "1605        О.Штром                               Ю.Обухов, А.Рязанцев   \n",
       "4476       А.Гутман                                           А.Гутман   \n",
       "43      Роб Маршалл  Стивен Спилберг, Люси Фишер, Дуглас Уик, Джон ...   \n",
       "3817     М.Вайсберг                      С.Ливнев, Г.Малков, Л.Николау   \n",
       "\n",
       "                             age_restriction  refundable_support  \\\n",
       "3132         «16+» - для детей старше 16 лет                 NaN   \n",
       "1605  «0+» - для любой зрительской аудитории                 NaN   \n",
       "4476         «12+» - для детей старше 12 лет                 NaN   \n",
       "43           «12+» - для детей старше 12 лет                 NaN   \n",
       "3817         «16+» - для детей старше 16 лет                 NaN   \n",
       "\n",
       "      nonrefundable_support  budget financing_source  ratings  \\\n",
       "3132                    NaN     NaN              NaN     6.60   \n",
       "1605                    NaN     NaN              NaN     4.80   \n",
       "4476                    NaN     NaN              NaN     7.90   \n",
       "43                      NaN     NaN              NaN      NaN   \n",
       "3817                    NaN     NaN              NaN     6.30   \n",
       "\n",
       "                         genres    box_office  year_show_start first_director  \\\n",
       "3132                    комедия 22,021,383.71             2016  Бора Дагтекин   \n",
       "1605            комедия,фэнтези    108,910.00             2014        О.Штром   \n",
       "4476              драма,комедия           NaN             2010       А.Гутман   \n",
       "43                   неизвестно           NaN             2012    Роб Маршалл   \n",
       "3817  комедия,мелодрама,фэнтези      1,020.00             2010     М.Вайсберг   \n",
       "\n",
       "      main_genre  \n",
       "3132     комедия  \n",
       "1605     комедия  \n",
       "4476       драма  \n",
       "43    неизвестно  \n",
       "3817     комедия  "
      ]
     },
     "execution_count": 47,
     "metadata": {},
     "output_type": "execute_result"
    }
   ],
   "source": [
    "data.sample(5)"
   ]
  },
  {
   "cell_type": "markdown",
   "metadata": {
    "id": "1FsCXHwdgFyU"
   },
   "source": [
    "- Посчитайте, какую долю от общего бюджета фильма составляет государственная поддержка."
   ]
  },
  {
   "cell_type": "code",
   "execution_count": 48,
   "metadata": {
    "id": "LV6qFuZLgFyV"
   },
   "outputs": [],
   "source": [
    "data['share_of_support'] = (data['refundable_support'] + data['nonrefundable_support']) / data['budget']"
   ]
  },
  {
   "cell_type": "code",
   "execution_count": 49,
   "metadata": {},
   "outputs": [
    {
     "data": {
      "text/plain": [
       "0.6140376284219444"
      ]
     },
     "execution_count": 49,
     "metadata": {},
     "output_type": "execute_result"
    }
   ],
   "source": [
    "data['share_of_support'].median()"
   ]
  },
  {
   "cell_type": "markdown",
   "metadata": {},
   "source": [
    "В среднем доля гос.поддержки в общем бюджете фильма составляет 60%"
   ]
  },
  {
   "cell_type": "markdown",
   "metadata": {},
   "source": [
    "В ходе предобработки данных, мы столкнулись с такими проблема, как несоответствие типов данных столбцов значениям в них, наличие пропусков, заполнить которые не представляется возможным, наличие небольшого числа дубликатов, чья причина появления не понятна, неполнота информации о бюджете фильмов, ошибки в оформлении столбцов с категориальными значениями. Выявленные проблемы по возможности были исправлены"
   ]
  },
  {
   "cell_type": "markdown",
   "metadata": {
    "id": "6t4EukPLgFyV"
   },
   "source": [
    "### Шаг 3. Проведите исследовательский анализ данных\n"
   ]
  },
  {
   "cell_type": "markdown",
   "metadata": {
    "id": "vAH8WCzugFyV"
   },
   "source": [
    "- Посмотрите, сколько фильмов выходило в прокат каждый год. Обратите внимание, что данные о прокате в кинотеатрах известны не для всех фильмов. Посчитайте, какую долю составляют фильмы с указанной информацией о прокате в кинотеатрах."
   ]
  },
  {
   "cell_type": "code",
   "execution_count": 50,
   "metadata": {},
   "outputs": [
    {
     "data": {
      "text/html": [
       "<div>\n",
       "<style scoped>\n",
       "    .dataframe tbody tr th:only-of-type {\n",
       "        vertical-align: middle;\n",
       "    }\n",
       "\n",
       "    .dataframe tbody tr th {\n",
       "        vertical-align: top;\n",
       "    }\n",
       "\n",
       "    .dataframe thead th {\n",
       "        text-align: right;\n",
       "    }\n",
       "</style>\n",
       "<table border=\"1\" class=\"dataframe\">\n",
       "  <thead>\n",
       "    <tr style=\"text-align: right;\">\n",
       "      <th></th>\n",
       "      <th>title</th>\n",
       "      <th>box_office</th>\n",
       "      <th>rate</th>\n",
       "    </tr>\n",
       "    <tr>\n",
       "      <th>year_show_start</th>\n",
       "      <th></th>\n",
       "      <th></th>\n",
       "      <th></th>\n",
       "    </tr>\n",
       "  </thead>\n",
       "  <tbody>\n",
       "    <tr>\n",
       "      <th>2010</th>\n",
       "      <td>984</td>\n",
       "      <td>105</td>\n",
       "      <td>0.11</td>\n",
       "    </tr>\n",
       "    <tr>\n",
       "      <th>2011</th>\n",
       "      <td>622</td>\n",
       "      <td>109</td>\n",
       "      <td>0.18</td>\n",
       "    </tr>\n",
       "    <tr>\n",
       "      <th>2012</th>\n",
       "      <td>593</td>\n",
       "      <td>128</td>\n",
       "      <td>0.22</td>\n",
       "    </tr>\n",
       "    <tr>\n",
       "      <th>2013</th>\n",
       "      <td>630</td>\n",
       "      <td>184</td>\n",
       "      <td>0.29</td>\n",
       "    </tr>\n",
       "    <tr>\n",
       "      <th>2014</th>\n",
       "      <td>807</td>\n",
       "      <td>279</td>\n",
       "      <td>0.35</td>\n",
       "    </tr>\n",
       "    <tr>\n",
       "      <th>2015</th>\n",
       "      <td>705</td>\n",
       "      <td>465</td>\n",
       "      <td>0.66</td>\n",
       "    </tr>\n",
       "    <tr>\n",
       "      <th>2016</th>\n",
       "      <td>818</td>\n",
       "      <td>526</td>\n",
       "      <td>0.64</td>\n",
       "    </tr>\n",
       "    <tr>\n",
       "      <th>2017</th>\n",
       "      <td>505</td>\n",
       "      <td>357</td>\n",
       "      <td>0.71</td>\n",
       "    </tr>\n",
       "    <tr>\n",
       "      <th>2018</th>\n",
       "      <td>891</td>\n",
       "      <td>475</td>\n",
       "      <td>0.53</td>\n",
       "    </tr>\n",
       "    <tr>\n",
       "      <th>2019</th>\n",
       "      <td>930</td>\n",
       "      <td>530</td>\n",
       "      <td>0.57</td>\n",
       "    </tr>\n",
       "  </tbody>\n",
       "</table>\n",
       "</div>"
      ],
      "text/plain": [
       "                 title  box_office  rate\n",
       "year_show_start                         \n",
       "2010               984         105  0.11\n",
       "2011               622         109  0.18\n",
       "2012               593         128  0.22\n",
       "2013               630         184  0.29\n",
       "2014               807         279  0.35\n",
       "2015               705         465  0.66\n",
       "2016               818         526  0.64\n",
       "2017               505         357  0.71\n",
       "2018               891         475  0.53\n",
       "2019               930         530  0.57"
      ]
     },
     "execution_count": 50,
     "metadata": {},
     "output_type": "execute_result"
    }
   ],
   "source": [
    "title_year_stat = data.groupby('year_show_start')[['title', 'box_office']].count()\n",
    "title_year_stat['rate'] = title_year_stat['box_office'] / title_year_stat['title']\n",
    "title_year_stat"
   ]
  },
  {
   "cell_type": "markdown",
   "metadata": {},
   "source": [
    "Видно, что с каждым годом число фильмов, выходивших в прокат в кинотеатрах в России до 2017 увеличивалась, а после - снизилось. Причем кол-во фильмов, выходивших в прокат вообще, продолжало расти"
   ]
  },
  {
   "cell_type": "markdown",
   "metadata": {
    "id": "BEOdcIrIgFyW"
   },
   "source": [
    "- Изучите, как менялась динамика проката по годам. В каком году сумма сборов была минимальной? А максимальной?"
   ]
  },
  {
   "cell_type": "code",
   "execution_count": 51,
   "metadata": {},
   "outputs": [
    {
     "data": {
      "image/png": "[encoded data removed]",
      "text/plain": [
       "<Figure size 432x288 with 1 Axes>"
      ]
     },
     "metadata": {
      "needs_background": "light"
     },
     "output_type": "display_data"
    }
   ],
   "source": [
    "cinema_group = data.groupby('year_show_start')['box_office'].sum()\n",
    "cinema_group.plot(x='year_show_start', y='box_office', grid=True)\n",
    "plt.xlabel('year of show start')\n",
    "plt.ylabel('sum of box office');"
   ]
  },
  {
   "cell_type": "markdown",
   "metadata": {},
   "source": [
    "Минимальной сумма сборов была в 2010 году, а максимальной - в 2018г. Такие значения также обьясняются неправдоподобно низкими значениями для некоторых фильмов (сборы меньше 10000 рублей). Вероятно, это ошибочные данные, но исправить их не получится, а удаление из анализа не особо изменит ситуацию"
   ]
  },
  {
   "cell_type": "markdown",
   "metadata": {
    "id": "G-7qS-N-gFyY"
   },
   "source": [
    "- С помощью сводной таблицы посчитайте среднюю и медианную сумму сборов для каждого года."
   ]
  },
  {
   "cell_type": "code",
   "execution_count": 52,
   "metadata": {
    "id": "jmp-rgg9gFyY",
    "scrolled": false
   },
   "outputs": [
    {
     "data": {
      "image/png": "[encoded data removed]",
      "text/plain": [
       "<Figure size 432x288 with 1 Axes>"
      ]
     },
     "metadata": {
      "needs_background": "light"
     },
     "output_type": "display_data"
    }
   ],
   "source": [
    "cinema_pivot = (\n",
    "    data.pivot_table(index='year_show_start', values='box_office', aggfunc=['median', 'mean'])\n",
    "    .reset_index()\n",
    ")\n",
    "cinema_pivot.columns = ['year_show_start','median_box_office', 'mean_box_office']\n",
    "cinema_pivot.plot(x='year_show_start', y=['median_box_office', 'mean_box_office'])\n",
    "cinema_pivot\n",
    "plt.xlabel('year of show start')\n",
    "plt.ylabel('sum of box office');"
   ]
  },
  {
   "cell_type": "markdown",
   "metadata": {},
   "source": [
    "Такое большое отличие медианы и среднего объясняется тем, что в таблице есть подозрительно низкие значения кассовых сборов. Средние значения кассовых сборов превышают медианные, особенно это заметно с 2010 до 2015 года. Также несмотря на ежегодно растущую сумму сборов и то, что с 2016 года эти суммы росли уже не так резко, а небольшой спад был в 2018 году, графики средних и медианных значений указывают на спад с 2017 года. с 2017 года и доля фильмов, выходивших в прокат, также уменьшалась. "
   ]
  },
  {
   "cell_type": "markdown",
   "metadata": {
    "id": "Ok89WFwJgFyZ"
   },
   "source": [
    "- Определите, влияет ли возрастное ограничение аудитории («6+», «12+», «16+», «18+» и т. д.) на сборы фильма в прокате в период с 2015 по 2019 год? Фильмы с каким возрастным ограничением собрали больше всего денег в прокате? Меняется ли картина в зависимости от года? Если да, предположите, с чем это может быть связано."
   ]
  },
  {
   "cell_type": "code",
   "execution_count": 53,
   "metadata": {
    "scrolled": true
   },
   "outputs": [
    {
     "data": {
      "text/html": [
       "<div>\n",
       "<style scoped>\n",
       "    .dataframe tbody tr th:only-of-type {\n",
       "        vertical-align: middle;\n",
       "    }\n",
       "\n",
       "    .dataframe tbody tr th {\n",
       "        vertical-align: top;\n",
       "    }\n",
       "\n",
       "    .dataframe thead th {\n",
       "        text-align: right;\n",
       "    }\n",
       "</style>\n",
       "<table border=\"1\" class=\"dataframe\">\n",
       "  <thead>\n",
       "    <tr style=\"text-align: right;\">\n",
       "      <th></th>\n",
       "      <th>year</th>\n",
       "      <th>age</th>\n",
       "      <th>sum</th>\n",
       "      <th>count</th>\n",
       "    </tr>\n",
       "  </thead>\n",
       "  <tbody>\n",
       "    <tr>\n",
       "      <th>0</th>\n",
       "      <td>2010</td>\n",
       "      <td>«0+» - для любой зрительской аудитории</td>\n",
       "      <td>1,887,611.00</td>\n",
       "      <td>22</td>\n",
       "    </tr>\n",
       "    <tr>\n",
       "      <th>1</th>\n",
       "      <td>2010</td>\n",
       "      <td>«12+» - для детей старше 12 лет</td>\n",
       "      <td>120,146.00</td>\n",
       "      <td>17</td>\n",
       "    </tr>\n",
       "    <tr>\n",
       "      <th>2</th>\n",
       "      <td>2010</td>\n",
       "      <td>«16+» - для детей старше 16 лет</td>\n",
       "      <td>366,512.00</td>\n",
       "      <td>58</td>\n",
       "    </tr>\n",
       "    <tr>\n",
       "      <th>3</th>\n",
       "      <td>2010</td>\n",
       "      <td>«18+» - запрещено для детей</td>\n",
       "      <td>54,385.00</td>\n",
       "      <td>8</td>\n",
       "    </tr>\n",
       "    <tr>\n",
       "      <th>4</th>\n",
       "      <td>2011</td>\n",
       "      <td>«0+» - для любой зрительской аудитории</td>\n",
       "      <td>13,499,871.00</td>\n",
       "      <td>30</td>\n",
       "    </tr>\n",
       "    <tr>\n",
       "      <th>5</th>\n",
       "      <td>2011</td>\n",
       "      <td>«12+» - для детей старше 12 лет</td>\n",
       "      <td>219,891.00</td>\n",
       "      <td>22</td>\n",
       "    </tr>\n",
       "    <tr>\n",
       "      <th>6</th>\n",
       "      <td>2011</td>\n",
       "      <td>«16+» - для детей старше 16 лет</td>\n",
       "      <td>381,513.00</td>\n",
       "      <td>54</td>\n",
       "    </tr>\n",
       "    <tr>\n",
       "      <th>7</th>\n",
       "      <td>2011</td>\n",
       "      <td>«18+» - запрещено для детей</td>\n",
       "      <td>1,040.00</td>\n",
       "      <td>2</td>\n",
       "    </tr>\n",
       "    <tr>\n",
       "      <th>8</th>\n",
       "      <td>2011</td>\n",
       "      <td>«6+» - для детей старше 6 лет</td>\n",
       "      <td>450.00</td>\n",
       "      <td>1</td>\n",
       "    </tr>\n",
       "    <tr>\n",
       "      <th>9</th>\n",
       "      <td>2012</td>\n",
       "      <td>«0+» - для любой зрительской аудитории</td>\n",
       "      <td>2,266,483.00</td>\n",
       "      <td>30</td>\n",
       "    </tr>\n",
       "    <tr>\n",
       "      <th>10</th>\n",
       "      <td>2012</td>\n",
       "      <td>«12+» - для детей старше 12 лет</td>\n",
       "      <td>108,734.00</td>\n",
       "      <td>16</td>\n",
       "    </tr>\n",
       "    <tr>\n",
       "      <th>11</th>\n",
       "      <td>2012</td>\n",
       "      <td>«16+» - для детей старше 16 лет</td>\n",
       "      <td>3,254,216.00</td>\n",
       "      <td>49</td>\n",
       "    </tr>\n",
       "    <tr>\n",
       "      <th>12</th>\n",
       "      <td>2012</td>\n",
       "      <td>«18+» - запрещено для детей</td>\n",
       "      <td>182,580.00</td>\n",
       "      <td>17</td>\n",
       "    </tr>\n",
       "    <tr>\n",
       "      <th>13</th>\n",
       "      <td>2012</td>\n",
       "      <td>«6+» - для детей старше 6 лет</td>\n",
       "      <td>1,143,410.00</td>\n",
       "      <td>16</td>\n",
       "    </tr>\n",
       "    <tr>\n",
       "      <th>14</th>\n",
       "      <td>2013</td>\n",
       "      <td>«0+» - для любой зрительской аудитории</td>\n",
       "      <td>2,710,302.50</td>\n",
       "      <td>37</td>\n",
       "    </tr>\n",
       "    <tr>\n",
       "      <th>15</th>\n",
       "      <td>2013</td>\n",
       "      <td>«12+» - для детей старше 12 лет</td>\n",
       "      <td>20,910,336.50</td>\n",
       "      <td>60</td>\n",
       "    </tr>\n",
       "    <tr>\n",
       "      <th>16</th>\n",
       "      <td>2013</td>\n",
       "      <td>«16+» - для детей старше 16 лет</td>\n",
       "      <td>658,069.60</td>\n",
       "      <td>45</td>\n",
       "    </tr>\n",
       "    <tr>\n",
       "      <th>17</th>\n",
       "      <td>2013</td>\n",
       "      <td>«18+» - запрещено для детей</td>\n",
       "      <td>5,161,245.60</td>\n",
       "      <td>16</td>\n",
       "    </tr>\n",
       "    <tr>\n",
       "      <th>18</th>\n",
       "      <td>2013</td>\n",
       "      <td>«6+» - для детей старше 6 лет</td>\n",
       "      <td>359,752.00</td>\n",
       "      <td>26</td>\n",
       "    </tr>\n",
       "    <tr>\n",
       "      <th>19</th>\n",
       "      <td>2014</td>\n",
       "      <td>«0+» - для любой зрительской аудитории</td>\n",
       "      <td>375,562,258.20</td>\n",
       "      <td>38</td>\n",
       "    </tr>\n",
       "    <tr>\n",
       "      <th>20</th>\n",
       "      <td>2014</td>\n",
       "      <td>«12+» - для детей старше 12 лет</td>\n",
       "      <td>2,584,782,324.00</td>\n",
       "      <td>84</td>\n",
       "    </tr>\n",
       "    <tr>\n",
       "      <th>21</th>\n",
       "      <td>2014</td>\n",
       "      <td>«16+» - для детей старше 16 лет</td>\n",
       "      <td>544,280,086.70</td>\n",
       "      <td>82</td>\n",
       "    </tr>\n",
       "    <tr>\n",
       "      <th>22</th>\n",
       "      <td>2014</td>\n",
       "      <td>«18+» - запрещено для детей</td>\n",
       "      <td>2,209,712,746.90</td>\n",
       "      <td>45</td>\n",
       "    </tr>\n",
       "    <tr>\n",
       "      <th>23</th>\n",
       "      <td>2014</td>\n",
       "      <td>«6+» - для детей старше 6 лет</td>\n",
       "      <td>1,730,614,443.40</td>\n",
       "      <td>30</td>\n",
       "    </tr>\n",
       "    <tr>\n",
       "      <th>24</th>\n",
       "      <td>2015</td>\n",
       "      <td>«0+» - для любой зрительской аудитории</td>\n",
       "      <td>379,054,578.37</td>\n",
       "      <td>39</td>\n",
       "    </tr>\n",
       "    <tr>\n",
       "      <th>25</th>\n",
       "      <td>2015</td>\n",
       "      <td>«12+» - для детей старше 12 лет</td>\n",
       "      <td>13,616,082,008.91</td>\n",
       "      <td>73</td>\n",
       "    </tr>\n",
       "    <tr>\n",
       "      <th>26</th>\n",
       "      <td>2015</td>\n",
       "      <td>«16+» - для детей старше 16 лет</td>\n",
       "      <td>11,368,120,870.27</td>\n",
       "      <td>168</td>\n",
       "    </tr>\n",
       "    <tr>\n",
       "      <th>27</th>\n",
       "      <td>2015</td>\n",
       "      <td>«18+» - запрещено для детей</td>\n",
       "      <td>5,432,308,367.44</td>\n",
       "      <td>132</td>\n",
       "    </tr>\n",
       "    <tr>\n",
       "      <th>28</th>\n",
       "      <td>2015</td>\n",
       "      <td>«6+» - для детей старше 6 лет</td>\n",
       "      <td>8,701,799,371.41</td>\n",
       "      <td>53</td>\n",
       "    </tr>\n",
       "    <tr>\n",
       "      <th>29</th>\n",
       "      <td>2016</td>\n",
       "      <td>«0+» - для любой зрительской аудитории</td>\n",
       "      <td>150,228,848.67</td>\n",
       "      <td>41</td>\n",
       "    </tr>\n",
       "    <tr>\n",
       "      <th>30</th>\n",
       "      <td>2016</td>\n",
       "      <td>«12+» - для детей старше 12 лет</td>\n",
       "      <td>12,204,446,524.39</td>\n",
       "      <td>82</td>\n",
       "    </tr>\n",
       "    <tr>\n",
       "      <th>31</th>\n",
       "      <td>2016</td>\n",
       "      <td>«16+» - для детей старше 16 лет</td>\n",
       "      <td>16,664,548,541.74</td>\n",
       "      <td>182</td>\n",
       "    </tr>\n",
       "    <tr>\n",
       "      <th>32</th>\n",
       "      <td>2016</td>\n",
       "      <td>«18+» - запрещено для детей</td>\n",
       "      <td>6,793,929,818.87</td>\n",
       "      <td>151</td>\n",
       "    </tr>\n",
       "    <tr>\n",
       "      <th>33</th>\n",
       "      <td>2016</td>\n",
       "      <td>«6+» - для детей старше 6 лет</td>\n",
       "      <td>12,053,146,008.24</td>\n",
       "      <td>70</td>\n",
       "    </tr>\n",
       "    <tr>\n",
       "      <th>34</th>\n",
       "      <td>2017</td>\n",
       "      <td>«0+» - для любой зрительской аудитории</td>\n",
       "      <td>229,598,930.00</td>\n",
       "      <td>3</td>\n",
       "    </tr>\n",
       "    <tr>\n",
       "      <th>35</th>\n",
       "      <td>2017</td>\n",
       "      <td>«12+» - для детей старше 12 лет</td>\n",
       "      <td>7,851,427,660.67</td>\n",
       "      <td>41</td>\n",
       "    </tr>\n",
       "    <tr>\n",
       "      <th>36</th>\n",
       "      <td>2017</td>\n",
       "      <td>«16+» - для детей старше 16 лет</td>\n",
       "      <td>18,745,042,900.06</td>\n",
       "      <td>121</td>\n",
       "    </tr>\n",
       "    <tr>\n",
       "      <th>37</th>\n",
       "      <td>2017</td>\n",
       "      <td>«18+» - запрещено для детей</td>\n",
       "      <td>9,651,495,581.02</td>\n",
       "      <td>147</td>\n",
       "    </tr>\n",
       "    <tr>\n",
       "      <th>38</th>\n",
       "      <td>2017</td>\n",
       "      <td>«6+» - для детей старше 6 лет</td>\n",
       "      <td>12,086,142,145.76</td>\n",
       "      <td>45</td>\n",
       "    </tr>\n",
       "    <tr>\n",
       "      <th>39</th>\n",
       "      <td>2018</td>\n",
       "      <td>«0+» - для любой зрительской аудитории</td>\n",
       "      <td>32,449,002.11</td>\n",
       "      <td>5</td>\n",
       "    </tr>\n",
       "    <tr>\n",
       "      <th>40</th>\n",
       "      <td>2018</td>\n",
       "      <td>«12+» - для детей старше 12 лет</td>\n",
       "      <td>14,267,291,660.69</td>\n",
       "      <td>67</td>\n",
       "    </tr>\n",
       "    <tr>\n",
       "      <th>41</th>\n",
       "      <td>2018</td>\n",
       "      <td>«16+» - для детей старше 16 лет</td>\n",
       "      <td>16,503,602,346.96</td>\n",
       "      <td>156</td>\n",
       "    </tr>\n",
       "    <tr>\n",
       "      <th>42</th>\n",
       "      <td>2018</td>\n",
       "      <td>«18+» - запрещено для детей</td>\n",
       "      <td>8,760,085,501.15</td>\n",
       "      <td>179</td>\n",
       "    </tr>\n",
       "    <tr>\n",
       "      <th>43</th>\n",
       "      <td>2018</td>\n",
       "      <td>«6+» - для детей старше 6 лет</td>\n",
       "      <td>10,104,974,623.41</td>\n",
       "      <td>68</td>\n",
       "    </tr>\n",
       "    <tr>\n",
       "      <th>44</th>\n",
       "      <td>2019</td>\n",
       "      <td>«0+» - для любой зрительской аудитории</td>\n",
       "      <td>17,746,066.82</td>\n",
       "      <td>3</td>\n",
       "    </tr>\n",
       "    <tr>\n",
       "      <th>45</th>\n",
       "      <td>2019</td>\n",
       "      <td>«12+» - для детей старше 12 лет</td>\n",
       "      <td>12,680,198,773.67</td>\n",
       "      <td>85</td>\n",
       "    </tr>\n",
       "    <tr>\n",
       "      <th>46</th>\n",
       "      <td>2019</td>\n",
       "      <td>«16+» - для детей старше 16 лет</td>\n",
       "      <td>12,753,418,984.60</td>\n",
       "      <td>178</td>\n",
       "    </tr>\n",
       "    <tr>\n",
       "      <th>47</th>\n",
       "      <td>2019</td>\n",
       "      <td>«18+» - запрещено для детей</td>\n",
       "      <td>10,121,796,303.64</td>\n",
       "      <td>183</td>\n",
       "    </tr>\n",
       "    <tr>\n",
       "      <th>48</th>\n",
       "      <td>2019</td>\n",
       "      <td>«6+» - для детей старше 6 лет</td>\n",
       "      <td>12,852,548,650.86</td>\n",
       "      <td>81</td>\n",
       "    </tr>\n",
       "  </tbody>\n",
       "</table>\n",
       "</div>"
      ],
      "text/plain": [
       "    year                                     age               sum  count\n",
       "0   2010  «0+» - для любой зрительской аудитории      1,887,611.00     22\n",
       "1   2010         «12+» - для детей старше 12 лет        120,146.00     17\n",
       "2   2010         «16+» - для детей старше 16 лет        366,512.00     58\n",
       "3   2010             «18+» - запрещено для детей         54,385.00      8\n",
       "4   2011  «0+» - для любой зрительской аудитории     13,499,871.00     30\n",
       "5   2011         «12+» - для детей старше 12 лет        219,891.00     22\n",
       "6   2011         «16+» - для детей старше 16 лет        381,513.00     54\n",
       "7   2011             «18+» - запрещено для детей          1,040.00      2\n",
       "8   2011           «6+» - для детей старше 6 лет            450.00      1\n",
       "9   2012  «0+» - для любой зрительской аудитории      2,266,483.00     30\n",
       "10  2012         «12+» - для детей старше 12 лет        108,734.00     16\n",
       "11  2012         «16+» - для детей старше 16 лет      3,254,216.00     49\n",
       "12  2012             «18+» - запрещено для детей        182,580.00     17\n",
       "13  2012           «6+» - для детей старше 6 лет      1,143,410.00     16\n",
       "14  2013  «0+» - для любой зрительской аудитории      2,710,302.50     37\n",
       "15  2013         «12+» - для детей старше 12 лет     20,910,336.50     60\n",
       "16  2013         «16+» - для детей старше 16 лет        658,069.60     45\n",
       "17  2013             «18+» - запрещено для детей      5,161,245.60     16\n",
       "18  2013           «6+» - для детей старше 6 лет        359,752.00     26\n",
       "19  2014  «0+» - для любой зрительской аудитории    375,562,258.20     38\n",
       "20  2014         «12+» - для детей старше 12 лет  2,584,782,324.00     84\n",
       "21  2014         «16+» - для детей старше 16 лет    544,280,086.70     82\n",
       "22  2014             «18+» - запрещено для детей  2,209,712,746.90     45\n",
       "23  2014           «6+» - для детей старше 6 лет  1,730,614,443.40     30\n",
       "24  2015  «0+» - для любой зрительской аудитории    379,054,578.37     39\n",
       "25  2015         «12+» - для детей старше 12 лет 13,616,082,008.91     73\n",
       "26  2015         «16+» - для детей старше 16 лет 11,368,120,870.27    168\n",
       "27  2015             «18+» - запрещено для детей  5,432,308,367.44    132\n",
       "28  2015           «6+» - для детей старше 6 лет  8,701,799,371.41     53\n",
       "29  2016  «0+» - для любой зрительской аудитории    150,228,848.67     41\n",
       "30  2016         «12+» - для детей старше 12 лет 12,204,446,524.39     82\n",
       "31  2016         «16+» - для детей старше 16 лет 16,664,548,541.74    182\n",
       "32  2016             «18+» - запрещено для детей  6,793,929,818.87    151\n",
       "33  2016           «6+» - для детей старше 6 лет 12,053,146,008.24     70\n",
       "34  2017  «0+» - для любой зрительской аудитории    229,598,930.00      3\n",
       "35  2017         «12+» - для детей старше 12 лет  7,851,427,660.67     41\n",
       "36  2017         «16+» - для детей старше 16 лет 18,745,042,900.06    121\n",
       "37  2017             «18+» - запрещено для детей  9,651,495,581.02    147\n",
       "38  2017           «6+» - для детей старше 6 лет 12,086,142,145.76     45\n",
       "39  2018  «0+» - для любой зрительской аудитории     32,449,002.11      5\n",
       "40  2018         «12+» - для детей старше 12 лет 14,267,291,660.69     67\n",
       "41  2018         «16+» - для детей старше 16 лет 16,503,602,346.96    156\n",
       "42  2018             «18+» - запрещено для детей  8,760,085,501.15    179\n",
       "43  2018           «6+» - для детей старше 6 лет 10,104,974,623.41     68\n",
       "44  2019  «0+» - для любой зрительской аудитории     17,746,066.82      3\n",
       "45  2019         «12+» - для детей старше 12 лет 12,680,198,773.67     85\n",
       "46  2019         «16+» - для детей старше 16 лет 12,753,418,984.60    178\n",
       "47  2019             «18+» - запрещено для детей 10,121,796,303.64    183\n",
       "48  2019           «6+» - для детей старше 6 лет 12,852,548,650.86     81"
      ]
     },
     "execution_count": 53,
     "metadata": {},
     "output_type": "execute_result"
    }
   ],
   "source": [
    "cinema_age =  data.pivot_table(index=['year_show_start', 'age_restriction'], values='box_office', aggfunc=['sum','count']).reset_index()\n",
    "cinema_age.columns = ['year', 'age','sum', 'count']\n",
    "cinema_age"
   ]
  },
  {
   "cell_type": "code",
   "execution_count": 54,
   "metadata": {
    "scrolled": true
   },
   "outputs": [
    {
     "data": {
      "text/html": [
       "<div>\n",
       "<style scoped>\n",
       "    .dataframe tbody tr th:only-of-type {\n",
       "        vertical-align: middle;\n",
       "    }\n",
       "\n",
       "    .dataframe tbody tr th {\n",
       "        vertical-align: top;\n",
       "    }\n",
       "\n",
       "    .dataframe thead th {\n",
       "        text-align: right;\n",
       "    }\n",
       "</style>\n",
       "<table border=\"1\" class=\"dataframe\">\n",
       "  <thead>\n",
       "    <tr style=\"text-align: right;\">\n",
       "      <th></th>\n",
       "      <th>year</th>\n",
       "      <th>age</th>\n",
       "      <th>sum</th>\n",
       "      <th>count</th>\n",
       "    </tr>\n",
       "  </thead>\n",
       "  <tbody>\n",
       "    <tr>\n",
       "      <th>24</th>\n",
       "      <td>2015</td>\n",
       "      <td>«0+» - для любой зрительской аудитории</td>\n",
       "      <td>379,054,578.37</td>\n",
       "      <td>39</td>\n",
       "    </tr>\n",
       "    <tr>\n",
       "      <th>25</th>\n",
       "      <td>2015</td>\n",
       "      <td>«12+» - для детей старше 12 лет</td>\n",
       "      <td>13,616,082,008.91</td>\n",
       "      <td>73</td>\n",
       "    </tr>\n",
       "    <tr>\n",
       "      <th>26</th>\n",
       "      <td>2015</td>\n",
       "      <td>«16+» - для детей старше 16 лет</td>\n",
       "      <td>11,368,120,870.27</td>\n",
       "      <td>168</td>\n",
       "    </tr>\n",
       "    <tr>\n",
       "      <th>27</th>\n",
       "      <td>2015</td>\n",
       "      <td>«18+» - запрещено для детей</td>\n",
       "      <td>5,432,308,367.44</td>\n",
       "      <td>132</td>\n",
       "    </tr>\n",
       "    <tr>\n",
       "      <th>28</th>\n",
       "      <td>2015</td>\n",
       "      <td>«6+» - для детей старше 6 лет</td>\n",
       "      <td>8,701,799,371.41</td>\n",
       "      <td>53</td>\n",
       "    </tr>\n",
       "    <tr>\n",
       "      <th>29</th>\n",
       "      <td>2016</td>\n",
       "      <td>«0+» - для любой зрительской аудитории</td>\n",
       "      <td>150,228,848.67</td>\n",
       "      <td>41</td>\n",
       "    </tr>\n",
       "    <tr>\n",
       "      <th>30</th>\n",
       "      <td>2016</td>\n",
       "      <td>«12+» - для детей старше 12 лет</td>\n",
       "      <td>12,204,446,524.39</td>\n",
       "      <td>82</td>\n",
       "    </tr>\n",
       "    <tr>\n",
       "      <th>31</th>\n",
       "      <td>2016</td>\n",
       "      <td>«16+» - для детей старше 16 лет</td>\n",
       "      <td>16,664,548,541.74</td>\n",
       "      <td>182</td>\n",
       "    </tr>\n",
       "    <tr>\n",
       "      <th>32</th>\n",
       "      <td>2016</td>\n",
       "      <td>«18+» - запрещено для детей</td>\n",
       "      <td>6,793,929,818.87</td>\n",
       "      <td>151</td>\n",
       "    </tr>\n",
       "    <tr>\n",
       "      <th>33</th>\n",
       "      <td>2016</td>\n",
       "      <td>«6+» - для детей старше 6 лет</td>\n",
       "      <td>12,053,146,008.24</td>\n",
       "      <td>70</td>\n",
       "    </tr>\n",
       "    <tr>\n",
       "      <th>34</th>\n",
       "      <td>2017</td>\n",
       "      <td>«0+» - для любой зрительской аудитории</td>\n",
       "      <td>229,598,930.00</td>\n",
       "      <td>3</td>\n",
       "    </tr>\n",
       "    <tr>\n",
       "      <th>35</th>\n",
       "      <td>2017</td>\n",
       "      <td>«12+» - для детей старше 12 лет</td>\n",
       "      <td>7,851,427,660.67</td>\n",
       "      <td>41</td>\n",
       "    </tr>\n",
       "    <tr>\n",
       "      <th>36</th>\n",
       "      <td>2017</td>\n",
       "      <td>«16+» - для детей старше 16 лет</td>\n",
       "      <td>18,745,042,900.06</td>\n",
       "      <td>121</td>\n",
       "    </tr>\n",
       "    <tr>\n",
       "      <th>37</th>\n",
       "      <td>2017</td>\n",
       "      <td>«18+» - запрещено для детей</td>\n",
       "      <td>9,651,495,581.02</td>\n",
       "      <td>147</td>\n",
       "    </tr>\n",
       "    <tr>\n",
       "      <th>38</th>\n",
       "      <td>2017</td>\n",
       "      <td>«6+» - для детей старше 6 лет</td>\n",
       "      <td>12,086,142,145.76</td>\n",
       "      <td>45</td>\n",
       "    </tr>\n",
       "    <tr>\n",
       "      <th>39</th>\n",
       "      <td>2018</td>\n",
       "      <td>«0+» - для любой зрительской аудитории</td>\n",
       "      <td>32,449,002.11</td>\n",
       "      <td>5</td>\n",
       "    </tr>\n",
       "    <tr>\n",
       "      <th>40</th>\n",
       "      <td>2018</td>\n",
       "      <td>«12+» - для детей старше 12 лет</td>\n",
       "      <td>14,267,291,660.69</td>\n",
       "      <td>67</td>\n",
       "    </tr>\n",
       "    <tr>\n",
       "      <th>41</th>\n",
       "      <td>2018</td>\n",
       "      <td>«16+» - для детей старше 16 лет</td>\n",
       "      <td>16,503,602,346.96</td>\n",
       "      <td>156</td>\n",
       "    </tr>\n",
       "    <tr>\n",
       "      <th>42</th>\n",
       "      <td>2018</td>\n",
       "      <td>«18+» - запрещено для детей</td>\n",
       "      <td>8,760,085,501.15</td>\n",
       "      <td>179</td>\n",
       "    </tr>\n",
       "    <tr>\n",
       "      <th>43</th>\n",
       "      <td>2018</td>\n",
       "      <td>«6+» - для детей старше 6 лет</td>\n",
       "      <td>10,104,974,623.41</td>\n",
       "      <td>68</td>\n",
       "    </tr>\n",
       "    <tr>\n",
       "      <th>44</th>\n",
       "      <td>2019</td>\n",
       "      <td>«0+» - для любой зрительской аудитории</td>\n",
       "      <td>17,746,066.82</td>\n",
       "      <td>3</td>\n",
       "    </tr>\n",
       "    <tr>\n",
       "      <th>45</th>\n",
       "      <td>2019</td>\n",
       "      <td>«12+» - для детей старше 12 лет</td>\n",
       "      <td>12,680,198,773.67</td>\n",
       "      <td>85</td>\n",
       "    </tr>\n",
       "    <tr>\n",
       "      <th>46</th>\n",
       "      <td>2019</td>\n",
       "      <td>«16+» - для детей старше 16 лет</td>\n",
       "      <td>12,753,418,984.60</td>\n",
       "      <td>178</td>\n",
       "    </tr>\n",
       "    <tr>\n",
       "      <th>47</th>\n",
       "      <td>2019</td>\n",
       "      <td>«18+» - запрещено для детей</td>\n",
       "      <td>10,121,796,303.64</td>\n",
       "      <td>183</td>\n",
       "    </tr>\n",
       "    <tr>\n",
       "      <th>48</th>\n",
       "      <td>2019</td>\n",
       "      <td>«6+» - для детей старше 6 лет</td>\n",
       "      <td>12,852,548,650.86</td>\n",
       "      <td>81</td>\n",
       "    </tr>\n",
       "  </tbody>\n",
       "</table>\n",
       "</div>"
      ],
      "text/plain": [
       "    year                                     age               sum  count\n",
       "24  2015  «0+» - для любой зрительской аудитории    379,054,578.37     39\n",
       "25  2015         «12+» - для детей старше 12 лет 13,616,082,008.91     73\n",
       "26  2015         «16+» - для детей старше 16 лет 11,368,120,870.27    168\n",
       "27  2015             «18+» - запрещено для детей  5,432,308,367.44    132\n",
       "28  2015           «6+» - для детей старше 6 лет  8,701,799,371.41     53\n",
       "29  2016  «0+» - для любой зрительской аудитории    150,228,848.67     41\n",
       "30  2016         «12+» - для детей старше 12 лет 12,204,446,524.39     82\n",
       "31  2016         «16+» - для детей старше 16 лет 16,664,548,541.74    182\n",
       "32  2016             «18+» - запрещено для детей  6,793,929,818.87    151\n",
       "33  2016           «6+» - для детей старше 6 лет 12,053,146,008.24     70\n",
       "34  2017  «0+» - для любой зрительской аудитории    229,598,930.00      3\n",
       "35  2017         «12+» - для детей старше 12 лет  7,851,427,660.67     41\n",
       "36  2017         «16+» - для детей старше 16 лет 18,745,042,900.06    121\n",
       "37  2017             «18+» - запрещено для детей  9,651,495,581.02    147\n",
       "38  2017           «6+» - для детей старше 6 лет 12,086,142,145.76     45\n",
       "39  2018  «0+» - для любой зрительской аудитории     32,449,002.11      5\n",
       "40  2018         «12+» - для детей старше 12 лет 14,267,291,660.69     67\n",
       "41  2018         «16+» - для детей старше 16 лет 16,503,602,346.96    156\n",
       "42  2018             «18+» - запрещено для детей  8,760,085,501.15    179\n",
       "43  2018           «6+» - для детей старше 6 лет 10,104,974,623.41     68\n",
       "44  2019  «0+» - для любой зрительской аудитории     17,746,066.82      3\n",
       "45  2019         «12+» - для детей старше 12 лет 12,680,198,773.67     85\n",
       "46  2019         «16+» - для детей старше 16 лет 12,753,418,984.60    178\n",
       "47  2019             «18+» - запрещено для детей 10,121,796,303.64    183\n",
       "48  2019           «6+» - для детей старше 6 лет 12,852,548,650.86     81"
      ]
     },
     "execution_count": 54,
     "metadata": {},
     "output_type": "execute_result"
    }
   ],
   "source": [
    "new_c_age = cinema_age.query('year>= 2015')\n",
    "new_c_age"
   ]
  },
  {
   "cell_type": "code",
   "execution_count": 55,
   "metadata": {
    "scrolled": true
   },
   "outputs": [
    {
     "data": {
      "image/png": "[encoded data removed]",
      "text/plain": [
       "<Figure size 432x288 with 1 Axes>"
      ]
     },
     "metadata": {
      "needs_background": "light"
     },
     "output_type": "display_data"
    }
   ],
   "source": [
    "sb.barplot(data = new_c_age, x='year', y='sum', hue='age')\n",
    "plt.legend(labels = ['«0+» - для любой зрительской аудитории', '«12+» - для детей старше 12 лет', '«16+» - для детей старше 16 лет', \n",
    "'«18+» - запрещено для детей', '«6+» - для детей старше 6 лет'], bbox_to_anchor = (1,1))\n",
    "plt.xlabel('year of show start')\n",
    "plt.ylabel('sum of box office');"
   ]
  },
  {
   "cell_type": "code",
   "execution_count": 56,
   "metadata": {
    "scrolled": true
   },
   "outputs": [
    {
     "data": {
      "image/png": "[encoded data removed]",
      "text/plain": [
       "<Figure size 432x288 with 1 Axes>"
      ]
     },
     "metadata": {
      "needs_background": "light"
     },
     "output_type": "display_data"
    }
   ],
   "source": [
    "sb.barplot(data = new_c_age, x='year', y='count', hue='age')\n",
    "plt.legend(labels = ['«0+» - для любой зрительской аудитории', '«12+» - для детей старше 12 лет', '«16+» - для детей старше 16 лет', \n",
    "'«18+» - запрещено для детей', '«6+» - для детей старше 6 лет'], bbox_to_anchor = (1,1))\n",
    "plt.xlabel('year of show start')\n",
    "plt.ylabel('count of box office');"
   ]
  },
  {
   "cell_type": "markdown",
   "metadata": {},
   "source": [
    "Как видно из графика, меньше всего сборов у фильмов 0+, но их и меньше всего среди остальных фильмов. Больше всего сборов у фильмов с ограничением 16+ - эта тенденция сохраняется на протяжении нескольких лет, при этом их выпускается достаточно много. При этом фильмов с рейтингом 18+ выпускается столько же много, но по сборам они на 4ом месте среди всех рейтингов.  \n",
    "\n",
    "Можно сказать, что такие высокие сборы фильмов 16+ в первую очередь обусловлены из количеством. Фильмы этой категории доступны большей аудитории, чем фильмы 18+. Вероятно, с таким рейтингом выходит большое число фильмов, которые пользуются спросом, расчитаны на большое число зрителей (массовое), н-р Мстители и т.п.\n",
    "Фильмы 18+ собирают меньше денег, потому что, у них, естественно, меньше ЦА и также, есть теория, что возрастные ограничения увеличивают стоимость билета, что уже может повлиять на выбор фильма,а фильмы с ограниченной аудиторией быстрее теряют кассовые сборы. Также в этой категории могут выходить фильмы \"не для всех\"."
   ]
  },
  {
   "cell_type": "markdown",
   "metadata": {
    "id": "l_Kg6Ku4gFya"
   },
   "source": [
    "### Шаг 4. Исследуйте фильмы, которые получили государственную поддержку\n",
    "\n",
    "На этом этапе нет конкретных инструкций и заданий — поищите интересные закономерности в данных. Посмотрите, сколько выделяют средств на поддержку кино. Проверьте, хорошо ли окупаются такие фильмы, какой у них рейтинг."
   ]
  },
  {
   "cell_type": "markdown",
   "metadata": {},
   "source": [
    "**Изучим фильмы, произведенные в России**"
   ]
  },
  {
   "cell_type": "code",
   "execution_count": 57,
   "metadata": {
    "scrolled": false
   },
   "outputs": [
    {
     "data": {
      "text/html": [
       "<div>\n",
       "<style scoped>\n",
       "    .dataframe tbody tr th:only-of-type {\n",
       "        vertical-align: middle;\n",
       "    }\n",
       "\n",
       "    .dataframe tbody tr th {\n",
       "        vertical-align: top;\n",
       "    }\n",
       "\n",
       "    .dataframe thead th {\n",
       "        text-align: right;\n",
       "    }\n",
       "</style>\n",
       "<table border=\"1\" class=\"dataframe\">\n",
       "  <thead>\n",
       "    <tr style=\"text-align: right;\">\n",
       "      <th></th>\n",
       "      <th>title</th>\n",
       "      <th>puNumber</th>\n",
       "      <th>show_start_date</th>\n",
       "      <th>type</th>\n",
       "      <th>film_studio</th>\n",
       "      <th>production_country</th>\n",
       "      <th>director</th>\n",
       "      <th>producer</th>\n",
       "      <th>age_restriction</th>\n",
       "      <th>refundable_support</th>\n",
       "      <th>nonrefundable_support</th>\n",
       "      <th>budget</th>\n",
       "      <th>financing_source</th>\n",
       "      <th>ratings</th>\n",
       "      <th>genres</th>\n",
       "      <th>box_office</th>\n",
       "      <th>year_show_start</th>\n",
       "      <th>first_director</th>\n",
       "      <th>main_genre</th>\n",
       "      <th>share_of_support</th>\n",
       "    </tr>\n",
       "  </thead>\n",
       "  <tbody>\n",
       "    <tr>\n",
       "      <th>336</th>\n",
       "      <td>Каникулы строгого режима</td>\n",
       "      <td>111008514</td>\n",
       "      <td>2014-08-07 12:00:00+00:00</td>\n",
       "      <td>Художественный</td>\n",
       "      <td>ООО \"Кинобазза\" по  заказу ЗАО \"Дирекция Кино\"</td>\n",
       "      <td>Россия</td>\n",
       "      <td>И.Зайцев</td>\n",
       "      <td>А.Максимов, Н.Попов, Д.Файзиев</td>\n",
       "      <td>«12+» - для детей старше 12 лет</td>\n",
       "      <td>NaN</td>\n",
       "      <td>NaN</td>\n",
       "      <td>NaN</td>\n",
       "      <td>NaN</td>\n",
       "      <td>7.10</td>\n",
       "      <td>драма,комедия,приключения</td>\n",
       "      <td>360.00</td>\n",
       "      <td>2014</td>\n",
       "      <td>И.Зайцев</td>\n",
       "      <td>драма</td>\n",
       "      <td>NaN</td>\n",
       "    </tr>\n",
       "    <tr>\n",
       "      <th>462</th>\n",
       "      <td>Август. Восьмого</td>\n",
       "      <td>111000612</td>\n",
       "      <td>2012-02-07 12:00:00+00:00</td>\n",
       "      <td>Художественный</td>\n",
       "      <td>ЗАО \"ПК \"ГЛАВКИНО\"</td>\n",
       "      <td>Россия</td>\n",
       "      <td>Д.Файзиев</td>\n",
       "      <td>Д.Файзиев, Ф.Бондарчук, И.Бачурин</td>\n",
       "      <td>«12+» - для детей старше 12 лет</td>\n",
       "      <td>NaN</td>\n",
       "      <td>NaN</td>\n",
       "      <td>NaN</td>\n",
       "      <td>NaN</td>\n",
       "      <td>6.10</td>\n",
       "      <td>драма,военный</td>\n",
       "      <td>6,775.00</td>\n",
       "      <td>2012</td>\n",
       "      <td>Д.Файзиев</td>\n",
       "      <td>драма</td>\n",
       "      <td>NaN</td>\n",
       "    </tr>\n",
       "    <tr>\n",
       "      <th>463</th>\n",
       "      <td>Тот еще...!</td>\n",
       "      <td>111001612</td>\n",
       "      <td>2012-02-20 12:00:00+00:00</td>\n",
       "      <td>Художественный</td>\n",
       "      <td>ООО \"Энджой мувиз\"</td>\n",
       "      <td>Россия</td>\n",
       "      <td>С.Андреасян</td>\n",
       "      <td>Г.Малков</td>\n",
       "      <td>«12+» - для детей старше 12 лет</td>\n",
       "      <td>NaN</td>\n",
       "      <td>NaN</td>\n",
       "      <td>NaN</td>\n",
       "      <td>NaN</td>\n",
       "      <td>2.60</td>\n",
       "      <td>фэнтези,комедия,семейный</td>\n",
       "      <td>12,779.00</td>\n",
       "      <td>2012</td>\n",
       "      <td>С.Андреасян</td>\n",
       "      <td>фэнтези</td>\n",
       "      <td>NaN</td>\n",
       "    </tr>\n",
       "    <tr>\n",
       "      <th>464</th>\n",
       "      <td>КОКОКО</td>\n",
       "      <td>111003112</td>\n",
       "      <td>2012-06-05 12:00:00+00:00</td>\n",
       "      <td>Художественный</td>\n",
       "      <td>ООО Кинокомпания \"Глобус-фильм\"</td>\n",
       "      <td>Россия</td>\n",
       "      <td>А.Смирнова</td>\n",
       "      <td>С.Сельянов</td>\n",
       "      <td>«18+» - запрещено для детей</td>\n",
       "      <td>NaN</td>\n",
       "      <td>NaN</td>\n",
       "      <td>NaN</td>\n",
       "      <td>NaN</td>\n",
       "      <td>6.90</td>\n",
       "      <td>драма,комедия</td>\n",
       "      <td>200.00</td>\n",
       "      <td>2012</td>\n",
       "      <td>А.Смирнова</td>\n",
       "      <td>драма</td>\n",
       "      <td>NaN</td>\n",
       "    </tr>\n",
       "    <tr>\n",
       "      <th>469</th>\n",
       "      <td>Разговор</td>\n",
       "      <td>111000712</td>\n",
       "      <td>2012-02-07 12:00:00+00:00</td>\n",
       "      <td>Художественный</td>\n",
       "      <td>ООО \"Кинокомпания \"КВФильм-Продакшн\", ООО \"Ком...</td>\n",
       "      <td>Россия</td>\n",
       "      <td>В.Иванов, С.Комаров</td>\n",
       "      <td>В.Карев</td>\n",
       "      <td>«16+» - для детей старше 16 лет</td>\n",
       "      <td>NaN</td>\n",
       "      <td>NaN</td>\n",
       "      <td>NaN</td>\n",
       "      <td>NaN</td>\n",
       "      <td>7.60</td>\n",
       "      <td>триллер,драма,детектив</td>\n",
       "      <td>NaN</td>\n",
       "      <td>2012</td>\n",
       "      <td>В.Иванов</td>\n",
       "      <td>триллер</td>\n",
       "      <td>NaN</td>\n",
       "    </tr>\n",
       "    <tr>\n",
       "      <th>...</th>\n",
       "      <td>...</td>\n",
       "      <td>...</td>\n",
       "      <td>...</td>\n",
       "      <td>...</td>\n",
       "      <td>...</td>\n",
       "      <td>...</td>\n",
       "      <td>...</td>\n",
       "      <td>...</td>\n",
       "      <td>...</td>\n",
       "      <td>...</td>\n",
       "      <td>...</td>\n",
       "      <td>...</td>\n",
       "      <td>...</td>\n",
       "      <td>...</td>\n",
       "      <td>...</td>\n",
       "      <td>...</td>\n",
       "      <td>...</td>\n",
       "      <td>...</td>\n",
       "      <td>...</td>\n",
       "      <td>...</td>\n",
       "    </tr>\n",
       "    <tr>\n",
       "      <th>7474</th>\n",
       "      <td>Вторжение</td>\n",
       "      <td>111022519</td>\n",
       "      <td>2019-12-23 12:00:00+00:00</td>\n",
       "      <td>Художественный</td>\n",
       "      <td>ООО \"Арт Пикчерс Студия\", ООО \"Водород 2011\"</td>\n",
       "      <td>Россия</td>\n",
       "      <td>Ф.Бондарчук</td>\n",
       "      <td>Ф.Бондарчук, М.Врубель, А.Андрющенко, Д.Рудовский</td>\n",
       "      <td>«12+» - для детей старше 12 лет</td>\n",
       "      <td>100,000,000.00</td>\n",
       "      <td>400,000,000.00</td>\n",
       "      <td>944,000,000.00</td>\n",
       "      <td>Фонд кино</td>\n",
       "      <td>5.70</td>\n",
       "      <td>фантастика,боевик</td>\n",
       "      <td>NaN</td>\n",
       "      <td>2019</td>\n",
       "      <td>Ф.Бондарчук</td>\n",
       "      <td>фантастика</td>\n",
       "      <td>0.53</td>\n",
       "    </tr>\n",
       "    <tr>\n",
       "      <th>7475</th>\n",
       "      <td>Папа</td>\n",
       "      <td>111022919</td>\n",
       "      <td>2019-12-24 12:00:00+00:00</td>\n",
       "      <td>Художественный</td>\n",
       "      <td>ООО \"Киношкола имени Сергея Федоровича Бондарч...</td>\n",
       "      <td>Россия</td>\n",
       "      <td>К.Чувикова</td>\n",
       "      <td>ООО \"Киношкола имени Сергея Федоровича Бондарч...</td>\n",
       "      <td>«18+» - запрещено для детей</td>\n",
       "      <td>NaN</td>\n",
       "      <td>NaN</td>\n",
       "      <td>NaN</td>\n",
       "      <td>NaN</td>\n",
       "      <td>8.20</td>\n",
       "      <td>драма</td>\n",
       "      <td>NaN</td>\n",
       "      <td>2019</td>\n",
       "      <td>К.Чувикова</td>\n",
       "      <td>драма</td>\n",
       "      <td>NaN</td>\n",
       "    </tr>\n",
       "    <tr>\n",
       "      <th>7476</th>\n",
       "      <td>Я свободен</td>\n",
       "      <td>111023019</td>\n",
       "      <td>2019-12-26 12:00:00+00:00</td>\n",
       "      <td>Художественный</td>\n",
       "      <td>АО \"ТПО \"Киностудия им. М.Горького\"</td>\n",
       "      <td>Россия</td>\n",
       "      <td>И.Северов</td>\n",
       "      <td>С.Зернов</td>\n",
       "      <td>«12+» - для детей старше 12 лет</td>\n",
       "      <td>0.00</td>\n",
       "      <td>30,000,000.00</td>\n",
       "      <td>46,154,000.00</td>\n",
       "      <td>Министерство культуры</td>\n",
       "      <td>5.90</td>\n",
       "      <td>драма</td>\n",
       "      <td>NaN</td>\n",
       "      <td>2019</td>\n",
       "      <td>И.Северов</td>\n",
       "      <td>драма</td>\n",
       "      <td>0.65</td>\n",
       "    </tr>\n",
       "    <tr>\n",
       "      <th>7478</th>\n",
       "      <td>(Не)идеальный мужчина</td>\n",
       "      <td>111023119</td>\n",
       "      <td>2019-12-24 12:00:00+00:00</td>\n",
       "      <td>Художественный</td>\n",
       "      <td>ООО \"Нон-Стоп Продакшн\"</td>\n",
       "      <td>Россия</td>\n",
       "      <td>М.Бальчюнас (псевдоним М.Вайсберг)</td>\n",
       "      <td>С.Мелькумов, А.Роднянский, М.Вайсберг, Р.Минас...</td>\n",
       "      <td>«12+» - для детей старше 12 лет</td>\n",
       "      <td>40,000,000.00</td>\n",
       "      <td>60,000,000.00</td>\n",
       "      <td>150,147,502.00</td>\n",
       "      <td>Фонд кино</td>\n",
       "      <td>4.50</td>\n",
       "      <td>комедия,фантастика,мелодрама</td>\n",
       "      <td>NaN</td>\n",
       "      <td>2019</td>\n",
       "      <td>М.Бальчюнас (псевдоним М.Вайсберг)</td>\n",
       "      <td>комедия</td>\n",
       "      <td>0.67</td>\n",
       "    </tr>\n",
       "    <tr>\n",
       "      <th>7479</th>\n",
       "      <td>Эколав</td>\n",
       "      <td>111023219</td>\n",
       "      <td>2019-12-26 12:00:00+00:00</td>\n",
       "      <td>Художественный</td>\n",
       "      <td>ВГИК</td>\n",
       "      <td>Россия</td>\n",
       "      <td>Д.Григорьев</td>\n",
       "      <td>ВГИК</td>\n",
       "      <td>«18+» - запрещено для детей</td>\n",
       "      <td>NaN</td>\n",
       "      <td>NaN</td>\n",
       "      <td>NaN</td>\n",
       "      <td>NaN</td>\n",
       "      <td>NaN</td>\n",
       "      <td>неизвестно</td>\n",
       "      <td>NaN</td>\n",
       "      <td>2019</td>\n",
       "      <td>Д.Григорьев</td>\n",
       "      <td>неизвестно</td>\n",
       "      <td>NaN</td>\n",
       "    </tr>\n",
       "  </tbody>\n",
       "</table>\n",
       "<p>1821 rows × 20 columns</p>\n",
       "</div>"
      ],
      "text/plain": [
       "                         title   puNumber           show_start_date  \\\n",
       "336   Каникулы строгого режима  111008514 2014-08-07 12:00:00+00:00   \n",
       "462           Август. Восьмого  111000612 2012-02-07 12:00:00+00:00   \n",
       "463                Тот еще...!  111001612 2012-02-20 12:00:00+00:00   \n",
       "464                     КОКОКО  111003112 2012-06-05 12:00:00+00:00   \n",
       "469                   Разговор  111000712 2012-02-07 12:00:00+00:00   \n",
       "...                        ...        ...                       ...   \n",
       "7474                 Вторжение  111022519 2019-12-23 12:00:00+00:00   \n",
       "7475                      Папа  111022919 2019-12-24 12:00:00+00:00   \n",
       "7476                Я свободен  111023019 2019-12-26 12:00:00+00:00   \n",
       "7478     (Не)идеальный мужчина  111023119 2019-12-24 12:00:00+00:00   \n",
       "7479                    Эколав  111023219 2019-12-26 12:00:00+00:00   \n",
       "\n",
       "                type                                        film_studio  \\\n",
       "336   Художественный     ООО \"Кинобазза\" по  заказу ЗАО \"Дирекция Кино\"   \n",
       "462   Художественный                                 ЗАО \"ПК \"ГЛАВКИНО\"   \n",
       "463   Художественный                                 ООО \"Энджой мувиз\"   \n",
       "464   Художественный                    ООО Кинокомпания \"Глобус-фильм\"   \n",
       "469   Художественный  ООО \"Кинокомпания \"КВФильм-Продакшн\", ООО \"Ком...   \n",
       "...              ...                                                ...   \n",
       "7474  Художественный       ООО \"Арт Пикчерс Студия\", ООО \"Водород 2011\"   \n",
       "7475  Художественный  ООО \"Киношкола имени Сергея Федоровича Бондарч...   \n",
       "7476  Художественный                АО \"ТПО \"Киностудия им. М.Горького\"   \n",
       "7478  Художественный                            ООО \"Нон-Стоп Продакшн\"   \n",
       "7479  Художественный                                               ВГИК   \n",
       "\n",
       "     production_country                            director  \\\n",
       "336              Россия                            И.Зайцев   \n",
       "462              Россия                           Д.Файзиев   \n",
       "463              Россия                         С.Андреасян   \n",
       "464              Россия                          А.Смирнова   \n",
       "469              Россия                 В.Иванов, С.Комаров   \n",
       "...                 ...                                 ...   \n",
       "7474             Россия                         Ф.Бондарчук   \n",
       "7475             Россия                          К.Чувикова   \n",
       "7476             Россия                           И.Северов   \n",
       "7478             Россия  М.Бальчюнас (псевдоним М.Вайсберг)   \n",
       "7479             Россия                         Д.Григорьев   \n",
       "\n",
       "                                               producer  \\\n",
       "336                      А.Максимов, Н.Попов, Д.Файзиев   \n",
       "462                   Д.Файзиев, Ф.Бондарчук, И.Бачурин   \n",
       "463                                            Г.Малков   \n",
       "464                                          С.Сельянов   \n",
       "469                                             В.Карев   \n",
       "...                                                 ...   \n",
       "7474  Ф.Бондарчук, М.Врубель, А.Андрющенко, Д.Рудовский   \n",
       "7475  ООО \"Киношкола имени Сергея Федоровича Бондарч...   \n",
       "7476                                           С.Зернов   \n",
       "7478  С.Мелькумов, А.Роднянский, М.Вайсберг, Р.Минас...   \n",
       "7479                                               ВГИК   \n",
       "\n",
       "                      age_restriction  refundable_support  \\\n",
       "336   «12+» - для детей старше 12 лет                 NaN   \n",
       "462   «12+» - для детей старше 12 лет                 NaN   \n",
       "463   «12+» - для детей старше 12 лет                 NaN   \n",
       "464       «18+» - запрещено для детей                 NaN   \n",
       "469   «16+» - для детей старше 16 лет                 NaN   \n",
       "...                               ...                 ...   \n",
       "7474  «12+» - для детей старше 12 лет      100,000,000.00   \n",
       "7475      «18+» - запрещено для детей                 NaN   \n",
       "7476  «12+» - для детей старше 12 лет                0.00   \n",
       "7478  «12+» - для детей старше 12 лет       40,000,000.00   \n",
       "7479      «18+» - запрещено для детей                 NaN   \n",
       "\n",
       "      nonrefundable_support         budget       financing_source  ratings  \\\n",
       "336                     NaN            NaN                    NaN     7.10   \n",
       "462                     NaN            NaN                    NaN     6.10   \n",
       "463                     NaN            NaN                    NaN     2.60   \n",
       "464                     NaN            NaN                    NaN     6.90   \n",
       "469                     NaN            NaN                    NaN     7.60   \n",
       "...                     ...            ...                    ...      ...   \n",
       "7474         400,000,000.00 944,000,000.00              Фонд кино     5.70   \n",
       "7475                    NaN            NaN                    NaN     8.20   \n",
       "7476          30,000,000.00  46,154,000.00  Министерство культуры     5.90   \n",
       "7478          60,000,000.00 150,147,502.00              Фонд кино     4.50   \n",
       "7479                    NaN            NaN                    NaN      NaN   \n",
       "\n",
       "                            genres  box_office  year_show_start  \\\n",
       "336      драма,комедия,приключения      360.00             2014   \n",
       "462                  драма,военный    6,775.00             2012   \n",
       "463       фэнтези,комедия,семейный   12,779.00             2012   \n",
       "464                  драма,комедия      200.00             2012   \n",
       "469         триллер,драма,детектив         NaN             2012   \n",
       "...                            ...         ...              ...   \n",
       "7474             фантастика,боевик         NaN             2019   \n",
       "7475                         драма         NaN             2019   \n",
       "7476                         драма         NaN             2019   \n",
       "7478  комедия,фантастика,мелодрама         NaN             2019   \n",
       "7479                    неизвестно         NaN             2019   \n",
       "\n",
       "                          first_director  main_genre  share_of_support  \n",
       "336                             И.Зайцев       драма               NaN  \n",
       "462                            Д.Файзиев       драма               NaN  \n",
       "463                          С.Андреасян     фэнтези               NaN  \n",
       "464                           А.Смирнова       драма               NaN  \n",
       "469                             В.Иванов     триллер               NaN  \n",
       "...                                  ...         ...               ...  \n",
       "7474                         Ф.Бондарчук  фантастика              0.53  \n",
       "7475                          К.Чувикова       драма               NaN  \n",
       "7476                           И.Северов       драма              0.65  \n",
       "7478  М.Бальчюнас (псевдоним М.Вайсберг)     комедия              0.67  \n",
       "7479                         Д.Григорьев  неизвестно               NaN  \n",
       "\n",
       "[1821 rows x 20 columns]"
      ]
     },
     "execution_count": 57,
     "metadata": {},
     "output_type": "execute_result"
    }
   ],
   "source": [
    "rus = data[data['production_country'] == 'Россия']\n",
    "rus"
   ]
  },
  {
   "cell_type": "markdown",
   "metadata": {},
   "source": [
    "Всего в таблице 1821 фильм, снятый в России"
   ]
  },
  {
   "cell_type": "code",
   "execution_count": 58,
   "metadata": {
    "scrolled": true
   },
   "outputs": [
    {
     "data": {
      "text/plain": [
       "6.1071931196247125"
      ]
     },
     "execution_count": 58,
     "metadata": {},
     "output_type": "execute_result"
    }
   ],
   "source": [
    "rus['ratings'].mean()"
   ]
  },
  {
   "cell_type": "markdown",
   "metadata": {},
   "source": [
    "Средняя оценка фильмов России 6,1"
   ]
  },
  {
   "cell_type": "code",
   "execution_count": 59,
   "metadata": {
    "scrolled": false
   },
   "outputs": [
    {
     "data": {
      "text/plain": [
       "неизвестно         530\n",
       "драма              364\n",
       "комедия            248\n",
       "мультфильм         105\n",
       "мелодрама           83\n",
       "триллер             81\n",
       "боевик              62\n",
       "фэнтези             48\n",
       "фантастика          48\n",
       "ужасы               47\n",
       "документальный      30\n",
       "детский             26\n",
       "детектив            22\n",
       "военный             21\n",
       "семейный            20\n",
       "приключения         17\n",
       "история             14\n",
       "биография           11\n",
       "аниме               10\n",
       "мюзикл              10\n",
       "криминал             9\n",
       "короткометражка      7\n",
       "спорт                6\n",
       "вестерн              1\n",
       "реальное ТВ          1\n",
       "Name: main_genre, dtype: int64"
      ]
     },
     "execution_count": 59,
     "metadata": {},
     "output_type": "execute_result"
    }
   ],
   "source": [
    "rus['main_genre'].value_counts()"
   ]
  },
  {
   "cell_type": "markdown",
   "metadata": {},
   "source": [
    "Преобладающие жанры - драма и комедия, но очень много фильмов с жанром \"неизвестно\". Посмотрим на них в динамике"
   ]
  },
  {
   "cell_type": "code",
   "execution_count": 60,
   "metadata": {
    "scrolled": true
   },
   "outputs": [
    {
     "data": {
      "image/png": "[encoded data removed]",
      "text/plain": [
       "<Figure size 432x288 with 1 Axes>"
      ]
     },
     "metadata": {
      "needs_background": "light"
     },
     "output_type": "display_data"
    }
   ],
   "source": [
    "drama = rus[rus['main_genre'] == 'драма']\n",
    "drama.groupby('year_show_start')['main_genre'].count().plot();"
   ]
  },
  {
   "cell_type": "code",
   "execution_count": 61,
   "metadata": {
    "scrolled": false
   },
   "outputs": [
    {
     "data": {
      "image/png": "[encoded data removed]",
      "text/plain": [
       "<Figure size 432x288 with 1 Axes>"
      ]
     },
     "metadata": {
      "needs_background": "light"
     },
     "output_type": "display_data"
    }
   ],
   "source": [
    "comedy = rus[rus['main_genre'] == 'комедия']\n",
    "comedy.groupby('year_show_start')['main_genre'].count().plot();"
   ]
  },
  {
   "cell_type": "markdown",
   "metadata": {},
   "source": [
    "Драмы, как и комедии, из года в год снимаются неравномерно, то есть где-то сильно больше, где-то меньше. Можно заметить, что есть легкая взаимосвязь: в годы, когда больше комедий, выходит меньше драм. Но в обоих случаях пик по количеству фильмов пришелся на 2018 год, а после него произошел спад"
   ]
  },
  {
   "cell_type": "code",
   "execution_count": 62,
   "metadata": {
    "scrolled": true
   },
   "outputs": [
    {
     "data": {
      "image/png": "[encoded data removed]",
      "text/plain": [
       "<Figure size 432x288 with 1 Axes>"
      ]
     },
     "metadata": {
      "needs_background": "light"
     },
     "output_type": "display_data"
    }
   ],
   "source": [
    "drama_rat = rus[rus['main_genre'] == 'драма']\n",
    "drama.groupby('year_show_start')['ratings'].mean().plot();"
   ]
  },
  {
   "cell_type": "markdown",
   "metadata": {},
   "source": [
    "Средняя оценка фильмов в жанре драмы +- постоянна, из года в год колеблется от 6.3 до 6.6. Наибольшее значение было в 2012 - более 7."
   ]
  },
  {
   "cell_type": "code",
   "execution_count": 63,
   "metadata": {
    "scrolled": true
   },
   "outputs": [
    {
     "data": {
      "image/png": "[encoded data removed]",
      "text/plain": [
       "<Figure size 432x288 with 1 Axes>"
      ]
     },
     "metadata": {
      "needs_background": "light"
     },
     "output_type": "display_data"
    }
   ],
   "source": [
    "comedy_rat = rus[rus['main_genre'] == 'комедия']\n",
    "comedy.groupby('year_show_start')['ratings'].mean().plot();"
   ]
  },
  {
   "cell_type": "markdown",
   "metadata": {},
   "source": [
    "Комедии оцениваются очень неоднозначно и ежегодно средняя оценка сильно колеблется от 4.8 до 5.8. с 2016 года несколько лет средняя оценка росла, но, с 2018 снова упала."
   ]
  },
  {
   "cell_type": "markdown",
   "metadata": {},
   "source": [
    "Посмотрим на сумму сборов по годам и жанрам. "
   ]
  },
  {
   "cell_type": "code",
   "execution_count": 64,
   "metadata": {
    "scrolled": true
   },
   "outputs": [
    {
     "data": {
      "text/html": [
       "<div>\n",
       "<style scoped>\n",
       "    .dataframe tbody tr th:only-of-type {\n",
       "        vertical-align: middle;\n",
       "    }\n",
       "\n",
       "    .dataframe tbody tr th {\n",
       "        vertical-align: top;\n",
       "    }\n",
       "\n",
       "    .dataframe thead th {\n",
       "        text-align: right;\n",
       "    }\n",
       "</style>\n",
       "<table border=\"1\" class=\"dataframe\">\n",
       "  <thead>\n",
       "    <tr style=\"text-align: right;\">\n",
       "      <th>year_show_start</th>\n",
       "      <th>2010</th>\n",
       "      <th>2011</th>\n",
       "      <th>2012</th>\n",
       "      <th>2013</th>\n",
       "      <th>2014</th>\n",
       "      <th>2015</th>\n",
       "      <th>2016</th>\n",
       "      <th>2017</th>\n",
       "      <th>2018</th>\n",
       "      <th>2019</th>\n",
       "    </tr>\n",
       "    <tr>\n",
       "      <th>main_genre</th>\n",
       "      <th></th>\n",
       "      <th></th>\n",
       "      <th></th>\n",
       "      <th></th>\n",
       "      <th></th>\n",
       "      <th></th>\n",
       "      <th></th>\n",
       "      <th></th>\n",
       "      <th></th>\n",
       "      <th></th>\n",
       "    </tr>\n",
       "  </thead>\n",
       "  <tbody>\n",
       "    <tr>\n",
       "      <th>аниме</th>\n",
       "      <td>0.00</td>\n",
       "      <td>NaN</td>\n",
       "      <td>0.00</td>\n",
       "      <td>NaN</td>\n",
       "      <td>241,140.00</td>\n",
       "      <td>NaN</td>\n",
       "      <td>NaN</td>\n",
       "      <td>NaN</td>\n",
       "      <td>0.00</td>\n",
       "      <td>0.00</td>\n",
       "    </tr>\n",
       "    <tr>\n",
       "      <th>биография</th>\n",
       "      <td>0.00</td>\n",
       "      <td>NaN</td>\n",
       "      <td>NaN</td>\n",
       "      <td>0.00</td>\n",
       "      <td>0.00</td>\n",
       "      <td>NaN</td>\n",
       "      <td>NaN</td>\n",
       "      <td>NaN</td>\n",
       "      <td>91,500,811.81</td>\n",
       "      <td>114,090,162.74</td>\n",
       "    </tr>\n",
       "    <tr>\n",
       "      <th>боевик</th>\n",
       "      <td>7,835.00</td>\n",
       "      <td>12,616.00</td>\n",
       "      <td>1,250.00</td>\n",
       "      <td>3,075.00</td>\n",
       "      <td>70,752,891.20</td>\n",
       "      <td>229,584,365.70</td>\n",
       "      <td>198,140,642.94</td>\n",
       "      <td>802,765.00</td>\n",
       "      <td>151,454,254.70</td>\n",
       "      <td>18,232,277.12</td>\n",
       "    </tr>\n",
       "    <tr>\n",
       "      <th>вестерн</th>\n",
       "      <td>NaN</td>\n",
       "      <td>NaN</td>\n",
       "      <td>NaN</td>\n",
       "      <td>22,480.00</td>\n",
       "      <td>NaN</td>\n",
       "      <td>NaN</td>\n",
       "      <td>NaN</td>\n",
       "      <td>NaN</td>\n",
       "      <td>NaN</td>\n",
       "      <td>NaN</td>\n",
       "    </tr>\n",
       "    <tr>\n",
       "      <th>военный</th>\n",
       "      <td>32,175.00</td>\n",
       "      <td>NaN</td>\n",
       "      <td>NaN</td>\n",
       "      <td>45,075.00</td>\n",
       "      <td>4,050.00</td>\n",
       "      <td>35,300,095.61</td>\n",
       "      <td>363,622,804.90</td>\n",
       "      <td>8,667,192.00</td>\n",
       "      <td>564,508,861.80</td>\n",
       "      <td>281,553,186.66</td>\n",
       "    </tr>\n",
       "    <tr>\n",
       "      <th>детектив</th>\n",
       "      <td>NaN</td>\n",
       "      <td>NaN</td>\n",
       "      <td>NaN</td>\n",
       "      <td>0.00</td>\n",
       "      <td>380.00</td>\n",
       "      <td>72,618,367.40</td>\n",
       "      <td>NaN</td>\n",
       "      <td>NaN</td>\n",
       "      <td>912,217,276.27</td>\n",
       "      <td>57,503,776.40</td>\n",
       "    </tr>\n",
       "    <tr>\n",
       "      <th>детский</th>\n",
       "      <td>39,968.00</td>\n",
       "      <td>76,466.00</td>\n",
       "      <td>141,990.00</td>\n",
       "      <td>65,335.00</td>\n",
       "      <td>347,129.00</td>\n",
       "      <td>1,038,520.00</td>\n",
       "      <td>2,434,708.00</td>\n",
       "      <td>0.00</td>\n",
       "      <td>0.00</td>\n",
       "      <td>NaN</td>\n",
       "    </tr>\n",
       "    <tr>\n",
       "      <th>документальный</th>\n",
       "      <td>0.00</td>\n",
       "      <td>0.00</td>\n",
       "      <td>0.00</td>\n",
       "      <td>NaN</td>\n",
       "      <td>0.00</td>\n",
       "      <td>NaN</td>\n",
       "      <td>1,361,858.50</td>\n",
       "      <td>0.00</td>\n",
       "      <td>5,008,915.52</td>\n",
       "      <td>28,151,138.82</td>\n",
       "    </tr>\n",
       "    <tr>\n",
       "      <th>драма</th>\n",
       "      <td>29,729.00</td>\n",
       "      <td>21,195.00</td>\n",
       "      <td>166,213.00</td>\n",
       "      <td>506,742.60</td>\n",
       "      <td>96,014,119.10</td>\n",
       "      <td>1,252,266,511.00</td>\n",
       "      <td>2,461,676,474.49</td>\n",
       "      <td>1,166,938,501.54</td>\n",
       "      <td>3,917,237,019.99</td>\n",
       "      <td>1,174,169,625.11</td>\n",
       "    </tr>\n",
       "    <tr>\n",
       "      <th>история</th>\n",
       "      <td>NaN</td>\n",
       "      <td>NaN</td>\n",
       "      <td>1,920.00</td>\n",
       "      <td>NaN</td>\n",
       "      <td>16,255.00</td>\n",
       "      <td>3,792,050.52</td>\n",
       "      <td>108,846,980.83</td>\n",
       "      <td>590,405,065.00</td>\n",
       "      <td>0.00</td>\n",
       "      <td>877,379,893.21</td>\n",
       "    </tr>\n",
       "    <tr>\n",
       "      <th>комедия</th>\n",
       "      <td>7,831.00</td>\n",
       "      <td>131,877.00</td>\n",
       "      <td>103,285.00</td>\n",
       "      <td>20,979,454.10</td>\n",
       "      <td>554,513,899.50</td>\n",
       "      <td>2,172,772,812.68</td>\n",
       "      <td>1,782,632,852.91</td>\n",
       "      <td>3,805,303,654.00</td>\n",
       "      <td>4,495,149,719.22</td>\n",
       "      <td>5,860,103,427.90</td>\n",
       "    </tr>\n",
       "    <tr>\n",
       "      <th>короткометражка</th>\n",
       "      <td>NaN</td>\n",
       "      <td>NaN</td>\n",
       "      <td>0.00</td>\n",
       "      <td>NaN</td>\n",
       "      <td>0.00</td>\n",
       "      <td>0.00</td>\n",
       "      <td>NaN</td>\n",
       "      <td>0.00</td>\n",
       "      <td>0.00</td>\n",
       "      <td>0.00</td>\n",
       "    </tr>\n",
       "    <tr>\n",
       "      <th>криминал</th>\n",
       "      <td>0.00</td>\n",
       "      <td>NaN</td>\n",
       "      <td>NaN</td>\n",
       "      <td>NaN</td>\n",
       "      <td>0.00</td>\n",
       "      <td>86,190.00</td>\n",
       "      <td>228,578,204.00</td>\n",
       "      <td>11,215,659.00</td>\n",
       "      <td>0.00</td>\n",
       "      <td>36,356,076.06</td>\n",
       "    </tr>\n",
       "    <tr>\n",
       "      <th>мелодрама</th>\n",
       "      <td>6,880.00</td>\n",
       "      <td>44,755.00</td>\n",
       "      <td>63,200.00</td>\n",
       "      <td>14,135.00</td>\n",
       "      <td>11,114,691.60</td>\n",
       "      <td>27,189,883.70</td>\n",
       "      <td>23,349,158.00</td>\n",
       "      <td>270,497.00</td>\n",
       "      <td>8,345,647.43</td>\n",
       "      <td>0.00</td>\n",
       "    </tr>\n",
       "    <tr>\n",
       "      <th>мультфильм</th>\n",
       "      <td>90,526.00</td>\n",
       "      <td>88,271.00</td>\n",
       "      <td>450,308.00</td>\n",
       "      <td>1,285,590.00</td>\n",
       "      <td>313,713,097.50</td>\n",
       "      <td>1,429,650,679.76</td>\n",
       "      <td>235,845,750.47</td>\n",
       "      <td>1,507,898,879.76</td>\n",
       "      <td>1,052,854,527.73</td>\n",
       "      <td>1,213,011,342.90</td>\n",
       "    </tr>\n",
       "    <tr>\n",
       "      <th>мюзикл</th>\n",
       "      <td>0.00</td>\n",
       "      <td>NaN</td>\n",
       "      <td>NaN</td>\n",
       "      <td>0.00</td>\n",
       "      <td>NaN</td>\n",
       "      <td>20,274,378.16</td>\n",
       "      <td>81,430,626.82</td>\n",
       "      <td>NaN</td>\n",
       "      <td>0.00</td>\n",
       "      <td>NaN</td>\n",
       "    </tr>\n",
       "    <tr>\n",
       "      <th>неизвестно</th>\n",
       "      <td>10,685.00</td>\n",
       "      <td>2,830.00</td>\n",
       "      <td>30,195.00</td>\n",
       "      <td>0.00</td>\n",
       "      <td>3,702,665.00</td>\n",
       "      <td>32,010,240.73</td>\n",
       "      <td>96,110,694.85</td>\n",
       "      <td>7,499,851.00</td>\n",
       "      <td>1,457,041,596.55</td>\n",
       "      <td>45,900,021.55</td>\n",
       "    </tr>\n",
       "    <tr>\n",
       "      <th>приключения</th>\n",
       "      <td>3,615.00</td>\n",
       "      <td>NaN</td>\n",
       "      <td>4,960.00</td>\n",
       "      <td>NaN</td>\n",
       "      <td>643,521.00</td>\n",
       "      <td>NaN</td>\n",
       "      <td>435,132.00</td>\n",
       "      <td>671,434,629.16</td>\n",
       "      <td>109,283,532.50</td>\n",
       "      <td>104,763,979.99</td>\n",
       "    </tr>\n",
       "    <tr>\n",
       "      <th>реальное ТВ</th>\n",
       "      <td>NaN</td>\n",
       "      <td>NaN</td>\n",
       "      <td>NaN</td>\n",
       "      <td>NaN</td>\n",
       "      <td>NaN</td>\n",
       "      <td>NaN</td>\n",
       "      <td>NaN</td>\n",
       "      <td>NaN</td>\n",
       "      <td>NaN</td>\n",
       "      <td>32,721,103.43</td>\n",
       "    </tr>\n",
       "    <tr>\n",
       "      <th>семейный</th>\n",
       "      <td>NaN</td>\n",
       "      <td>NaN</td>\n",
       "      <td>0.00</td>\n",
       "      <td>4,110.00</td>\n",
       "      <td>579,680,347.80</td>\n",
       "      <td>42,176.00</td>\n",
       "      <td>310,705,510.70</td>\n",
       "      <td>0.00</td>\n",
       "      <td>0.00</td>\n",
       "      <td>120,312,828.55</td>\n",
       "    </tr>\n",
       "    <tr>\n",
       "      <th>спорт</th>\n",
       "      <td>NaN</td>\n",
       "      <td>NaN</td>\n",
       "      <td>33,290.00</td>\n",
       "      <td>NaN</td>\n",
       "      <td>1,607,970.00</td>\n",
       "      <td>168,688,859.10</td>\n",
       "      <td>19,393,384.34</td>\n",
       "      <td>2,779,686,144.00</td>\n",
       "      <td>0.00</td>\n",
       "      <td>NaN</td>\n",
       "    </tr>\n",
       "    <tr>\n",
       "      <th>триллер</th>\n",
       "      <td>8,795.00</td>\n",
       "      <td>0.00</td>\n",
       "      <td>17,913.00</td>\n",
       "      <td>7,104.00</td>\n",
       "      <td>29,482,399.60</td>\n",
       "      <td>472,888,755.92</td>\n",
       "      <td>74,269,243.72</td>\n",
       "      <td>7,189,790.00</td>\n",
       "      <td>264,233,858.84</td>\n",
       "      <td>233,999,004.44</td>\n",
       "    </tr>\n",
       "    <tr>\n",
       "      <th>ужасы</th>\n",
       "      <td>120.00</td>\n",
       "      <td>0.00</td>\n",
       "      <td>13,350.00</td>\n",
       "      <td>6,610.00</td>\n",
       "      <td>109,375.00</td>\n",
       "      <td>441,098,158.50</td>\n",
       "      <td>277,444,732.39</td>\n",
       "      <td>0.00</td>\n",
       "      <td>52,426,176.85</td>\n",
       "      <td>143,922,617.51</td>\n",
       "    </tr>\n",
       "    <tr>\n",
       "      <th>фантастика</th>\n",
       "      <td>4,660.00</td>\n",
       "      <td>1,790.00</td>\n",
       "      <td>NaN</td>\n",
       "      <td>1,000.00</td>\n",
       "      <td>43,812,322.10</td>\n",
       "      <td>334,750.00</td>\n",
       "      <td>1,048,738,148.50</td>\n",
       "      <td>262,040,254.00</td>\n",
       "      <td>291,865,814.13</td>\n",
       "      <td>72,303,794.66</td>\n",
       "    </tr>\n",
       "    <tr>\n",
       "      <th>фэнтези</th>\n",
       "      <td>0.00</td>\n",
       "      <td>5,995.00</td>\n",
       "      <td>12,779.00</td>\n",
       "      <td>116,149.00</td>\n",
       "      <td>0.00</td>\n",
       "      <td>110,232,556.00</td>\n",
       "      <td>86,327,236.32</td>\n",
       "      <td>513,869,642.96</td>\n",
       "      <td>103,617,044.03</td>\n",
       "      <td>189,013,179.96</td>\n",
       "    </tr>\n",
       "  </tbody>\n",
       "</table>\n",
       "</div>"
      ],
      "text/plain": [
       "year_show_start      2010       2011       2012          2013           2014  \\\n",
       "main_genre                                                                     \n",
       "аниме                0.00        NaN       0.00           NaN     241,140.00   \n",
       "биография            0.00        NaN        NaN          0.00           0.00   \n",
       "боевик           7,835.00  12,616.00   1,250.00      3,075.00  70,752,891.20   \n",
       "вестерн               NaN        NaN        NaN     22,480.00            NaN   \n",
       "военный         32,175.00        NaN        NaN     45,075.00       4,050.00   \n",
       "детектив              NaN        NaN        NaN          0.00         380.00   \n",
       "детский         39,968.00  76,466.00 141,990.00     65,335.00     347,129.00   \n",
       "документальный       0.00       0.00       0.00           NaN           0.00   \n",
       "драма           29,729.00  21,195.00 166,213.00    506,742.60  96,014,119.10   \n",
       "история               NaN        NaN   1,920.00           NaN      16,255.00   \n",
       "комедия          7,831.00 131,877.00 103,285.00 20,979,454.10 554,513,899.50   \n",
       "короткометражка       NaN        NaN       0.00           NaN           0.00   \n",
       "криминал             0.00        NaN        NaN           NaN           0.00   \n",
       "мелодрама        6,880.00  44,755.00  63,200.00     14,135.00  11,114,691.60   \n",
       "мультфильм      90,526.00  88,271.00 450,308.00  1,285,590.00 313,713,097.50   \n",
       "мюзикл               0.00        NaN        NaN          0.00            NaN   \n",
       "неизвестно      10,685.00   2,830.00  30,195.00          0.00   3,702,665.00   \n",
       "приключения      3,615.00        NaN   4,960.00           NaN     643,521.00   \n",
       "реальное ТВ           NaN        NaN        NaN           NaN            NaN   \n",
       "семейный              NaN        NaN       0.00      4,110.00 579,680,347.80   \n",
       "спорт                 NaN        NaN  33,290.00           NaN   1,607,970.00   \n",
       "триллер          8,795.00       0.00  17,913.00      7,104.00  29,482,399.60   \n",
       "ужасы              120.00       0.00  13,350.00      6,610.00     109,375.00   \n",
       "фантастика       4,660.00   1,790.00        NaN      1,000.00  43,812,322.10   \n",
       "фэнтези              0.00   5,995.00  12,779.00    116,149.00           0.00   \n",
       "\n",
       "year_show_start             2015             2016             2017  \\\n",
       "main_genre                                                           \n",
       "аниме                        NaN              NaN              NaN   \n",
       "биография                    NaN              NaN              NaN   \n",
       "боевик            229,584,365.70   198,140,642.94       802,765.00   \n",
       "вестерн                      NaN              NaN              NaN   \n",
       "военный            35,300,095.61   363,622,804.90     8,667,192.00   \n",
       "детектив           72,618,367.40              NaN              NaN   \n",
       "детский             1,038,520.00     2,434,708.00             0.00   \n",
       "документальный               NaN     1,361,858.50             0.00   \n",
       "драма           1,252,266,511.00 2,461,676,474.49 1,166,938,501.54   \n",
       "история             3,792,050.52   108,846,980.83   590,405,065.00   \n",
       "комедия         2,172,772,812.68 1,782,632,852.91 3,805,303,654.00   \n",
       "короткометражка             0.00              NaN             0.00   \n",
       "криминал               86,190.00   228,578,204.00    11,215,659.00   \n",
       "мелодрама          27,189,883.70    23,349,158.00       270,497.00   \n",
       "мультфильм      1,429,650,679.76   235,845,750.47 1,507,898,879.76   \n",
       "мюзикл             20,274,378.16    81,430,626.82              NaN   \n",
       "неизвестно         32,010,240.73    96,110,694.85     7,499,851.00   \n",
       "приключения                  NaN       435,132.00   671,434,629.16   \n",
       "реальное ТВ                  NaN              NaN              NaN   \n",
       "семейный               42,176.00   310,705,510.70             0.00   \n",
       "спорт             168,688,859.10    19,393,384.34 2,779,686,144.00   \n",
       "триллер           472,888,755.92    74,269,243.72     7,189,790.00   \n",
       "ужасы             441,098,158.50   277,444,732.39             0.00   \n",
       "фантастика            334,750.00 1,048,738,148.50   262,040,254.00   \n",
       "фэнтези           110,232,556.00    86,327,236.32   513,869,642.96   \n",
       "\n",
       "year_show_start             2018             2019  \n",
       "main_genre                                         \n",
       "аниме                       0.00             0.00  \n",
       "биография          91,500,811.81   114,090,162.74  \n",
       "боевик            151,454,254.70    18,232,277.12  \n",
       "вестерн                      NaN              NaN  \n",
       "военный           564,508,861.80   281,553,186.66  \n",
       "детектив          912,217,276.27    57,503,776.40  \n",
       "детский                     0.00              NaN  \n",
       "документальный      5,008,915.52    28,151,138.82  \n",
       "драма           3,917,237,019.99 1,174,169,625.11  \n",
       "история                     0.00   877,379,893.21  \n",
       "комедия         4,495,149,719.22 5,860,103,427.90  \n",
       "короткометражка             0.00             0.00  \n",
       "криминал                    0.00    36,356,076.06  \n",
       "мелодрама           8,345,647.43             0.00  \n",
       "мультфильм      1,052,854,527.73 1,213,011,342.90  \n",
       "мюзикл                      0.00              NaN  \n",
       "неизвестно      1,457,041,596.55    45,900,021.55  \n",
       "приключения       109,283,532.50   104,763,979.99  \n",
       "реальное ТВ                  NaN    32,721,103.43  \n",
       "семейный                    0.00   120,312,828.55  \n",
       "спорт                       0.00              NaN  \n",
       "триллер           264,233,858.84   233,999,004.44  \n",
       "ужасы              52,426,176.85   143,922,617.51  \n",
       "фантастика        291,865,814.13    72,303,794.66  \n",
       "фэнтези           103,617,044.03   189,013,179.96  "
      ]
     },
     "execution_count": 64,
     "metadata": {},
     "output_type": "execute_result"
    }
   ],
   "source": [
    "rus_pt = rus.pivot_table(index='main_genre', columns='year_show_start', values='box_office', aggfunc='sum')\n",
    "rus_pt"
   ]
  },
  {
   "cell_type": "markdown",
   "metadata": {},
   "source": [
    "Из таблицы видно, что, во-первых, сравнивая с, например, 2010-2011 годами, в прокат стало выходить больше жанров. Во-вторых, \"самыми собираемыми\" за последние несколько лет являются фильмы в жанрах драма и комедия, что объсняется их количеством среди всей массф фильмов, а также фильмы - мультфильмы и военные."
   ]
  },
  {
   "cell_type": "markdown",
   "metadata": {},
   "source": [
    "**Изучим фильмы, получившие гос.поддержку.**"
   ]
  },
  {
   "cell_type": "markdown",
   "metadata": {},
   "source": [
    "Мы уже знаем, что всего фильмов с господдержкой 332. Это составляет примерно 18% от общего числа фильмов, снятых в России.\n",
    "\n",
    "Посмотрим, какую долю из выделяемых государством средств составляют возвратные средства"
   ]
  },
  {
   "cell_type": "code",
   "execution_count": 65,
   "metadata": {
    "id": "W9QKpjUdgFyb",
    "scrolled": true
   },
   "outputs": [
    {
     "data": {
      "text/plain": [
       "0.1949933556303663"
      ]
     },
     "execution_count": 65,
     "metadata": {},
     "output_type": "execute_result"
    }
   ],
   "source": [
    "support_cinema = data.query('budget >= 0')\n",
    "ref = support_cinema['refundable_support'].sum()\n",
    "nonref = support_cinema['nonrefundable_support'].sum()\n",
    "ref/(ref+nonref)"
   ]
  },
  {
   "cell_type": "markdown",
   "metadata": {},
   "source": [
    "19% - доля вовзратных средств из всех выделенных средств. Значит, аж 81% выделяются на безвозмездной основе. Посмотрим, окупаются ли эти фильмы и их рейтинг."
   ]
  },
  {
   "cell_type": "code",
   "execution_count": 66,
   "metadata": {
    "scrolled": false
   },
   "outputs": [
    {
     "data": {
      "text/plain": [
       "39"
      ]
     },
     "execution_count": 66,
     "metadata": {},
     "output_type": "execute_result"
    }
   ],
   "source": [
    "support_cinema[support_cinema['box_office'] >= support_cinema['budget'] * 2]['box_office'].count() "
   ]
  },
  {
   "cell_type": "code",
   "execution_count": 67,
   "metadata": {
    "scrolled": false
   },
   "outputs": [
    {
     "data": {
      "text/plain": [
       "239"
      ]
     },
     "execution_count": 67,
     "metadata": {},
     "output_type": "execute_result"
    }
   ],
   "source": [
    "len(support_cinema[support_cinema['box_office'] <= support_cinema['budget']])"
   ]
  },
  {
   "cell_type": "markdown",
   "metadata": {},
   "source": [
    "Фильм считается окупившимся, если его сборы хотя бы вдвое превысили бюджет. Около 12% фильмов, получивших гос.поддержку окупились. 71% фильмов собрали меньше или столько же денег, сколько на них затратили"
   ]
  },
  {
   "cell_type": "code",
   "execution_count": 68,
   "metadata": {
    "scrolled": true
   },
   "outputs": [
    {
     "data": {
      "text/html": [
       "<div>\n",
       "<style scoped>\n",
       "    .dataframe tbody tr th:only-of-type {\n",
       "        vertical-align: middle;\n",
       "    }\n",
       "\n",
       "    .dataframe tbody tr th {\n",
       "        vertical-align: top;\n",
       "    }\n",
       "\n",
       "    .dataframe thead tr th {\n",
       "        text-align: left;\n",
       "    }\n",
       "\n",
       "    .dataframe thead tr:last-of-type th {\n",
       "        text-align: right;\n",
       "    }\n",
       "</style>\n",
       "<table border=\"1\" class=\"dataframe\">\n",
       "  <thead>\n",
       "    <tr>\n",
       "      <th></th>\n",
       "      <th></th>\n",
       "      <th>mean</th>\n",
       "      <th>count</th>\n",
       "    </tr>\n",
       "    <tr>\n",
       "      <th></th>\n",
       "      <th></th>\n",
       "      <th>ratings</th>\n",
       "      <th>ratings</th>\n",
       "    </tr>\n",
       "    <tr>\n",
       "      <th>year_show_start</th>\n",
       "      <th>age_restriction</th>\n",
       "      <th></th>\n",
       "      <th></th>\n",
       "    </tr>\n",
       "  </thead>\n",
       "  <tbody>\n",
       "    <tr>\n",
       "      <th rowspan=\"2\" valign=\"top\">2013</th>\n",
       "      <th>«12+» - для детей старше 12 лет</th>\n",
       "      <td>5.30</td>\n",
       "      <td>1</td>\n",
       "    </tr>\n",
       "    <tr>\n",
       "      <th>«16+» - для детей старше 16 лет</th>\n",
       "      <td>8.10</td>\n",
       "      <td>1</td>\n",
       "    </tr>\n",
       "    <tr>\n",
       "      <th rowspan=\"5\" valign=\"top\">2014</th>\n",
       "      <th>«0+» - для любой зрительской аудитории</th>\n",
       "      <td>5.15</td>\n",
       "      <td>2</td>\n",
       "    </tr>\n",
       "    <tr>\n",
       "      <th>«12+» - для детей старше 12 лет</th>\n",
       "      <td>6.25</td>\n",
       "      <td>4</td>\n",
       "    </tr>\n",
       "    <tr>\n",
       "      <th>«16+» - для детей старше 16 лет</th>\n",
       "      <td>6.10</td>\n",
       "      <td>6</td>\n",
       "    </tr>\n",
       "    <tr>\n",
       "      <th>«18+» - запрещено для детей</th>\n",
       "      <td>6.60</td>\n",
       "      <td>2</td>\n",
       "    </tr>\n",
       "    <tr>\n",
       "      <th>«6+» - для детей старше 6 лет</th>\n",
       "      <td>5.00</td>\n",
       "      <td>1</td>\n",
       "    </tr>\n",
       "    <tr>\n",
       "      <th rowspan=\"5\" valign=\"top\">2015</th>\n",
       "      <th>«0+» - для любой зрительской аудитории</th>\n",
       "      <td>6.70</td>\n",
       "      <td>1</td>\n",
       "    </tr>\n",
       "    <tr>\n",
       "      <th>«12+» - для детей старше 12 лет</th>\n",
       "      <td>6.41</td>\n",
       "      <td>24</td>\n",
       "    </tr>\n",
       "    <tr>\n",
       "      <th>«16+» - для детей старше 16 лет</th>\n",
       "      <td>5.82</td>\n",
       "      <td>37</td>\n",
       "    </tr>\n",
       "    <tr>\n",
       "      <th>«18+» - запрещено для детей</th>\n",
       "      <td>6.10</td>\n",
       "      <td>4</td>\n",
       "    </tr>\n",
       "    <tr>\n",
       "      <th>«6+» - для детей старше 6 лет</th>\n",
       "      <td>6.06</td>\n",
       "      <td>15</td>\n",
       "    </tr>\n",
       "    <tr>\n",
       "      <th rowspan=\"5\" valign=\"top\">2016</th>\n",
       "      <th>«0+» - для любой зрительской аудитории</th>\n",
       "      <td>7.00</td>\n",
       "      <td>1</td>\n",
       "    </tr>\n",
       "    <tr>\n",
       "      <th>«12+» - для детей старше 12 лет</th>\n",
       "      <td>5.66</td>\n",
       "      <td>22</td>\n",
       "    </tr>\n",
       "    <tr>\n",
       "      <th>«16+» - для детей старше 16 лет</th>\n",
       "      <td>5.99</td>\n",
       "      <td>20</td>\n",
       "    </tr>\n",
       "    <tr>\n",
       "      <th>«18+» - запрещено для детей</th>\n",
       "      <td>5.67</td>\n",
       "      <td>3</td>\n",
       "    </tr>\n",
       "    <tr>\n",
       "      <th>«6+» - для детей старше 6 лет</th>\n",
       "      <td>5.04</td>\n",
       "      <td>11</td>\n",
       "    </tr>\n",
       "    <tr>\n",
       "      <th rowspan=\"5\" valign=\"top\">2017</th>\n",
       "      <th>«0+» - для любой зрительской аудитории</th>\n",
       "      <td>6.45</td>\n",
       "      <td>2</td>\n",
       "    </tr>\n",
       "    <tr>\n",
       "      <th>«12+» - для детей старше 12 лет</th>\n",
       "      <td>5.83</td>\n",
       "      <td>15</td>\n",
       "    </tr>\n",
       "    <tr>\n",
       "      <th>«16+» - для детей старше 16 лет</th>\n",
       "      <td>6.00</td>\n",
       "      <td>10</td>\n",
       "    </tr>\n",
       "    <tr>\n",
       "      <th>«18+» - запрещено для детей</th>\n",
       "      <td>6.67</td>\n",
       "      <td>3</td>\n",
       "    </tr>\n",
       "    <tr>\n",
       "      <th>«6+» - для детей старше 6 лет</th>\n",
       "      <td>5.96</td>\n",
       "      <td>9</td>\n",
       "    </tr>\n",
       "    <tr>\n",
       "      <th rowspan=\"4\" valign=\"top\">2018</th>\n",
       "      <th>«12+» - для детей старше 12 лет</th>\n",
       "      <td>6.01</td>\n",
       "      <td>16</td>\n",
       "    </tr>\n",
       "    <tr>\n",
       "      <th>«16+» - для детей старше 16 лет</th>\n",
       "      <td>5.92</td>\n",
       "      <td>19</td>\n",
       "    </tr>\n",
       "    <tr>\n",
       "      <th>«18+» - запрещено для детей</th>\n",
       "      <td>6.58</td>\n",
       "      <td>9</td>\n",
       "    </tr>\n",
       "    <tr>\n",
       "      <th>«6+» - для детей старше 6 лет</th>\n",
       "      <td>5.59</td>\n",
       "      <td>9</td>\n",
       "    </tr>\n",
       "    <tr>\n",
       "      <th rowspan=\"5\" valign=\"top\">2019</th>\n",
       "      <th>«0+» - для любой зрительской аудитории</th>\n",
       "      <td>8.00</td>\n",
       "      <td>1</td>\n",
       "    </tr>\n",
       "    <tr>\n",
       "      <th>«12+» - для детей старше 12 лет</th>\n",
       "      <td>6.24</td>\n",
       "      <td>17</td>\n",
       "    </tr>\n",
       "    <tr>\n",
       "      <th>«16+» - для детей старше 16 лет</th>\n",
       "      <td>5.89</td>\n",
       "      <td>27</td>\n",
       "    </tr>\n",
       "    <tr>\n",
       "      <th>«18+» - запрещено для детей</th>\n",
       "      <td>5.82</td>\n",
       "      <td>5</td>\n",
       "    </tr>\n",
       "    <tr>\n",
       "      <th>«6+» - для детей старше 6 лет</th>\n",
       "      <td>6.56</td>\n",
       "      <td>17</td>\n",
       "    </tr>\n",
       "  </tbody>\n",
       "</table>\n",
       "</div>"
      ],
      "text/plain": [
       "                                                          mean   count\n",
       "                                                       ratings ratings\n",
       "year_show_start age_restriction                                       \n",
       "2013            «12+» - для детей старше 12 лет           5.30       1\n",
       "                «16+» - для детей старше 16 лет           8.10       1\n",
       "2014            «0+» - для любой зрительской аудитории    5.15       2\n",
       "                «12+» - для детей старше 12 лет           6.25       4\n",
       "                «16+» - для детей старше 16 лет           6.10       6\n",
       "                «18+» - запрещено для детей               6.60       2\n",
       "                «6+» - для детей старше 6 лет             5.00       1\n",
       "2015            «0+» - для любой зрительской аудитории    6.70       1\n",
       "                «12+» - для детей старше 12 лет           6.41      24\n",
       "                «16+» - для детей старше 16 лет           5.82      37\n",
       "                «18+» - запрещено для детей               6.10       4\n",
       "                «6+» - для детей старше 6 лет             6.06      15\n",
       "2016            «0+» - для любой зрительской аудитории    7.00       1\n",
       "                «12+» - для детей старше 12 лет           5.66      22\n",
       "                «16+» - для детей старше 16 лет           5.99      20\n",
       "                «18+» - запрещено для детей               5.67       3\n",
       "                «6+» - для детей старше 6 лет             5.04      11\n",
       "2017            «0+» - для любой зрительской аудитории    6.45       2\n",
       "                «12+» - для детей старше 12 лет           5.83      15\n",
       "                «16+» - для детей старше 16 лет           6.00      10\n",
       "                «18+» - запрещено для детей               6.67       3\n",
       "                «6+» - для детей старше 6 лет             5.96       9\n",
       "2018            «12+» - для детей старше 12 лет           6.01      16\n",
       "                «16+» - для детей старше 16 лет           5.92      19\n",
       "                «18+» - запрещено для детей               6.58       9\n",
       "                «6+» - для детей старше 6 лет             5.59       9\n",
       "2019            «0+» - для любой зрительской аудитории    8.00       1\n",
       "                «12+» - для детей старше 12 лет           6.24      17\n",
       "                «16+» - для детей старше 16 лет           5.89      27\n",
       "                «18+» - запрещено для детей               5.82       5\n",
       "                «6+» - для детей старше 6 лет             6.56      17"
      ]
     },
     "execution_count": 68,
     "metadata": {},
     "output_type": "execute_result"
    }
   ],
   "source": [
    "rating = support_cinema.pivot_table(index=['year_show_start', 'age_restriction'], values='ratings', aggfunc=['mean', 'count'])\n",
    "rating"
   ]
  },
  {
   "cell_type": "code",
   "execution_count": 69,
   "metadata": {
    "scrolled": false
   },
   "outputs": [
    {
     "data": {
      "text/plain": [
       "6.000636942675162"
      ]
     },
     "execution_count": 69,
     "metadata": {},
     "output_type": "execute_result"
    }
   ],
   "source": [
    "support_cinema['ratings'].mean()"
   ]
  },
  {
   "cell_type": "code",
   "execution_count": 70,
   "metadata": {},
   "outputs": [
    {
     "data": {
      "text/plain": [
       "6.479195561719828"
      ]
     },
     "execution_count": 70,
     "metadata": {},
     "output_type": "execute_result"
    }
   ],
   "source": [
    "data['ratings'].mean()"
   ]
  },
  {
   "cell_type": "markdown",
   "metadata": {},
   "source": [
    "Рейтинг у фильмов получивших гос.поддержку в разрезе по годам и возрастным категориям в среднем составляет 6.0, что не намного меньше среднего рейтинга фильмов по России в целом (6,1)? также это меньше среднего рейтинга таблицы (6,4). Видно, что есть несколько фильмов, получивших оценку сильно выше средней. "
   ]
  },
  {
   "cell_type": "code",
   "execution_count": 71,
   "metadata": {
    "scrolled": false
   },
   "outputs": [
    {
     "data": {
      "text/plain": [
       "«16+» - для детей старше 16 лет           125\n",
       "«12+» - для детей старше 12 лет           106\n",
       "«6+» - для детей старше 6 лет              65\n",
       "«18+» - запрещено для детей                28\n",
       "«0+» - для любой зрительской аудитории      8\n",
       "Name: age_restriction, dtype: int64"
      ]
     },
     "execution_count": 71,
     "metadata": {},
     "output_type": "execute_result"
    }
   ],
   "source": [
    "support_cinema['age_restriction'].value_counts()"
   ]
  },
  {
   "cell_type": "markdown",
   "metadata": {},
   "source": [
    "Среди фильмов, получающих господдержку, большую часть составляют фильмы 12+ и 16+. Возможно, больший упор делается на семейные фильмы и фильмы для детей. "
   ]
  },
  {
   "cell_type": "code",
   "execution_count": 72,
   "metadata": {
    "scrolled": false
   },
   "outputs": [
    {
     "data": {
      "text/plain": [
       "драма          93\n",
       "комедия        74\n",
       "мультфильм     31\n",
       "неизвестно     16\n",
       "триллер        15\n",
       "мелодрама      15\n",
       "фэнтези        11\n",
       "фантастика     11\n",
       "ужасы          10\n",
       "военный         9\n",
       "семейный        7\n",
       "приключения     7\n",
       "боевик          6\n",
       "детектив        5\n",
       "детский         4\n",
       "мюзикл          4\n",
       "история         4\n",
       "криминал        3\n",
       "биография       3\n",
       "спорт           3\n",
       "реальное ТВ     1\n",
       "Name: main_genre, dtype: int64"
      ]
     },
     "execution_count": 72,
     "metadata": {},
     "output_type": "execute_result"
    }
   ],
   "source": [
    "support_cinema['main_genre'].value_counts()"
   ]
  },
  {
   "cell_type": "markdown",
   "metadata": {},
   "source": [
    "Господдержку в основном получают фильмы в тех же жанрах, что и распространены в России в целом: драма и комедия."
   ]
  },
  {
   "cell_type": "code",
   "execution_count": 73,
   "metadata": {
    "scrolled": false
   },
   "outputs": [
    {
     "data": {
      "text/html": [
       "<div>\n",
       "<style scoped>\n",
       "    .dataframe tbody tr th:only-of-type {\n",
       "        vertical-align: middle;\n",
       "    }\n",
       "\n",
       "    .dataframe tbody tr th {\n",
       "        vertical-align: top;\n",
       "    }\n",
       "\n",
       "    .dataframe thead tr th {\n",
       "        text-align: left;\n",
       "    }\n",
       "\n",
       "    .dataframe thead tr:last-of-type th {\n",
       "        text-align: right;\n",
       "    }\n",
       "</style>\n",
       "<table border=\"1\" class=\"dataframe\">\n",
       "  <thead>\n",
       "    <tr>\n",
       "      <th></th>\n",
       "      <th>mean</th>\n",
       "    </tr>\n",
       "    <tr>\n",
       "      <th></th>\n",
       "      <th>ratings</th>\n",
       "    </tr>\n",
       "    <tr>\n",
       "      <th>main_genre</th>\n",
       "      <th></th>\n",
       "    </tr>\n",
       "  </thead>\n",
       "  <tbody>\n",
       "    <tr>\n",
       "      <th>биография</th>\n",
       "      <td>6.90</td>\n",
       "    </tr>\n",
       "    <tr>\n",
       "      <th>боевик</th>\n",
       "      <td>6.58</td>\n",
       "    </tr>\n",
       "    <tr>\n",
       "      <th>военный</th>\n",
       "      <td>6.47</td>\n",
       "    </tr>\n",
       "    <tr>\n",
       "      <th>детектив</th>\n",
       "      <td>6.76</td>\n",
       "    </tr>\n",
       "    <tr>\n",
       "      <th>детский</th>\n",
       "      <td>7.12</td>\n",
       "    </tr>\n",
       "    <tr>\n",
       "      <th>драма</th>\n",
       "      <td>6.39</td>\n",
       "    </tr>\n",
       "    <tr>\n",
       "      <th>история</th>\n",
       "      <td>5.35</td>\n",
       "    </tr>\n",
       "    <tr>\n",
       "      <th>комедия</th>\n",
       "      <td>5.51</td>\n",
       "    </tr>\n",
       "    <tr>\n",
       "      <th>криминал</th>\n",
       "      <td>7.50</td>\n",
       "    </tr>\n",
       "    <tr>\n",
       "      <th>мелодрама</th>\n",
       "      <td>5.95</td>\n",
       "    </tr>\n",
       "    <tr>\n",
       "      <th>мультфильм</th>\n",
       "      <td>5.80</td>\n",
       "    </tr>\n",
       "    <tr>\n",
       "      <th>мюзикл</th>\n",
       "      <td>6.55</td>\n",
       "    </tr>\n",
       "    <tr>\n",
       "      <th>приключения</th>\n",
       "      <td>5.87</td>\n",
       "    </tr>\n",
       "    <tr>\n",
       "      <th>реальное ТВ</th>\n",
       "      <td>5.60</td>\n",
       "    </tr>\n",
       "    <tr>\n",
       "      <th>семейный</th>\n",
       "      <td>5.41</td>\n",
       "    </tr>\n",
       "    <tr>\n",
       "      <th>спорт</th>\n",
       "      <td>6.93</td>\n",
       "    </tr>\n",
       "    <tr>\n",
       "      <th>триллер</th>\n",
       "      <td>5.71</td>\n",
       "    </tr>\n",
       "    <tr>\n",
       "      <th>ужасы</th>\n",
       "      <td>5.20</td>\n",
       "    </tr>\n",
       "    <tr>\n",
       "      <th>фантастика</th>\n",
       "      <td>5.82</td>\n",
       "    </tr>\n",
       "    <tr>\n",
       "      <th>фэнтези</th>\n",
       "      <td>6.09</td>\n",
       "    </tr>\n",
       "  </tbody>\n",
       "</table>\n",
       "</div>"
      ],
      "text/plain": [
       "               mean\n",
       "            ratings\n",
       "main_genre         \n",
       "биография      6.90\n",
       "боевик         6.58\n",
       "военный        6.47\n",
       "детектив       6.76\n",
       "детский        7.12\n",
       "драма          6.39\n",
       "история        5.35\n",
       "комедия        5.51\n",
       "криминал       7.50\n",
       "мелодрама      5.95\n",
       "мультфильм     5.80\n",
       "мюзикл         6.55\n",
       "приключения    5.87\n",
       "реальное ТВ    5.60\n",
       "семейный       5.41\n",
       "спорт          6.93\n",
       "триллер        5.71\n",
       "ужасы          5.20\n",
       "фантастика     5.82\n",
       "фэнтези        6.09"
      ]
     },
     "execution_count": 73,
     "metadata": {},
     "output_type": "execute_result"
    }
   ],
   "source": [
    "support_cinema.pivot_table(index='main_genre', values='ratings', aggfunc=['mean'])"
   ]
  },
  {
   "cell_type": "markdown",
   "metadata": {},
   "source": [
    "Если посмотреть на рейтинги фильмов по жанрам, то можно увидеть, что фильмы в жанрах, на которые чаще всего выделяют деньги, зрителями воспринимаются не очень хорошо (у комедий средняя оценка 5,5)"
   ]
  },
  {
   "cell_type": "markdown",
   "metadata": {},
   "source": [
    "Таким образом, судя по имеющимся данным, государство оказывает поддержку около 20 % фильмам. Из выделяемых на это средств 80% являются безвозратными. При этом, 71% фильм, получивших поддержку, не окупились. Наиболее часто в России снимают комедии и драмы, они же и собирают больше всех, среди других жанров. Средний рейтинг россиийских фильм около 6, что немного ниже среднего рейтинга по таблице в целом. Комедии воспринимаются населением неоднозначно, их оценки непостоянны. В основном фильмы расчитаны на аудиторию 12 и 16+."
   ]
  },
  {
   "cell_type": "markdown",
   "metadata": {
    "id": "V2gYwMcPgFyd"
   },
   "source": [
    "### Шаг 5. Напишите общий вывод"
   ]
  },
  {
   "cell_type": "markdown",
   "metadata": {
    "id": "AYRg3dzXgFye"
   },
   "source": [
    "В ходе проведенного исследования мы поменяли типы данных в столбцах \"show_start_date\" и \"ratings\"; выявили пропуски  и заполнили их там, где это было возможно и необходимо для исследования, а именно в столбцах «director» и «genres». выявили дубликаты, один из которых – опечатка и, соответственно, избавились от него.  Исправили проблемные значения в столбцах, где были допущены лишние символы в названиях категорий. Выявили нулевые значения в столбце «budget», которых там быть не должно и заменили суммой средств господдержки. Создали новые столбцы и выделили год, основной жанр фильма, фамилию главного режиссера и долю господдержки в общем бюджете фильма (в среднем она равна 60%) . Изучили сколько фильмов выходило каждый год и сколько из них, выходило в кинотеатрах (число фильмов, выходивших в прокат росло до 2017. года). Максимальная сумма сборов была в 2018, а минимальная – в 2010. Выявили, что наибольшие сборы у фильмов с рейтингом 16+, эта тенденция сохраняется на протяжении нескольких лет. Изучили фильмы, произведенные в России и отдельно фильмы, получившие господдержку. Выявили, что в России преобладают фильмы таких жанров, как драма и комедия. Фильмы этих же жанров чаще получают господдержку. Рейтинг фильмов России и фильмов с господдержкой примерно одинаков (6-6.1), но это ниже, чем в общей базе данных (6.4). Средние оценки основных жанров фильмов непостоянны и из года в год колеблются, особенно у комедий. Жанры фильмов с наибольшими сборами в течение последних лет – драма, комедия, мультфильм, военный. Также мы выявили, что среди фильмов, получающих господдержку, окупается только 12%. 71% фильмов собирает меньше средств, чем на него затратили. Также в основном господдержку получают фильмы категорий 12 +и 16+. Можно сказать, что больший акцент делается на семейные фильмы. "
   ]
  }
 ],
 "metadata": {
  "ExecuteTimeLog": [
   {
    "duration": 537,
    "start_time": "2021-07-07T10:12:08.634Z"
   },
   {
    "duration": 206,
    "start_time": "2021-07-07T10:12:30.191Z"
   },
   {
    "duration": 227,
    "start_time": "2021-07-07T10:12:33.078Z"
   },
   {
    "duration": 153,
    "start_time": "2021-07-07T10:13:42.146Z"
   },
   {
    "duration": 233,
    "start_time": "2021-07-07T10:30:09.252Z"
   },
   {
    "duration": 19,
    "start_time": "2021-07-07T10:30:15.577Z"
   },
   {
    "duration": 18,
    "start_time": "2021-07-07T10:30:57.348Z"
   },
   {
    "duration": 19,
    "start_time": "2021-07-07T10:31:17.452Z"
   },
   {
    "duration": 21,
    "start_time": "2021-07-07T10:31:32.227Z"
   },
   {
    "duration": 27,
    "start_time": "2021-07-07T10:32:06.588Z"
   },
   {
    "duration": 23,
    "start_time": "2021-07-07T10:32:43.645Z"
   },
   {
    "duration": 24,
    "start_time": "2021-07-07T10:33:06.948Z"
   },
   {
    "duration": 7,
    "start_time": "2021-07-07T10:33:28.558Z"
   },
   {
    "duration": 23,
    "start_time": "2021-07-07T10:33:43.761Z"
   },
   {
    "duration": 28,
    "start_time": "2021-07-07T10:34:13.466Z"
   },
   {
    "duration": 23,
    "start_time": "2021-07-07T10:35:56.187Z"
   },
   {
    "duration": 6,
    "start_time": "2021-07-07T10:36:48.182Z"
   },
   {
    "duration": 14,
    "start_time": "2021-07-07T10:37:49.641Z"
   },
   {
    "duration": 6,
    "start_time": "2021-07-07T10:38:06.694Z"
   },
   {
    "duration": 6,
    "start_time": "2021-07-07T10:38:13.493Z"
   },
   {
    "duration": 19,
    "start_time": "2021-07-07T10:38:44.056Z"
   },
   {
    "duration": 186,
    "start_time": "2021-07-07T10:48:35.618Z"
   },
   {
    "duration": 24,
    "start_time": "2021-07-07T10:48:51.498Z"
   },
   {
    "duration": 20,
    "start_time": "2021-07-07T10:48:59.415Z"
   },
   {
    "duration": 20,
    "start_time": "2021-07-07T10:53:02.195Z"
   },
   {
    "duration": 188,
    "start_time": "2021-07-07T10:54:40.486Z"
   },
   {
    "duration": 115,
    "start_time": "2021-07-07T10:54:52.552Z"
   },
   {
    "duration": 214,
    "start_time": "2021-07-07T10:54:56.354Z"
   },
   {
    "duration": 47,
    "start_time": "2021-07-07T10:54:58.282Z"
   },
   {
    "duration": 217,
    "start_time": "2021-07-07T10:59:16.075Z"
   },
   {
    "duration": 51,
    "start_time": "2021-07-07T10:59:16.243Z"
   },
   {
    "duration": 578,
    "start_time": "2021-07-07T10:59:18.774Z"
   },
   {
    "duration": 161,
    "start_time": "2021-07-07T10:59:21.238Z"
   },
   {
    "duration": 59,
    "start_time": "2021-07-07T10:59:21.453Z"
   },
   {
    "duration": 3,
    "start_time": "2021-07-07T11:02:10.786Z"
   },
   {
    "duration": 13,
    "start_time": "2021-07-07T11:07:07.722Z"
   },
   {
    "duration": 26,
    "start_time": "2021-07-07T11:07:17.958Z"
   },
   {
    "duration": 22,
    "start_time": "2021-07-07T11:08:17.939Z"
   },
   {
    "duration": 212,
    "start_time": "2021-07-07T11:08:19.665Z"
   },
   {
    "duration": 21,
    "start_time": "2021-07-07T11:08:29.945Z"
   },
   {
    "duration": 31,
    "start_time": "2021-07-07T11:08:38.899Z"
   },
   {
    "duration": 23,
    "start_time": "2021-07-07T11:08:54.527Z"
   },
   {
    "duration": 8,
    "start_time": "2021-07-07T11:18:55.974Z"
   },
   {
    "duration": 7,
    "start_time": "2021-07-07T11:19:03.639Z"
   },
   {
    "duration": 7,
    "start_time": "2021-07-07T11:19:06.444Z"
   },
   {
    "duration": 578,
    "start_time": "2021-07-07T12:09:59.576Z"
   },
   {
    "duration": 195,
    "start_time": "2021-07-07T12:10:00.156Z"
   },
   {
    "duration": 115,
    "start_time": "2021-07-07T12:10:00.353Z"
   },
   {
    "duration": 3,
    "start_time": "2021-07-07T12:10:00.470Z"
   },
   {
    "duration": 32,
    "start_time": "2021-07-07T12:10:00.474Z"
   },
   {
    "duration": 23,
    "start_time": "2021-07-07T12:10:00.508Z"
   },
   {
    "duration": 19,
    "start_time": "2021-07-07T12:10:00.533Z"
   },
   {
    "duration": 44,
    "start_time": "2021-07-07T12:10:00.553Z"
   },
   {
    "duration": 7,
    "start_time": "2021-07-07T12:10:00.600Z"
   },
   {
    "duration": 7,
    "start_time": "2021-07-07T12:19:45.761Z"
   },
   {
    "duration": 21,
    "start_time": "2021-07-07T12:21:35.482Z"
   },
   {
    "duration": 21,
    "start_time": "2021-07-07T12:29:23.569Z"
   },
   {
    "duration": 525,
    "start_time": "2021-07-07T12:29:44.542Z"
   },
   {
    "duration": 214,
    "start_time": "2021-07-07T12:29:45.069Z"
   },
   {
    "duration": 92,
    "start_time": "2021-07-07T12:29:45.285Z"
   },
   {
    "duration": 3,
    "start_time": "2021-07-07T12:29:45.379Z"
   },
   {
    "duration": 28,
    "start_time": "2021-07-07T12:29:45.384Z"
   },
   {
    "duration": 23,
    "start_time": "2021-07-07T12:29:45.413Z"
   },
   {
    "duration": 21,
    "start_time": "2021-07-07T12:29:45.437Z"
   },
   {
    "duration": 41,
    "start_time": "2021-07-07T12:29:45.460Z"
   },
   {
    "duration": 7,
    "start_time": "2021-07-07T12:29:45.502Z"
   },
   {
    "duration": 20,
    "start_time": "2021-07-07T12:29:45.511Z"
   },
   {
    "duration": 12,
    "start_time": "2021-07-07T12:34:02.800Z"
   },
   {
    "duration": 7,
    "start_time": "2021-07-07T12:35:10.479Z"
   },
   {
    "duration": 8,
    "start_time": "2021-07-07T12:35:22.440Z"
   },
   {
    "duration": 6,
    "start_time": "2021-07-07T12:35:35.649Z"
   },
   {
    "duration": 6,
    "start_time": "2021-07-07T12:35:43.107Z"
   },
   {
    "duration": 22,
    "start_time": "2021-07-07T12:38:03.029Z"
   },
   {
    "duration": 10,
    "start_time": "2021-07-07T12:38:06.592Z"
   },
   {
    "duration": 563,
    "start_time": "2021-07-07T12:38:46.493Z"
   },
   {
    "duration": 265,
    "start_time": "2021-07-07T12:38:47.058Z"
   },
   {
    "duration": 94,
    "start_time": "2021-07-07T12:38:47.325Z"
   },
   {
    "duration": 3,
    "start_time": "2021-07-07T12:38:47.422Z"
   },
   {
    "duration": 30,
    "start_time": "2021-07-07T12:38:47.427Z"
   },
   {
    "duration": 16,
    "start_time": "2021-07-07T12:38:53.305Z"
   },
   {
    "duration": 10,
    "start_time": "2021-07-07T12:38:53.499Z"
   },
   {
    "duration": 8,
    "start_time": "2021-07-07T12:39:48.161Z"
   },
   {
    "duration": 27,
    "start_time": "2021-07-07T12:41:17.629Z"
   },
   {
    "duration": 17,
    "start_time": "2021-07-07T12:41:17.867Z"
   },
   {
    "duration": 21,
    "start_time": "2021-07-07T12:41:19.310Z"
   },
   {
    "duration": 7,
    "start_time": "2021-07-07T12:41:19.544Z"
   },
   {
    "duration": 20,
    "start_time": "2021-07-07T12:41:20.504Z"
   },
   {
    "duration": 554,
    "start_time": "2021-07-07T12:56:23.696Z"
   },
   {
    "duration": 200,
    "start_time": "2021-07-07T12:56:25.234Z"
   },
   {
    "duration": 119,
    "start_time": "2021-07-07T12:56:25.480Z"
   },
   {
    "duration": 4,
    "start_time": "2021-07-07T12:56:25.762Z"
   },
   {
    "duration": 26,
    "start_time": "2021-07-07T12:56:27.172Z"
   },
   {
    "duration": 12,
    "start_time": "2021-07-07T12:56:29.051Z"
   },
   {
    "duration": 10,
    "start_time": "2021-07-07T12:56:29.291Z"
   },
   {
    "duration": 8,
    "start_time": "2021-07-07T12:56:29.623Z"
   },
   {
    "duration": 28,
    "start_time": "2021-07-07T12:56:32.137Z"
   },
   {
    "duration": 19,
    "start_time": "2021-07-07T12:56:39.785Z"
   },
   {
    "duration": 20,
    "start_time": "2021-07-07T12:56:44.297Z"
   },
   {
    "duration": 7,
    "start_time": "2021-07-07T12:56:45.392Z"
   },
   {
    "duration": 23,
    "start_time": "2021-07-07T12:56:46.615Z"
   },
   {
    "duration": 4,
    "start_time": "2021-07-07T12:57:06.625Z"
   },
   {
    "duration": 32,
    "start_time": "2021-07-07T12:57:36.690Z"
   },
   {
    "duration": 18,
    "start_time": "2021-07-07T12:58:00.149Z"
   },
   {
    "duration": 15,
    "start_time": "2021-07-07T12:59:16.793Z"
   },
   {
    "duration": 7,
    "start_time": "2021-07-07T13:19:22.624Z"
   },
   {
    "duration": 6,
    "start_time": "2021-07-07T14:17:33.527Z"
   },
   {
    "duration": 9,
    "start_time": "2021-07-07T14:17:48.409Z"
   },
   {
    "duration": 8,
    "start_time": "2021-07-07T14:20:13.060Z"
   },
   {
    "duration": 8,
    "start_time": "2021-07-07T14:20:37.957Z"
   },
   {
    "duration": 8,
    "start_time": "2021-07-07T14:20:47.470Z"
   },
   {
    "duration": 9,
    "start_time": "2021-07-07T14:20:54.503Z"
   },
   {
    "duration": 10,
    "start_time": "2021-07-07T14:28:57.763Z"
   },
   {
    "duration": 3,
    "start_time": "2021-07-07T14:30:23.377Z"
   },
   {
    "duration": 3,
    "start_time": "2021-07-07T14:30:36.489Z"
   },
   {
    "duration": 103,
    "start_time": "2021-07-07T14:30:52.351Z"
   },
   {
    "duration": 8,
    "start_time": "2021-07-07T14:30:54.763Z"
   },
   {
    "duration": 8,
    "start_time": "2021-07-07T14:31:29.301Z"
   },
   {
    "duration": 13,
    "start_time": "2021-07-07T14:31:44.516Z"
   },
   {
    "duration": 7,
    "start_time": "2021-07-07T14:33:10.972Z"
   },
   {
    "duration": 11,
    "start_time": "2021-07-07T14:33:27.780Z"
   },
   {
    "duration": 8,
    "start_time": "2021-07-07T14:34:44.588Z"
   },
   {
    "duration": 57,
    "start_time": "2021-07-07T14:35:59.042Z"
   },
   {
    "duration": 3,
    "start_time": "2021-07-07T14:36:28.168Z"
   },
   {
    "duration": 5,
    "start_time": "2021-07-07T14:36:46.254Z"
   },
   {
    "duration": 4,
    "start_time": "2021-07-07T14:36:52.714Z"
   },
   {
    "duration": 3,
    "start_time": "2021-07-07T14:36:56.612Z"
   },
   {
    "duration": 4,
    "start_time": "2021-07-07T14:36:57.049Z"
   },
   {
    "duration": 3,
    "start_time": "2021-07-07T14:39:21.214Z"
   },
   {
    "duration": 7,
    "start_time": "2021-07-07T14:39:52.406Z"
   },
   {
    "duration": 11,
    "start_time": "2021-07-07T14:39:58.576Z"
   },
   {
    "duration": 9,
    "start_time": "2021-07-07T14:40:26.301Z"
   },
   {
    "duration": 10,
    "start_time": "2021-07-07T14:40:31.704Z"
   },
   {
    "duration": 11,
    "start_time": "2021-07-07T14:40:36.249Z"
   },
   {
    "duration": 10,
    "start_time": "2021-07-07T14:40:39.783Z"
   },
   {
    "duration": 9,
    "start_time": "2021-07-07T14:40:48.558Z"
   },
   {
    "duration": 10,
    "start_time": "2021-07-07T14:40:57.143Z"
   },
   {
    "duration": 9,
    "start_time": "2021-07-07T14:41:06.074Z"
   },
   {
    "duration": 4324,
    "start_time": "2021-07-07T14:41:22.004Z"
   },
   {
    "duration": 11,
    "start_time": "2021-07-07T14:41:33.392Z"
   },
   {
    "duration": 9,
    "start_time": "2021-07-07T14:41:39.288Z"
   },
   {
    "duration": 569,
    "start_time": "2021-07-07T14:42:14.387Z"
   },
   {
    "duration": 197,
    "start_time": "2021-07-07T14:42:14.959Z"
   },
   {
    "duration": 84,
    "start_time": "2021-07-07T14:42:16.052Z"
   },
   {
    "duration": 4,
    "start_time": "2021-07-07T14:42:16.900Z"
   },
   {
    "duration": 27,
    "start_time": "2021-07-07T14:42:19.898Z"
   },
   {
    "duration": 12,
    "start_time": "2021-07-07T14:42:21.577Z"
   },
   {
    "duration": 9,
    "start_time": "2021-07-07T14:42:21.813Z"
   },
   {
    "duration": 9,
    "start_time": "2021-07-07T14:42:22.569Z"
   },
   {
    "duration": 29,
    "start_time": "2021-07-07T14:42:25.837Z"
   },
   {
    "duration": 20,
    "start_time": "2021-07-07T14:42:27.003Z"
   },
   {
    "duration": 21,
    "start_time": "2021-07-07T14:42:28.767Z"
   },
   {
    "duration": 7,
    "start_time": "2021-07-07T14:42:29.838Z"
   },
   {
    "duration": 4,
    "start_time": "2021-07-07T14:43:25.493Z"
   },
   {
    "duration": 7,
    "start_time": "2021-07-07T14:43:26.573Z"
   },
   {
    "duration": 10,
    "start_time": "2021-07-07T14:43:31.639Z"
   },
   {
    "duration": 9,
    "start_time": "2021-07-07T14:43:32.046Z"
   },
   {
    "duration": 10,
    "start_time": "2021-07-07T14:43:33.301Z"
   },
   {
    "duration": 12,
    "start_time": "2021-07-07T14:43:33.658Z"
   },
   {
    "duration": 8,
    "start_time": "2021-07-07T14:43:34.552Z"
   },
   {
    "duration": 9,
    "start_time": "2021-07-07T14:43:35.058Z"
   },
   {
    "duration": 12,
    "start_time": "2021-07-07T14:43:35.914Z"
   },
   {
    "duration": 17,
    "start_time": "2021-07-07T14:45:34.368Z"
   },
   {
    "duration": 512,
    "start_time": "2021-07-07T14:51:58.236Z"
   },
   {
    "duration": 223,
    "start_time": "2021-07-07T14:51:58.750Z"
   },
   {
    "duration": 93,
    "start_time": "2021-07-07T14:51:58.977Z"
   },
   {
    "duration": 4,
    "start_time": "2021-07-07T14:51:59.071Z"
   },
   {
    "duration": 37,
    "start_time": "2021-07-07T14:51:59.077Z"
   },
   {
    "duration": 18,
    "start_time": "2021-07-07T14:51:59.116Z"
   },
   {
    "duration": 10,
    "start_time": "2021-07-07T14:51:59.137Z"
   },
   {
    "duration": 8,
    "start_time": "2021-07-07T14:51:59.149Z"
   },
   {
    "duration": 54,
    "start_time": "2021-07-07T14:51:59.158Z"
   },
   {
    "duration": 18,
    "start_time": "2021-07-07T14:51:59.213Z"
   },
   {
    "duration": 22,
    "start_time": "2021-07-07T14:51:59.232Z"
   },
   {
    "duration": 36,
    "start_time": "2021-07-07T14:51:59.255Z"
   },
   {
    "duration": 7,
    "start_time": "2021-07-07T14:51:59.293Z"
   },
   {
    "duration": 10,
    "start_time": "2021-07-07T14:51:59.302Z"
   },
   {
    "duration": 9,
    "start_time": "2021-07-07T14:51:59.313Z"
   },
   {
    "duration": 11,
    "start_time": "2021-07-07T14:51:59.324Z"
   },
   {
    "duration": 8,
    "start_time": "2021-07-07T14:51:59.337Z"
   },
   {
    "duration": 46,
    "start_time": "2021-07-07T14:51:59.347Z"
   },
   {
    "duration": 22,
    "start_time": "2021-07-07T14:51:59.395Z"
   },
   {
    "duration": 24,
    "start_time": "2021-07-07T14:57:32.911Z"
   },
   {
    "duration": 7,
    "start_time": "2021-07-07T14:58:22.070Z"
   },
   {
    "duration": 4,
    "start_time": "2021-07-07T14:59:11.239Z"
   },
   {
    "duration": 25,
    "start_time": "2021-07-07T15:07:22.208Z"
   },
   {
    "duration": 16,
    "start_time": "2021-07-07T15:08:25.560Z"
   },
   {
    "duration": 15,
    "start_time": "2021-07-07T15:08:40.647Z"
   },
   {
    "duration": 14,
    "start_time": "2021-07-07T15:08:46.669Z"
   },
   {
    "duration": 533,
    "start_time": "2021-07-07T15:18:07.440Z"
   },
   {
    "duration": 173,
    "start_time": "2021-07-07T15:18:07.974Z"
   },
   {
    "duration": 84,
    "start_time": "2021-07-07T15:18:08.149Z"
   },
   {
    "duration": 3,
    "start_time": "2021-07-07T15:18:08.235Z"
   },
   {
    "duration": 30,
    "start_time": "2021-07-07T15:18:08.240Z"
   },
   {
    "duration": 22,
    "start_time": "2021-07-07T15:18:08.272Z"
   },
   {
    "duration": 11,
    "start_time": "2021-07-07T15:18:08.295Z"
   },
   {
    "duration": 11,
    "start_time": "2021-07-07T15:18:08.309Z"
   },
   {
    "duration": 40,
    "start_time": "2021-07-07T15:18:08.322Z"
   },
   {
    "duration": 42,
    "start_time": "2021-07-07T15:18:08.364Z"
   },
   {
    "duration": 22,
    "start_time": "2021-07-07T15:18:08.408Z"
   },
   {
    "duration": 5,
    "start_time": "2021-07-07T15:18:08.432Z"
   },
   {
    "duration": 13,
    "start_time": "2021-07-07T15:18:08.439Z"
   },
   {
    "duration": 9,
    "start_time": "2021-07-07T15:18:08.454Z"
   },
   {
    "duration": 32,
    "start_time": "2021-07-07T15:18:08.465Z"
   },
   {
    "duration": 10,
    "start_time": "2021-07-07T15:18:08.501Z"
   },
   {
    "duration": 7,
    "start_time": "2021-07-07T15:18:08.513Z"
   },
   {
    "duration": 11,
    "start_time": "2021-07-07T15:18:08.521Z"
   },
   {
    "duration": 17,
    "start_time": "2021-07-07T15:18:08.534Z"
   },
   {
    "duration": 44,
    "start_time": "2021-07-07T15:18:08.553Z"
   },
   {
    "duration": 22,
    "start_time": "2021-07-07T15:18:08.599Z"
   },
   {
    "duration": 61,
    "start_time": "2021-07-07T15:18:08.622Z"
   },
   {
    "duration": 7,
    "start_time": "2021-07-07T15:18:39.457Z"
   },
   {
    "duration": 5,
    "start_time": "2021-07-07T16:05:17.020Z"
   },
   {
    "duration": 5,
    "start_time": "2021-07-07T16:51:28.794Z"
   },
   {
    "duration": 546,
    "start_time": "2021-07-07T16:52:26.306Z"
   },
   {
    "duration": 203,
    "start_time": "2021-07-07T16:52:27.523Z"
   },
   {
    "duration": 85,
    "start_time": "2021-07-07T16:52:27.736Z"
   },
   {
    "duration": 4,
    "start_time": "2021-07-07T16:52:27.899Z"
   },
   {
    "duration": 25,
    "start_time": "2021-07-07T16:52:28.674Z"
   },
   {
    "duration": 8,
    "start_time": "2021-07-07T16:52:32.956Z"
   },
   {
    "duration": 18,
    "start_time": "2021-07-07T16:52:35.616Z"
   },
   {
    "duration": 6,
    "start_time": "2021-07-07T16:52:36.913Z"
   },
   {
    "duration": 11,
    "start_time": "2021-07-07T16:52:40.258Z"
   },
   {
    "duration": 10,
    "start_time": "2021-07-07T16:52:46.251Z"
   },
   {
    "duration": 8,
    "start_time": "2021-07-07T16:52:47.182Z"
   },
   {
    "duration": 27,
    "start_time": "2021-07-07T16:53:20.391Z"
   },
   {
    "duration": 20,
    "start_time": "2021-07-07T16:53:22.022Z"
   },
   {
    "duration": 23,
    "start_time": "2021-07-07T16:53:23.690Z"
   },
   {
    "duration": 8,
    "start_time": "2021-07-07T16:53:24.261Z"
   },
   {
    "duration": 4,
    "start_time": "2021-07-07T16:53:38.733Z"
   },
   {
    "duration": 7,
    "start_time": "2021-07-07T16:53:40.445Z"
   },
   {
    "duration": 11,
    "start_time": "2021-07-07T16:53:41.348Z"
   },
   {
    "duration": 13,
    "start_time": "2021-07-07T16:53:45.250Z"
   },
   {
    "duration": 12,
    "start_time": "2021-07-07T16:53:45.467Z"
   },
   {
    "duration": 4,
    "start_time": "2021-07-07T16:55:32.704Z"
   },
   {
    "duration": 12,
    "start_time": "2021-07-07T16:55:49.012Z"
   },
   {
    "duration": 18,
    "start_time": "2021-07-07T16:55:49.547Z"
   },
   {
    "duration": 611,
    "start_time": "2021-07-07T16:58:35.156Z"
   },
   {
    "duration": 200,
    "start_time": "2021-07-07T16:58:35.770Z"
   },
   {
    "duration": 86,
    "start_time": "2021-07-07T16:58:35.972Z"
   },
   {
    "duration": 3,
    "start_time": "2021-07-07T16:58:36.060Z"
   },
   {
    "duration": 27,
    "start_time": "2021-07-07T16:58:36.065Z"
   },
   {
    "duration": 8,
    "start_time": "2021-07-07T16:58:36.094Z"
   },
   {
    "duration": 17,
    "start_time": "2021-07-07T16:58:36.103Z"
   },
   {
    "duration": 5,
    "start_time": "2021-07-07T16:58:36.123Z"
   },
   {
    "duration": 11,
    "start_time": "2021-07-07T16:58:36.130Z"
   },
   {
    "duration": 7,
    "start_time": "2021-07-07T16:58:36.143Z"
   },
   {
    "duration": 37,
    "start_time": "2021-07-07T16:58:36.152Z"
   },
   {
    "duration": 27,
    "start_time": "2021-07-07T16:58:36.191Z"
   },
   {
    "duration": 19,
    "start_time": "2021-07-07T16:58:36.219Z"
   },
   {
    "duration": 49,
    "start_time": "2021-07-07T16:58:36.240Z"
   },
   {
    "duration": 6,
    "start_time": "2021-07-07T16:58:36.291Z"
   },
   {
    "duration": 3,
    "start_time": "2021-07-07T16:58:36.299Z"
   },
   {
    "duration": 13,
    "start_time": "2021-07-07T16:58:36.304Z"
   },
   {
    "duration": 10,
    "start_time": "2021-07-07T16:58:36.319Z"
   },
   {
    "duration": 10,
    "start_time": "2021-07-07T16:58:36.331Z"
   },
   {
    "duration": 44,
    "start_time": "2021-07-07T16:58:36.343Z"
   },
   {
    "duration": 4,
    "start_time": "2021-07-07T16:58:36.388Z"
   },
   {
    "duration": 13,
    "start_time": "2021-07-07T16:58:36.394Z"
   },
   {
    "duration": 16,
    "start_time": "2021-07-07T16:58:36.410Z"
   },
   {
    "duration": 8,
    "start_time": "2021-07-07T17:02:31.629Z"
   },
   {
    "duration": 8,
    "start_time": "2021-07-07T17:02:34.308Z"
   },
   {
    "duration": 6,
    "start_time": "2021-07-07T17:05:13.483Z"
   },
   {
    "duration": 17,
    "start_time": "2021-07-07T17:05:20.606Z"
   },
   {
    "duration": 7,
    "start_time": "2021-07-07T17:05:34.638Z"
   },
   {
    "duration": 3,
    "start_time": "2021-07-07T17:06:31.883Z"
   },
   {
    "duration": 570,
    "start_time": "2021-07-07T17:06:37.165Z"
   },
   {
    "duration": 174,
    "start_time": "2021-07-07T17:06:37.737Z"
   },
   {
    "duration": 47,
    "start_time": "2021-07-07T17:06:37.913Z"
   },
   {
    "duration": 3,
    "start_time": "2021-07-07T17:06:37.962Z"
   },
   {
    "duration": 27,
    "start_time": "2021-07-07T17:06:37.967Z"
   },
   {
    "duration": 7,
    "start_time": "2021-07-07T17:06:37.996Z"
   },
   {
    "duration": 16,
    "start_time": "2021-07-07T17:06:38.005Z"
   },
   {
    "duration": 6,
    "start_time": "2021-07-07T17:06:38.024Z"
   },
   {
    "duration": 12,
    "start_time": "2021-07-07T17:06:38.031Z"
   },
   {
    "duration": 41,
    "start_time": "2021-07-07T17:06:38.045Z"
   },
   {
    "duration": 8,
    "start_time": "2021-07-07T17:06:38.088Z"
   },
   {
    "duration": 26,
    "start_time": "2021-07-07T17:06:38.098Z"
   },
   {
    "duration": 17,
    "start_time": "2021-07-07T17:06:38.126Z"
   },
   {
    "duration": 43,
    "start_time": "2021-07-07T17:06:38.144Z"
   },
   {
    "duration": 6,
    "start_time": "2021-07-07T17:06:38.188Z"
   },
   {
    "duration": 5,
    "start_time": "2021-07-07T17:06:38.195Z"
   },
   {
    "duration": 9,
    "start_time": "2021-07-07T17:06:38.201Z"
   },
   {
    "duration": 12,
    "start_time": "2021-07-07T17:06:38.212Z"
   },
   {
    "duration": 11,
    "start_time": "2021-07-07T17:06:38.226Z"
   },
   {
    "duration": 47,
    "start_time": "2021-07-07T17:06:38.239Z"
   },
   {
    "duration": 4,
    "start_time": "2021-07-07T17:06:38.288Z"
   },
   {
    "duration": 13,
    "start_time": "2021-07-07T17:06:38.293Z"
   },
   {
    "duration": 5,
    "start_time": "2021-07-07T17:06:38.309Z"
   },
   {
    "duration": 18,
    "start_time": "2021-07-07T17:06:38.325Z"
   },
   {
    "duration": 20,
    "start_time": "2021-07-07T17:07:02.805Z"
   },
   {
    "duration": 19,
    "start_time": "2021-07-07T17:07:08.527Z"
   },
   {
    "duration": 19,
    "start_time": "2021-07-07T17:07:12.758Z"
   },
   {
    "duration": 22,
    "start_time": "2021-07-07T17:07:17.497Z"
   },
   {
    "duration": 19,
    "start_time": "2021-07-07T17:07:19.645Z"
   },
   {
    "duration": 10,
    "start_time": "2021-07-07T17:07:34.239Z"
   },
   {
    "duration": 17,
    "start_time": "2021-07-07T17:07:54.144Z"
   },
   {
    "duration": 14,
    "start_time": "2021-07-07T17:08:14.357Z"
   },
   {
    "duration": 616,
    "start_time": "2021-07-07T17:08:45.254Z"
   },
   {
    "duration": 178,
    "start_time": "2021-07-07T17:08:45.872Z"
   },
   {
    "duration": 60,
    "start_time": "2021-07-07T17:08:46.054Z"
   },
   {
    "duration": 3,
    "start_time": "2021-07-07T17:08:46.116Z"
   },
   {
    "duration": 26,
    "start_time": "2021-07-07T17:08:46.121Z"
   },
   {
    "duration": 7,
    "start_time": "2021-07-07T17:08:46.149Z"
   },
   {
    "duration": 17,
    "start_time": "2021-07-07T17:08:46.158Z"
   },
   {
    "duration": 14,
    "start_time": "2021-07-07T17:08:46.176Z"
   },
   {
    "duration": 17,
    "start_time": "2021-07-07T17:08:46.193Z"
   },
   {
    "duration": 9,
    "start_time": "2021-07-07T17:08:46.211Z"
   },
   {
    "duration": 21,
    "start_time": "2021-07-07T17:08:46.221Z"
   },
   {
    "duration": 49,
    "start_time": "2021-07-07T17:08:46.244Z"
   },
   {
    "duration": 24,
    "start_time": "2021-07-07T17:08:46.295Z"
   },
   {
    "duration": 22,
    "start_time": "2021-07-07T17:08:46.321Z"
   },
   {
    "duration": 6,
    "start_time": "2021-07-07T17:08:46.345Z"
   },
   {
    "duration": 5,
    "start_time": "2021-07-07T17:08:46.353Z"
   },
   {
    "duration": 13,
    "start_time": "2021-07-07T17:08:46.386Z"
   },
   {
    "duration": 12,
    "start_time": "2021-07-07T17:08:46.402Z"
   },
   {
    "duration": 10,
    "start_time": "2021-07-07T17:08:46.415Z"
   },
   {
    "duration": 7,
    "start_time": "2021-07-07T17:08:46.427Z"
   },
   {
    "duration": 8,
    "start_time": "2021-07-07T17:08:46.435Z"
   },
   {
    "duration": 68,
    "start_time": "2021-07-07T17:08:46.446Z"
   },
   {
    "duration": 13,
    "start_time": "2021-07-07T17:08:46.516Z"
   },
   {
    "duration": 78,
    "start_time": "2021-07-07T17:08:46.530Z"
   },
   {
    "duration": 40,
    "start_time": "2021-07-07T17:09:08.185Z"
   },
   {
    "duration": 16,
    "start_time": "2021-07-07T17:09:19.324Z"
   },
   {
    "duration": 21,
    "start_time": "2021-07-07T17:09:23.290Z"
   },
   {
    "duration": 13,
    "start_time": "2021-07-07T17:09:54.812Z"
   },
   {
    "duration": 13,
    "start_time": "2021-07-07T17:10:02.039Z"
   },
   {
    "duration": 10,
    "start_time": "2021-07-07T17:10:29.632Z"
   },
   {
    "duration": 13,
    "start_time": "2021-07-07T17:10:52.372Z"
   },
   {
    "duration": 13,
    "start_time": "2021-07-07T17:11:17.270Z"
   },
   {
    "duration": 13,
    "start_time": "2021-07-07T17:14:59.284Z"
   },
   {
    "duration": 547,
    "start_time": "2021-07-07T17:18:52.403Z"
   },
   {
    "duration": 163,
    "start_time": "2021-07-07T17:18:52.952Z"
   },
   {
    "duration": 44,
    "start_time": "2021-07-07T17:18:53.117Z"
   },
   {
    "duration": 3,
    "start_time": "2021-07-07T17:18:53.162Z"
   },
   {
    "duration": 26,
    "start_time": "2021-07-07T17:18:53.167Z"
   },
   {
    "duration": 6,
    "start_time": "2021-07-07T17:18:53.195Z"
   },
   {
    "duration": 15,
    "start_time": "2021-07-07T17:18:53.203Z"
   },
   {
    "duration": 5,
    "start_time": "2021-07-07T17:18:53.220Z"
   },
   {
    "duration": 11,
    "start_time": "2021-07-07T17:18:53.228Z"
   },
   {
    "duration": 9,
    "start_time": "2021-07-07T17:18:53.241Z"
   },
   {
    "duration": 41,
    "start_time": "2021-07-07T17:18:53.252Z"
   },
   {
    "duration": 33,
    "start_time": "2021-07-07T17:18:53.295Z"
   },
   {
    "duration": 19,
    "start_time": "2021-07-07T17:18:53.330Z"
   },
   {
    "duration": 49,
    "start_time": "2021-07-07T17:18:53.350Z"
   },
   {
    "duration": 5,
    "start_time": "2021-07-07T17:18:53.401Z"
   },
   {
    "duration": 5,
    "start_time": "2021-07-07T17:18:53.408Z"
   },
   {
    "duration": 11,
    "start_time": "2021-07-07T17:18:53.414Z"
   },
   {
    "duration": 9,
    "start_time": "2021-07-07T17:18:53.427Z"
   },
   {
    "duration": 10,
    "start_time": "2021-07-07T17:18:53.437Z"
   },
   {
    "duration": 39,
    "start_time": "2021-07-07T17:18:53.448Z"
   },
   {
    "duration": 26,
    "start_time": "2021-07-07T17:18:55.799Z"
   },
   {
    "duration": 598,
    "start_time": "2021-07-07T17:20:17.862Z"
   },
   {
    "duration": 161,
    "start_time": "2021-07-07T17:20:18.462Z"
   },
   {
    "duration": 45,
    "start_time": "2021-07-07T17:20:18.626Z"
   },
   {
    "duration": 4,
    "start_time": "2021-07-07T17:20:18.673Z"
   },
   {
    "duration": 38,
    "start_time": "2021-07-07T17:20:26.877Z"
   },
   {
    "duration": 7,
    "start_time": "2021-07-07T17:20:37.405Z"
   },
   {
    "duration": 19,
    "start_time": "2021-07-07T17:20:51.534Z"
   },
   {
    "duration": 5,
    "start_time": "2021-07-07T17:20:57.228Z"
   },
   {
    "duration": 7,
    "start_time": "2021-07-07T17:21:08.235Z"
   },
   {
    "duration": 19,
    "start_time": "2021-07-07T17:21:42.158Z"
   },
   {
    "duration": 14,
    "start_time": "2021-07-07T17:21:50.225Z"
   },
   {
    "duration": 22,
    "start_time": "2021-07-07T17:22:54.104Z"
   },
   {
    "duration": 5,
    "start_time": "2021-07-07T17:22:56.371Z"
   },
   {
    "duration": 14,
    "start_time": "2021-07-07T17:22:58.316Z"
   },
   {
    "duration": 5,
    "start_time": "2021-07-07T17:22:58.493Z"
   },
   {
    "duration": 35,
    "start_time": "2021-07-07T17:22:59.666Z"
   },
   {
    "duration": 6,
    "start_time": "2021-07-07T17:23:02.410Z"
   },
   {
    "duration": 611,
    "start_time": "2021-07-07T17:24:59.664Z"
   },
   {
    "duration": 178,
    "start_time": "2021-07-07T17:25:01.945Z"
   },
   {
    "duration": 47,
    "start_time": "2021-07-07T17:25:02.125Z"
   },
   {
    "duration": 2,
    "start_time": "2021-07-07T17:25:07.903Z"
   },
   {
    "duration": 254,
    "start_time": "2021-07-07T17:25:08.232Z"
   },
   {
    "duration": 182,
    "start_time": "2021-07-07T17:25:08.671Z"
   },
   {
    "duration": 6,
    "start_time": "2021-07-07T17:25:13.104Z"
   },
   {
    "duration": 36,
    "start_time": "2021-07-07T17:25:13.662Z"
   },
   {
    "duration": 7,
    "start_time": "2021-07-07T17:25:14.528Z"
   },
   {
    "duration": 24,
    "start_time": "2021-07-07T17:25:27.982Z"
   },
   {
    "duration": 3,
    "start_time": "2021-07-07T17:25:48.982Z"
   },
   {
    "duration": 165,
    "start_time": "2021-07-07T17:25:48.987Z"
   },
   {
    "duration": 50,
    "start_time": "2021-07-07T17:25:49.154Z"
   },
   {
    "duration": 4,
    "start_time": "2021-07-07T17:25:49.206Z"
   },
   {
    "duration": 26,
    "start_time": "2021-07-07T17:25:49.212Z"
   },
   {
    "duration": 7,
    "start_time": "2021-07-07T17:25:49.240Z"
   },
   {
    "duration": 16,
    "start_time": "2021-07-07T17:25:49.249Z"
   },
   {
    "duration": 22,
    "start_time": "2021-07-07T17:25:49.266Z"
   },
   {
    "duration": 16,
    "start_time": "2021-07-07T17:25:49.291Z"
   },
   {
    "duration": 9,
    "start_time": "2021-07-07T17:25:49.309Z"
   },
   {
    "duration": 7,
    "start_time": "2021-07-07T17:25:49.319Z"
   },
   {
    "duration": 28,
    "start_time": "2021-07-07T17:25:49.328Z"
   },
   {
    "duration": 44,
    "start_time": "2021-07-07T17:25:49.357Z"
   },
   {
    "duration": 22,
    "start_time": "2021-07-07T17:25:49.403Z"
   },
   {
    "duration": 7,
    "start_time": "2021-07-07T17:25:49.427Z"
   },
   {
    "duration": 3,
    "start_time": "2021-07-07T17:25:49.436Z"
   },
   {
    "duration": 44,
    "start_time": "2021-07-07T17:25:49.441Z"
   },
   {
    "duration": 12,
    "start_time": "2021-07-07T17:25:49.488Z"
   },
   {
    "duration": 13,
    "start_time": "2021-07-07T17:25:49.502Z"
   },
   {
    "duration": 10,
    "start_time": "2021-07-07T17:25:49.516Z"
   },
   {
    "duration": 62,
    "start_time": "2021-07-07T17:25:49.527Z"
   },
   {
    "duration": 26,
    "start_time": "2021-07-07T17:26:51.809Z"
   },
   {
    "duration": 26,
    "start_time": "2021-07-07T17:26:55.759Z"
   },
   {
    "duration": 26,
    "start_time": "2021-07-07T17:27:04.501Z"
   },
   {
    "duration": 25,
    "start_time": "2021-07-07T17:28:24.859Z"
   },
   {
    "duration": 21,
    "start_time": "2021-07-07T17:28:55.250Z"
   },
   {
    "duration": 21,
    "start_time": "2021-07-07T17:28:58.885Z"
   },
   {
    "duration": 7,
    "start_time": "2021-07-07T17:45:40.972Z"
   },
   {
    "duration": 13,
    "start_time": "2021-07-07T17:45:42.529Z"
   },
   {
    "duration": 27,
    "start_time": "2021-07-07T17:45:51.026Z"
   },
   {
    "duration": 518,
    "start_time": "2021-07-07T17:46:15.532Z"
   },
   {
    "duration": 235,
    "start_time": "2021-07-07T17:46:16.053Z"
   },
   {
    "duration": 80,
    "start_time": "2021-07-07T17:46:16.292Z"
   },
   {
    "duration": 5,
    "start_time": "2021-07-07T17:46:16.373Z"
   },
   {
    "duration": 26,
    "start_time": "2021-07-07T17:46:16.380Z"
   },
   {
    "duration": 7,
    "start_time": "2021-07-07T17:46:16.408Z"
   },
   {
    "duration": 16,
    "start_time": "2021-07-07T17:46:16.418Z"
   },
   {
    "duration": 5,
    "start_time": "2021-07-07T17:46:16.436Z"
   },
   {
    "duration": 13,
    "start_time": "2021-07-07T17:46:16.442Z"
   },
   {
    "duration": 35,
    "start_time": "2021-07-07T17:46:16.456Z"
   },
   {
    "duration": 8,
    "start_time": "2021-07-07T17:46:16.493Z"
   },
   {
    "duration": 28,
    "start_time": "2021-07-07T17:46:16.502Z"
   },
   {
    "duration": 17,
    "start_time": "2021-07-07T17:46:16.532Z"
   },
   {
    "duration": 44,
    "start_time": "2021-07-07T17:46:16.551Z"
   },
   {
    "duration": 6,
    "start_time": "2021-07-07T17:46:16.597Z"
   },
   {
    "duration": 4,
    "start_time": "2021-07-07T17:46:16.605Z"
   },
   {
    "duration": 9,
    "start_time": "2021-07-07T17:46:16.610Z"
   },
   {
    "duration": 9,
    "start_time": "2021-07-07T17:46:16.621Z"
   },
   {
    "duration": 10,
    "start_time": "2021-07-07T17:46:16.632Z"
   },
   {
    "duration": 43,
    "start_time": "2021-07-07T17:46:16.644Z"
   },
   {
    "duration": 26,
    "start_time": "2021-07-07T17:46:16.689Z"
   },
   {
    "duration": 19,
    "start_time": "2021-07-07T17:46:16.718Z"
   },
   {
    "duration": 8,
    "start_time": "2021-07-07T17:46:16.738Z"
   },
   {
    "duration": 43,
    "start_time": "2021-07-07T17:46:16.747Z"
   },
   {
    "duration": 19,
    "start_time": "2021-07-07T17:46:16.791Z"
   },
   {
    "duration": 9,
    "start_time": "2021-07-07T17:46:16.812Z"
   },
   {
    "duration": 60,
    "start_time": "2021-07-07T17:46:16.822Z"
   },
   {
    "duration": -8,
    "start_time": "2021-07-07T17:46:16.892Z"
   },
   {
    "duration": 12,
    "start_time": "2021-07-07T17:48:47.707Z"
   },
   {
    "duration": 553,
    "start_time": "2021-07-07T18:10:09.350Z"
   },
   {
    "duration": 230,
    "start_time": "2021-07-07T18:10:09.905Z"
   },
   {
    "duration": 97,
    "start_time": "2021-07-07T18:10:10.137Z"
   },
   {
    "duration": 5,
    "start_time": "2021-07-07T18:10:10.236Z"
   },
   {
    "duration": 29,
    "start_time": "2021-07-07T18:10:10.242Z"
   },
   {
    "duration": 7,
    "start_time": "2021-07-07T18:10:10.272Z"
   },
   {
    "duration": 15,
    "start_time": "2021-07-07T18:10:10.281Z"
   },
   {
    "duration": 4,
    "start_time": "2021-07-07T18:10:10.299Z"
   },
   {
    "duration": 14,
    "start_time": "2021-07-07T18:10:10.305Z"
   },
   {
    "duration": 8,
    "start_time": "2021-07-07T18:10:10.321Z"
   },
   {
    "duration": 8,
    "start_time": "2021-07-07T18:10:10.331Z"
   },
   {
    "duration": 56,
    "start_time": "2021-07-07T18:10:10.341Z"
   },
   {
    "duration": 19,
    "start_time": "2021-07-07T18:10:10.399Z"
   },
   {
    "duration": 23,
    "start_time": "2021-07-07T18:10:10.419Z"
   },
   {
    "duration": 6,
    "start_time": "2021-07-07T18:10:10.444Z"
   },
   {
    "duration": 9,
    "start_time": "2021-07-07T18:10:10.451Z"
   },
   {
    "duration": 30,
    "start_time": "2021-07-07T18:10:10.462Z"
   },
   {
    "duration": 9,
    "start_time": "2021-07-07T18:10:10.494Z"
   },
   {
    "duration": 14,
    "start_time": "2021-07-07T18:10:10.505Z"
   },
   {
    "duration": 7,
    "start_time": "2021-07-07T18:10:10.521Z"
   },
   {
    "duration": 26,
    "start_time": "2021-07-07T18:10:10.530Z"
   },
   {
    "duration": 44,
    "start_time": "2021-07-07T18:10:10.558Z"
   },
   {
    "duration": 7,
    "start_time": "2021-07-07T18:10:10.605Z"
   },
   {
    "duration": 11,
    "start_time": "2021-07-07T18:10:10.614Z"
   },
   {
    "duration": 19,
    "start_time": "2021-07-07T18:10:10.626Z"
   },
   {
    "duration": 44,
    "start_time": "2021-07-07T18:10:10.646Z"
   },
   {
    "duration": 516,
    "start_time": "2021-07-07T18:14:00.826Z"
   },
   {
    "duration": 230,
    "start_time": "2021-07-07T18:14:01.344Z"
   },
   {
    "duration": 105,
    "start_time": "2021-07-07T18:14:01.576Z"
   },
   {
    "duration": 5,
    "start_time": "2021-07-07T18:14:01.683Z"
   },
   {
    "duration": 46,
    "start_time": "2021-07-07T18:14:01.690Z"
   },
   {
    "duration": 7,
    "start_time": "2021-07-07T18:14:01.738Z"
   },
   {
    "duration": 20,
    "start_time": "2021-07-07T18:14:01.747Z"
   },
   {
    "duration": 16,
    "start_time": "2021-07-07T18:14:01.769Z"
   },
   {
    "duration": 14,
    "start_time": "2021-07-07T18:14:01.787Z"
   },
   {
    "duration": 15,
    "start_time": "2021-07-07T18:14:01.803Z"
   },
   {
    "duration": 12,
    "start_time": "2021-07-07T18:14:01.820Z"
   },
   {
    "duration": 35,
    "start_time": "2021-07-07T18:14:01.833Z"
   },
   {
    "duration": 31,
    "start_time": "2021-07-07T18:14:01.869Z"
   },
   {
    "duration": 37,
    "start_time": "2021-07-07T18:14:01.902Z"
   },
   {
    "duration": 8,
    "start_time": "2021-07-07T18:14:01.942Z"
   },
   {
    "duration": 16,
    "start_time": "2021-07-07T18:14:01.952Z"
   },
   {
    "duration": 13,
    "start_time": "2021-07-07T18:14:01.970Z"
   },
   {
    "duration": 32,
    "start_time": "2021-07-07T18:14:01.985Z"
   },
   {
    "duration": 11,
    "start_time": "2021-07-07T18:14:02.019Z"
   },
   {
    "duration": 22,
    "start_time": "2021-07-07T18:14:02.031Z"
   },
   {
    "duration": 27,
    "start_time": "2021-07-07T18:14:02.055Z"
   },
   {
    "duration": 18,
    "start_time": "2021-07-07T18:14:02.084Z"
   },
   {
    "duration": 18,
    "start_time": "2021-07-07T18:14:02.106Z"
   },
   {
    "duration": 11,
    "start_time": "2021-07-07T18:14:02.126Z"
   },
   {
    "duration": 21,
    "start_time": "2021-07-07T18:14:02.138Z"
   },
   {
    "duration": 32,
    "start_time": "2021-07-07T18:14:02.161Z"
   },
   {
    "duration": 28,
    "start_time": "2021-07-07T18:14:44.295Z"
   },
   {
    "duration": 6,
    "start_time": "2021-07-07T18:15:05.834Z"
   },
   {
    "duration": 511,
    "start_time": "2021-07-07T18:15:41.541Z"
   },
   {
    "duration": 183,
    "start_time": "2021-07-07T18:15:42.054Z"
   },
   {
    "duration": 50,
    "start_time": "2021-07-07T18:15:42.239Z"
   },
   {
    "duration": 5,
    "start_time": "2021-07-07T18:15:42.291Z"
   },
   {
    "duration": 48,
    "start_time": "2021-07-07T18:15:42.297Z"
   },
   {
    "duration": 8,
    "start_time": "2021-07-07T18:15:42.346Z"
   },
   {
    "duration": 17,
    "start_time": "2021-07-07T18:15:42.356Z"
   },
   {
    "duration": 15,
    "start_time": "2021-07-07T18:15:42.375Z"
   },
   {
    "duration": 12,
    "start_time": "2021-07-07T18:15:42.392Z"
   },
   {
    "duration": 7,
    "start_time": "2021-07-07T18:15:42.406Z"
   },
   {
    "duration": 7,
    "start_time": "2021-07-07T18:15:42.415Z"
   },
   {
    "duration": 29,
    "start_time": "2021-07-07T18:15:42.423Z"
   },
   {
    "duration": 43,
    "start_time": "2021-07-07T18:15:42.453Z"
   },
   {
    "duration": 18,
    "start_time": "2021-07-07T18:15:42.497Z"
   },
   {
    "duration": 6,
    "start_time": "2021-07-07T18:15:42.516Z"
   },
   {
    "duration": 3,
    "start_time": "2021-07-07T18:15:42.523Z"
   },
   {
    "duration": 18,
    "start_time": "2021-07-07T18:15:42.528Z"
   },
   {
    "duration": 10,
    "start_time": "2021-07-07T18:15:42.547Z"
   },
   {
    "duration": 36,
    "start_time": "2021-07-07T18:15:42.559Z"
   },
   {
    "duration": 8,
    "start_time": "2021-07-07T18:15:42.597Z"
   },
   {
    "duration": 28,
    "start_time": "2021-07-07T18:15:42.606Z"
   },
   {
    "duration": 52,
    "start_time": "2021-07-07T18:15:42.635Z"
   },
   {
    "duration": 7,
    "start_time": "2021-07-07T18:15:42.690Z"
   },
   {
    "duration": 10,
    "start_time": "2021-07-07T18:15:42.699Z"
   },
   {
    "duration": 19,
    "start_time": "2021-07-07T18:15:42.711Z"
   },
   {
    "duration": 9,
    "start_time": "2021-07-07T18:15:42.732Z"
   },
   {
    "duration": 5,
    "start_time": "2021-07-07T18:15:42.743Z"
   },
   {
    "duration": 1450,
    "start_time": "2021-07-07T18:15:51.984Z"
   },
   {
    "duration": 161,
    "start_time": "2021-07-07T18:15:53.435Z"
   },
   {
    "duration": 124,
    "start_time": "2021-07-07T18:15:53.598Z"
   },
   {
    "duration": 5,
    "start_time": "2021-07-07T18:15:53.724Z"
   },
   {
    "duration": 34,
    "start_time": "2021-07-07T18:15:53.730Z"
   },
   {
    "duration": 7,
    "start_time": "2021-07-07T18:15:53.765Z"
   },
   {
    "duration": 15,
    "start_time": "2021-07-07T18:15:53.773Z"
   },
   {
    "duration": 5,
    "start_time": "2021-07-07T18:15:53.791Z"
   },
   {
    "duration": 19,
    "start_time": "2021-07-07T18:15:53.798Z"
   },
   {
    "duration": 9,
    "start_time": "2021-07-07T18:15:53.818Z"
   },
   {
    "duration": 19,
    "start_time": "2021-07-07T18:15:53.828Z"
   },
   {
    "duration": 27,
    "start_time": "2021-07-07T18:15:53.848Z"
   },
   {
    "duration": 16,
    "start_time": "2021-07-07T18:15:53.884Z"
   },
   {
    "duration": 29,
    "start_time": "2021-07-07T18:15:53.901Z"
   },
   {
    "duration": 5,
    "start_time": "2021-07-07T18:15:53.932Z"
   },
   {
    "duration": 15,
    "start_time": "2021-07-07T18:15:53.939Z"
   },
   {
    "duration": 13,
    "start_time": "2021-07-07T18:15:53.956Z"
   },
   {
    "duration": 20,
    "start_time": "2021-07-07T18:15:53.971Z"
   },
   {
    "duration": 14,
    "start_time": "2021-07-07T18:15:53.992Z"
   },
   {
    "duration": 9,
    "start_time": "2021-07-07T18:15:54.009Z"
   },
   {
    "duration": 28,
    "start_time": "2021-07-07T18:15:54.020Z"
   },
   {
    "duration": 50,
    "start_time": "2021-07-07T18:15:54.051Z"
   },
   {
    "duration": 8,
    "start_time": "2021-07-07T18:15:54.105Z"
   },
   {
    "duration": 11,
    "start_time": "2021-07-07T18:15:54.115Z"
   },
   {
    "duration": 20,
    "start_time": "2021-07-07T18:15:54.128Z"
   },
   {
    "duration": 13,
    "start_time": "2021-07-07T18:15:54.184Z"
   },
   {
    "duration": 7,
    "start_time": "2021-07-07T18:15:54.199Z"
   },
   {
    "duration": 7,
    "start_time": "2021-07-07T18:17:08.042Z"
   },
   {
    "duration": 8,
    "start_time": "2021-07-07T18:17:21.008Z"
   },
   {
    "duration": 7,
    "start_time": "2021-07-07T18:17:29.003Z"
   },
   {
    "duration": 8,
    "start_time": "2021-07-07T18:17:32.492Z"
   },
   {
    "duration": 9,
    "start_time": "2021-07-07T18:17:41.758Z"
   },
   {
    "duration": 255,
    "start_time": "2021-07-07T18:20:20.897Z"
   },
   {
    "duration": 173,
    "start_time": "2021-07-07T18:20:26.636Z"
   },
   {
    "duration": 7,
    "start_time": "2021-07-07T18:21:47.164Z"
   },
   {
    "duration": 254,
    "start_time": "2021-07-07T18:23:08.703Z"
   },
   {
    "duration": 21,
    "start_time": "2021-07-07T18:23:22.506Z"
   },
   {
    "duration": 315,
    "start_time": "2021-07-07T18:25:54.801Z"
   },
   {
    "duration": 34,
    "start_time": "2021-07-07T18:26:51.817Z"
   },
   {
    "duration": 327,
    "start_time": "2021-07-07T18:26:56.147Z"
   },
   {
    "duration": 342,
    "start_time": "2021-07-07T18:27:15.887Z"
   },
   {
    "duration": 302,
    "start_time": "2021-07-07T18:28:18.569Z"
   },
   {
    "duration": 226,
    "start_time": "2021-07-07T18:29:20.879Z"
   },
   {
    "duration": 207,
    "start_time": "2021-07-07T18:29:58.114Z"
   },
   {
    "duration": 140,
    "start_time": "2021-07-07T18:32:04.372Z"
   },
   {
    "duration": 158,
    "start_time": "2021-07-07T18:32:32.508Z"
   },
   {
    "duration": 145,
    "start_time": "2021-07-07T18:32:41.365Z"
   },
   {
    "duration": 132,
    "start_time": "2021-07-07T18:32:45.199Z"
   },
   {
    "duration": 11,
    "start_time": "2021-07-07T18:35:24.679Z"
   },
   {
    "duration": 268,
    "start_time": "2021-07-07T18:36:16.145Z"
   },
   {
    "duration": 227,
    "start_time": "2021-07-07T18:37:04.918Z"
   },
   {
    "duration": 3,
    "start_time": "2021-07-07T18:37:33.012Z"
   },
   {
    "duration": 671,
    "start_time": "2021-07-07T18:37:38.295Z"
   },
   {
    "duration": 54,
    "start_time": "2021-07-07T18:37:53.406Z"
   },
   {
    "duration": 631,
    "start_time": "2021-07-07T18:37:56.463Z"
   },
   {
    "duration": 19,
    "start_time": "2021-07-07T18:39:40.535Z"
   },
   {
    "duration": 20,
    "start_time": "2021-07-07T18:40:12.236Z"
   },
   {
    "duration": 633,
    "start_time": "2021-07-07T18:42:00.398Z"
   },
   {
    "duration": 218,
    "start_time": "2021-07-07T18:42:01.033Z"
   },
   {
    "duration": 49,
    "start_time": "2021-07-07T18:42:01.253Z"
   },
   {
    "duration": 5,
    "start_time": "2021-07-07T18:42:01.303Z"
   },
   {
    "duration": 27,
    "start_time": "2021-07-07T18:42:01.310Z"
   },
   {
    "duration": 8,
    "start_time": "2021-07-07T18:42:01.339Z"
   },
   {
    "duration": 20,
    "start_time": "2021-07-07T18:42:01.348Z"
   },
   {
    "duration": 6,
    "start_time": "2021-07-07T18:42:01.386Z"
   },
   {
    "duration": 16,
    "start_time": "2021-07-07T18:42:01.394Z"
   },
   {
    "duration": 9,
    "start_time": "2021-07-07T18:42:01.411Z"
   },
   {
    "duration": 11,
    "start_time": "2021-07-07T18:42:01.421Z"
   },
   {
    "duration": 31,
    "start_time": "2021-07-07T18:42:01.434Z"
   },
   {
    "duration": 18,
    "start_time": "2021-07-07T18:42:01.485Z"
   },
   {
    "duration": 23,
    "start_time": "2021-07-07T18:42:01.505Z"
   },
   {
    "duration": 6,
    "start_time": "2021-07-07T18:42:01.530Z"
   },
   {
    "duration": 10,
    "start_time": "2021-07-07T18:42:01.538Z"
   },
   {
    "duration": 13,
    "start_time": "2021-07-07T18:42:01.550Z"
   },
   {
    "duration": 24,
    "start_time": "2021-07-07T18:42:01.564Z"
   },
   {
    "duration": 20,
    "start_time": "2021-07-07T18:42:01.590Z"
   },
   {
    "duration": 8,
    "start_time": "2021-07-07T18:42:01.611Z"
   },
   {
    "duration": 31,
    "start_time": "2021-07-07T18:42:01.620Z"
   },
   {
    "duration": 39,
    "start_time": "2021-07-07T18:42:01.653Z"
   },
   {
    "duration": 8,
    "start_time": "2021-07-07T18:42:01.696Z"
   },
   {
    "duration": 13,
    "start_time": "2021-07-07T18:42:01.705Z"
   },
   {
    "duration": 20,
    "start_time": "2021-07-07T18:42:01.720Z"
   },
   {
    "duration": 12,
    "start_time": "2021-07-07T18:42:01.741Z"
   },
   {
    "duration": 35,
    "start_time": "2021-07-07T18:42:01.755Z"
   },
   {
    "duration": 14,
    "start_time": "2021-07-07T18:42:01.792Z"
   },
   {
    "duration": 188,
    "start_time": "2021-07-07T18:42:01.808Z"
   },
   {
    "duration": 19,
    "start_time": "2021-07-07T18:42:01.998Z"
   },
   {
    "duration": 175,
    "start_time": "2021-07-07T18:42:02.019Z"
   },
   {
    "duration": 134,
    "start_time": "2021-07-07T18:42:02.196Z"
   },
   {
    "duration": 10,
    "start_time": "2021-07-07T18:42:02.331Z"
   },
   {
    "duration": 19,
    "start_time": "2021-07-07T18:42:02.343Z"
   },
   {
    "duration": 628,
    "start_time": "2021-07-07T18:46:30.701Z"
   },
   {
    "duration": 183,
    "start_time": "2021-07-07T18:46:31.331Z"
   },
   {
    "duration": 48,
    "start_time": "2021-07-07T18:46:31.516Z"
   },
   {
    "duration": 5,
    "start_time": "2021-07-07T18:46:31.566Z"
   },
   {
    "duration": 28,
    "start_time": "2021-07-07T18:46:31.572Z"
   },
   {
    "duration": 8,
    "start_time": "2021-07-07T18:46:31.602Z"
   },
   {
    "duration": 19,
    "start_time": "2021-07-07T18:46:31.611Z"
   },
   {
    "duration": 6,
    "start_time": "2021-07-07T18:46:31.633Z"
   },
   {
    "duration": 17,
    "start_time": "2021-07-07T18:46:31.642Z"
   },
   {
    "duration": 10,
    "start_time": "2021-07-07T18:46:31.684Z"
   },
   {
    "duration": 9,
    "start_time": "2021-07-07T18:46:31.695Z"
   },
   {
    "duration": 28,
    "start_time": "2021-07-07T18:46:31.705Z"
   },
   {
    "duration": 18,
    "start_time": "2021-07-07T18:46:31.735Z"
   },
   {
    "duration": 48,
    "start_time": "2021-07-07T18:46:31.755Z"
   },
   {
    "duration": 6,
    "start_time": "2021-07-07T18:46:31.804Z"
   },
   {
    "duration": 4,
    "start_time": "2021-07-07T18:46:31.812Z"
   },
   {
    "duration": 9,
    "start_time": "2021-07-07T18:46:31.817Z"
   },
   {
    "duration": 10,
    "start_time": "2021-07-07T18:46:31.827Z"
   },
   {
    "duration": 12,
    "start_time": "2021-07-07T18:46:31.838Z"
   },
   {
    "duration": 39,
    "start_time": "2021-07-07T18:46:31.851Z"
   },
   {
    "duration": 24,
    "start_time": "2021-07-07T18:46:31.892Z"
   },
   {
    "duration": 15,
    "start_time": "2021-07-07T18:46:31.918Z"
   },
   {
    "duration": 7,
    "start_time": "2021-07-07T18:46:31.936Z"
   },
   {
    "duration": 8,
    "start_time": "2021-07-07T18:46:31.944Z"
   },
   {
    "duration": 19,
    "start_time": "2021-07-07T18:46:31.984Z"
   },
   {
    "duration": 10,
    "start_time": "2021-07-07T18:46:32.004Z"
   },
   {
    "duration": 5,
    "start_time": "2021-07-07T18:46:32.016Z"
   },
   {
    "duration": 9,
    "start_time": "2021-07-07T18:46:32.023Z"
   },
   {
    "duration": 199,
    "start_time": "2021-07-07T18:46:32.033Z"
   },
   {
    "duration": 19,
    "start_time": "2021-07-07T18:46:32.234Z"
   },
   {
    "duration": 159,
    "start_time": "2021-07-07T18:46:32.255Z"
   },
   {
    "duration": 134,
    "start_time": "2021-07-07T18:46:32.416Z"
   },
   {
    "duration": 10,
    "start_time": "2021-07-07T18:46:32.552Z"
   },
   {
    "duration": 34,
    "start_time": "2021-07-07T18:46:32.563Z"
   },
   {
    "duration": 1039,
    "start_time": "2021-07-08T08:41:09.419Z"
   },
   {
    "duration": 333,
    "start_time": "2021-07-08T08:41:10.459Z"
   },
   {
    "duration": 173,
    "start_time": "2021-07-08T08:41:10.794Z"
   },
   {
    "duration": 5,
    "start_time": "2021-07-08T08:41:10.968Z"
   },
   {
    "duration": 25,
    "start_time": "2021-07-08T08:41:10.975Z"
   },
   {
    "duration": 9,
    "start_time": "2021-07-08T08:41:11.002Z"
   },
   {
    "duration": 18,
    "start_time": "2021-07-08T08:41:11.013Z"
   },
   {
    "duration": 6,
    "start_time": "2021-07-08T08:41:11.033Z"
   },
   {
    "duration": 44,
    "start_time": "2021-07-08T08:41:11.042Z"
   },
   {
    "duration": 10,
    "start_time": "2021-07-08T08:41:11.088Z"
   },
   {
    "duration": 9,
    "start_time": "2021-07-08T08:41:11.100Z"
   },
   {
    "duration": 27,
    "start_time": "2021-07-08T08:41:11.111Z"
   },
   {
    "duration": 46,
    "start_time": "2021-07-08T08:41:11.140Z"
   },
   {
    "duration": 17,
    "start_time": "2021-07-08T08:41:11.187Z"
   },
   {
    "duration": 6,
    "start_time": "2021-07-08T08:41:11.206Z"
   },
   {
    "duration": 5,
    "start_time": "2021-07-08T08:41:11.213Z"
   },
   {
    "duration": 10,
    "start_time": "2021-07-08T08:41:11.219Z"
   },
   {
    "duration": 9,
    "start_time": "2021-07-08T08:41:11.230Z"
   },
   {
    "duration": 45,
    "start_time": "2021-07-08T08:41:11.241Z"
   },
   {
    "duration": 7,
    "start_time": "2021-07-08T08:41:11.287Z"
   },
   {
    "duration": 24,
    "start_time": "2021-07-08T08:41:11.296Z"
   },
   {
    "duration": 16,
    "start_time": "2021-07-08T08:41:11.322Z"
   },
   {
    "duration": 7,
    "start_time": "2021-07-08T08:41:11.341Z"
   },
   {
    "duration": 41,
    "start_time": "2021-07-08T08:41:11.349Z"
   },
   {
    "duration": 17,
    "start_time": "2021-07-08T08:41:11.391Z"
   },
   {
    "duration": 9,
    "start_time": "2021-07-08T08:41:11.410Z"
   },
   {
    "duration": 5,
    "start_time": "2021-07-08T08:41:11.421Z"
   },
   {
    "duration": 6,
    "start_time": "2021-07-08T08:41:11.428Z"
   },
   {
    "duration": 198,
    "start_time": "2021-07-08T08:41:11.435Z"
   },
   {
    "duration": 18,
    "start_time": "2021-07-08T08:41:11.635Z"
   },
   {
    "duration": 155,
    "start_time": "2021-07-08T08:41:11.655Z"
   },
   {
    "duration": 138,
    "start_time": "2021-07-08T08:41:11.811Z"
   },
   {
    "duration": 10,
    "start_time": "2021-07-08T08:41:11.950Z"
   },
   {
    "duration": 29,
    "start_time": "2021-07-08T08:41:11.961Z"
   },
   {
    "duration": 171,
    "start_time": "2021-07-08T08:47:44.522Z"
   },
   {
    "duration": 124,
    "start_time": "2021-07-08T08:47:46.872Z"
   },
   {
    "duration": 191,
    "start_time": "2021-07-08T08:47:58.148Z"
   },
   {
    "duration": 191,
    "start_time": "2021-07-08T08:48:07.412Z"
   },
   {
    "duration": 261,
    "start_time": "2021-07-08T08:48:10.385Z"
   },
   {
    "duration": 255,
    "start_time": "2021-07-08T08:48:14.494Z"
   },
   {
    "duration": 219,
    "start_time": "2021-07-08T08:48:22.752Z"
   },
   {
    "duration": 173,
    "start_time": "2021-07-08T08:49:06.395Z"
   },
   {
    "duration": 180,
    "start_time": "2021-07-08T08:49:21.011Z"
   },
   {
    "duration": 6,
    "start_time": "2021-07-08T08:50:31.697Z"
   },
   {
    "duration": 10,
    "start_time": "2021-07-08T08:50:47.394Z"
   },
   {
    "duration": 11,
    "start_time": "2021-07-08T08:53:49.332Z"
   },
   {
    "duration": 171,
    "start_time": "2021-07-08T08:54:28.408Z"
   },
   {
    "duration": 636,
    "start_time": "2021-07-08T09:02:48.385Z"
   },
   {
    "duration": 227,
    "start_time": "2021-07-08T09:02:49.023Z"
   },
   {
    "duration": 104,
    "start_time": "2021-07-08T09:02:49.252Z"
   },
   {
    "duration": 5,
    "start_time": "2021-07-08T09:02:49.358Z"
   },
   {
    "duration": 27,
    "start_time": "2021-07-08T09:02:49.365Z"
   },
   {
    "duration": 8,
    "start_time": "2021-07-08T09:02:49.394Z"
   },
   {
    "duration": 18,
    "start_time": "2021-07-08T09:02:49.404Z"
   },
   {
    "duration": 6,
    "start_time": "2021-07-08T09:02:49.424Z"
   },
   {
    "duration": 11,
    "start_time": "2021-07-08T09:02:49.433Z"
   },
   {
    "duration": 13,
    "start_time": "2021-07-08T09:02:49.485Z"
   },
   {
    "duration": 9,
    "start_time": "2021-07-08T09:02:49.500Z"
   },
   {
    "duration": 38,
    "start_time": "2021-07-08T09:02:49.511Z"
   },
   {
    "duration": 42,
    "start_time": "2021-07-08T09:02:49.551Z"
   },
   {
    "duration": 21,
    "start_time": "2021-07-08T09:02:49.594Z"
   },
   {
    "duration": 6,
    "start_time": "2021-07-08T09:02:49.616Z"
   },
   {
    "duration": 3,
    "start_time": "2021-07-08T09:02:49.623Z"
   },
   {
    "duration": 9,
    "start_time": "2021-07-08T09:02:49.628Z"
   },
   {
    "duration": 52,
    "start_time": "2021-07-08T09:02:49.638Z"
   },
   {
    "duration": 11,
    "start_time": "2021-07-08T09:02:49.692Z"
   },
   {
    "duration": 8,
    "start_time": "2021-07-08T09:02:49.704Z"
   },
   {
    "duration": 27,
    "start_time": "2021-07-08T09:02:49.713Z"
   },
   {
    "duration": 59,
    "start_time": "2021-07-08T09:02:49.741Z"
   },
   {
    "duration": 8,
    "start_time": "2021-07-08T09:02:49.803Z"
   },
   {
    "duration": 14,
    "start_time": "2021-07-08T09:02:49.813Z"
   },
   {
    "duration": 20,
    "start_time": "2021-07-08T09:02:49.829Z"
   },
   {
    "duration": 44,
    "start_time": "2021-07-08T09:02:49.851Z"
   },
   {
    "duration": 14,
    "start_time": "2021-07-08T09:02:49.896Z"
   },
   {
    "duration": 221,
    "start_time": "2021-07-08T09:02:49.912Z"
   },
   {
    "duration": 6,
    "start_time": "2021-07-08T09:02:50.134Z"
   },
   {
    "duration": 206,
    "start_time": "2021-07-08T09:02:50.142Z"
   },
   {
    "duration": 19,
    "start_time": "2021-07-08T09:02:50.350Z"
   },
   {
    "duration": 21,
    "start_time": "2021-07-08T09:02:50.370Z"
   },
   {
    "duration": 20,
    "start_time": "2021-07-08T09:02:50.393Z"
   },
   {
    "duration": 5,
    "start_time": "2021-07-08T09:02:50.414Z"
   },
   {
    "duration": 5,
    "start_time": "2021-07-08T09:03:34.173Z"
   },
   {
    "duration": 6,
    "start_time": "2021-07-08T09:04:49.062Z"
   },
   {
    "duration": 9,
    "start_time": "2021-07-08T09:04:50.118Z"
   },
   {
    "duration": 14,
    "start_time": "2021-07-08T09:04:58.512Z"
   },
   {
    "duration": 9,
    "start_time": "2021-07-08T09:05:10.988Z"
   },
   {
    "duration": 11,
    "start_time": "2021-07-08T09:05:11.743Z"
   },
   {
    "duration": 7,
    "start_time": "2021-07-08T09:05:25.677Z"
   },
   {
    "duration": 13,
    "start_time": "2021-07-08T09:05:47.189Z"
   },
   {
    "duration": 13,
    "start_time": "2021-07-08T09:05:54.755Z"
   },
   {
    "duration": 4,
    "start_time": "2021-07-08T09:06:29.189Z"
   },
   {
    "duration": 244,
    "start_time": "2021-07-08T09:06:29.195Z"
   },
   {
    "duration": 91,
    "start_time": "2021-07-08T09:06:29.441Z"
   },
   {
    "duration": 4,
    "start_time": "2021-07-08T09:06:29.534Z"
   },
   {
    "duration": 28,
    "start_time": "2021-07-08T09:06:29.540Z"
   },
   {
    "duration": 6,
    "start_time": "2021-07-08T09:06:29.570Z"
   },
   {
    "duration": 18,
    "start_time": "2021-07-08T09:06:29.578Z"
   },
   {
    "duration": 5,
    "start_time": "2021-07-08T09:06:29.597Z"
   },
   {
    "duration": 13,
    "start_time": "2021-07-08T09:06:29.605Z"
   },
   {
    "duration": 8,
    "start_time": "2021-07-08T09:06:29.620Z"
   },
   {
    "duration": 7,
    "start_time": "2021-07-08T09:06:29.630Z"
   },
   {
    "duration": 63,
    "start_time": "2021-07-08T09:06:29.639Z"
   },
   {
    "duration": 17,
    "start_time": "2021-07-08T09:06:29.704Z"
   },
   {
    "duration": 20,
    "start_time": "2021-07-08T09:06:29.723Z"
   },
   {
    "duration": 6,
    "start_time": "2021-07-08T09:06:29.745Z"
   },
   {
    "duration": 3,
    "start_time": "2021-07-08T09:06:29.752Z"
   },
   {
    "duration": 7,
    "start_time": "2021-07-08T09:06:29.785Z"
   },
   {
    "duration": 11,
    "start_time": "2021-07-08T09:06:29.794Z"
   },
   {
    "duration": 15,
    "start_time": "2021-07-08T09:06:29.807Z"
   },
   {
    "duration": 8,
    "start_time": "2021-07-08T09:06:29.823Z"
   },
   {
    "duration": 70,
    "start_time": "2021-07-08T09:06:29.832Z"
   },
   {
    "duration": 17,
    "start_time": "2021-07-08T09:06:29.903Z"
   },
   {
    "duration": 9,
    "start_time": "2021-07-08T09:06:29.921Z"
   },
   {
    "duration": 9,
    "start_time": "2021-07-08T09:06:29.932Z"
   },
   {
    "duration": 57,
    "start_time": "2021-07-08T09:06:29.942Z"
   },
   {
    "duration": 11,
    "start_time": "2021-07-08T09:06:30.001Z"
   },
   {
    "duration": 19,
    "start_time": "2021-07-08T09:06:30.016Z"
   },
   {
    "duration": 217,
    "start_time": "2021-07-08T09:06:30.037Z"
   },
   {
    "duration": 6,
    "start_time": "2021-07-08T09:06:30.255Z"
   },
   {
    "duration": 205,
    "start_time": "2021-07-08T09:06:30.263Z"
   },
   {
    "duration": 27,
    "start_time": "2021-07-08T09:06:30.470Z"
   },
   {
    "duration": 11,
    "start_time": "2021-07-08T09:06:30.500Z"
   },
   {
    "duration": 31,
    "start_time": "2021-07-08T09:06:30.513Z"
   },
   {
    "duration": 18,
    "start_time": "2021-07-08T09:06:30.546Z"
   },
   {
    "duration": 11,
    "start_time": "2021-07-08T09:06:30.566Z"
   },
   {
    "duration": 19,
    "start_time": "2021-07-08T09:06:30.579Z"
   },
   {
    "duration": 20,
    "start_time": "2021-07-08T09:06:49.466Z"
   },
   {
    "duration": 9,
    "start_time": "2021-07-08T09:06:51.994Z"
   },
   {
    "duration": 20,
    "start_time": "2021-07-08T09:06:52.273Z"
   },
   {
    "duration": 246,
    "start_time": "2021-07-08T09:10:21.272Z"
   },
   {
    "duration": 84,
    "start_time": "2021-07-08T09:10:21.436Z"
   },
   {
    "duration": 7,
    "start_time": "2021-07-08T09:10:37.608Z"
   },
   {
    "duration": 189,
    "start_time": "2021-07-08T09:10:38.573Z"
   },
   {
    "duration": 185,
    "start_time": "2021-07-08T09:10:53.181Z"
   },
   {
    "duration": 11,
    "start_time": "2021-07-08T09:10:59.549Z"
   },
   {
    "duration": 42,
    "start_time": "2021-07-08T09:10:59.709Z"
   },
   {
    "duration": 12,
    "start_time": "2021-07-08T09:11:02.857Z"
   },
   {
    "duration": 28,
    "start_time": "2021-07-08T09:11:10.062Z"
   },
   {
    "duration": 249,
    "start_time": "2021-07-08T09:11:37.388Z"
   },
   {
    "duration": 232,
    "start_time": "2021-07-08T09:11:49.485Z"
   },
   {
    "duration": 453,
    "start_time": "2021-07-08T09:12:01.546Z"
   },
   {
    "duration": 440,
    "start_time": "2021-07-08T09:12:12.347Z"
   },
   {
    "duration": 213,
    "start_time": "2021-07-08T09:13:32.196Z"
   },
   {
    "duration": 172,
    "start_time": "2021-07-08T09:14:07.400Z"
   },
   {
    "duration": 185,
    "start_time": "2021-07-08T09:14:14.905Z"
   },
   {
    "duration": 209,
    "start_time": "2021-07-08T09:14:40.109Z"
   },
   {
    "duration": 201,
    "start_time": "2021-07-08T09:14:54.506Z"
   },
   {
    "duration": 622,
    "start_time": "2021-07-08T09:18:14.497Z"
   },
   {
    "duration": 220,
    "start_time": "2021-07-08T09:18:15.121Z"
   },
   {
    "duration": 79,
    "start_time": "2021-07-08T09:18:15.343Z"
   },
   {
    "duration": 4,
    "start_time": "2021-07-08T09:18:15.425Z"
   },
   {
    "duration": 24,
    "start_time": "2021-07-08T09:18:15.431Z"
   },
   {
    "duration": 8,
    "start_time": "2021-07-08T09:18:15.457Z"
   },
   {
    "duration": 16,
    "start_time": "2021-07-08T09:18:15.466Z"
   },
   {
    "duration": 5,
    "start_time": "2021-07-08T09:18:15.484Z"
   },
   {
    "duration": 10,
    "start_time": "2021-07-08T09:18:15.493Z"
   },
   {
    "duration": 8,
    "start_time": "2021-07-08T09:18:15.504Z"
   },
   {
    "duration": 7,
    "start_time": "2021-07-08T09:18:15.513Z"
   },
   {
    "duration": 26,
    "start_time": "2021-07-08T09:18:15.522Z"
   },
   {
    "duration": 49,
    "start_time": "2021-07-08T09:18:15.550Z"
   },
   {
    "duration": 21,
    "start_time": "2021-07-08T09:18:15.601Z"
   },
   {
    "duration": 8,
    "start_time": "2021-07-08T09:18:15.624Z"
   },
   {
    "duration": 3,
    "start_time": "2021-07-08T09:18:15.634Z"
   },
   {
    "duration": 8,
    "start_time": "2021-07-08T09:18:15.639Z"
   },
   {
    "duration": 45,
    "start_time": "2021-07-08T09:18:15.649Z"
   },
   {
    "duration": 13,
    "start_time": "2021-07-08T09:18:15.696Z"
   },
   {
    "duration": 10,
    "start_time": "2021-07-08T09:18:15.711Z"
   },
   {
    "duration": 64,
    "start_time": "2021-07-08T09:18:15.722Z"
   },
   {
    "duration": 19,
    "start_time": "2021-07-08T09:18:15.788Z"
   },
   {
    "duration": 9,
    "start_time": "2021-07-08T09:18:15.809Z"
   },
   {
    "duration": 9,
    "start_time": "2021-07-08T09:18:15.820Z"
   },
   {
    "duration": 18,
    "start_time": "2021-07-08T09:18:15.831Z"
   },
   {
    "duration": 43,
    "start_time": "2021-07-08T09:18:15.851Z"
   },
   {
    "duration": 12,
    "start_time": "2021-07-08T09:18:15.897Z"
   },
   {
    "duration": 219,
    "start_time": "2021-07-08T09:18:15.911Z"
   },
   {
    "duration": 8,
    "start_time": "2021-07-08T09:18:16.132Z"
   },
   {
    "duration": 199,
    "start_time": "2021-07-08T09:18:16.141Z"
   },
   {
    "duration": 18,
    "start_time": "2021-07-08T09:18:16.341Z"
   },
   {
    "duration": 24,
    "start_time": "2021-07-08T09:18:16.361Z"
   },
   {
    "duration": 24,
    "start_time": "2021-07-08T09:18:16.387Z"
   },
   {
    "duration": 211,
    "start_time": "2021-07-08T09:18:16.413Z"
   },
   {
    "duration": 18,
    "start_time": "2021-07-08T09:18:16.626Z"
   },
   {
    "duration": 596,
    "start_time": "2021-07-08T10:06:33.623Z"
   },
   {
    "duration": 181,
    "start_time": "2021-07-08T10:06:34.221Z"
   },
   {
    "duration": 176,
    "start_time": "2021-07-08T10:06:34.635Z"
   },
   {
    "duration": 239,
    "start_time": "2021-07-08T10:06:55.572Z"
   },
   {
    "duration": 6,
    "start_time": "2021-07-08T10:06:57.687Z"
   },
   {
    "duration": 4,
    "start_time": "2021-07-08T10:07:03.956Z"
   },
   {
    "duration": 4,
    "start_time": "2021-07-08T10:07:10.376Z"
   },
   {
    "duration": 4,
    "start_time": "2021-07-08T10:17:19.889Z"
   },
   {
    "duration": 3,
    "start_time": "2021-07-08T10:19:19.407Z"
   },
   {
    "duration": 197,
    "start_time": "2021-07-08T10:19:19.412Z"
   },
   {
    "duration": 127,
    "start_time": "2021-07-08T10:19:19.611Z"
   },
   {
    "duration": 4,
    "start_time": "2021-07-08T10:19:19.740Z"
   },
   {
    "duration": 27,
    "start_time": "2021-07-08T10:19:19.746Z"
   },
   {
    "duration": 7,
    "start_time": "2021-07-08T10:19:19.775Z"
   },
   {
    "duration": 30,
    "start_time": "2021-07-08T10:19:19.784Z"
   },
   {
    "duration": 7,
    "start_time": "2021-07-08T10:19:19.817Z"
   },
   {
    "duration": 26,
    "start_time": "2021-07-08T10:19:19.826Z"
   },
   {
    "duration": 18,
    "start_time": "2021-07-08T10:19:19.854Z"
   },
   {
    "duration": 14,
    "start_time": "2021-07-08T10:19:19.874Z"
   },
   {
    "duration": 48,
    "start_time": "2021-07-08T10:19:19.890Z"
   },
   {
    "duration": 17,
    "start_time": "2021-07-08T10:19:19.940Z"
   },
   {
    "duration": 38,
    "start_time": "2021-07-08T10:19:19.959Z"
   },
   {
    "duration": 8,
    "start_time": "2021-07-08T10:19:19.999Z"
   },
   {
    "duration": 15,
    "start_time": "2021-07-08T10:19:20.009Z"
   },
   {
    "duration": 22,
    "start_time": "2021-07-08T10:19:20.026Z"
   },
   {
    "duration": 10,
    "start_time": "2021-07-08T10:19:20.050Z"
   },
   {
    "duration": 10,
    "start_time": "2021-07-08T10:19:20.062Z"
   },
   {
    "duration": 20,
    "start_time": "2021-07-08T10:19:20.073Z"
   },
   {
    "duration": 29,
    "start_time": "2021-07-08T10:19:20.095Z"
   },
   {
    "duration": 17,
    "start_time": "2021-07-08T10:19:20.126Z"
   },
   {
    "duration": 40,
    "start_time": "2021-07-08T10:19:20.146Z"
   },
   {
    "duration": 15,
    "start_time": "2021-07-08T10:19:20.189Z"
   },
   {
    "duration": 19,
    "start_time": "2021-07-08T10:19:20.206Z"
   },
   {
    "duration": 10,
    "start_time": "2021-07-08T10:19:20.226Z"
   },
   {
    "duration": 11,
    "start_time": "2021-07-08T10:19:20.238Z"
   },
   {
    "duration": 297,
    "start_time": "2021-07-08T10:19:20.250Z"
   },
   {
    "duration": 6,
    "start_time": "2021-07-08T10:19:20.549Z"
   },
   {
    "duration": 191,
    "start_time": "2021-07-08T10:19:20.557Z"
   },
   {
    "duration": 19,
    "start_time": "2021-07-08T10:19:20.750Z"
   },
   {
    "duration": 20,
    "start_time": "2021-07-08T10:19:20.771Z"
   },
   {
    "duration": 15,
    "start_time": "2021-07-08T10:19:20.793Z"
   },
   {
    "duration": 222,
    "start_time": "2021-07-08T10:19:20.809Z"
   },
   {
    "duration": 20,
    "start_time": "2021-07-08T10:19:21.033Z"
   },
   {
    "duration": 27,
    "start_time": "2021-07-08T10:45:04.055Z"
   },
   {
    "duration": 8,
    "start_time": "2021-07-08T10:45:08.478Z"
   },
   {
    "duration": 8,
    "start_time": "2021-07-08T10:45:31.982Z"
   },
   {
    "duration": 10,
    "start_time": "2021-07-08T10:46:01.221Z"
   },
   {
    "duration": 17,
    "start_time": "2021-07-08T10:46:40.011Z"
   },
   {
    "duration": 193,
    "start_time": "2021-07-08T10:48:19.471Z"
   },
   {
    "duration": 225,
    "start_time": "2021-07-08T10:49:26.480Z"
   },
   {
    "duration": 204,
    "start_time": "2021-07-08T10:49:59.992Z"
   },
   {
    "duration": 435,
    "start_time": "2021-07-08T10:50:06.779Z"
   },
   {
    "duration": 199,
    "start_time": "2021-07-08T10:50:14.891Z"
   },
   {
    "duration": 204,
    "start_time": "2021-07-08T10:50:18.501Z"
   },
   {
    "duration": 244,
    "start_time": "2021-07-08T10:50:23.359Z"
   },
   {
    "duration": 192,
    "start_time": "2021-07-08T10:50:29.135Z"
   },
   {
    "duration": 218,
    "start_time": "2021-07-08T10:50:33.092Z"
   },
   {
    "duration": 207,
    "start_time": "2021-07-08T10:52:45.381Z"
   },
   {
    "duration": 5,
    "start_time": "2021-07-08T10:53:34.641Z"
   },
   {
    "duration": 196,
    "start_time": "2021-07-08T10:53:41.478Z"
   },
   {
    "duration": 43,
    "start_time": "2021-07-08T10:53:50.335Z"
   },
   {
    "duration": 32,
    "start_time": "2021-07-08T10:53:55.294Z"
   },
   {
    "duration": 55,
    "start_time": "2021-07-08T10:54:09.675Z"
   },
   {
    "duration": 16,
    "start_time": "2021-07-08T10:54:12.260Z"
   },
   {
    "duration": 15,
    "start_time": "2021-07-08T10:54:49.150Z"
   },
   {
    "duration": 20,
    "start_time": "2021-07-08T10:56:07.596Z"
   },
   {
    "duration": 16,
    "start_time": "2021-07-08T10:58:26.276Z"
   },
   {
    "duration": 22,
    "start_time": "2021-07-08T10:59:00.486Z"
   },
   {
    "duration": 18,
    "start_time": "2021-07-08T11:02:09.653Z"
   },
   {
    "duration": 10,
    "start_time": "2021-07-08T11:03:44.331Z"
   },
   {
    "duration": 10,
    "start_time": "2021-07-08T11:03:54.055Z"
   },
   {
    "duration": 12,
    "start_time": "2021-07-08T11:04:41.967Z"
   },
   {
    "duration": 24,
    "start_time": "2021-07-08T11:07:30.732Z"
   },
   {
    "duration": 6,
    "start_time": "2021-07-08T11:07:37.364Z"
   },
   {
    "duration": 16,
    "start_time": "2021-07-08T11:08:01.819Z"
   },
   {
    "duration": 17,
    "start_time": "2021-07-08T11:09:47.488Z"
   },
   {
    "duration": 246,
    "start_time": "2021-07-08T11:10:00.830Z"
   },
   {
    "duration": 18,
    "start_time": "2021-07-08T11:13:55.195Z"
   },
   {
    "duration": 204,
    "start_time": "2021-07-08T11:14:04.951Z"
   },
   {
    "duration": 19,
    "start_time": "2021-07-08T11:15:10.613Z"
   },
   {
    "duration": 680,
    "start_time": "2021-07-08T11:16:25.793Z"
   },
   {
    "duration": 451,
    "start_time": "2021-07-08T11:16:40.313Z"
   },
   {
    "duration": 469,
    "start_time": "2021-07-08T11:17:21.286Z"
   },
   {
    "duration": 20,
    "start_time": "2021-07-08T11:19:12.554Z"
   },
   {
    "duration": 35,
    "start_time": "2021-07-08T11:20:05.484Z"
   },
   {
    "duration": 53,
    "start_time": "2021-07-08T11:21:40.050Z"
   },
   {
    "duration": 13,
    "start_time": "2021-07-08T11:22:26.059Z"
   },
   {
    "duration": 19,
    "start_time": "2021-07-08T11:22:47.419Z"
   },
   {
    "duration": 25,
    "start_time": "2021-07-08T11:23:19.958Z"
   },
   {
    "duration": 29,
    "start_time": "2021-07-08T11:23:25.415Z"
   },
   {
    "duration": 10,
    "start_time": "2021-07-08T11:24:45.138Z"
   },
   {
    "duration": 19,
    "start_time": "2021-07-08T11:24:54.498Z"
   },
   {
    "duration": 12,
    "start_time": "2021-07-08T11:25:32.225Z"
   },
   {
    "duration": 19,
    "start_time": "2021-07-08T11:25:37.092Z"
   },
   {
    "duration": 17,
    "start_time": "2021-07-08T11:25:58.116Z"
   },
   {
    "duration": 15,
    "start_time": "2021-07-08T11:26:02.258Z"
   },
   {
    "duration": 8,
    "start_time": "2021-07-08T11:26:59.682Z"
   },
   {
    "duration": 184,
    "start_time": "2021-07-08T11:27:21.894Z"
   },
   {
    "duration": 8,
    "start_time": "2021-07-08T11:27:23.824Z"
   },
   {
    "duration": 202,
    "start_time": "2021-07-08T11:27:23.962Z"
   },
   {
    "duration": 360,
    "start_time": "2021-07-08T11:28:33.215Z"
   },
   {
    "duration": 231,
    "start_time": "2021-07-08T11:32:05.542Z"
   },
   {
    "duration": 607,
    "start_time": "2021-07-08T11:36:27.854Z"
   },
   {
    "duration": 241,
    "start_time": "2021-07-08T11:36:28.463Z"
   },
   {
    "duration": 67,
    "start_time": "2021-07-08T11:36:28.709Z"
   },
   {
    "duration": 5,
    "start_time": "2021-07-08T11:36:28.778Z"
   },
   {
    "duration": 32,
    "start_time": "2021-07-08T11:36:28.784Z"
   },
   {
    "duration": 11,
    "start_time": "2021-07-08T11:36:28.819Z"
   },
   {
    "duration": 20,
    "start_time": "2021-07-08T11:36:28.834Z"
   },
   {
    "duration": 36,
    "start_time": "2021-07-08T11:36:28.857Z"
   },
   {
    "duration": 16,
    "start_time": "2021-07-08T11:36:28.895Z"
   },
   {
    "duration": 14,
    "start_time": "2021-07-08T11:36:28.913Z"
   },
   {
    "duration": 9,
    "start_time": "2021-07-08T11:36:28.930Z"
   },
   {
    "duration": 55,
    "start_time": "2021-07-08T11:36:28.941Z"
   },
   {
    "duration": 27,
    "start_time": "2021-07-08T11:36:28.999Z"
   },
   {
    "duration": 30,
    "start_time": "2021-07-08T11:36:29.028Z"
   },
   {
    "duration": 31,
    "start_time": "2021-07-08T11:36:29.060Z"
   },
   {
    "duration": 3,
    "start_time": "2021-07-08T11:36:29.093Z"
   },
   {
    "duration": 12,
    "start_time": "2021-07-08T11:36:29.099Z"
   },
   {
    "duration": 11,
    "start_time": "2021-07-08T11:36:29.112Z"
   },
   {
    "duration": 12,
    "start_time": "2021-07-08T11:36:29.125Z"
   },
   {
    "duration": 9,
    "start_time": "2021-07-08T11:36:29.139Z"
   },
   {
    "duration": 31,
    "start_time": "2021-07-08T11:36:29.191Z"
   },
   {
    "duration": 17,
    "start_time": "2021-07-08T11:36:29.226Z"
   },
   {
    "duration": 7,
    "start_time": "2021-07-08T11:36:29.245Z"
   },
   {
    "duration": 10,
    "start_time": "2021-07-08T11:36:29.254Z"
   },
   {
    "duration": 30,
    "start_time": "2021-07-08T11:36:29.292Z"
   },
   {
    "duration": 11,
    "start_time": "2021-07-08T11:36:29.324Z"
   },
   {
    "duration": 11,
    "start_time": "2021-07-08T11:36:29.337Z"
   },
   {
    "duration": 230,
    "start_time": "2021-07-08T11:36:29.349Z"
   },
   {
    "duration": 13,
    "start_time": "2021-07-08T11:36:29.588Z"
   },
   {
    "duration": 205,
    "start_time": "2021-07-08T11:36:29.603Z"
   },
   {
    "duration": 20,
    "start_time": "2021-07-08T11:36:29.810Z"
   },
   {
    "duration": 9,
    "start_time": "2021-07-08T11:36:29.832Z"
   },
   {
    "duration": 16,
    "start_time": "2021-07-08T11:36:29.843Z"
   },
   {
    "duration": 283,
    "start_time": "2021-07-08T11:36:29.861Z"
   },
   {
    "duration": 50,
    "start_time": "2021-07-08T11:36:30.146Z"
   },
   {
    "duration": 14,
    "start_time": "2021-07-08T11:36:30.198Z"
   },
   {
    "duration": 11,
    "start_time": "2021-07-08T11:36:30.214Z"
   },
   {
    "duration": 245,
    "start_time": "2021-07-08T11:36:30.227Z"
   },
   {
    "duration": 439,
    "start_time": "2021-07-08T11:36:30.474Z"
   },
   {
    "duration": 210,
    "start_time": "2021-07-08T11:36:30.915Z"
   },
   {
    "duration": 15,
    "start_time": "2021-07-08T11:36:31.127Z"
   },
   {
    "duration": 17,
    "start_time": "2021-07-08T11:38:20.451Z"
   },
   {
    "duration": 642,
    "start_time": "2021-07-08T11:46:17.881Z"
   },
   {
    "duration": 210,
    "start_time": "2021-07-08T11:46:18.525Z"
   },
   {
    "duration": 104,
    "start_time": "2021-07-08T11:46:18.741Z"
   },
   {
    "duration": 8,
    "start_time": "2021-07-08T11:46:18.847Z"
   },
   {
    "duration": 25,
    "start_time": "2021-07-08T11:46:18.857Z"
   },
   {
    "duration": 14,
    "start_time": "2021-07-08T11:46:18.884Z"
   },
   {
    "duration": 22,
    "start_time": "2021-07-08T11:46:18.900Z"
   },
   {
    "duration": 5,
    "start_time": "2021-07-08T11:46:18.924Z"
   },
   {
    "duration": 13,
    "start_time": "2021-07-08T11:46:18.931Z"
   },
   {
    "duration": 45,
    "start_time": "2021-07-08T11:46:18.946Z"
   },
   {
    "duration": 12,
    "start_time": "2021-07-08T11:46:18.993Z"
   },
   {
    "duration": 38,
    "start_time": "2021-07-08T11:46:19.006Z"
   },
   {
    "duration": 50,
    "start_time": "2021-07-08T11:46:19.046Z"
   },
   {
    "duration": 29,
    "start_time": "2021-07-08T11:46:19.099Z"
   },
   {
    "duration": 7,
    "start_time": "2021-07-08T11:46:19.130Z"
   },
   {
    "duration": 3,
    "start_time": "2021-07-08T11:46:19.139Z"
   },
   {
    "duration": 11,
    "start_time": "2021-07-08T11:46:19.144Z"
   },
   {
    "duration": 40,
    "start_time": "2021-07-08T11:46:19.157Z"
   },
   {
    "duration": 15,
    "start_time": "2021-07-08T11:46:19.199Z"
   },
   {
    "duration": 10,
    "start_time": "2021-07-08T11:46:19.217Z"
   },
   {
    "duration": 68,
    "start_time": "2021-07-08T11:46:19.230Z"
   },
   {
    "duration": 17,
    "start_time": "2021-07-08T11:46:19.301Z"
   },
   {
    "duration": 7,
    "start_time": "2021-07-08T11:46:19.321Z"
   },
   {
    "duration": 11,
    "start_time": "2021-07-08T11:46:19.330Z"
   },
   {
    "duration": 59,
    "start_time": "2021-07-08T11:46:19.343Z"
   },
   {
    "duration": 17,
    "start_time": "2021-07-08T11:46:19.405Z"
   },
   {
    "duration": 16,
    "start_time": "2021-07-08T11:46:19.424Z"
   },
   {
    "duration": 252,
    "start_time": "2021-07-08T11:46:19.443Z"
   },
   {
    "duration": 9,
    "start_time": "2021-07-08T11:46:19.697Z"
   },
   {
    "duration": 224,
    "start_time": "2021-07-08T11:46:19.708Z"
   },
   {
    "duration": 21,
    "start_time": "2021-07-08T11:46:19.934Z"
   },
   {
    "duration": 9,
    "start_time": "2021-07-08T11:46:19.956Z"
   },
   {
    "duration": 32,
    "start_time": "2021-07-08T11:46:19.967Z"
   },
   {
    "duration": 288,
    "start_time": "2021-07-08T11:46:20.004Z"
   },
   {
    "duration": 23,
    "start_time": "2021-07-08T11:46:20.300Z"
   },
   {
    "duration": 11,
    "start_time": "2021-07-08T11:46:20.325Z"
   },
   {
    "duration": 11,
    "start_time": "2021-07-08T11:46:20.339Z"
   },
   {
    "duration": 259,
    "start_time": "2021-07-08T11:46:20.352Z"
   },
   {
    "duration": 438,
    "start_time": "2021-07-08T11:46:20.613Z"
   },
   {
    "duration": 207,
    "start_time": "2021-07-08T11:46:21.054Z"
   },
   {
    "duration": 27,
    "start_time": "2021-07-08T11:46:21.262Z"
   },
   {
    "duration": 19,
    "start_time": "2021-07-08T11:46:21.291Z"
   },
   {
    "duration": 820,
    "start_time": "2021-07-08T11:49:01.655Z"
   },
   {
    "duration": 372,
    "start_time": "2021-07-08T11:49:02.478Z"
   },
   {
    "duration": 98,
    "start_time": "2021-07-08T11:49:02.853Z"
   },
   {
    "duration": 6,
    "start_time": "2021-07-08T11:49:02.953Z"
   },
   {
    "duration": 39,
    "start_time": "2021-07-08T11:49:02.960Z"
   },
   {
    "duration": 9,
    "start_time": "2021-07-08T11:49:03.003Z"
   },
   {
    "duration": 23,
    "start_time": "2021-07-08T11:49:03.014Z"
   },
   {
    "duration": 6,
    "start_time": "2021-07-08T11:49:03.041Z"
   },
   {
    "duration": 20,
    "start_time": "2021-07-08T11:49:03.049Z"
   },
   {
    "duration": 18,
    "start_time": "2021-07-08T11:49:03.084Z"
   },
   {
    "duration": 14,
    "start_time": "2021-07-08T11:49:03.104Z"
   },
   {
    "duration": 39,
    "start_time": "2021-07-08T11:49:03.119Z"
   },
   {
    "duration": 38,
    "start_time": "2021-07-08T11:49:03.160Z"
   },
   {
    "duration": 26,
    "start_time": "2021-07-08T11:49:03.200Z"
   },
   {
    "duration": 7,
    "start_time": "2021-07-08T11:49:03.227Z"
   },
   {
    "duration": 4,
    "start_time": "2021-07-08T11:49:03.236Z"
   },
   {
    "duration": 15,
    "start_time": "2021-07-08T11:49:03.243Z"
   },
   {
    "duration": 21,
    "start_time": "2021-07-08T11:49:03.285Z"
   },
   {
    "duration": 17,
    "start_time": "2021-07-08T11:49:03.309Z"
   },
   {
    "duration": 10,
    "start_time": "2021-07-08T11:49:03.328Z"
   },
   {
    "duration": 65,
    "start_time": "2021-07-08T11:49:03.340Z"
   },
   {
    "duration": 18,
    "start_time": "2021-07-08T11:49:03.407Z"
   },
   {
    "duration": 8,
    "start_time": "2021-07-08T11:49:03.428Z"
   },
   {
    "duration": 15,
    "start_time": "2021-07-08T11:49:03.438Z"
   },
   {
    "duration": 40,
    "start_time": "2021-07-08T11:49:03.455Z"
   },
   {
    "duration": 12,
    "start_time": "2021-07-08T11:49:03.497Z"
   },
   {
    "duration": 29,
    "start_time": "2021-07-08T11:49:03.511Z"
   },
   {
    "duration": 285,
    "start_time": "2021-07-08T11:49:03.542Z"
   },
   {
    "duration": 8,
    "start_time": "2021-07-08T11:49:03.829Z"
   },
   {
    "duration": 227,
    "start_time": "2021-07-08T11:49:03.838Z"
   },
   {
    "duration": 40,
    "start_time": "2021-07-08T11:49:04.066Z"
   },
   {
    "duration": 10,
    "start_time": "2021-07-08T11:49:04.108Z"
   },
   {
    "duration": 26,
    "start_time": "2021-07-08T11:49:04.121Z"
   },
   {
    "duration": 290,
    "start_time": "2021-07-08T11:49:04.149Z"
   },
   {
    "duration": 26,
    "start_time": "2021-07-08T11:49:04.441Z"
   },
   {
    "duration": 31,
    "start_time": "2021-07-08T11:49:04.470Z"
   },
   {
    "duration": 14,
    "start_time": "2021-07-08T11:49:04.503Z"
   },
   {
    "duration": 259,
    "start_time": "2021-07-08T11:49:04.521Z"
   },
   {
    "duration": 480,
    "start_time": "2021-07-08T11:49:04.782Z"
   },
   {
    "duration": 225,
    "start_time": "2021-07-08T11:49:05.264Z"
   },
   {
    "duration": 22,
    "start_time": "2021-07-08T11:49:05.491Z"
   },
   {
    "duration": 24,
    "start_time": "2021-07-08T11:49:05.515Z"
   },
   {
    "duration": 634,
    "start_time": "2021-07-08T11:52:24.960Z"
   },
   {
    "duration": 199,
    "start_time": "2021-07-08T11:52:25.599Z"
   },
   {
    "duration": 106,
    "start_time": "2021-07-08T11:52:25.803Z"
   },
   {
    "duration": 7,
    "start_time": "2021-07-08T11:52:25.911Z"
   },
   {
    "duration": 29,
    "start_time": "2021-07-08T11:52:25.920Z"
   },
   {
    "duration": 7,
    "start_time": "2021-07-08T11:52:25.951Z"
   },
   {
    "duration": 26,
    "start_time": "2021-07-08T11:52:25.961Z"
   },
   {
    "duration": 11,
    "start_time": "2021-07-08T11:52:25.990Z"
   },
   {
    "duration": 29,
    "start_time": "2021-07-08T11:52:26.005Z"
   },
   {
    "duration": 9,
    "start_time": "2021-07-08T11:52:26.036Z"
   },
   {
    "duration": 8,
    "start_time": "2021-07-08T11:52:26.047Z"
   },
   {
    "duration": 63,
    "start_time": "2021-07-08T11:52:26.057Z"
   },
   {
    "duration": 17,
    "start_time": "2021-07-08T11:52:26.122Z"
   },
   {
    "duration": 43,
    "start_time": "2021-07-08T11:52:26.142Z"
   },
   {
    "duration": 17,
    "start_time": "2021-07-08T11:52:26.187Z"
   },
   {
    "duration": 5,
    "start_time": "2021-07-08T11:52:26.206Z"
   },
   {
    "duration": 12,
    "start_time": "2021-07-08T11:52:26.212Z"
   },
   {
    "duration": 11,
    "start_time": "2021-07-08T11:52:26.226Z"
   },
   {
    "duration": 12,
    "start_time": "2021-07-08T11:52:26.238Z"
   },
   {
    "duration": 38,
    "start_time": "2021-07-08T11:52:26.252Z"
   },
   {
    "duration": 40,
    "start_time": "2021-07-08T11:52:26.292Z"
   },
   {
    "duration": 17,
    "start_time": "2021-07-08T11:52:26.336Z"
   },
   {
    "duration": 39,
    "start_time": "2021-07-08T11:52:26.355Z"
   },
   {
    "duration": 11,
    "start_time": "2021-07-08T11:52:26.395Z"
   },
   {
    "duration": 23,
    "start_time": "2021-07-08T11:52:26.408Z"
   },
   {
    "duration": 12,
    "start_time": "2021-07-08T11:52:26.432Z"
   },
   {
    "duration": 41,
    "start_time": "2021-07-08T11:52:26.446Z"
   },
   {
    "duration": 215,
    "start_time": "2021-07-08T11:52:26.493Z"
   },
   {
    "duration": 8,
    "start_time": "2021-07-08T11:52:26.710Z"
   },
   {
    "duration": 228,
    "start_time": "2021-07-08T11:52:26.720Z"
   },
   {
    "duration": 18,
    "start_time": "2021-07-08T11:52:26.950Z"
   },
   {
    "duration": 35,
    "start_time": "2021-07-08T11:52:26.969Z"
   },
   {
    "duration": 23,
    "start_time": "2021-07-08T11:52:27.006Z"
   },
   {
    "duration": 258,
    "start_time": "2021-07-08T11:52:27.030Z"
   },
   {
    "duration": 24,
    "start_time": "2021-07-08T11:52:27.290Z"
   },
   {
    "duration": 12,
    "start_time": "2021-07-08T11:52:27.316Z"
   },
   {
    "duration": 10,
    "start_time": "2021-07-08T11:52:27.329Z"
   },
   {
    "duration": 298,
    "start_time": "2021-07-08T11:52:27.341Z"
   },
   {
    "duration": 436,
    "start_time": "2021-07-08T11:52:27.641Z"
   },
   {
    "duration": 216,
    "start_time": "2021-07-08T11:52:28.079Z"
   },
   {
    "duration": 20,
    "start_time": "2021-07-08T11:52:28.297Z"
   },
   {
    "duration": 17,
    "start_time": "2021-07-08T11:52:28.319Z"
   },
   {
    "duration": 1342,
    "start_time": "2022-05-22T06:02:08.224Z"
   },
   {
    "duration": 3,
    "start_time": "2022-05-22T06:02:09.568Z"
   },
   {
    "duration": 186,
    "start_time": "2022-05-22T06:02:09.573Z"
   },
   {
    "duration": 32,
    "start_time": "2022-05-22T06:02:09.761Z"
   },
   {
    "duration": 15,
    "start_time": "2022-05-22T06:02:09.795Z"
   },
   {
    "duration": 9,
    "start_time": "2022-05-22T06:02:09.811Z"
   },
   {
    "duration": 5,
    "start_time": "2022-05-22T06:02:09.822Z"
   },
   {
    "duration": 6,
    "start_time": "2022-05-22T06:02:09.829Z"
   },
   {
    "duration": 11,
    "start_time": "2022-05-22T06:02:09.837Z"
   },
   {
    "duration": 18,
    "start_time": "2022-05-22T06:02:09.850Z"
   },
   {
    "duration": 14,
    "start_time": "2022-05-22T06:02:09.869Z"
   },
   {
    "duration": 7,
    "start_time": "2022-05-22T06:02:09.884Z"
   },
   {
    "duration": 6,
    "start_time": "2022-05-22T06:02:09.923Z"
   },
   {
    "duration": 32,
    "start_time": "2022-05-22T06:02:09.930Z"
   },
   {
    "duration": 10,
    "start_time": "2022-05-22T06:02:09.963Z"
   },
   {
    "duration": 14,
    "start_time": "2022-05-22T06:02:09.975Z"
   },
   {
    "duration": 9,
    "start_time": "2022-05-22T06:02:09.991Z"
   },
   {
    "duration": 7,
    "start_time": "2022-05-22T06:02:10.002Z"
   },
   {
    "duration": 17,
    "start_time": "2022-05-22T06:02:10.011Z"
   },
   {
    "duration": 6,
    "start_time": "2022-05-22T06:02:10.030Z"
   },
   {
    "duration": 31,
    "start_time": "2022-05-22T06:02:10.038Z"
   },
   {
    "duration": 20,
    "start_time": "2022-05-22T06:02:10.070Z"
   },
   {
    "duration": 6,
    "start_time": "2022-05-22T06:02:10.092Z"
   },
   {
    "duration": 46,
    "start_time": "2022-05-22T06:02:10.100Z"
   },
   {
    "duration": 13,
    "start_time": "2022-05-22T06:02:10.148Z"
   },
   {
    "duration": 14,
    "start_time": "2022-05-22T06:02:10.162Z"
   },
   {
    "duration": 47,
    "start_time": "2022-05-22T06:02:10.177Z"
   },
   {
    "duration": 7,
    "start_time": "2022-05-22T06:02:10.229Z"
   },
   {
    "duration": 11,
    "start_time": "2022-05-22T06:02:10.238Z"
   },
   {
    "duration": 11,
    "start_time": "2022-05-22T06:02:10.251Z"
   },
   {
    "duration": 13,
    "start_time": "2022-05-22T06:02:10.263Z"
   },
   {
    "duration": 6,
    "start_time": "2022-05-22T06:02:10.277Z"
   },
   {
    "duration": 50,
    "start_time": "2022-05-22T06:02:10.284Z"
   },
   {
    "duration": 27,
    "start_time": "2022-05-22T06:02:10.335Z"
   },
   {
    "duration": 28,
    "start_time": "2022-05-22T06:02:10.364Z"
   },
   {
    "duration": 3988,
    "start_time": "2022-05-22T06:02:10.394Z"
   },
   {
    "duration": 5,
    "start_time": "2022-05-22T06:02:14.384Z"
   },
   {
    "duration": 7,
    "start_time": "2022-05-22T06:02:14.391Z"
   },
   {
    "duration": 12,
    "start_time": "2022-05-22T06:02:14.399Z"
   },
   {
    "duration": 17,
    "start_time": "2022-05-22T06:02:14.413Z"
   },
   {
    "duration": 29,
    "start_time": "2022-05-22T06:02:14.431Z"
   },
   {
    "duration": 4,
    "start_time": "2022-05-22T06:02:14.461Z"
   },
   {
    "duration": 33,
    "start_time": "2022-05-22T06:02:14.467Z"
   },
   {
    "duration": 5,
    "start_time": "2022-05-22T06:02:14.501Z"
   },
   {
    "duration": 5,
    "start_time": "2022-05-22T06:02:14.524Z"
   },
   {
    "duration": 12,
    "start_time": "2022-05-22T06:02:14.531Z"
   },
   {
    "duration": 9,
    "start_time": "2022-05-22T06:02:14.544Z"
   },
   {
    "duration": 8,
    "start_time": "2022-05-22T06:02:14.554Z"
   },
   {
    "duration": 154,
    "start_time": "2022-05-22T06:02:14.563Z"
   },
   {
    "duration": 173,
    "start_time": "2022-05-22T06:02:14.723Z"
   },
   {
    "duration": 36,
    "start_time": "2022-05-22T06:02:14.898Z"
   },
   {
    "duration": 12,
    "start_time": "2022-05-22T06:02:14.936Z"
   },
   {
    "duration": 298,
    "start_time": "2022-05-22T06:02:14.950Z"
   },
   {
    "duration": 281,
    "start_time": "2022-05-22T06:02:15.250Z"
   },
   {
    "duration": 33,
    "start_time": "2022-05-22T06:02:15.533Z"
   },
   {
    "duration": 4,
    "start_time": "2022-05-22T06:02:15.568Z"
   },
   {
    "duration": 11,
    "start_time": "2022-05-22T06:02:15.574Z"
   },
   {
    "duration": 154,
    "start_time": "2022-05-22T06:02:15.586Z"
   },
   {
    "duration": 134,
    "start_time": "2022-05-22T06:02:15.741Z"
   },
   {
    "duration": 136,
    "start_time": "2022-05-22T06:02:15.876Z"
   },
   {
    "duration": 130,
    "start_time": "2022-05-22T06:02:16.022Z"
   },
   {
    "duration": 29,
    "start_time": "2022-05-22T06:02:16.153Z"
   },
   {
    "duration": 8,
    "start_time": "2022-05-22T06:02:16.183Z"
   },
   {
    "duration": 34,
    "start_time": "2022-05-22T06:02:16.193Z"
   },
   {
    "duration": 14,
    "start_time": "2022-05-22T06:02:16.229Z"
   },
   {
    "duration": 26,
    "start_time": "2022-05-22T06:02:16.244Z"
   },
   {
    "duration": 5,
    "start_time": "2022-05-22T06:02:16.271Z"
   },
   {
    "duration": 10,
    "start_time": "2022-05-22T06:02:16.277Z"
   },
   {
    "duration": 36,
    "start_time": "2022-05-22T06:02:16.288Z"
   },
   {
    "duration": 6,
    "start_time": "2022-05-22T06:02:16.326Z"
   },
   {
    "duration": 16,
    "start_time": "2022-05-22T06:02:16.334Z"
   },
   {
    "duration": 47,
    "start_time": "2022-05-22T06:09:46.812Z"
   },
   {
    "duration": 49,
    "start_time": "2022-05-22T06:21:52.545Z"
   },
   {
    "duration": 31,
    "start_time": "2022-05-22T06:39:17.417Z"
   },
   {
    "duration": 6,
    "start_time": "2022-05-22T06:43:02.921Z"
   },
   {
    "duration": 373,
    "start_time": "2022-05-22T06:45:27.426Z"
   },
   {
    "duration": 230,
    "start_time": "2022-05-22T06:46:03.209Z"
   },
   {
    "duration": 245,
    "start_time": "2022-05-22T06:46:43.998Z"
   },
   {
    "duration": 6,
    "start_time": "2022-05-22T06:46:58.515Z"
   },
   {
    "duration": 1202,
    "start_time": "2022-05-23T11:48:46.756Z"
   },
   {
    "duration": 4,
    "start_time": "2022-05-23T11:48:47.959Z"
   },
   {
    "duration": 318,
    "start_time": "2022-05-23T11:48:47.964Z"
   },
   {
    "duration": 100,
    "start_time": "2022-05-23T11:48:48.284Z"
   },
   {
    "duration": 15,
    "start_time": "2022-05-23T11:48:48.386Z"
   },
   {
    "duration": 13,
    "start_time": "2022-05-23T11:48:48.403Z"
   },
   {
    "duration": 32,
    "start_time": "2022-05-23T11:48:48.418Z"
   },
   {
    "duration": 14,
    "start_time": "2022-05-23T11:48:48.451Z"
   },
   {
    "duration": 22,
    "start_time": "2022-05-23T11:48:48.466Z"
   },
   {
    "duration": 19,
    "start_time": "2022-05-23T11:48:48.491Z"
   },
   {
    "duration": 58,
    "start_time": "2022-05-23T11:48:48.516Z"
   },
   {
    "duration": 2,
    "start_time": "2022-05-23T11:48:48.576Z"
   },
   {
    "duration": 12,
    "start_time": "2022-05-23T11:48:48.580Z"
   },
   {
    "duration": 4,
    "start_time": "2022-05-23T11:48:48.594Z"
   },
   {
    "duration": 16,
    "start_time": "2022-05-23T11:48:48.600Z"
   },
   {
    "duration": 35,
    "start_time": "2022-05-23T11:48:48.617Z"
   },
   {
    "duration": 12,
    "start_time": "2022-05-23T11:48:48.654Z"
   },
   {
    "duration": 14,
    "start_time": "2022-05-23T11:48:48.667Z"
   },
   {
    "duration": 11,
    "start_time": "2022-05-23T11:48:48.682Z"
   },
   {
    "duration": 14,
    "start_time": "2022-05-23T11:48:48.695Z"
   },
   {
    "duration": 35,
    "start_time": "2022-05-23T11:48:48.711Z"
   },
   {
    "duration": 28,
    "start_time": "2022-05-23T11:48:48.748Z"
   },
   {
    "duration": 18,
    "start_time": "2022-05-23T11:48:48.777Z"
   },
   {
    "duration": 5,
    "start_time": "2022-05-23T11:48:48.796Z"
   },
   {
    "duration": 72,
    "start_time": "2022-05-23T11:48:48.803Z"
   },
   {
    "duration": 62,
    "start_time": "2022-05-23T11:48:48.876Z"
   },
   {
    "duration": 28,
    "start_time": "2022-05-23T11:48:48.940Z"
   },
   {
    "duration": 53,
    "start_time": "2022-05-23T11:48:48.974Z"
   },
   {
    "duration": 49,
    "start_time": "2022-05-23T11:48:49.031Z"
   },
   {
    "duration": 65,
    "start_time": "2022-05-23T11:48:49.082Z"
   },
   {
    "duration": 28,
    "start_time": "2022-05-23T11:48:49.149Z"
   },
   {
    "duration": 32,
    "start_time": "2022-05-23T11:48:49.178Z"
   },
   {
    "duration": 52,
    "start_time": "2022-05-23T11:48:49.211Z"
   },
   {
    "duration": 15,
    "start_time": "2022-05-23T11:48:49.265Z"
   },
   {
    "duration": 24,
    "start_time": "2022-05-23T11:48:49.282Z"
   },
   {
    "duration": 50,
    "start_time": "2022-05-23T11:48:49.307Z"
   },
   {
    "duration": 40,
    "start_time": "2022-05-23T11:48:49.359Z"
   },
   {
    "duration": 41,
    "start_time": "2022-05-23T11:48:49.401Z"
   },
   {
    "duration": 4024,
    "start_time": "2022-05-23T11:48:49.443Z"
   },
   {
    "duration": 5,
    "start_time": "2022-05-23T11:48:53.469Z"
   },
   {
    "duration": 151,
    "start_time": "2022-05-23T11:48:53.476Z"
   },
   {
    "duration": 208,
    "start_time": "2022-05-23T11:48:53.635Z"
   },
   {
    "duration": 103,
    "start_time": "2022-05-23T11:48:53.844Z"
   },
   {
    "duration": 4,
    "start_time": "2022-05-23T11:48:53.949Z"
   },
   {
    "duration": 9,
    "start_time": "2022-05-23T11:48:53.954Z"
   },
   {
    "duration": 13,
    "start_time": "2022-05-23T11:48:53.965Z"
   },
   {
    "duration": 23,
    "start_time": "2022-05-23T11:48:53.980Z"
   },
   {
    "duration": 6,
    "start_time": "2022-05-23T11:48:54.012Z"
   },
   {
    "duration": 40,
    "start_time": "2022-05-23T11:48:54.027Z"
   },
   {
    "duration": 5,
    "start_time": "2022-05-23T11:48:54.068Z"
   },
   {
    "duration": 15,
    "start_time": "2022-05-23T11:48:54.074Z"
   },
   {
    "duration": 12,
    "start_time": "2022-05-23T11:48:54.090Z"
   },
   {
    "duration": 135,
    "start_time": "2022-05-23T11:48:54.104Z"
   },
   {
    "duration": 190,
    "start_time": "2022-05-23T11:48:54.240Z"
   },
   {
    "duration": 28,
    "start_time": "2022-05-23T11:48:54.434Z"
   },
   {
    "duration": 10,
    "start_time": "2022-05-23T11:48:54.464Z"
   },
   {
    "duration": 295,
    "start_time": "2022-05-23T11:48:54.475Z"
   },
   {
    "duration": 309,
    "start_time": "2022-05-23T11:48:54.771Z"
   },
   {
    "duration": 45,
    "start_time": "2022-05-23T11:48:55.082Z"
   },
   {
    "duration": 6,
    "start_time": "2022-05-23T11:48:55.129Z"
   },
   {
    "duration": 22,
    "start_time": "2022-05-23T11:48:55.139Z"
   },
   {
    "duration": 148,
    "start_time": "2022-05-23T11:48:55.163Z"
   },
   {
    "duration": 132,
    "start_time": "2022-05-23T11:48:55.320Z"
   },
   {
    "duration": 147,
    "start_time": "2022-05-23T11:48:55.454Z"
   },
   {
    "duration": 143,
    "start_time": "2022-05-23T11:48:55.603Z"
   },
   {
    "duration": 24,
    "start_time": "2022-05-23T11:48:55.747Z"
   },
   {
    "duration": 22,
    "start_time": "2022-05-23T11:48:55.773Z"
   },
   {
    "duration": 70,
    "start_time": "2022-05-23T11:48:55.797Z"
   },
   {
    "duration": 16,
    "start_time": "2022-05-23T11:48:55.868Z"
   },
   {
    "duration": 121,
    "start_time": "2022-05-23T11:48:55.886Z"
   },
   {
    "duration": 16,
    "start_time": "2022-05-23T11:48:56.009Z"
   },
   {
    "duration": 23,
    "start_time": "2022-05-23T11:48:56.026Z"
   },
   {
    "duration": 8,
    "start_time": "2022-05-23T11:48:56.051Z"
   },
   {
    "duration": 8,
    "start_time": "2022-05-23T11:48:56.061Z"
   },
   {
    "duration": 17,
    "start_time": "2022-05-23T11:48:56.070Z"
   },
   {
    "duration": 314,
    "start_time": "2022-05-23T12:02:58.476Z"
   },
   {
    "duration": 340,
    "start_time": "2022-05-23T12:03:29.908Z"
   },
   {
    "duration": 182,
    "start_time": "2022-05-23T12:04:31.091Z"
   },
   {
    "duration": 278,
    "start_time": "2022-05-23T12:04:47.610Z"
   }
  ],
  "colab": {
   "name": "DA+. Сборный проект 1. Шаблон (1).ipynb",
   "provenance": []
  },
  "kernelspec": {
   "display_name": "Python 3 (ipykernel)",
   "language": "python",
   "name": "python3"
  },
  "language_info": {
   "codemirror_mode": {
    "name": "ipython",
    "version": 3
   },
   "file_extension": ".py",
   "mimetype": "text/x-python",
   "name": "python",
   "nbconvert_exporter": "python",
   "pygments_lexer": "ipython3",
   "version": "3.9.12"
  },
  "toc": {
   "base_numbering": 1,
   "nav_menu": {},
   "number_sections": true,
   "sideBar": true,
   "skip_h1_title": true,
   "title_cell": "Table of Contents",
   "title_sidebar": "Contents",
   "toc_cell": false,
   "toc_position": {
    "height": "calc(100% - 180px)",
    "left": "10px",
    "top": "150px",
    "width": "375.391px"
   },
   "toc_section_display": true,
   "toc_window_display": false
  }
 },
 "nbformat": 4,
 "nbformat_minor": 1
}
